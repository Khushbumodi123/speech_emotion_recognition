{
  "cells": [
    {
      "cell_type": "markdown",
      "metadata": {
        "id": "view-in-github",
        "colab_type": "text"
      },
      "source": [
        "<a href=\"https://colab.research.google.com/github/shivanijoshi05/speech_emotion_recognition/blob/main/creating_dataset.ipynb\" target=\"_parent\"><img src=\"https://colab.research.google.com/assets/colab-badge.svg\" alt=\"Open In Colab\"/></a>"
      ]
    },
    {
      "cell_type": "markdown",
      "id": "13fa6758",
      "metadata": {
        "id": "13fa6758"
      },
      "source": [
        "## Importing libraries"
      ]
    },
    {
      "cell_type": "code",
      "execution_count": 1,
      "id": "e2863cd4",
      "metadata": {
        "id": "e2863cd4"
      },
      "outputs": [],
      "source": [
        "import os\n",
        "import numpy as np\n",
        "import pandas as pd"
      ]
    },
    {
      "cell_type": "markdown",
      "id": "14c4cbf3",
      "metadata": {
        "id": "14c4cbf3"
      },
      "source": [
        "## Extracting Information from data"
      ]
    },
    {
      "cell_type": "code",
      "execution_count": 5,
      "id": "0d9c1f30",
      "metadata": {
        "id": "0d9c1f30",
        "outputId": "6f387b7c-eb8e-462c-bea8-7a371c4c67fc",
        "colab": {
          "base_uri": "https://localhost:8080/",
          "height": 235
        }
      },
      "outputs": [
        {
          "output_type": "error",
          "ename": "FileNotFoundError",
          "evalue": "ignored",
          "traceback": [
            "\u001b[0;31m---------------------------------------------------------------------------\u001b[0m",
            "\u001b[0;31mFileNotFoundError\u001b[0m                         Traceback (most recent call last)",
            "\u001b[0;32m<ipython-input-5-55f78a0e8244>\u001b[0m in \u001b[0;36m<module>\u001b[0;34m()\u001b[0m\n\u001b[1;32m      1\u001b[0m \u001b[0;31m#listing directories of dataset actors\u001b[0m\u001b[0;34m\u001b[0m\u001b[0;34m\u001b[0m\u001b[0;34m\u001b[0m\u001b[0m\n\u001b[0;32m----> 2\u001b[0;31m \u001b[0mdir_list\u001b[0m \u001b[0;34m=\u001b[0m \u001b[0mos\u001b[0m\u001b[0;34m.\u001b[0m\u001b[0mlistdir\u001b[0m\u001b[0;34m(\u001b[0m\u001b[0;34m'C:\\\\Users\\\\Shivani\\\\Documents\\\\AI\\\\speech_emotion_recognition\\\\data\\\\'\u001b[0m\u001b[0;34m)\u001b[0m\u001b[0;34m\u001b[0m\u001b[0;34m\u001b[0m\u001b[0m\n\u001b[0m\u001b[1;32m      3\u001b[0m \u001b[0mdir_list\u001b[0m\u001b[0;34m.\u001b[0m\u001b[0msort\u001b[0m\u001b[0;34m(\u001b[0m\u001b[0;34m)\u001b[0m\u001b[0;34m\u001b[0m\u001b[0;34m\u001b[0m\u001b[0m\n\u001b[1;32m      4\u001b[0m \u001b[0;34m\u001b[0m\u001b[0m\n\u001b[1;32m      5\u001b[0m \u001b[0;31m#defining the featues for dataset\u001b[0m\u001b[0;34m\u001b[0m\u001b[0;34m\u001b[0m\u001b[0;34m\u001b[0m\u001b[0m\n",
            "\u001b[0;31mFileNotFoundError\u001b[0m: [Errno 2] No such file or directory: 'C:\\\\Users\\\\Shivani\\\\Documents\\\\AI\\\\speech_emotion_recognition\\\\data\\\\'"
          ]
        }
      ],
      "source": [
        "#listing directories of dataset actors\n",
        "dir_list = os.listdir('data')\n",
        "dir_list.sort()\n",
        "\n",
        "#defining the featues for dataset\n",
        "actor = []\n",
        "emotion = []\n",
        "gender = []\n",
        "path = []\n",
        "\n",
        "#extracting information from each directories\n",
        "for i in dir_list:\n",
        "    fname = os.listdir('data/' + i)\n",
        "    for f in fname:\n",
        "        part = f.split('.')[0].split('-')\n",
        "        actor.append(int(part[6]))\n",
        "        emotion.append(int(part[2]))\n",
        "        temp = int(part[6])\n",
        "        if temp%2 == 0:\n",
        "            temp = \"female\"\n",
        "        else:\n",
        "            temp = \"male\"\n",
        "        gender.append(temp)\n",
        "        path.append('data/' + i + '/' + f)\n",
        "        \n",
        "print(part)"
      ]
    },
    {
      "cell_type": "markdown",
      "id": "f02f3301",
      "metadata": {
        "id": "f02f3301"
      },
      "source": [
        "## Creating DataFrame"
      ]
    },
    {
      "cell_type": "code",
      "execution_count": null,
      "id": "ed5f38e6",
      "metadata": {
        "id": "ed5f38e6"
      },
      "outputs": [],
      "source": [
        "#creating data dictionary\n",
        "data = {\n",
        "    'actor': actor,\n",
        "    'gender' : gender,\n",
        "    'emotion': emotion,\n",
        "    'path' : path\n",
        "}\n",
        "\n",
        "#creating dataframe\n",
        "df = pd.DataFrame(data)\n",
        "\n",
        "#replacing numbers with emotions\n",
        "emotions={\n",
        "  1 :'neutral',\n",
        "  2 :'calm',\n",
        "  3 :'happy',\n",
        "  4 :'sad',\n",
        "  5 :'angry',\n",
        "  6 :'fearful',\n",
        "  7 :'disgust',\n",
        "  8 :'surprised'\n",
        "}\n",
        "df['emotion'] = df['emotion'].replace(emotions) \n"
      ]
    },
    {
      "cell_type": "code",
      "execution_count": null,
      "id": "001df8b2",
      "metadata": {
        "id": "001df8b2"
      },
      "outputs": [],
      "source": [
        "df.emotion.value_counts()"
      ]
    },
    {
      "cell_type": "code",
      "execution_count": null,
      "id": "f0943888",
      "metadata": {
        "id": "f0943888"
      },
      "outputs": [],
      "source": [
        "df.head()"
      ]
    },
    {
      "cell_type": "markdown",
      "id": "3e7a74fb",
      "metadata": {
        "id": "3e7a74fb"
      },
      "source": [
        "# Converting Dataframe into CSV file"
      ]
    },
    {
      "cell_type": "code",
      "execution_count": null,
      "id": "d5037079",
      "metadata": {
        "id": "d5037079"
      },
      "outputs": [],
      "source": [
        "df.to_csv('audio_dataset.csv')"
      ]
    }
  ],
  "metadata": {
    "kernelspec": {
      "display_name": "Python 3 (ipykernel)",
      "language": "python",
      "name": "python3"
    },
    "language_info": {
      "codemirror_mode": {
        "name": "ipython",
        "version": 3
      },
      "file_extension": ".py",
      "mimetype": "text/x-python",
      "name": "python",
      "nbconvert_exporter": "python",
      "pygments_lexer": "ipython3",
      "version": "3.9.7"
    },
    "colab": {
      "name": "creating_dataset.ipynb",
      "provenance": [],
      "include_colab_link": true
    }
  },
  "nbformat": 4,
  "nbformat_minor": 5
}