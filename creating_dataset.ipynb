{
  "nbformat": 4,
  "nbformat_minor": 0,
  "metadata": {
    "colab": {
      "name": "creating_dataset.ipynb",
      "provenance": [],
      "collapsed_sections": [],
      "authorship_tag": "ABX9TyOJqLT59ERy8EY+gW4CckGE",
      "include_colab_link": true
    },
    "kernelspec": {
      "name": "python3",
      "display_name": "Python 3"
    },
    "language_info": {
      "name": "python"
    }
  },
  "cells": [
    {
      "cell_type": "markdown",
      "metadata": {
        "id": "view-in-github",
        "colab_type": "text"
      },
      "source": [
        "<a href=\"https://colab.research.google.com/github/shivanijoshi05/speech_emotion_recognition/blob/main/creating_dataset.ipynb\" target=\"_parent\"><img src=\"https://colab.research.google.com/assets/colab-badge.svg\" alt=\"Open In Colab\"/></a>"
      ]
    },
    {
      "cell_type": "markdown",
      "source": [
        "Loding Libraries"
      ],
      "metadata": {
        "id": "WvaCa4BdMfT7"
      }
    },
    {
      "cell_type": "code",
      "execution_count": 1,
      "metadata": {
        "id": "EPzDTq54Ceja"
      },
      "outputs": [],
      "source": [
        "import numpy as np\n",
        "import pandas as pd"
      ]
    },
    {
      "cell_type": "code",
      "source": [
        "from google.colab import drive\n",
        "import glob\n",
        "drive.mount('/content/drive')"
      ],
      "metadata": {
        "colab": {
          "base_uri": "https://localhost:8080/"
        },
        "id": "2pvNuHctCoUJ",
        "outputId": "84e0b8e9-ee15-4b40-a761-548cb0c2b859"
      },
      "execution_count": 3,
      "outputs": [
        {
          "output_type": "stream",
          "name": "stdout",
          "text": [
            "Mounted at /content/drive\n"
          ]
        }
      ]
    },
    {
      "cell_type": "markdown",
      "source": [
        "Loading Data"
      ],
      "metadata": {
        "id": "qloRecOoMkIn"
      }
    },
    {
      "cell_type": "code",
      "source": [
        "directories = []\n",
        "directories = glob.glob('/content/drive/MyDrive/speech_emotion_recognition/data/*')\n",
        "directories.sort()"
      ],
      "metadata": {
        "id": "7e6SrB6jU_i6"
      },
      "execution_count": 4,
      "outputs": []
    },
    {
      "cell_type": "code",
      "source": [
        "path = []\n",
        "for dir in directories:\n",
        "  files = glob.glob(dir+'/*.*')\n",
        "  for f in files:\n",
        "    part = f.split('/')\n",
        "    path.append(part[5]+\"/\"+part[6]+\"/\"+part[7])\n",
        "path.sort()\n"
      ],
      "metadata": {
        "id": "QuRws8TRCo6n"
      },
      "execution_count": 5,
      "outputs": []
    },
    {
      "cell_type": "markdown",
      "source": [
        "Creating Dataset from Audio files"
      ],
      "metadata": {
        "id": "1_jKXNeJMoip"
      }
    },
    {
      "cell_type": "code",
      "source": [
        "actor = []\n",
        "emotion = []\n",
        "gender = []\n",
        "for f in path:\n",
        "  fname = f.split('/')[-1]\n",
        "  part = f.split('.')[0].split('-')\n",
        "  actor.append(int(part[6]))\n",
        "  emotion.append(int(part[2]))\n",
        "  temp = int(part[6])\n",
        "  if temp%2 == 0:\n",
        "      temp = \"female\"\n",
        "  else:\n",
        "      temp = \"male\"\n",
        "  gender.append(temp)\n",
        "  "
      ],
      "metadata": {
        "id": "NBQhs2QiHHUK"
      },
      "execution_count": 6,
      "outputs": []
    },
    {
      "cell_type": "code",
      "source": [
        "#creating data dictionary\n",
        "data = {\n",
        "    'actor': actor,\n",
        "    'gender' : gender,\n",
        "    'emotion': emotion,\n",
        "    'path' : path\n",
        "}\n",
        "\n",
        "#creating dataframe\n",
        "df = pd.DataFrame(data)\n",
        "\n",
        "#replacing numbers with emotions\n",
        "emotions={\n",
        "  1 :'neutral',\n",
        "  2 :'calm',\n",
        "  3 :'happy',\n",
        "  4 :'sad',\n",
        "  5 :'angry',\n",
        "  6 :'fearful',\n",
        "  7 :'disgust',\n",
        "  8 :'surprised'\n",
        "}\n",
        "df['emotion'] = df['emotion'].replace(emotions) \n"
      ],
      "metadata": {
        "id": "JHDuvTCoH5cy"
      },
      "execution_count": 7,
      "outputs": []
    },
    {
      "cell_type": "code",
      "source": [
        "df.head()"
      ],
      "metadata": {
        "colab": {
          "base_uri": "https://localhost:8080/",
          "height": 206
        },
        "id": "O_9bCmPbH8Bn",
        "outputId": "4d3c84ac-1f51-42c0-b1f9-30ca6dccf31b"
      },
      "execution_count": 8,
      "outputs": [
        {
          "output_type": "execute_result",
          "data": {
            "text/plain": [
              "   actor gender  emotion                                    path\n",
              "0      1   male  neutral  data/Actor_01/03-01-01-01-01-01-01.wav\n",
              "1      1   male  neutral  data/Actor_01/03-01-01-01-01-02-01.wav\n",
              "2      1   male  neutral  data/Actor_01/03-01-01-01-02-01-01.wav\n",
              "3      1   male  neutral  data/Actor_01/03-01-01-01-02-02-01.wav\n",
              "4      1   male     calm  data/Actor_01/03-01-02-01-01-01-01.wav"
            ],
            "text/html": [
              "\n",
              "  <div id=\"df-0bd6192a-7873-41fc-8857-670edd2292b6\">\n",
              "    <div class=\"colab-df-container\">\n",
              "      <div>\n",
              "<style scoped>\n",
              "    .dataframe tbody tr th:only-of-type {\n",
              "        vertical-align: middle;\n",
              "    }\n",
              "\n",
              "    .dataframe tbody tr th {\n",
              "        vertical-align: top;\n",
              "    }\n",
              "\n",
              "    .dataframe thead th {\n",
              "        text-align: right;\n",
              "    }\n",
              "</style>\n",
              "<table border=\"1\" class=\"dataframe\">\n",
              "  <thead>\n",
              "    <tr style=\"text-align: right;\">\n",
              "      <th></th>\n",
              "      <th>actor</th>\n",
              "      <th>gender</th>\n",
              "      <th>emotion</th>\n",
              "      <th>path</th>\n",
              "    </tr>\n",
              "  </thead>\n",
              "  <tbody>\n",
              "    <tr>\n",
              "      <th>0</th>\n",
              "      <td>1</td>\n",
              "      <td>male</td>\n",
              "      <td>neutral</td>\n",
              "      <td>data/Actor_01/03-01-01-01-01-01-01.wav</td>\n",
              "    </tr>\n",
              "    <tr>\n",
              "      <th>1</th>\n",
              "      <td>1</td>\n",
              "      <td>male</td>\n",
              "      <td>neutral</td>\n",
              "      <td>data/Actor_01/03-01-01-01-01-02-01.wav</td>\n",
              "    </tr>\n",
              "    <tr>\n",
              "      <th>2</th>\n",
              "      <td>1</td>\n",
              "      <td>male</td>\n",
              "      <td>neutral</td>\n",
              "      <td>data/Actor_01/03-01-01-01-02-01-01.wav</td>\n",
              "    </tr>\n",
              "    <tr>\n",
              "      <th>3</th>\n",
              "      <td>1</td>\n",
              "      <td>male</td>\n",
              "      <td>neutral</td>\n",
              "      <td>data/Actor_01/03-01-01-01-02-02-01.wav</td>\n",
              "    </tr>\n",
              "    <tr>\n",
              "      <th>4</th>\n",
              "      <td>1</td>\n",
              "      <td>male</td>\n",
              "      <td>calm</td>\n",
              "      <td>data/Actor_01/03-01-02-01-01-01-01.wav</td>\n",
              "    </tr>\n",
              "  </tbody>\n",
              "</table>\n",
              "</div>\n",
              "      <button class=\"colab-df-convert\" onclick=\"convertToInteractive('df-0bd6192a-7873-41fc-8857-670edd2292b6')\"\n",
              "              title=\"Convert this dataframe to an interactive table.\"\n",
              "              style=\"display:none;\">\n",
              "        \n",
              "  <svg xmlns=\"http://www.w3.org/2000/svg\" height=\"24px\"viewBox=\"0 0 24 24\"\n",
              "       width=\"24px\">\n",
              "    <path d=\"M0 0h24v24H0V0z\" fill=\"none\"/>\n",
              "    <path d=\"M18.56 5.44l.94 2.06.94-2.06 2.06-.94-2.06-.94-.94-2.06-.94 2.06-2.06.94zm-11 1L8.5 8.5l.94-2.06 2.06-.94-2.06-.94L8.5 2.5l-.94 2.06-2.06.94zm10 10l.94 2.06.94-2.06 2.06-.94-2.06-.94-.94-2.06-.94 2.06-2.06.94z\"/><path d=\"M17.41 7.96l-1.37-1.37c-.4-.4-.92-.59-1.43-.59-.52 0-1.04.2-1.43.59L10.3 9.45l-7.72 7.72c-.78.78-.78 2.05 0 2.83L4 21.41c.39.39.9.59 1.41.59.51 0 1.02-.2 1.41-.59l7.78-7.78 2.81-2.81c.8-.78.8-2.07 0-2.86zM5.41 20L4 18.59l7.72-7.72 1.47 1.35L5.41 20z\"/>\n",
              "  </svg>\n",
              "      </button>\n",
              "      \n",
              "  <style>\n",
              "    .colab-df-container {\n",
              "      display:flex;\n",
              "      flex-wrap:wrap;\n",
              "      gap: 12px;\n",
              "    }\n",
              "\n",
              "    .colab-df-convert {\n",
              "      background-color: #E8F0FE;\n",
              "      border: none;\n",
              "      border-radius: 50%;\n",
              "      cursor: pointer;\n",
              "      display: none;\n",
              "      fill: #1967D2;\n",
              "      height: 32px;\n",
              "      padding: 0 0 0 0;\n",
              "      width: 32px;\n",
              "    }\n",
              "\n",
              "    .colab-df-convert:hover {\n",
              "      background-color: #E2EBFA;\n",
              "      box-shadow: 0px 1px 2px rgba(60, 64, 67, 0.3), 0px 1px 3px 1px rgba(60, 64, 67, 0.15);\n",
              "      fill: #174EA6;\n",
              "    }\n",
              "\n",
              "    [theme=dark] .colab-df-convert {\n",
              "      background-color: #3B4455;\n",
              "      fill: #D2E3FC;\n",
              "    }\n",
              "\n",
              "    [theme=dark] .colab-df-convert:hover {\n",
              "      background-color: #434B5C;\n",
              "      box-shadow: 0px 1px 3px 1px rgba(0, 0, 0, 0.15);\n",
              "      filter: drop-shadow(0px 1px 2px rgba(0, 0, 0, 0.3));\n",
              "      fill: #FFFFFF;\n",
              "    }\n",
              "  </style>\n",
              "\n",
              "      <script>\n",
              "        const buttonEl =\n",
              "          document.querySelector('#df-0bd6192a-7873-41fc-8857-670edd2292b6 button.colab-df-convert');\n",
              "        buttonEl.style.display =\n",
              "          google.colab.kernel.accessAllowed ? 'block' : 'none';\n",
              "\n",
              "        async function convertToInteractive(key) {\n",
              "          const element = document.querySelector('#df-0bd6192a-7873-41fc-8857-670edd2292b6');\n",
              "          const dataTable =\n",
              "            await google.colab.kernel.invokeFunction('convertToInteractive',\n",
              "                                                     [key], {});\n",
              "          if (!dataTable) return;\n",
              "\n",
              "          const docLinkHtml = 'Like what you see? Visit the ' +\n",
              "            '<a target=\"_blank\" href=https://colab.research.google.com/notebooks/data_table.ipynb>data table notebook</a>'\n",
              "            + ' to learn more about interactive tables.';\n",
              "          element.innerHTML = '';\n",
              "          dataTable['output_type'] = 'display_data';\n",
              "          await google.colab.output.renderOutput(dataTable, element);\n",
              "          const docLink = document.createElement('div');\n",
              "          docLink.innerHTML = docLinkHtml;\n",
              "          element.appendChild(docLink);\n",
              "        }\n",
              "      </script>\n",
              "    </div>\n",
              "  </div>\n",
              "  "
            ]
          },
          "metadata": {},
          "execution_count": 8
        }
      ]
    },
    {
      "cell_type": "code",
      "source": [
        "path_save =glob.glob('/content/drive/My Drive/speech_emotion_recognition/')\n",
        "df.to_csv(path_save[0]+'audio_dataset.csv', index=False)"
      ],
      "metadata": {
        "id": "Vrbk9teDJOnP"
      },
      "execution_count": 9,
      "outputs": []
    }
  ]
}