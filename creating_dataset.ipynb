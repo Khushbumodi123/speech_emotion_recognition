{
 "cells": [
  {
   "cell_type": "markdown",
   "id": "13fa6758",
   "metadata": {},
   "source": [
    "## Importing libraries"
   ]
  },
  {
   "cell_type": "code",
   "execution_count": 1,
   "id": "e2863cd4",
   "metadata": {},
   "outputs": [],
   "source": [
    "import os\n",
    "import numpy as np\n",
    "import pandas as pd"
   ]
  },
  {
   "cell_type": "markdown",
   "id": "14c4cbf3",
   "metadata": {},
   "source": [
    "## Extracting Information from data"
   ]
  },
  {
   "cell_type": "code",
   "execution_count": 2,
   "id": "0d9c1f30",
   "metadata": {},
   "outputs": [
    {
     "name": "stdout",
     "output_type": "stream",
     "text": [
      "['03', '01', '08', '02', '02', '02', '24']\n"
     ]
    }
   ],
   "source": [
    "#listing directories of dataset actors\n",
    "dir_list = os.listdir('data')\n",
    "dir_list.sort()\n",
    "\n",
    "#defining the featues for dataset\n",
    "actor = []\n",
    "emotion = []\n",
    "gender = []\n",
    "path = []\n",
    "\n",
    "#extracting information from each directories\n",
    "for i in dir_list:\n",
    "    fname = os.listdir('data/' + i)\n",
    "    for f in fname:\n",
    "        part = f.split('.')[0].split('-')\n",
    "        actor.append(int(part[6]))\n",
    "        emotion.append(int(part[2]))\n",
    "        temp = int(part[6])\n",
    "        if temp%2 == 0:\n",
    "            temp = \"female\"\n",
    "        else:\n",
    "            temp = \"male\"\n",
    "        gender.append(temp)\n",
    "        path.append('data/' + i + '/' + f)\n",
    "        \n",
    "print(part)"
   ]
  },
  {
   "cell_type": "markdown",
   "id": "f02f3301",
   "metadata": {},
   "source": [
    "## Creating DataFrame"
   ]
  },
  {
   "cell_type": "code",
   "execution_count": 3,
   "id": "ed5f38e6",
   "metadata": {},
   "outputs": [],
   "source": [
    "#creating data dictionary\n",
    "data = {\n",
    "    'actor': actor,\n",
    "    'gender' : gender,\n",
    "    'emotion': emotion,\n",
    "    'path' : path\n",
    "}\n",
    "\n",
    "#creating dataframe\n",
    "df = pd.DataFrame(data)\n",
    "\n",
    "#replacing numbers with emotions\n",
    "emotions={\n",
    "  1 :'neutral',\n",
    "  2 :'calm',\n",
    "  3 :'happy',\n",
    "  4 :'sad',\n",
    "  5 :'angry',\n",
    "  6 :'fearful',\n",
    "  7 :'disgust',\n",
    "  8 :'surprised'\n",
    "}\n",
    "df['emotion'] = df['emotion'].replace(emotions) \n"
   ]
  },
  {
   "cell_type": "code",
   "execution_count": 4,
   "id": "001df8b2",
   "metadata": {},
   "outputs": [
    {
     "data": {
      "text/plain": [
       "calm         192\n",
       "happy        192\n",
       "sad          192\n",
       "angry        192\n",
       "fearful      192\n",
       "disgust      192\n",
       "surprised    192\n",
       "neutral       96\n",
       "Name: emotion, dtype: int64"
      ]
     },
     "execution_count": 4,
     "metadata": {},
     "output_type": "execute_result"
    }
   ],
   "source": [
    "df.emotion.value_counts()"
   ]
  },
  {
   "cell_type": "code",
   "execution_count": 5,
   "id": "f0943888",
   "metadata": {},
   "outputs": [
    {
     "data": {
      "text/html": [
       "<div>\n",
       "<style scoped>\n",
       "    .dataframe tbody tr th:only-of-type {\n",
       "        vertical-align: middle;\n",
       "    }\n",
       "\n",
       "    .dataframe tbody tr th {\n",
       "        vertical-align: top;\n",
       "    }\n",
       "\n",
       "    .dataframe thead th {\n",
       "        text-align: right;\n",
       "    }\n",
       "</style>\n",
       "<table border=\"1\" class=\"dataframe\">\n",
       "  <thead>\n",
       "    <tr style=\"text-align: right;\">\n",
       "      <th></th>\n",
       "      <th>actor</th>\n",
       "      <th>gender</th>\n",
       "      <th>emotion</th>\n",
       "      <th>path</th>\n",
       "    </tr>\n",
       "  </thead>\n",
       "  <tbody>\n",
       "    <tr>\n",
       "      <th>0</th>\n",
       "      <td>1</td>\n",
       "      <td>male</td>\n",
       "      <td>neutral</td>\n",
       "      <td>data/Actor_01/03-01-01-01-01-01-01.wav</td>\n",
       "    </tr>\n",
       "    <tr>\n",
       "      <th>1</th>\n",
       "      <td>1</td>\n",
       "      <td>male</td>\n",
       "      <td>neutral</td>\n",
       "      <td>data/Actor_01/03-01-01-01-01-02-01.wav</td>\n",
       "    </tr>\n",
       "    <tr>\n",
       "      <th>2</th>\n",
       "      <td>1</td>\n",
       "      <td>male</td>\n",
       "      <td>neutral</td>\n",
       "      <td>data/Actor_01/03-01-01-01-02-01-01.wav</td>\n",
       "    </tr>\n",
       "    <tr>\n",
       "      <th>3</th>\n",
       "      <td>1</td>\n",
       "      <td>male</td>\n",
       "      <td>neutral</td>\n",
       "      <td>data/Actor_01/03-01-01-01-02-02-01.wav</td>\n",
       "    </tr>\n",
       "    <tr>\n",
       "      <th>4</th>\n",
       "      <td>1</td>\n",
       "      <td>male</td>\n",
       "      <td>calm</td>\n",
       "      <td>data/Actor_01/03-01-02-01-01-01-01.wav</td>\n",
       "    </tr>\n",
       "  </tbody>\n",
       "</table>\n",
       "</div>"
      ],
      "text/plain": [
       "   actor gender  emotion                                    path\n",
       "0      1   male  neutral  data/Actor_01/03-01-01-01-01-01-01.wav\n",
       "1      1   male  neutral  data/Actor_01/03-01-01-01-01-02-01.wav\n",
       "2      1   male  neutral  data/Actor_01/03-01-01-01-02-01-01.wav\n",
       "3      1   male  neutral  data/Actor_01/03-01-01-01-02-02-01.wav\n",
       "4      1   male     calm  data/Actor_01/03-01-02-01-01-01-01.wav"
      ]
     },
     "execution_count": 5,
     "metadata": {},
     "output_type": "execute_result"
    }
   ],
   "source": [
    "df.head()"
   ]
  },
  {
   "cell_type": "markdown",
   "id": "3e7a74fb",
   "metadata": {},
   "source": [
    "# Converting Dataframe into CSV file"
   ]
  },
  {
   "cell_type": "code",
   "execution_count": 6,
   "id": "d5037079",
   "metadata": {},
   "outputs": [],
   "source": [
    "df.to_csv('audio_dataset.csv')"
   ]
  }
 ],
 "metadata": {
  "kernelspec": {
   "display_name": "Python 3",
   "language": "python",
   "name": "python3"
  },
  "language_info": {
   "codemirror_mode": {
    "name": "ipython",
    "version": 3
   },
   "file_extension": ".py",
   "mimetype": "text/x-python",
   "name": "python",
   "nbconvert_exporter": "python",
   "pygments_lexer": "ipython3",
   "version": "3.8.8"
  }
 },
 "nbformat": 4,
 "nbformat_minor": 5
}
