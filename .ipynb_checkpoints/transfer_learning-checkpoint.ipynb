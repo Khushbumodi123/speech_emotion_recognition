{
 "cells": [
  {
   "cell_type": "code",
   "execution_count": 1,
   "metadata": {
    "colab": {
     "base_uri": "https://localhost:8080/"
    },
    "id": "4Ad5OAhM5zhn",
    "outputId": "44141966-9fbc-4600-aadc-608ffcccca1e"
   },
   "outputs": [],
   "source": [
    "import glob"
   ]
  },
  {
   "cell_type": "code",
   "execution_count": 3,
   "metadata": {
    "id": "MGZgXf536JAY"
   },
   "outputs": [],
   "source": [
    "# IMPORT NECESSARY LIBRARIES\n",
    "import numpy as np\n",
    "from tensorflow.keras import layers, models, Model, optimizers\n",
    "import tensorflow as tf\n",
    "from tensorflow.python.keras.preprocessing.image import ImageDataGenerator, load_img\n",
    "import pandas as pd\n",
    "from sklearn.metrics import confusion_matrix\n",
    "import sys\n",
    "from sklearn.model_selection import train_test_split\n",
    "import matplotlib.pyplot as plt\n",
    "import itertools\n",
    "from sklearn.preprocessing import StandardScaler, OneHotEncoder\n",
    "import warnings\n",
    "# ignore warnings \n",
    "if not sys.warnoptions:\n",
    "    warnings.simplefilter(\"ignore\")\n",
    "warnings.filterwarnings(\"ignore\", category=DeprecationWarning)\n",
    "import keras\n",
    "from keras.models import Sequential, Model, model_from_json\n",
    "from keras.layers import Conv2D, MaxPooling2D, AveragePooling2D\n",
    "from keras.layers import Input, Flatten, Dropout, Activation, BatchNormalization\n",
    "from keras.layers import Dense, Embedding, LSTM\n",
    "from keras.regularizers import l2\n",
    "from keras.constraints import max_norm\n",
    "from keras.callbacks import EarlyStopping, ModelCheckpoint\n",
    "from sklearn.utils import shuffle\n",
    "from tensorflow.python.keras import layers, models, Model, optimizers\n",
    "from tensorflow.keras import regularizers\n",
    "from tensorflow.keras import layers, models, Model, optimizers\n",
    "from random import randint\n",
    "from sklearn.preprocessing import LabelEncoder\n",
    "from keras.callbacks import ReduceLROnPlateau\n",
    "from sklearn.metrics import classification_report, confusion_matrix, accuracy_score\n",
    "from matplotlib import pyplot\n",
    "\n"
   ]
  },
  {
   "cell_type": "code",
   "execution_count": 4,
   "metadata": {
    "id": "S5t2hpoF6Z5d"
   },
   "outputs": [],
   "source": [
    "angry = glob.glob('data_images/angry/*.*')\n",
    "calm = glob.glob('data_images/calm/*.*')\n",
    "disgust = glob.glob('data_images/disgust/*.*')\n",
    "fearful = glob.glob('data_images/fearful/*.*')\n",
    "happy = glob.glob('data_images/happy/*.*')\n",
    "neutral = glob.glob('data_images/neutral/*.*')\n",
    "sad = glob.glob('data_images/sad/*.*')\n",
    "surprised = glob.glob('data_images/surprised/*.*')"
   ]
  },
  {
   "cell_type": "code",
   "execution_count": 5,
   "metadata": {
    "id": "WNINa5qW7GnV"
   },
   "outputs": [],
   "source": [
    "data = []\n",
    "labels = []\n",
    "\n",
    "for i in angry:   \n",
    "    image=tf.keras.preprocessing.image.load_img(i, color_mode='rgb', target_size= (224,224))\n",
    "    image=np.array(image)\n",
    "    data.append(image)\n",
    "    labels.append('Angry')\n",
    "for i in calm:   \n",
    "    image=tf.keras.preprocessing.image.load_img(i, color_mode='rgb', target_size= (224,224))\n",
    "    image=np.array(image)\n",
    "    data.append(image)\n",
    "    labels.append('Calm')\n",
    "for i in disgust:   \n",
    "    image=tf.keras.preprocessing.image.load_img(i, color_mode='rgb', target_size= (224,224))\n",
    "    image=np.array(image)\n",
    "    data.append(image)\n",
    "    labels.append('Disgust')\n",
    "for i in fearful:   \n",
    "    image=tf.keras.preprocessing.image.load_img(i, color_mode='rgb', \n",
    "    target_size= (224,224))\n",
    "    image=np.array(image)\n",
    "    data.append(image)\n",
    "    labels.append('Fearful')\n",
    "for i in happy:   \n",
    "    image=tf.keras.preprocessing.image.load_img(i, color_mode='rgb', \n",
    "    target_size= (224,224))\n",
    "    image=np.array(image)\n",
    "    data.append(image)\n",
    "    labels.append('Happy')\n",
    "for i in neutral:   \n",
    "    image=tf.keras.preprocessing.image.load_img(i, color_mode='rgb', \n",
    "    target_size= (224,224))\n",
    "    image=np.array(image)\n",
    "    data.append(image)\n",
    "    labels.append('Neutral')\n",
    "for i in sad:   \n",
    "    image=tf.keras.preprocessing.image.load_img(i, color_mode='rgb', \n",
    "    target_size= (224,224))\n",
    "    image=np.array(image)\n",
    "    data.append(image)\n",
    "    labels.append('Sad')\n",
    "for i in surprised:   \n",
    "    image=tf.keras.preprocessing.image.load_img(i, color_mode='rgb', \n",
    "    target_size= (224,224))\n",
    "    image=np.array(image)\n",
    "    data.append(image)\n",
    "    labels.append('Surprised')\n",
    "\n",
    "data = np.array(data)\n",
    "labels = np.array(labels)\n"
   ]
  },
  {
   "cell_type": "code",
   "execution_count": 5,
   "metadata": {
    "id": "s5TVPRlfq4NE"
   },
   "outputs": [],
   "source": [
    "encoder = OneHotEncoder()\n",
    "labels = encoder.fit_transform(np.array(labels).reshape(-1,1)).toarray()"
   ]
  },
  {
   "cell_type": "code",
   "execution_count": 6,
   "metadata": {
    "id": "zdJoHkUU_hfs"
   },
   "outputs": [],
   "source": [
    "X_train, X_test, y_train, y_test = train_test_split(data, labels, random_state=0, test_size=0.3, shuffle=True)"
   ]
  },
  {
   "cell_type": "code",
   "execution_count": 7,
   "metadata": {
    "colab": {
     "base_uri": "https://localhost:8080/"
    },
    "id": "GZ0xSg6v_6Pr",
    "outputId": "6b73644d-3e60-4333-b9ab-c5f2b8f7bcfe"
   },
   "outputs": [
    {
     "name": "stdout",
     "output_type": "stream",
     "text": [
      "(1008, 224, 224, 3)\n",
      "(432, 224, 224, 3)\n"
     ]
    }
   ],
   "source": [
    "print(X_train.shape)\n",
    "print(X_test.shape)"
   ]
  },
  {
   "cell_type": "code",
   "execution_count": 8,
   "metadata": {
    "colab": {
     "base_uri": "https://localhost:8080/"
    },
    "id": "qUK8yjkpCm11",
    "outputId": "6a598b5c-1dba-430f-a26c-5332a37384c4"
   },
   "outputs": [
    {
     "name": "stdout",
     "output_type": "stream",
     "text": [
      "(1008, 8)\n",
      "(432, 8)\n"
     ]
    }
   ],
   "source": [
    "print(y_train.shape)\n",
    "print(y_test.shape)"
   ]
  },
  {
   "cell_type": "code",
   "execution_count": 9,
   "metadata": {
    "colab": {
     "base_uri": "https://localhost:8080/"
    },
    "id": "5GpdL9ZBCxL2",
    "outputId": "6fb5f2fb-7ffc-439e-ed11-d54f8b82b1b3"
   },
   "outputs": [
    {
     "data": {
      "text/plain": [
       "((1008, 224, 224, 3), (1008, 8), (432, 224, 224, 3), (432, 8))"
      ]
     },
     "execution_count": 9,
     "metadata": {},
     "output_type": "execute_result"
    }
   ],
   "source": [
    "X_train = X_train.astype('float32')\n",
    "X_test = X_test.astype('float32')\n",
    "X_train = X_train/ 255\n",
    "X_test = X_test/ 255\n",
    "X_train.shape, y_train.shape, X_test.shape, y_test.shape"
   ]
  },
  {
   "cell_type": "code",
   "execution_count": 14,
   "metadata": {
    "colab": {
     "base_uri": "https://localhost:8080/"
    },
    "id": "XtPC-UVsDBtm",
    "outputId": "e5c860a3-8cb8-4980-b632-c8bed5934536"
   },
   "outputs": [
    {
     "name": "stdout",
     "output_type": "stream",
     "text": [
      "Model: \"sequential_2\"\n",
      "_________________________________________________________________\n",
      " Layer (type)                Output Shape              Param #   \n",
      "=================================================================\n",
      " conv2d_6 (Conv2D)           (None, 220, 220, 128)     9728      \n",
      "                                                                 \n",
      " max_pooling2d_6 (MaxPooling  (None, 110, 110, 128)    0         \n",
      " 2D)                                                             \n",
      "                                                                 \n",
      " dropout_3 (Dropout)         (None, 110, 110, 128)     0         \n",
      "                                                                 \n",
      " conv2d_7 (Conv2D)           (None, 106, 106, 64)      204864    \n",
      "                                                                 \n",
      " max_pooling2d_7 (MaxPooling  (None, 53, 53, 64)       0         \n",
      " 2D)                                                             \n",
      "                                                                 \n",
      " dropout_4 (Dropout)         (None, 53, 53, 64)        0         \n",
      "                                                                 \n",
      " conv2d_8 (Conv2D)           (None, 49, 49, 32)        51232     \n",
      "                                                                 \n",
      " max_pooling2d_8 (MaxPooling  (None, 24, 24, 32)       0         \n",
      " 2D)                                                             \n",
      "                                                                 \n",
      " flatten_2 (Flatten)         (None, 18432)             0         \n",
      "                                                                 \n",
      " dense_4 (Dense)             (None, 64)                1179712   \n",
      "                                                                 \n",
      " dropout_5 (Dropout)         (None, 64)                0         \n",
      "                                                                 \n",
      " dense_5 (Dense)             (None, 8)                 520       \n",
      "                                                                 \n",
      "=================================================================\n",
      "Total params: 1,446,056\n",
      "Trainable params: 1,446,056\n",
      "Non-trainable params: 0\n",
      "_________________________________________________________________\n"
     ]
    }
   ],
   "source": [
    "from tensorflow import keras\n",
    "from keras.layers import Dense\n",
    "from keras.layers import Flatten\n",
    "from keras.layers import Conv2D\n",
    "from keras.layers import MaxPooling2D\n",
    "from keras.layers import Dropout\n",
    "cnn = keras.Sequential()\n",
    "cnn.add(Conv2D(128,(5,5),activation='relu',input_shape=(224,224,3)))\n",
    "cnn.add(MaxPooling2D((2,2)))\n",
    "cnn.add(Dropout(0.2))\n",
    "cnn.add(Conv2D(64,(5,5),activation='relu',kernel_regularizer=l2(0.001), bias_regularizer=l2(0.001)))\n",
    "cnn.add(MaxPooling2D((2,2)))\n",
    "cnn.add(Dropout(0.3))\n",
    "cnn.add(Conv2D(32,(5,5),activation='relu'))\n",
    "cnn.add(MaxPooling2D((2,2)))\n",
    "cnn.add(Flatten())\n",
    "cnn.add(Dense(64,activation='relu'))\n",
    "cnn.add(Dropout(0.5))\n",
    "cnn.add(Dense(8,activation='softmax'))\n",
    "cnn.summary()"
   ]
  },
  {
   "cell_type": "code",
   "execution_count": null,
   "metadata": {
    "colab": {
     "base_uri": "https://localhost:8080/"
    },
    "id": "eHpV1Su0Ffd5",
    "outputId": "c49ca31b-e7fd-4aec-819a-4e26f3a4a3c7"
   },
   "outputs": [
    {
     "name": "stdout",
     "output_type": "stream",
     "text": [
      "Epoch 1/50\n",
      "32/32 [==============================] - 17s 363ms/step - loss: 2.2365 - accuracy: 0.1458 - val_loss: 2.1178 - val_accuracy: 0.1574\n",
      "Epoch 2/50\n",
      "32/32 [==============================] - 9s 286ms/step - loss: 2.0922 - accuracy: 0.1746 - val_loss: 2.0961 - val_accuracy: 0.2639\n",
      "Epoch 3/50\n",
      "32/32 [==============================] - 9s 296ms/step - loss: 2.0511 - accuracy: 0.1915 - val_loss: 2.0190 - val_accuracy: 0.2477\n",
      "Epoch 4/50\n",
      "32/32 [==============================] - 9s 287ms/step - loss: 2.0101 - accuracy: 0.2242 - val_loss: 1.9703 - val_accuracy: 0.3218\n",
      "Epoch 5/50\n",
      "32/32 [==============================] - 9s 295ms/step - loss: 1.9649 - accuracy: 0.2272 - val_loss: 1.9293 - val_accuracy: 0.2894\n",
      "Epoch 6/50\n",
      "32/32 [==============================] - 9s 286ms/step - loss: 1.9386 - accuracy: 0.2649 - val_loss: 1.8540 - val_accuracy: 0.3171\n",
      "Epoch 7/50\n",
      "32/32 [==============================] - 9s 287ms/step - loss: 1.8524 - accuracy: 0.3046 - val_loss: 1.8266 - val_accuracy: 0.3843\n",
      "Epoch 8/50\n",
      "32/32 [==============================] - 9s 287ms/step - loss: 1.8353 - accuracy: 0.3155 - val_loss: 1.7988 - val_accuracy: 0.3542\n",
      "Epoch 9/50\n",
      "32/32 [==============================] - 9s 286ms/step - loss: 1.7834 - accuracy: 0.3155 - val_loss: 1.7180 - val_accuracy: 0.3704\n",
      "Epoch 10/50\n",
      "32/32 [==============================] - 9s 286ms/step - loss: 1.7650 - accuracy: 0.3353 - val_loss: 1.7128 - val_accuracy: 0.3819\n",
      "Epoch 11/50\n",
      "32/32 [==============================] - 9s 286ms/step - loss: 1.7309 - accuracy: 0.3343 - val_loss: 1.7286 - val_accuracy: 0.3866\n",
      "Epoch 12/50\n",
      "32/32 [==============================] - 9s 287ms/step - loss: 1.6611 - accuracy: 0.3889 - val_loss: 1.6915 - val_accuracy: 0.4213\n",
      "Epoch 13/50\n",
      "32/32 [==============================] - 9s 287ms/step - loss: 1.6761 - accuracy: 0.3621 - val_loss: 1.6753 - val_accuracy: 0.3958\n",
      "Epoch 14/50\n",
      "32/32 [==============================] - 9s 286ms/step - loss: 1.6163 - accuracy: 0.3869 - val_loss: 1.6429 - val_accuracy: 0.3935\n",
      "Epoch 15/50\n",
      "32/32 [==============================] - 9s 286ms/step - loss: 1.6260 - accuracy: 0.3770 - val_loss: 1.6391 - val_accuracy: 0.3981\n",
      "Epoch 16/50\n",
      "32/32 [==============================] - 9s 287ms/step - loss: 1.5714 - accuracy: 0.3968 - val_loss: 1.6944 - val_accuracy: 0.4051\n",
      "Epoch 17/50\n",
      "32/32 [==============================] - 9s 286ms/step - loss: 1.5436 - accuracy: 0.3948 - val_loss: 1.6081 - val_accuracy: 0.4213\n",
      "Epoch 18/50\n",
      "32/32 [==============================] - 9s 294ms/step - loss: 1.5254 - accuracy: 0.4177 - val_loss: 1.6446 - val_accuracy: 0.4421\n",
      "Epoch 19/50\n",
      "32/32 [==============================] - 9s 285ms/step - loss: 1.5234 - accuracy: 0.3909 - val_loss: 1.6182 - val_accuracy: 0.4213\n",
      "Epoch 20/50\n",
      "32/32 [==============================] - 9s 286ms/step - loss: 1.4986 - accuracy: 0.4038 - val_loss: 1.6399 - val_accuracy: 0.4306\n",
      "Epoch 21/50\n",
      "32/32 [==============================] - 9s 285ms/step - loss: 1.4330 - accuracy: 0.4484 - val_loss: 1.6509 - val_accuracy: 0.4097\n",
      "Epoch 22/50\n",
      "32/32 [==============================] - 9s 285ms/step - loss: 1.4552 - accuracy: 0.4167 - val_loss: 1.6004 - val_accuracy: 0.4329\n",
      "Epoch 23/50\n",
      "32/32 [==============================] - 9s 286ms/step - loss: 1.3859 - accuracy: 0.4772 - val_loss: 1.6644 - val_accuracy: 0.4120\n",
      "Epoch 24/50\n",
      "32/32 [==============================] - 9s 285ms/step - loss: 1.3468 - accuracy: 0.4742 - val_loss: 1.6276 - val_accuracy: 0.4329\n",
      "Epoch 25/50\n",
      "32/32 [==============================] - 9s 285ms/step - loss: 1.3900 - accuracy: 0.4335 - val_loss: 1.6450 - val_accuracy: 0.4375\n",
      "Epoch 26/50\n",
      "32/32 [==============================] - 9s 285ms/step - loss: 1.3122 - accuracy: 0.4950 - val_loss: 1.6019 - val_accuracy: 0.4583\n",
      "Epoch 27/50\n",
      "32/32 [==============================] - 9s 287ms/step - loss: 1.3235 - accuracy: 0.4831 - val_loss: 1.6043 - val_accuracy: 0.4630\n",
      "Epoch 28/50\n",
      "32/32 [==============================] - 9s 285ms/step - loss: 1.2971 - accuracy: 0.5030 - val_loss: 1.5710 - val_accuracy: 0.4259\n",
      "Epoch 29/50\n",
      "32/32 [==============================] - 9s 285ms/step - loss: 1.2368 - accuracy: 0.5218 - val_loss: 1.6237 - val_accuracy: 0.4375\n",
      "Epoch 30/50\n",
      "32/32 [==============================] - 9s 285ms/step - loss: 1.2448 - accuracy: 0.5109 - val_loss: 1.7268 - val_accuracy: 0.4190\n",
      "Epoch 31/50\n",
      "32/32 [==============================] - 9s 285ms/step - loss: 1.2164 - accuracy: 0.5089 - val_loss: 1.6147 - val_accuracy: 0.4259\n",
      "Epoch 32/50\n",
      "32/32 [==============================] - 9s 286ms/step - loss: 1.1794 - accuracy: 0.5298 - val_loss: 1.7023 - val_accuracy: 0.4537\n",
      "Epoch 33/50\n",
      "32/32 [==============================] - 9s 286ms/step - loss: 1.2111 - accuracy: 0.5228 - val_loss: 1.5984 - val_accuracy: 0.4190\n",
      "Epoch 34/50\n",
      "32/32 [==============================] - 9s 295ms/step - loss: 1.1589 - accuracy: 0.5228 - val_loss: 1.7254 - val_accuracy: 0.4375\n",
      "Epoch 35/50\n",
      "32/32 [==============================] - 9s 285ms/step - loss: 1.1435 - accuracy: 0.5506 - val_loss: 1.5913 - val_accuracy: 0.4468\n",
      "Epoch 36/50\n",
      "32/32 [==============================] - 9s 284ms/step - loss: 1.0811 - accuracy: 0.5913 - val_loss: 1.6119 - val_accuracy: 0.4583\n",
      "Epoch 37/50\n",
      "32/32 [==============================] - 9s 285ms/step - loss: 1.0550 - accuracy: 0.5863 - val_loss: 1.6931 - val_accuracy: 0.4560\n",
      "Epoch 38/50\n",
      "32/32 [==============================] - 9s 285ms/step - loss: 1.0987 - accuracy: 0.5655 - val_loss: 1.6282 - val_accuracy: 0.4792\n",
      "Epoch 39/50\n",
      "32/32 [==============================] - 9s 286ms/step - loss: 1.0957 - accuracy: 0.5635 - val_loss: 1.5654 - val_accuracy: 0.4907\n",
      "Epoch 40/50\n",
      "32/32 [==============================] - 9s 286ms/step - loss: 1.0486 - accuracy: 0.5724 - val_loss: 1.6871 - val_accuracy: 0.4676\n",
      "Epoch 41/50\n",
      "32/32 [==============================] - 9s 286ms/step - loss: 1.0430 - accuracy: 0.6032 - val_loss: 1.6198 - val_accuracy: 0.4861\n",
      "Epoch 42/50\n",
      "32/32 [==============================] - 9s 284ms/step - loss: 0.9895 - accuracy: 0.6141 - val_loss: 1.6750 - val_accuracy: 0.4861\n",
      "Epoch 43/50\n",
      "32/32 [==============================] - 9s 287ms/step - loss: 1.0156 - accuracy: 0.5942 - val_loss: 1.6844 - val_accuracy: 0.4931\n",
      "Epoch 44/50\n",
      "32/32 [==============================] - 9s 285ms/step - loss: 0.9863 - accuracy: 0.6081 - val_loss: 1.8134 - val_accuracy: 0.4514\n",
      "Epoch 45/50\n",
      "32/32 [==============================] - 9s 287ms/step - loss: 0.9758 - accuracy: 0.6260 - val_loss: 1.8410 - val_accuracy: 0.4630\n",
      "Epoch 46/50\n",
      " 2/32 [>.............................] - ETA: 7s - loss: 1.1600 - accuracy: 0.5781"
     ]
    }
   ],
   "source": [
    "cnn.compile(loss='categorical_crossentropy',optimizer='adam',metrics=['accuracy'])\n",
    "history = cnn.fit(X_train,y_train,epochs=50,validation_data=(X_test,y_test))"
   ]
  }
 ],
 "metadata": {
  "accelerator": "GPU",
  "colab": {
   "collapsed_sections": [],
   "name": "transfer_learning.ipynb",
   "provenance": []
  },
  "kernelspec": {
   "display_name": "Python 3 (ipykernel)",
   "language": "python",
   "name": "python3"
  },
  "language_info": {
   "codemirror_mode": {
    "name": "ipython",
    "version": 3
   },
   "file_extension": ".py",
   "mimetype": "text/x-python",
   "name": "python",
   "nbconvert_exporter": "python",
   "pygments_lexer": "ipython3",
   "version": "3.9.7"
  }
 },
 "nbformat": 4,
 "nbformat_minor": 1
}
