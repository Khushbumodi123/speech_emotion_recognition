{
 "cells": [
  {
   "cell_type": "markdown",
   "id": "6bb02412",
   "metadata": {},
   "source": [
    "# Emotion Recognition using CNN"
   ]
  },
  {
   "cell_type": "markdown",
   "id": "6f31d869",
   "metadata": {},
   "source": [
    "Importing libraries"
   ]
  },
  {
   "cell_type": "code",
   "execution_count": 1,
   "id": "31a57580",
   "metadata": {},
   "outputs": [
    {
     "name": "stdout",
     "output_type": "stream",
     "text": [
      "Requirement already satisfied: tensorflow in c:\\users\\hp\\anaconda3\\lib\\site-packages (2.7.0)\n",
      "Requirement already satisfied: google-pasta>=0.1.1 in c:\\users\\hp\\anaconda3\\lib\\site-packages (from tensorflow) (0.2.0)\n",
      "Requirement already satisfied: tensorflow-io-gcs-filesystem>=0.21.0 in c:\\users\\hp\\anaconda3\\lib\\site-packages (from tensorflow) (0.22.0)\n",
      "Requirement already satisfied: six>=1.12.0 in c:\\users\\hp\\anaconda3\\lib\\site-packages (from tensorflow) (1.15.0)\n",
      "Requirement already satisfied: absl-py>=0.4.0 in c:\\users\\hp\\anaconda3\\lib\\site-packages (from tensorflow) (1.0.0)\n",
      "Requirement already satisfied: libclang>=9.0.1 in c:\\users\\hp\\anaconda3\\lib\\site-packages (from tensorflow) (12.0.0)\n",
      "Requirement already satisfied: tensorflow-estimator<2.8,~=2.7.0rc0 in c:\\users\\hp\\anaconda3\\lib\\site-packages (from tensorflow) (2.7.0)\n",
      "Requirement already satisfied: opt-einsum>=2.3.2 in c:\\users\\hp\\anaconda3\\lib\\site-packages (from tensorflow) (3.3.0)\n",
      "Requirement already satisfied: flatbuffers<3.0,>=1.12 in c:\\users\\hp\\anaconda3\\lib\\site-packages (from tensorflow) (2.0)\n",
      "Requirement already satisfied: typing-extensions>=3.6.6 in c:\\users\\hp\\anaconda3\\lib\\site-packages (from tensorflow) (3.7.4.3)\n",
      "Requirement already satisfied: astunparse>=1.6.0 in c:\\users\\hp\\anaconda3\\lib\\site-packages (from tensorflow) (1.6.3)\n",
      "Requirement already satisfied: tensorboard~=2.6 in c:\\users\\hp\\anaconda3\\lib\\site-packages (from tensorflow) (2.7.0)\n",
      "Requirement already satisfied: grpcio<2.0,>=1.24.3 in c:\\users\\hp\\anaconda3\\lib\\site-packages (from tensorflow) (1.41.1)\n",
      "Requirement already satisfied: keras<2.8,>=2.7.0rc0 in c:\\users\\hp\\anaconda3\\lib\\site-packages (from tensorflow) (2.7.0)\n",
      "Requirement already satisfied: wheel<1.0,>=0.32.0 in c:\\users\\hp\\anaconda3\\lib\\site-packages (from tensorflow) (0.36.2)\n",
      "Requirement already satisfied: wrapt>=1.11.0 in c:\\users\\hp\\anaconda3\\lib\\site-packages (from tensorflow) (1.12.1)\n",
      "Requirement already satisfied: protobuf>=3.9.2 in c:\\users\\hp\\anaconda3\\lib\\site-packages (from tensorflow) (3.19.1)\n",
      "Requirement already satisfied: numpy>=1.14.5 in c:\\users\\hp\\anaconda3\\lib\\site-packages (from tensorflow) (1.19.5)\n",
      "Requirement already satisfied: keras-preprocessing>=1.1.1 in c:\\users\\hp\\anaconda3\\lib\\site-packages (from tensorflow) (1.1.2)\n",
      "Requirement already satisfied: h5py>=2.9.0 in c:\\users\\hp\\anaconda3\\lib\\site-packages (from tensorflow) (2.10.0)\n",
      "Requirement already satisfied: gast<0.5.0,>=0.2.1 in c:\\users\\hp\\anaconda3\\lib\\site-packages (from tensorflow) (0.4.0)\n",
      "Requirement already satisfied: termcolor>=1.1.0 in c:\\users\\hp\\anaconda3\\lib\\site-packages (from tensorflow) (1.1.0)\n",
      "Requirement already satisfied: tensorboard-data-server<0.7.0,>=0.6.0 in c:\\users\\hp\\anaconda3\\lib\\site-packages (from tensorboard~=2.6->tensorflow) (0.6.1)\n",
      "Requirement already satisfied: google-auth-oauthlib<0.5,>=0.4.1 in c:\\users\\hp\\anaconda3\\lib\\site-packages (from tensorboard~=2.6->tensorflow) (0.4.6)\n",
      "Requirement already satisfied: werkzeug>=0.11.15 in c:\\users\\hp\\anaconda3\\lib\\site-packages (from tensorboard~=2.6->tensorflow) (1.0.1)\n",
      "Requirement already satisfied: requests<3,>=2.21.0 in c:\\users\\hp\\anaconda3\\lib\\site-packages (from tensorboard~=2.6->tensorflow) (2.25.1)\n",
      "Requirement already satisfied: setuptools>=41.0.0 in c:\\users\\hp\\anaconda3\\lib\\site-packages (from tensorboard~=2.6->tensorflow) (52.0.0.post20210125)\n",
      "Requirement already satisfied: tensorboard-plugin-wit>=1.6.0 in c:\\users\\hp\\anaconda3\\lib\\site-packages (from tensorboard~=2.6->tensorflow) (1.8.0)\n",
      "Requirement already satisfied: markdown>=2.6.8 in c:\\users\\hp\\anaconda3\\lib\\site-packages (from tensorboard~=2.6->tensorflow) (3.3.4)\n",
      "Requirement already satisfied: google-auth<3,>=1.6.3 in c:\\users\\hp\\anaconda3\\lib\\site-packages (from tensorboard~=2.6->tensorflow) (2.3.3)\n",
      "Requirement already satisfied: rsa<5,>=3.1.4 in c:\\users\\hp\\anaconda3\\lib\\site-packages (from google-auth<3,>=1.6.3->tensorboard~=2.6->tensorflow) (4.7.2)\n",
      "Requirement already satisfied: pyasn1-modules>=0.2.1 in c:\\users\\hp\\anaconda3\\lib\\site-packages (from google-auth<3,>=1.6.3->tensorboard~=2.6->tensorflow) (0.2.8)\n",
      "Requirement already satisfied: cachetools<5.0,>=2.0.0 in c:\\users\\hp\\anaconda3\\lib\\site-packages (from google-auth<3,>=1.6.3->tensorboard~=2.6->tensorflow) (4.2.4)\n",
      "Requirement already satisfied: requests-oauthlib>=0.7.0 in c:\\users\\hp\\anaconda3\\lib\\site-packages (from google-auth-oauthlib<0.5,>=0.4.1->tensorboard~=2.6->tensorflow) (1.3.0)\n",
      "Requirement already satisfied: pyasn1<0.5.0,>=0.4.6 in c:\\users\\hp\\anaconda3\\lib\\site-packages (from pyasn1-modules>=0.2.1->google-auth<3,>=1.6.3->tensorboard~=2.6->tensorflow) (0.4.8)\n",
      "Requirement already satisfied: idna<3,>=2.5 in c:\\users\\hp\\anaconda3\\lib\\site-packages (from requests<3,>=2.21.0->tensorboard~=2.6->tensorflow) (2.10)\n",
      "Requirement already satisfied: certifi>=2017.4.17 in c:\\users\\hp\\anaconda3\\lib\\site-packages (from requests<3,>=2.21.0->tensorboard~=2.6->tensorflow) (2020.12.5)\n",
      "Requirement already satisfied: chardet<5,>=3.0.2 in c:\\users\\hp\\anaconda3\\lib\\site-packages (from requests<3,>=2.21.0->tensorboard~=2.6->tensorflow) (4.0.0)\n",
      "Requirement already satisfied: urllib3<1.27,>=1.21.1 in c:\\users\\hp\\anaconda3\\lib\\site-packages (from requests<3,>=2.21.0->tensorboard~=2.6->tensorflow) (1.26.4)\n",
      "Requirement already satisfied: oauthlib>=3.0.0 in c:\\users\\hp\\anaconda3\\lib\\site-packages (from requests-oauthlib>=0.7.0->google-auth-oauthlib<0.5,>=0.4.1->tensorboard~=2.6->tensorflow) (3.1.1)\n",
      "Requirement already satisfied: keras in c:\\users\\hp\\anaconda3\\lib\\site-packages (2.7.0)\n"
     ]
    }
   ],
   "source": [
    "!pip install tensorflow\n",
    "!pip install keras\n",
    "import pandas as pd\n",
    "import numpy as np\n",
    "\n",
    "import os\n",
    "import sys\n",
    "\n",
    "# librosa is a Python library for analyzing audio and music. It can be used to extract the data from the audio files we will see it later.\n",
    "import librosa\n",
    "import librosa.display\n",
    "\n",
    "import seaborn as sns\n",
    "import matplotlib.pyplot as plt\n",
    "\n",
    "from sklearn.preprocessing import StandardScaler, OneHotEncoder\n",
    "from sklearn.metrics import confusion_matrix, classification_report\n",
    "from sklearn.model_selection import train_test_split\n",
    "\n",
    "# to play the audio files\n",
    "from IPython.display import Audio\n",
    "\n",
    "import keras\n",
    "from keras.callbacks import ReduceLROnPlateau\n",
    "from keras.models import Sequential\n",
    "from keras.layers import Dense, Conv1D, MaxPooling1D, Flatten, Dropout, BatchNormalization\n",
    "from keras.callbacks import ModelCheckpoint\n",
    "\n",
    "import warnings\n",
    "if not sys.warnoptions:\n",
    "    warnings.simplefilter(\"ignore\")\n",
    "warnings.filterwarnings(\"ignore\", category=DeprecationWarning) "
   ]
  },
  {
   "cell_type": "markdown",
   "id": "d494f0aa",
   "metadata": {},
   "source": [
    "loading dataset"
   ]
  },
  {
   "cell_type": "code",
   "execution_count": 2,
   "id": "e6f24196",
   "metadata": {},
   "outputs": [],
   "source": [
    "data = pd.read_csv(\"features.csv\")"
   ]
  },
  {
   "cell_type": "code",
   "execution_count": 3,
   "id": "f74e2bc5",
   "metadata": {},
   "outputs": [
    {
     "data": {
      "text/html": [
       "<div>\n",
       "<style scoped>\n",
       "    .dataframe tbody tr th:only-of-type {\n",
       "        vertical-align: middle;\n",
       "    }\n",
       "\n",
       "    .dataframe tbody tr th {\n",
       "        vertical-align: top;\n",
       "    }\n",
       "\n",
       "    .dataframe thead th {\n",
       "        text-align: right;\n",
       "    }\n",
       "</style>\n",
       "<table border=\"1\" class=\"dataframe\">\n",
       "  <thead>\n",
       "    <tr style=\"text-align: right;\">\n",
       "      <th></th>\n",
       "      <th>0</th>\n",
       "      <th>1</th>\n",
       "      <th>2</th>\n",
       "      <th>3</th>\n",
       "      <th>4</th>\n",
       "      <th>5</th>\n",
       "      <th>6</th>\n",
       "      <th>7</th>\n",
       "      <th>8</th>\n",
       "      <th>9</th>\n",
       "      <th>...</th>\n",
       "      <th>11</th>\n",
       "      <th>12</th>\n",
       "      <th>13</th>\n",
       "      <th>14</th>\n",
       "      <th>15</th>\n",
       "      <th>16</th>\n",
       "      <th>17</th>\n",
       "      <th>18</th>\n",
       "      <th>19</th>\n",
       "      <th>labels</th>\n",
       "    </tr>\n",
       "  </thead>\n",
       "  <tbody>\n",
       "    <tr>\n",
       "      <th>0</th>\n",
       "      <td>-655.344543</td>\n",
<<<<<<< HEAD
       "      <td>86.649872</td>\n",
       "      <td>-12.361262</td>\n",
=======
       "      <td>86.649864</td>\n",
       "      <td>-12.361261</td>\n",
>>>>>>> c93e33cbb471499ad1223f64d1c70c0f1960d065
       "      <td>28.343275</td>\n",
       "      <td>-0.276913</td>\n",
       "      <td>9.111377</td>\n",
       "      <td>-10.830961</td>\n",
       "      <td>-0.023427</td>\n",
       "      <td>-17.030333</td>\n",
       "      <td>-3.272646</td>\n",
       "      <td>...</td>\n",
       "      <td>-5.887830</td>\n",
       "      <td>4.827703</td>\n",
       "      <td>-7.893807</td>\n",
       "      <td>3.420066</td>\n",
       "      <td>-1.663579</td>\n",
       "      <td>-3.320956</td>\n",
       "      <td>-4.437192</td>\n",
       "      <td>-0.790467</td>\n",
       "      <td>-2.032093</td>\n",
       "      <td>neutral</td>\n",
       "    </tr>\n",
       "    <tr>\n",
       "      <th>1</th>\n",
<<<<<<< HEAD
       "      <td>-475.233185</td>\n",
       "      <td>37.735450</td>\n",
       "      <td>6.484209</td>\n",
       "      <td>10.577263</td>\n",
       "      <td>5.573967</td>\n",
       "      <td>0.096649</td>\n",
       "      <td>-3.958552</td>\n",
       "      <td>-6.736961</td>\n",
       "      <td>-10.509263</td>\n",
       "      <td>-6.617795</td>\n",
       "      <td>...</td>\n",
       "      <td>-2.255615</td>\n",
       "      <td>-1.268973</td>\n",
       "      <td>-2.126151</td>\n",
       "      <td>-0.241190</td>\n",
       "      <td>-0.146999</td>\n",
       "      <td>-3.897475</td>\n",
       "      <td>-3.241440</td>\n",
       "      <td>0.042122</td>\n",
       "      <td>-2.748200</td>\n",
=======
       "      <td>-430.432303</td>\n",
       "      <td>28.635499</td>\n",
       "      <td>8.845793</td>\n",
       "      <td>9.058214</td>\n",
       "      <td>4.566189</td>\n",
       "      <td>-0.468125</td>\n",
       "      <td>-3.704194</td>\n",
       "      <td>-6.266642</td>\n",
       "      <td>-8.031441</td>\n",
       "      <td>-5.080421</td>\n",
       "      <td>...</td>\n",
       "      <td>-1.613933</td>\n",
       "      <td>-1.307943</td>\n",
       "      <td>-1.488720</td>\n",
       "      <td>-0.048177</td>\n",
       "      <td>-0.290555</td>\n",
       "      <td>-2.636441</td>\n",
       "      <td>-2.293905</td>\n",
       "      <td>0.075632</td>\n",
       "      <td>-3.025504</td>\n",
>>>>>>> c93e33cbb471499ad1223f64d1c70c0f1960d065
       "      <td>neutral</td>\n",
       "    </tr>\n",
       "    <tr>\n",
       "      <th>2</th>\n",
       "      <td>-724.307190</td>\n",
       "      <td>84.484085</td>\n",
       "      <td>-14.169809</td>\n",
       "      <td>31.049458</td>\n",
       "      <td>-3.062177</td>\n",
       "      <td>9.604400</td>\n",
       "      <td>-14.447046</td>\n",
       "      <td>-0.219916</td>\n",
       "      <td>-20.591162</td>\n",
       "      <td>2.434902</td>\n",
       "      <td>...</td>\n",
       "      <td>-4.020089</td>\n",
<<<<<<< HEAD
       "      <td>3.011853</td>\n",
       "      <td>-8.109156</td>\n",
       "      <td>3.908098</td>\n",
       "      <td>-5.972445</td>\n",
       "      <td>-3.686383</td>\n",
=======
       "      <td>3.011852</td>\n",
       "      <td>-8.109157</td>\n",
       "      <td>3.908099</td>\n",
       "      <td>-5.972445</td>\n",
       "      <td>-3.686382</td>\n",
>>>>>>> c93e33cbb471499ad1223f64d1c70c0f1960d065
       "      <td>-5.658265</td>\n",
       "      <td>2.423278</td>\n",
       "      <td>-4.886252</td>\n",
       "      <td>neutral</td>\n",
       "    </tr>\n",
       "    <tr>\n",
       "      <th>3</th>\n",
       "      <td>-645.409851</td>\n",
       "      <td>87.810638</td>\n",
       "      <td>-17.773392</td>\n",
       "      <td>33.468960</td>\n",
       "      <td>-0.936478</td>\n",
       "      <td>8.191232</td>\n",
       "      <td>-9.919904</td>\n",
       "      <td>-3.311972</td>\n",
       "      <td>-18.590483</td>\n",
       "      <td>-2.199426</td>\n",
       "      <td>...</td>\n",
       "      <td>-6.660093</td>\n",
       "      <td>3.893641</td>\n",
       "      <td>-8.572474</td>\n",
       "      <td>2.928271</td>\n",
       "      <td>-3.344517</td>\n",
       "      <td>-3.604978</td>\n",
       "      <td>-4.101902</td>\n",
       "      <td>-1.308776</td>\n",
       "      <td>-0.581940</td>\n",
       "      <td>neutral</td>\n",
       "    </tr>\n",
       "    <tr>\n",
       "      <th>4</th>\n",
<<<<<<< HEAD
       "      <td>-571.465829</td>\n",
       "      <td>61.978770</td>\n",
       "      <td>-5.384902</td>\n",
       "      <td>21.352240</td>\n",
       "      <td>3.866039</td>\n",
       "      <td>1.307182</td>\n",
       "      <td>-5.972719</td>\n",
       "      <td>-7.355506</td>\n",
       "      <td>-14.538130</td>\n",
       "      <td>-3.855138</td>\n",
       "      <td>...</td>\n",
       "      <td>-4.927345</td>\n",
       "      <td>0.544567</td>\n",
       "      <td>-5.345915</td>\n",
       "      <td>0.225759</td>\n",
       "      <td>-0.831654</td>\n",
       "      <td>-4.492261</td>\n",
       "      <td>-4.453480</td>\n",
       "      <td>-0.986423</td>\n",
       "      <td>-1.763284</td>\n",
=======
       "      <td>-460.762079</td>\n",
       "      <td>32.982906</td>\n",
       "      <td>7.177980</td>\n",
       "      <td>12.280771</td>\n",
       "      <td>5.587795</td>\n",
       "      <td>-0.103153</td>\n",
       "      <td>-2.837121</td>\n",
       "      <td>-7.346782</td>\n",
       "      <td>-10.402943</td>\n",
       "      <td>-4.478989</td>\n",
       "      <td>...</td>\n",
       "      <td>-2.830772</td>\n",
       "      <td>-1.898307</td>\n",
       "      <td>-3.128632</td>\n",
       "      <td>-1.669740</td>\n",
       "      <td>-0.923988</td>\n",
       "      <td>-3.618321</td>\n",
       "      <td>-3.247376</td>\n",
       "      <td>-0.513290</td>\n",
       "      <td>-2.427789</td>\n",
>>>>>>> c93e33cbb471499ad1223f64d1c70c0f1960d065
       "      <td>neutral</td>\n",
       "    </tr>\n",
       "  </tbody>\n",
       "</table>\n",
       "<p>5 rows × 21 columns</p>\n",
       "</div>"
      ],
      "text/plain": [
       "            0          1          2          3         4         5          6  \\\n",
<<<<<<< HEAD
       "0 -655.344543  86.649872 -12.361262  28.343275 -0.276913  9.111377 -10.830961   \n",
       "1 -475.233185  37.735450   6.484209  10.577263  5.573967  0.096649  -3.958552   \n",
       "2 -724.307190  84.484085 -14.169809  31.049458 -3.062177  9.604400 -14.447046   \n",
       "3 -645.409851  87.810638 -17.773392  33.468960 -0.936478  8.191231  -9.919904   \n",
       "4 -571.465829  61.978770  -5.384902  21.352240  3.866039  1.307182  -5.972719   \n",
       "\n",
       "          7          8         9  ...        11        12        13        14  \\\n",
       "0 -0.023427 -17.030333 -3.272646  ... -5.887830  4.827703 -7.893806  3.420066   \n",
       "1 -6.736961 -10.509263 -6.617795  ... -2.255615 -1.268973 -2.126151 -0.241190   \n",
       "2 -0.219916 -20.591162  2.434902  ... -4.020089  3.011853 -8.109156  3.908098   \n",
       "3 -3.311972 -18.590483 -2.199426  ... -6.660093  3.893641 -8.572474  2.928271   \n",
       "4 -7.355506 -14.538130 -3.855138  ... -4.927345  0.544567 -5.345915  0.225759   \n",
       "\n",
       "         15        16        17        18        19   labels  \n",
       "0 -1.663579 -3.320956 -4.437192 -0.790467 -2.032093  neutral  \n",
       "1 -0.146999 -3.897475 -3.241440  0.042122 -2.748200  neutral  \n",
       "2 -5.972445 -3.686383 -5.658265  2.423278 -4.886252  neutral  \n",
       "3 -3.344517 -3.604978 -4.101902 -1.308776 -0.581940  neutral  \n",
       "4 -0.831654 -4.492261 -4.453480 -0.986423 -1.763284  neutral  \n",
=======
       "0 -655.344543  86.649864 -12.361261  28.343275 -0.276913  9.111378 -10.830962   \n",
       "1 -430.432303  28.635499   8.845793   9.058214  4.566189 -0.468125  -3.704194   \n",
       "2 -724.307190  84.484085 -14.169809  31.049458 -3.062177  9.604401 -14.447046   \n",
       "3 -645.409851  87.810638 -17.773392  33.468960 -0.936478  8.191232  -9.919904   \n",
       "4 -460.762079  32.982906   7.177980  12.280771  5.587795 -0.103153  -2.837121   \n",
       "\n",
       "          7          8         9  ...        11        12        13        14  \\\n",
       "0 -0.023427 -17.030333 -3.272646  ... -5.887830  4.827703 -7.893807  3.420066   \n",
       "1 -6.266642  -8.031441 -5.080421  ... -1.613933 -1.307943 -1.488720 -0.048177   \n",
       "2 -0.219916 -20.591162  2.434902  ... -4.020089  3.011852 -8.109157  3.908099   \n",
       "3 -3.311972 -18.590483 -2.199426  ... -6.660093  3.893641 -8.572474  2.928271   \n",
       "4 -7.346782 -10.402943 -4.478989  ... -2.830772 -1.898307 -3.128632 -1.669740   \n",
       "\n",
       "         15        16        17        18        19   labels  \n",
       "0 -1.663579 -3.320956 -4.437192 -0.790467 -2.032093  neutral  \n",
       "1 -0.290555 -2.636441 -2.293905  0.075632 -3.025504  neutral  \n",
       "2 -5.972445 -3.686382 -5.658265  2.423278 -4.886252  neutral  \n",
       "3 -3.344517 -3.604978 -4.101902 -1.308776 -0.581940  neutral  \n",
       "4 -0.923988 -3.618321 -3.247376 -0.513290 -2.427789  neutral  \n",
>>>>>>> c93e33cbb471499ad1223f64d1c70c0f1960d065
       "\n",
       "[5 rows x 21 columns]"
      ]
     },
     "execution_count": 3,
     "metadata": {},
     "output_type": "execute_result"
    }
   ],
   "source": [
    "data.head()"
   ]
  },
  {
   "cell_type": "code",
   "execution_count": 4,
   "id": "064df167",
   "metadata": {},
   "outputs": [
    {
     "data": {
      "text/plain": [
<<<<<<< HEAD
       "disgust      576\n",
       "sad          576\n",
       "happy        576\n",
       "calm         576\n",
       "surprised    576\n",
=======
       "calm         576\n",
       "happy        576\n",
       "sad          576\n",
>>>>>>> c93e33cbb471499ad1223f64d1c70c0f1960d065
       "angry        576\n",
       "fearful      576\n",
       "disgust      576\n",
       "surprised    576\n",
       "neutral      288\n",
       "Name: labels, dtype: int64"
      ]
     },
     "execution_count": 4,
     "metadata": {},
     "output_type": "execute_result"
    }
   ],
   "source": [
    "data['labels'].value_counts()"
   ]
  },
  {
   "cell_type": "markdown",
   "id": "6f853dcf",
   "metadata": {},
   "source": [
    "splitting the data"
   ]
  },
  {
   "cell_type": "code",
   "execution_count": 5,
   "id": "e36155ce",
   "metadata": {},
   "outputs": [],
   "source": [
    "X = data.iloc[: ,:-1].values\n",
    "Y = data['labels'].values"
   ]
  },
  {
   "cell_type": "code",
   "execution_count": 6,
   "id": "ca39fe94",
   "metadata": {},
   "outputs": [],
   "source": [
    "encoder = OneHotEncoder()\n",
    "Y = encoder.fit_transform(np.array(Y).reshape(-1,1)).toarray()"
   ]
  },
  {
   "cell_type": "code",
   "execution_count": 7,
   "id": "d1965c27",
   "metadata": {},
   "outputs": [],
   "source": [
    "X_train, X_test, y_train, y_test = train_test_split(X, Y, random_state=0, shuffle=True)"
   ]
  },
  {
   "cell_type": "code",
   "execution_count": 8,
   "id": "4561c299",
   "metadata": {},
   "outputs": [
    {
     "name": "stdout",
     "output_type": "stream",
     "text": [
      "(3240, 20)\n",
      "(1080, 20)\n"
     ]
    }
   ],
   "source": [
    "print(X_train.shape)\n",
    "print(X_test.shape)"
   ]
  },
  {
   "cell_type": "code",
   "execution_count": 9,
   "id": "58a26492",
   "metadata": {},
   "outputs": [
    {
     "name": "stdout",
     "output_type": "stream",
     "text": [
      "(3240, 8)\n",
      "(1080, 8)\n"
     ]
    }
   ],
   "source": [
    "print(y_train.shape)\n",
    "print(y_test.shape)"
   ]
  },
  {
   "cell_type": "code",
   "execution_count": 10,
   "id": "2acd68e5",
   "metadata": {},
   "outputs": [
    {
     "data": {
      "text/plain": [
       "((3240, 20), (3240, 8), (1080, 20), (1080, 8))"
      ]
     },
     "execution_count": 10,
     "metadata": {},
     "output_type": "execute_result"
    }
   ],
   "source": [
    "scaler = StandardScaler()\n",
    "X_train = scaler.fit_transform(X_train)\n",
    "X_test = scaler.transform(X_test)\n",
    "X_train.shape, y_train.shape, X_test.shape, y_test.shape"
   ]
  },
  {
   "cell_type": "code",
   "execution_count": 11,
   "id": "9895677f",
   "metadata": {},
   "outputs": [
    {
     "data": {
      "text/plain": [
       "((3240, 20, 1), (3240, 8), (1080, 20, 1), (1080, 8))"
      ]
     },
     "execution_count": 11,
     "metadata": {},
     "output_type": "execute_result"
    }
   ],
   "source": [
    "# making our data compatible to model.\n",
    "X_train = np.expand_dims(X_train, axis=2)\n",
    "X_test = np.expand_dims(X_test, axis=2)\n",
    "X_train.shape, y_train.shape, X_test.shape, y_test.shape"
   ]
  },
  {
   "cell_type": "code",
   "execution_count": 12,
<<<<<<< HEAD
   "id": "db989b91",
   "metadata": {},
   "outputs": [
    {
     "data": {
      "text/plain": [
       "3240"
      ]
     },
     "execution_count": 12,
     "metadata": {},
     "output_type": "execute_result"
    }
   ],
   "source": [
    "X_train.shape[0]"
   ]
  },
  {
   "cell_type": "code",
   "execution_count": 13,
=======
>>>>>>> c93e33cbb471499ad1223f64d1c70c0f1960d065
   "id": "e71842ed",
   "metadata": {},
   "outputs": [
    {
     "name": "stdout",
     "output_type": "stream",
     "text": [
      "Model: \"sequential\"\n",
      "_________________________________________________________________\n",
      " Layer (type)                Output Shape              Param #   \n",
      "=================================================================\n",
      " conv1d (Conv1D)             (None, 20, 256)           1536      \n",
      "                                                                 \n",
<<<<<<< HEAD
      " max_pooling1d (MaxPooling1D  (None, 6, 256)           0         \n",
      " )                                                               \n",
      "                                                                 \n",
      " conv1d_1 (Conv1D)           (None, 6, 128)            163968    \n",
      "                                                                 \n",
      " max_pooling1d_1 (MaxPooling  (None, 2, 128)           0         \n",
      " 1D)                                                             \n",
      "                                                                 \n",
      " dropout (Dropout)           (None, 2, 128)            0         \n",
      "                                                                 \n",
      " flatten (Flatten)           (None, 256)               0         \n",
      "                                                                 \n",
      " dense (Dense)               (None, 32)                8224      \n",
=======
      " max_pooling1d (MaxPooling1D  (None, 10, 256)          0         \n",
      " )                                                               \n",
      "                                                                 \n",
      " conv1d_1 (Conv1D)           (None, 10, 256)           327936    \n",
      "                                                                 \n",
      " max_pooling1d_1 (MaxPooling  (None, 5, 256)           0         \n",
      " 1D)                                                             \n",
      "                                                                 \n",
      " conv1d_2 (Conv1D)           (None, 5, 128)            163968    \n",
      "                                                                 \n",
      " max_pooling1d_2 (MaxPooling  (None, 3, 128)           0         \n",
      " 1D)                                                             \n",
      "                                                                 \n",
      " dropout (Dropout)           (None, 3, 128)            0         \n",
      "                                                                 \n",
      " conv1d_3 (Conv1D)           (None, 3, 64)             41024     \n",
      "                                                                 \n",
      " max_pooling1d_3 (MaxPooling  (None, 2, 64)            0         \n",
      " 1D)                                                             \n",
      "                                                                 \n",
      " flatten (Flatten)           (None, 128)               0         \n",
      "                                                                 \n",
      " dense (Dense)               (None, 32)                4128      \n",
>>>>>>> c93e33cbb471499ad1223f64d1c70c0f1960d065
      "                                                                 \n",
      " dropout_1 (Dropout)         (None, 32)                0         \n",
      "                                                                 \n",
      " dense_1 (Dense)             (None, 8)                 264       \n",
      "                                                                 \n",
      "=================================================================\n",
      "Total params: 173,992\n",
      "Trainable params: 173,992\n",
      "Non-trainable params: 0\n",
      "_________________________________________________________________\n"
     ]
    }
   ],
   "source": [
    "import tensorflow\n",
    "from tensorflow import keras\n",
    "from tensorflow.keras import layers\n",
    "from tensorflow.keras.models import Sequential\n",
    "from tensorflow.keras.layers import Conv1D, MaxPooling1D, AveragePooling1D\n",
    "from tensorflow.keras.layers import Input, Flatten, Dropout, Activation, BatchNormalization, Dense\n",
    "from sklearn.model_selection import GridSearchCV\n",
    "from tensorflow.keras.wrappers.scikit_learn import KerasClassifier\n",
    "from tensorflow.keras.optimizers import SGD\n",
    "from tensorflow.keras.regularizers import l2\n",
    "from keras.callbacks import ReduceLROnPlateau\n",
    "import seaborn as sns\n",
    "from tensorflow.keras.callbacks import EarlyStopping, ModelCheckpoint\n",
    "\n",
    "# Conv1D for audio\n",
    "model=Sequential()\n",
    "# number of output filters in the convolution (filters=small features)\n",
    "# kernel size = specifying length of the 1D convolution window\n",
    "# strides = number of columns shifted at a time\n",
    "model.add(Conv1D(256, kernel_size=5, padding='same', activation='relu', input_shape=(X_train.shape[1], 1)))\n",
    "model.add(MaxPooling1D(pool_size=3))\n",
    "\n",
    "model.add(Conv1D(128, kernel_size=5, padding='same', activation='relu', kernel_regularizer=l2(0.007)))\n",
    "model.add(MaxPooling1D(pool_size=3, padding = 'same'))\n",
    "model.add(Dropout(0.5))\n",
    "\n",
    "# model.add(Conv1D(64, kernel_size=5, padding='same', activation='relu'))\n",
    "# model.add(MaxPooling1D(pool_size=3, padding = 'same'))\n",
    "# model.add(Dropout(0.3))\n",
    "\n",
    "model.add(Flatten())\n",
    "model.add(Dense(units=32, activation='relu'))\n",
    "model.add(Dropout(0.3))\n",
    "\n",
    "model.add(Dense(units=8, activation='softmax'))\n",
    "model.compile(optimizer = 'adam' , loss = 'categorical_crossentropy' , metrics = ['accuracy'])\n",
    "\n",
    "model.summary()"
   ]
  },
  {
   "cell_type": "code",
   "execution_count": 13,
   "id": "cd03128b",
   "metadata": {},
   "outputs": [
    {
     "name": "stdout",
     "output_type": "stream",
     "text": [
      "Epoch 1/50\n",
<<<<<<< HEAD
      "51/51 [==============================] - 3s 32ms/step - loss: 2.7114 - accuracy: 0.1556 - val_loss: 2.2909 - val_accuracy: 0.2259 - lr: 0.0010\n",
      "Epoch 2/50\n",
      "51/51 [==============================] - 1s 24ms/step - loss: 2.1750 - accuracy: 0.1966 - val_loss: 2.0427 - val_accuracy: 0.2769 - lr: 0.0010\n",
      "Epoch 3/50\n",
      "51/51 [==============================] - 1s 25ms/step - loss: 2.0382 - accuracy: 0.2287 - val_loss: 1.9415 - val_accuracy: 0.2713 - lr: 0.0010\n",
      "Epoch 4/50\n",
      "51/51 [==============================] - 1s 24ms/step - loss: 1.9660 - accuracy: 0.2580 - val_loss: 1.8618 - val_accuracy: 0.3102 - lr: 0.0010\n",
      "Epoch 5/50\n",
      "51/51 [==============================] - 1s 24ms/step - loss: 1.9290 - accuracy: 0.2599 - val_loss: 1.8171 - val_accuracy: 0.3148 - lr: 0.0010\n",
      "Epoch 6/50\n",
      "51/51 [==============================] - 1s 25ms/step - loss: 1.8862 - accuracy: 0.2929 - val_loss: 1.7707 - val_accuracy: 0.3713 - lr: 0.0010\n",
      "Epoch 7/50\n",
      "51/51 [==============================] - 1s 24ms/step - loss: 1.8677 - accuracy: 0.2972 - val_loss: 1.7528 - val_accuracy: 0.3954 - lr: 0.0010\n",
      "Epoch 8/50\n",
      "51/51 [==============================] - 1s 25ms/step - loss: 1.8410 - accuracy: 0.3210 - val_loss: 1.7467 - val_accuracy: 0.3528 - lr: 0.0010\n",
      "Epoch 9/50\n",
      "51/51 [==============================] - 1s 25ms/step - loss: 1.8190 - accuracy: 0.3395 - val_loss: 1.7271 - val_accuracy: 0.4074 - lr: 0.0010\n",
      "Epoch 10/50\n",
      "51/51 [==============================] - 1s 25ms/step - loss: 1.8060 - accuracy: 0.3395 - val_loss: 1.6909 - val_accuracy: 0.3944 - lr: 0.0010\n",
      "Epoch 11/50\n",
      "51/51 [==============================] - 1s 24ms/step - loss: 1.7739 - accuracy: 0.3512 - val_loss: 1.6725 - val_accuracy: 0.4231 - lr: 0.0010\n",
      "Epoch 12/50\n",
      "51/51 [==============================] - 1s 24ms/step - loss: 1.7733 - accuracy: 0.3556 - val_loss: 1.6630 - val_accuracy: 0.4278 - lr: 0.0010\n",
      "Epoch 13/50\n",
      "51/51 [==============================] - 1s 25ms/step - loss: 1.7477 - accuracy: 0.3670 - val_loss: 1.6317 - val_accuracy: 0.4324 - lr: 0.0010\n",
      "Epoch 14/50\n",
      "51/51 [==============================] - 1s 25ms/step - loss: 1.7396 - accuracy: 0.3830 - val_loss: 1.6306 - val_accuracy: 0.4296 - lr: 0.0010\n",
      "Epoch 15/50\n",
      "51/51 [==============================] - 1s 24ms/step - loss: 1.7148 - accuracy: 0.3815 - val_loss: 1.6339 - val_accuracy: 0.4370 - lr: 0.0010\n",
      "Epoch 16/50\n",
      "51/51 [==============================] - 1s 24ms/step - loss: 1.7078 - accuracy: 0.3960 - val_loss: 1.6146 - val_accuracy: 0.4343 - lr: 0.0010\n",
      "Epoch 17/50\n",
      "51/51 [==============================] - 1s 24ms/step - loss: 1.7027 - accuracy: 0.3957 - val_loss: 1.5960 - val_accuracy: 0.4333 - lr: 0.0010\n",
      "Epoch 18/50\n",
      "51/51 [==============================] - 1s 25ms/step - loss: 1.6964 - accuracy: 0.4052 - val_loss: 1.5830 - val_accuracy: 0.4602 - lr: 0.0010\n",
      "Epoch 19/50\n",
      "51/51 [==============================] - 1s 24ms/step - loss: 1.6827 - accuracy: 0.3972 - val_loss: 1.5683 - val_accuracy: 0.4574 - lr: 0.0010\n",
      "Epoch 20/50\n",
      "51/51 [==============================] - 1s 25ms/step - loss: 1.6599 - accuracy: 0.4074 - val_loss: 1.5461 - val_accuracy: 0.4778 - lr: 0.0010\n",
      "Epoch 21/50\n",
      "51/51 [==============================] - 1s 25ms/step - loss: 1.6728 - accuracy: 0.4009 - val_loss: 1.5866 - val_accuracy: 0.4509 - lr: 0.0010\n",
      "Epoch 22/50\n",
      "51/51 [==============================] - 1s 25ms/step - loss: 1.6593 - accuracy: 0.4145 - val_loss: 1.5677 - val_accuracy: 0.4722 - lr: 0.0010\n",
      "Epoch 23/50\n",
      "51/51 [==============================] - 1s 25ms/step - loss: 1.6544 - accuracy: 0.4105 - val_loss: 1.5334 - val_accuracy: 0.4824 - lr: 0.0010\n",
      "Epoch 24/50\n",
      "51/51 [==============================] - 1s 25ms/step - loss: 1.6521 - accuracy: 0.4142 - val_loss: 1.5268 - val_accuracy: 0.4759 - lr: 0.0010\n",
      "Epoch 25/50\n",
      "51/51 [==============================] - 1s 25ms/step - loss: 1.6311 - accuracy: 0.4398 - val_loss: 1.5349 - val_accuracy: 0.4870 - lr: 0.0010\n",
      "Epoch 26/50\n",
      "51/51 [==============================] - 1s 24ms/step - loss: 1.6130 - accuracy: 0.4333 - val_loss: 1.5538 - val_accuracy: 0.4657 - lr: 0.0010\n",
      "Epoch 27/50\n",
      "51/51 [==============================] - 1s 25ms/step - loss: 1.6318 - accuracy: 0.4281 - val_loss: 1.5457 - val_accuracy: 0.4685 - lr: 0.0010\n",
      "Epoch 28/50\n",
      "51/51 [==============================] - ETA: 0s - loss: 1.6334 - accuracy: 0.4253\n",
      "Epoch 00028: ReduceLROnPlateau reducing learning rate to 0.0004000000189989805.\n",
      "51/51 [==============================] - 1s 25ms/step - loss: 1.6334 - accuracy: 0.4253 - val_loss: 1.5267 - val_accuracy: 0.4889 - lr: 0.0010\n",
      "Epoch 29/50\n",
      "51/51 [==============================] - 1s 25ms/step - loss: 1.5762 - accuracy: 0.4515 - val_loss: 1.4818 - val_accuracy: 0.4935 - lr: 4.0000e-04\n",
      "Epoch 30/50\n",
      "51/51 [==============================] - 1s 25ms/step - loss: 1.5293 - accuracy: 0.4679 - val_loss: 1.4745 - val_accuracy: 0.4963 - lr: 4.0000e-04\n",
      "Epoch 31/50\n",
      "51/51 [==============================] - 1s 26ms/step - loss: 1.5261 - accuracy: 0.4722 - val_loss: 1.4510 - val_accuracy: 0.5093 - lr: 4.0000e-04\n",
      "Epoch 32/50\n",
      "51/51 [==============================] - 1s 25ms/step - loss: 1.5121 - accuracy: 0.4802 - val_loss: 1.4349 - val_accuracy: 0.5102 - lr: 4.0000e-04\n",
      "Epoch 33/50\n",
      "51/51 [==============================] - 1s 25ms/step - loss: 1.5134 - accuracy: 0.4735 - val_loss: 1.4517 - val_accuracy: 0.5083 - lr: 4.0000e-04\n",
      "Epoch 34/50\n",
      "51/51 [==============================] - 1s 24ms/step - loss: 1.4863 - accuracy: 0.4975 - val_loss: 1.4297 - val_accuracy: 0.5148 - lr: 4.0000e-04\n",
      "Epoch 35/50\n",
      "51/51 [==============================] - 1s 25ms/step - loss: 1.4858 - accuracy: 0.4759 - val_loss: 1.4202 - val_accuracy: 0.5176 - lr: 4.0000e-04\n",
      "Epoch 36/50\n",
      "51/51 [==============================] - 2s 31ms/step - loss: 1.4842 - accuracy: 0.4969 - val_loss: 1.4225 - val_accuracy: 0.5306 - lr: 4.0000e-04\n",
      "Epoch 37/50\n",
      "51/51 [==============================] - 1s 25ms/step - loss: 1.4770 - accuracy: 0.4889 - val_loss: 1.4157 - val_accuracy: 0.5157 - lr: 4.0000e-04\n",
      "Epoch 38/50\n",
      "51/51 [==============================] - 1s 25ms/step - loss: 1.4679 - accuracy: 0.4960 - val_loss: 1.4156 - val_accuracy: 0.5204 - lr: 4.0000e-04\n",
      "Epoch 39/50\n",
      "51/51 [==============================] - 1s 25ms/step - loss: 1.4720 - accuracy: 0.4938 - val_loss: 1.4337 - val_accuracy: 0.5037 - lr: 4.0000e-04\n",
      "Epoch 40/50\n",
      "51/51 [==============================] - ETA: 0s - loss: 1.4693 - accuracy: 0.4926\n",
      "Epoch 00040: ReduceLROnPlateau reducing learning rate to 0.00016000000759959222.\n",
      "51/51 [==============================] - 1s 25ms/step - loss: 1.4693 - accuracy: 0.4926 - val_loss: 1.3999 - val_accuracy: 0.5278 - lr: 4.0000e-04\n",
      "Epoch 41/50\n",
      "51/51 [==============================] - 1s 25ms/step - loss: 1.4417 - accuracy: 0.5090 - val_loss: 1.3935 - val_accuracy: 0.5287 - lr: 1.6000e-04\n",
      "Epoch 42/50\n",
      "51/51 [==============================] - 1s 26ms/step - loss: 1.4178 - accuracy: 0.5210 - val_loss: 1.3793 - val_accuracy: 0.5315 - lr: 1.6000e-04\n",
      "Epoch 43/50\n",
      "51/51 [==============================] - 1s 24ms/step - loss: 1.3996 - accuracy: 0.5241 - val_loss: 1.3685 - val_accuracy: 0.5370 - lr: 1.6000e-04\n",
      "Epoch 44/50\n",
      "51/51 [==============================] - 1s 25ms/step - loss: 1.3933 - accuracy: 0.5262 - val_loss: 1.3759 - val_accuracy: 0.5259 - lr: 1.6000e-04\n",
      "Epoch 45/50\n",
      "51/51 [==============================] - 1s 25ms/step - loss: 1.3999 - accuracy: 0.5222 - val_loss: 1.3737 - val_accuracy: 0.5398 - lr: 1.6000e-04\n",
      "Epoch 46/50\n",
      "50/51 [============================>.] - ETA: 0s - loss: 1.3949 - accuracy: 0.5228\n",
      "Epoch 00046: ReduceLROnPlateau reducing learning rate to 6.40000042039901e-05.\n",
      "51/51 [==============================] - 1s 25ms/step - loss: 1.3935 - accuracy: 0.5235 - val_loss: 1.3688 - val_accuracy: 0.5444 - lr: 1.6000e-04\n",
      "Epoch 47/50\n",
      "51/51 [==============================] - 1s 25ms/step - loss: 1.3843 - accuracy: 0.5250 - val_loss: 1.3642 - val_accuracy: 0.5333 - lr: 6.4000e-05\n",
      "Epoch 48/50\n",
      "51/51 [==============================] - 1s 24ms/step - loss: 1.3739 - accuracy: 0.5293 - val_loss: 1.3588 - val_accuracy: 0.5380 - lr: 6.4000e-05\n",
      "Epoch 49/50\n",
      "51/51 [==============================] - 1s 25ms/step - loss: 1.3726 - accuracy: 0.5327 - val_loss: 1.3603 - val_accuracy: 0.5352 - lr: 6.4000e-05\n",
      "Epoch 50/50\n"
     ]
    },
    {
     "name": "stdout",
     "output_type": "stream",
     "text": [
      "51/51 [==============================] - 1s 25ms/step - loss: 1.3754 - accuracy: 0.5444 - val_loss: 1.3567 - val_accuracy: 0.5444 - lr: 6.4000e-05\n"
=======
      "51/51 [==============================] - 2s 21ms/step - loss: 2.0548 - accuracy: 0.1426 - val_loss: 1.9856 - val_accuracy: 0.1991 - lr: 0.0010\n",
      "Epoch 2/50\n",
      "51/51 [==============================] - 1s 17ms/step - loss: 1.9718 - accuracy: 0.2015 - val_loss: 1.8812 - val_accuracy: 0.2778 - lr: 0.0010\n",
      "Epoch 3/50\n",
      "51/51 [==============================] - 1s 15ms/step - loss: 1.8808 - accuracy: 0.2534 - val_loss: 1.7816 - val_accuracy: 0.3009 - lr: 0.0010\n",
      "Epoch 4/50\n",
      "51/51 [==============================] - 1s 16ms/step - loss: 1.8080 - accuracy: 0.2843 - val_loss: 1.7401 - val_accuracy: 0.3287 - lr: 0.0010\n",
      "Epoch 5/50\n",
      "51/51 [==============================] - 1s 16ms/step - loss: 1.7404 - accuracy: 0.3213 - val_loss: 1.6546 - val_accuracy: 0.3426 - lr: 0.0010\n",
      "Epoch 6/50\n",
      "51/51 [==============================] - 1s 17ms/step - loss: 1.6849 - accuracy: 0.3491 - val_loss: 1.6016 - val_accuracy: 0.3852 - lr: 0.0010\n",
      "Epoch 7/50\n",
      "51/51 [==============================] - 1s 17ms/step - loss: 1.6224 - accuracy: 0.3750 - val_loss: 1.5257 - val_accuracy: 0.4231 - lr: 0.0010\n",
      "Epoch 8/50\n",
      "51/51 [==============================] - 1s 16ms/step - loss: 1.5619 - accuracy: 0.4136 - val_loss: 1.4890 - val_accuracy: 0.4556 - lr: 0.0010\n",
      "Epoch 9/50\n",
      "51/51 [==============================] - 1s 17ms/step - loss: 1.4812 - accuracy: 0.4364 - val_loss: 1.4667 - val_accuracy: 0.4407 - lr: 0.0010\n",
      "Epoch 10/50\n",
      "51/51 [==============================] - 1s 17ms/step - loss: 1.4642 - accuracy: 0.4423 - val_loss: 1.3857 - val_accuracy: 0.4852 - lr: 0.0010\n",
      "Epoch 11/50\n",
      "51/51 [==============================] - 1s 17ms/step - loss: 1.4079 - accuracy: 0.4673 - val_loss: 1.4025 - val_accuracy: 0.4806 - lr: 0.0010\n",
      "Epoch 12/50\n",
      "51/51 [==============================] - 1s 16ms/step - loss: 1.3616 - accuracy: 0.4910 - val_loss: 1.3361 - val_accuracy: 0.4963 - lr: 0.0010\n",
      "Epoch 13/50\n",
      "51/51 [==============================] - 1s 17ms/step - loss: 1.3272 - accuracy: 0.5037 - val_loss: 1.3351 - val_accuracy: 0.4991 - lr: 0.0010\n",
      "Epoch 14/50\n",
      "51/51 [==============================] - 1s 18ms/step - loss: 1.2694 - accuracy: 0.5333 - val_loss: 1.3019 - val_accuracy: 0.5046 - lr: 0.0010\n",
      "Epoch 15/50\n",
      "51/51 [==============================] - 1s 16ms/step - loss: 1.2332 - accuracy: 0.5367 - val_loss: 1.2648 - val_accuracy: 0.5398 - lr: 0.0010\n",
      "Epoch 16/50\n",
      "51/51 [==============================] - 1s 16ms/step - loss: 1.1723 - accuracy: 0.5651 - val_loss: 1.3336 - val_accuracy: 0.5370 - lr: 0.0010\n",
      "Epoch 17/50\n",
      "51/51 [==============================] - 1s 16ms/step - loss: 1.0999 - accuracy: 0.5864 - val_loss: 1.3048 - val_accuracy: 0.5611 - lr: 0.0010\n",
      "Epoch 18/50\n",
      "51/51 [==============================] - 1s 16ms/step - loss: 1.0877 - accuracy: 0.6043 - val_loss: 1.2798 - val_accuracy: 0.5491 - lr: 0.0010\n",
      "Epoch 19/50\n",
      "51/51 [==============================] - 1s 16ms/step - loss: 1.0393 - accuracy: 0.6309 - val_loss: 1.2547 - val_accuracy: 0.5574 - lr: 0.0010\n",
      "Epoch 20/50\n",
      "51/51 [==============================] - 1s 16ms/step - loss: 1.0025 - accuracy: 0.6312 - val_loss: 1.3144 - val_accuracy: 0.5231 - lr: 0.0010\n",
      "Epoch 21/50\n",
      "51/51 [==============================] - 1s 16ms/step - loss: 0.9368 - accuracy: 0.6648 - val_loss: 1.3318 - val_accuracy: 0.5296 - lr: 0.0010\n",
      "Epoch 22/50\n",
      "51/51 [==============================] - 1s 16ms/step - loss: 0.9309 - accuracy: 0.6676 - val_loss: 1.3262 - val_accuracy: 0.5444 - lr: 0.0010\n",
      "Epoch 23/50\n",
      "51/51 [==============================] - 1s 16ms/step - loss: 0.8937 - accuracy: 0.6818 - val_loss: 1.2391 - val_accuracy: 0.5667 - lr: 0.0010\n",
      "Epoch 24/50\n",
      "51/51 [==============================] - 1s 16ms/step - loss: 0.8765 - accuracy: 0.6870 - val_loss: 1.1940 - val_accuracy: 0.5907 - lr: 0.0010\n",
      "Epoch 25/50\n",
      "51/51 [==============================] - 1s 16ms/step - loss: 0.8134 - accuracy: 0.7108 - val_loss: 1.2002 - val_accuracy: 0.5806 - lr: 0.0010\n",
      "Epoch 26/50\n",
      "51/51 [==============================] - 1s 16ms/step - loss: 0.7823 - accuracy: 0.7228 - val_loss: 1.2062 - val_accuracy: 0.5944 - lr: 0.0010\n",
      "Epoch 27/50\n",
      "51/51 [==============================] - 1s 16ms/step - loss: 0.7254 - accuracy: 0.7435 - val_loss: 1.2632 - val_accuracy: 0.5833 - lr: 0.0010\n",
      "Epoch 28/50\n",
      "51/51 [==============================] - 1s 17ms/step - loss: 0.7023 - accuracy: 0.7543 - val_loss: 1.2557 - val_accuracy: 0.6019 - lr: 0.0010\n",
      "Epoch 29/50\n",
      "51/51 [==============================] - 1s 19ms/step - loss: 0.6451 - accuracy: 0.7747 - val_loss: 1.2150 - val_accuracy: 0.6056 - lr: 0.0010\n",
      "Epoch 30/50\n",
      "51/51 [==============================] - 1s 19ms/step - loss: 0.5825 - accuracy: 0.8025 - val_loss: 1.2687 - val_accuracy: 0.5880 - lr: 0.0010\n",
      "Epoch 31/50\n",
      "51/51 [==============================] - 1s 19ms/step - loss: 0.6141 - accuracy: 0.7870 - val_loss: 1.2260 - val_accuracy: 0.6148 - lr: 0.0010\n",
      "Epoch 32/50\n",
      "51/51 [==============================] - 1s 18ms/step - loss: 0.5369 - accuracy: 0.8167 - val_loss: 1.2609 - val_accuracy: 0.6185 - lr: 0.0010\n",
      "Epoch 33/50\n",
      "51/51 [==============================] - 1s 19ms/step - loss: 0.5225 - accuracy: 0.8247 - val_loss: 1.3600 - val_accuracy: 0.5833 - lr: 0.0010\n",
      "Epoch 34/50\n",
      "51/51 [==============================] - 1s 19ms/step - loss: 0.5224 - accuracy: 0.8287 - val_loss: 1.3118 - val_accuracy: 0.6120 - lr: 0.0010\n",
      "Epoch 35/50\n",
      "51/51 [==============================] - 1s 18ms/step - loss: 0.4779 - accuracy: 0.8373 - val_loss: 1.3451 - val_accuracy: 0.6213 - lr: 0.0010\n",
      "Epoch 36/50\n",
      "51/51 [==============================] - 1s 19ms/step - loss: 0.4737 - accuracy: 0.8389 - val_loss: 1.3965 - val_accuracy: 0.6213 - lr: 0.0010\n",
      "Epoch 37/50\n",
      "51/51 [==============================] - 1s 18ms/step - loss: 0.4894 - accuracy: 0.8333 - val_loss: 1.2742 - val_accuracy: 0.6185 - lr: 0.0010\n",
      "Epoch 38/50\n",
      "51/51 [==============================] - 1s 19ms/step - loss: 0.4021 - accuracy: 0.8670 - val_loss: 1.3571 - val_accuracy: 0.6148 - lr: 0.0010\n",
      "Epoch 39/50\n",
      "51/51 [==============================] - 1s 19ms/step - loss: 0.3697 - accuracy: 0.8719 - val_loss: 1.2724 - val_accuracy: 0.6472 - lr: 0.0010\n",
      "Epoch 40/50\n",
      "51/51 [==============================] - 1s 19ms/step - loss: 0.3822 - accuracy: 0.8685 - val_loss: 1.3890 - val_accuracy: 0.6241 - lr: 0.0010\n",
      "Epoch 41/50\n",
      "48/51 [===========================>..] - ETA: 0s - loss: 0.4031 - accuracy: 0.8656\n",
      "Epoch 00041: ReduceLROnPlateau reducing learning rate to 0.0004000000189989805.\n",
      "51/51 [==============================] - 1s 18ms/step - loss: 0.4006 - accuracy: 0.8657 - val_loss: 1.3813 - val_accuracy: 0.6250 - lr: 0.0010\n",
      "Epoch 42/50\n",
      "51/51 [==============================] - 1s 20ms/step - loss: 0.2713 - accuracy: 0.9145 - val_loss: 1.2826 - val_accuracy: 0.6685 - lr: 4.0000e-04\n",
      "Epoch 43/50\n",
      "51/51 [==============================] - 1s 20ms/step - loss: 0.2166 - accuracy: 0.9278 - val_loss: 1.3639 - val_accuracy: 0.6481 - lr: 4.0000e-04\n",
      "Epoch 44/50\n",
      "51/51 [==============================] - 1s 21ms/step - loss: 0.1996 - accuracy: 0.9383 - val_loss: 1.3734 - val_accuracy: 0.6648 - lr: 4.0000e-04\n",
      "Epoch 45/50\n",
      "51/51 [==============================] - 1s 20ms/step - loss: 0.1938 - accuracy: 0.9395 - val_loss: 1.4099 - val_accuracy: 0.6694 - lr: 4.0000e-04\n",
      "Epoch 46/50\n",
      "51/51 [==============================] - 1s 19ms/step - loss: 0.1787 - accuracy: 0.9460 - val_loss: 1.4077 - val_accuracy: 0.6806 - lr: 4.0000e-04\n",
      "Epoch 47/50\n",
      "51/51 [==============================] - 1s 19ms/step - loss: 0.1747 - accuracy: 0.9454 - val_loss: 1.4804 - val_accuracy: 0.6583 - lr: 4.0000e-04\n",
      "Epoch 48/50\n",
      "51/51 [==============================] - 1s 20ms/step - loss: 0.1648 - accuracy: 0.9481 - val_loss: 1.4889 - val_accuracy: 0.6537 - lr: 4.0000e-04\n",
      "Epoch 49/50\n",
      "51/51 [==============================] - 1s 19ms/step - loss: 0.1573 - accuracy: 0.9497 - val_loss: 1.4946 - val_accuracy: 0.6648 - lr: 4.0000e-04\n",
      "Epoch 50/50\n",
      "51/51 [==============================] - 1s 19ms/step - loss: 0.1475 - accuracy: 0.9528 - val_loss: 1.5645 - val_accuracy: 0.6583 - lr: 4.0000e-04\n"
>>>>>>> c93e33cbb471499ad1223f64d1c70c0f1960d065
     ]
    }
   ],
   "source": [
    "rlrp = ReduceLROnPlateau(monitor='loss', factor=0.4, verbose=1, patience=2, min_lr=0.0000001)\n",
    "history=model.fit(X_train, y_train, batch_size=64, epochs=50, validation_data=(X_test, y_test), callbacks=[rlrp])"
   ]
  },
  {
   "cell_type": "code",
   "execution_count": 14,
   "id": "d7bc3716",
   "metadata": {},
   "outputs": [
    {
     "data": {
      "text/plain": [
<<<<<<< HEAD
       "[<matplotlib.lines.Line2D at 0x28df81ca8b0>]"
=======
       "[<matplotlib.lines.Line2D at 0x1bfe29b15b0>]"
>>>>>>> c93e33cbb471499ad1223f64d1c70c0f1960d065
      ]
     },
     "execution_count": 14,
     "metadata": {},
     "output_type": "execute_result"
    },
    {
     "data": {
<<<<<<< HEAD
      "image/png": "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\n",
=======
      "image/png": "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\n",
>>>>>>> c93e33cbb471499ad1223f64d1c70c0f1960d065
      "text/plain": [
       "<Figure size 432x288 with 1 Axes>"
      ]
     },
     "metadata": {
      "needs_background": "light"
     },
     "output_type": "display_data"
    }
   ],
   "source": [
    "plt.plot(history.history['loss'])\n",
    "plt.plot(history.history['val_loss'])"
   ]
  },
  {
   "cell_type": "code",
   "execution_count": 15,
   "id": "58371646",
   "metadata": {},
   "outputs": [
    {
     "data": {
      "text/plain": [
<<<<<<< HEAD
       "[<matplotlib.lines.Line2D at 0x28df9485280>]"
=======
       "[<matplotlib.lines.Line2D at 0x1bfe52ae040>]"
>>>>>>> c93e33cbb471499ad1223f64d1c70c0f1960d065
      ]
     },
     "execution_count": 15,
     "metadata": {},
     "output_type": "execute_result"
    },
    {
     "data": {
<<<<<<< HEAD
      "image/png": "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\n",
=======
      "image/png": "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\n",
>>>>>>> c93e33cbb471499ad1223f64d1c70c0f1960d065
      "text/plain": [
       "<Figure size 432x288 with 1 Axes>"
      ]
     },
     "metadata": {
      "needs_background": "light"
     },
     "output_type": "display_data"
    }
   ],
   "source": [
    "plt.plot(history.history['accuracy'])\n",
    "plt.plot(history.history['val_accuracy'])"
   ]
  },
  {
   "cell_type": "code",
<<<<<<< HEAD
   "execution_count": 17,
=======
   "execution_count": 16,
>>>>>>> c93e33cbb471499ad1223f64d1c70c0f1960d065
   "id": "2c726380",
   "metadata": {},
   "outputs": [],
   "source": [
    "# predicting on test data.\n",
    "pred_test = model.predict(X_test)\n",
    "y_pred = encoder.inverse_transform(pred_test)\n",
    "y_test = encoder.inverse_transform(y_test)"
   ]
  },
  {
   "cell_type": "code",
<<<<<<< HEAD
   "execution_count": 18,
   "id": "e38f5c72",
   "metadata": {},
   "outputs": [
    {
     "data": {
      "text/plain": [
       "((1080, 1), (1080, 1))"
      ]
     },
     "execution_count": 18,
     "metadata": {},
     "output_type": "execute_result"
    }
   ],
   "source": [
    "y_pred.shape, y_test.shape"
   ]
  },
  {
   "cell_type": "code",
   "execution_count": 19,
=======
   "execution_count": 17,
>>>>>>> c93e33cbb471499ad1223f64d1c70c0f1960d065
   "id": "89ba7ebd",
   "metadata": {},
   "outputs": [
    {
     "data": {
      "text/html": [
       "<div>\n",
       "<style scoped>\n",
       "    .dataframe tbody tr th:only-of-type {\n",
       "        vertical-align: middle;\n",
       "    }\n",
       "\n",
       "    .dataframe tbody tr th {\n",
       "        vertical-align: top;\n",
       "    }\n",
       "\n",
       "    .dataframe thead th {\n",
       "        text-align: right;\n",
       "    }\n",
       "</style>\n",
       "<table border=\"1\" class=\"dataframe\">\n",
       "  <thead>\n",
       "    <tr style=\"text-align: right;\">\n",
       "      <th></th>\n",
       "      <th>Predicted Labels</th>\n",
       "      <th>Actual Labels</th>\n",
       "    </tr>\n",
       "  </thead>\n",
       "  <tbody>\n",
       "    <tr>\n",
       "      <th>0</th>\n",
       "      <td>fearful</td>\n",
       "      <td>fearful</td>\n",
       "    </tr>\n",
       "    <tr>\n",
       "      <th>1</th>\n",
       "      <td>happy</td>\n",
       "      <td>angry</td>\n",
       "    </tr>\n",
       "    <tr>\n",
       "      <th>2</th>\n",
       "      <td>fearful</td>\n",
       "      <td>fearful</td>\n",
       "    </tr>\n",
       "    <tr>\n",
       "      <th>3</th>\n",
       "      <td>calm</td>\n",
       "      <td>calm</td>\n",
       "    </tr>\n",
       "    <tr>\n",
       "      <th>4</th>\n",
<<<<<<< HEAD
       "      <td>angry</td>\n",
=======
       "      <td>fearful</td>\n",
>>>>>>> c93e33cbb471499ad1223f64d1c70c0f1960d065
       "      <td>angry</td>\n",
       "    </tr>\n",
       "    <tr>\n",
       "      <th>5</th>\n",
       "      <td>surprised</td>\n",
       "      <td>surprised</td>\n",
       "    </tr>\n",
       "    <tr>\n",
       "      <th>6</th>\n",
       "      <td>sad</td>\n",
       "      <td>fearful</td>\n",
       "    </tr>\n",
       "    <tr>\n",
       "      <th>7</th>\n",
<<<<<<< HEAD
       "      <td>fearful</td>\n",
=======
       "      <td>happy</td>\n",
>>>>>>> c93e33cbb471499ad1223f64d1c70c0f1960d065
       "      <td>happy</td>\n",
       "    </tr>\n",
       "    <tr>\n",
       "      <th>8</th>\n",
       "      <td>fearful</td>\n",
       "      <td>fearful</td>\n",
       "    </tr>\n",
       "    <tr>\n",
       "      <th>9</th>\n",
       "      <td>sad</td>\n",
       "      <td>sad</td>\n",
       "    </tr>\n",
       "  </tbody>\n",
       "</table>\n",
       "</div>"
      ],
      "text/plain": [
       "  Predicted Labels Actual Labels\n",
       "0          fearful       fearful\n",
<<<<<<< HEAD
       "1            happy         angry\n",
       "2          fearful       fearful\n",
       "3             calm          calm\n",
       "4            angry         angry\n",
       "5        surprised     surprised\n",
       "6          fearful       fearful\n",
       "7          fearful         happy\n",
=======
       "1            angry         angry\n",
       "2          fearful       fearful\n",
       "3          neutral          calm\n",
       "4          fearful         angry\n",
       "5        surprised     surprised\n",
       "6              sad       fearful\n",
       "7            happy         happy\n",
>>>>>>> c93e33cbb471499ad1223f64d1c70c0f1960d065
       "8          fearful       fearful\n",
       "9              sad           sad"
      ]
     },
     "execution_count": 17,
     "metadata": {},
     "output_type": "execute_result"
    }
   ],
   "source": [
    "df = pd.DataFrame(columns=['Predicted Labels', 'Actual Labels'])\n",
    "df['Predicted Labels'] = y_pred.flatten()\n",
    "df['Actual Labels'] = y_test\n",
    "\n",
    "df.head(10)"
   ]
  },
  {
   "cell_type": "code",
<<<<<<< HEAD
   "execution_count": 20,
=======
   "execution_count": 18,
>>>>>>> c93e33cbb471499ad1223f64d1c70c0f1960d065
   "id": "3ca049d3",
   "metadata": {},
   "outputs": [
    {
     "data": {
<<<<<<< HEAD
      "image/png": "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\n",
=======
      "image/png": "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\n",
>>>>>>> c93e33cbb471499ad1223f64d1c70c0f1960d065
      "text/plain": [
       "<Figure size 864x720 with 2 Axes>"
      ]
     },
     "metadata": {
      "needs_background": "light"
     },
     "output_type": "display_data"
    }
   ],
   "source": [
    "cm = confusion_matrix(y_test, y_pred)\n",
    "plt.figure(figsize = (12, 10))\n",
    "cm = pd.DataFrame(cm , index = [i for i in encoder.categories_] , columns = [i for i in encoder.categories_])\n",
    "sns.heatmap(cm, linecolor='white', cmap='Blues', linewidth=1, annot=True, fmt='')\n",
    "plt.title('Confusion Matrix', size=20)\n",
    "plt.xlabel('Predicted Labels', size=14)\n",
    "plt.ylabel('Actual Labels', size=14)\n",
    "plt.show()\n"
   ]
  },
  {
   "cell_type": "code",
<<<<<<< HEAD
   "execution_count": 21,
=======
   "execution_count": 19,
>>>>>>> c93e33cbb471499ad1223f64d1c70c0f1960d065
   "id": "2e4ea467",
   "metadata": {},
   "outputs": [
    {
     "name": "stdout",
     "output_type": "stream",
     "text": [
      "              precision    recall  f1-score   support\n",
      "\n",
<<<<<<< HEAD
      "       angry       0.63      0.76      0.69       132\n",
      "        calm       0.58      0.84      0.69       159\n",
      "     disgust       0.42      0.45      0.44       135\n",
      "     fearful       0.58      0.48      0.52       151\n",
      "       happy       0.43      0.38      0.40       141\n",
      "     neutral       1.00      0.01      0.03        72\n",
      "         sad       0.51      0.50      0.50       151\n",
      "   surprised       0.60      0.67      0.63       139\n",
      "\n",
      "    accuracy                           0.54      1080\n",
      "   macro avg       0.60      0.51      0.49      1080\n",
      "weighted avg       0.57      0.54      0.52      1080\n",
=======
      "       angry       0.81      0.73      0.77       132\n",
      "        calm       0.80      0.74      0.77       159\n",
      "     disgust       0.65      0.55      0.60       135\n",
      "     fearful       0.62      0.63      0.62       151\n",
      "       happy       0.58      0.60      0.59       141\n",
      "     neutral       0.51      0.65      0.57        72\n",
      "         sad       0.57      0.70      0.62       151\n",
      "   surprised       0.73      0.65      0.69       139\n",
      "\n",
      "    accuracy                           0.66      1080\n",
      "   macro avg       0.66      0.66      0.65      1080\n",
      "weighted avg       0.67      0.66      0.66      1080\n",
>>>>>>> c93e33cbb471499ad1223f64d1c70c0f1960d065
      "\n"
     ]
    }
   ],
   "source": [
    "print(classification_report(y_test, y_pred))"
   ]
  },
  {
   "cell_type": "code",
   "execution_count": 22,
   "id": "23ee9fd3",
   "metadata": {},
   "outputs": [],
   "source": [
    "test = pd.read_csv(\"test.csv\")\n",
    "data = test.iloc[: ,:-1].values\n",
    "labels = test['labels'].values"
   ]
  },
  {
   "cell_type": "code",
   "execution_count": 23,
   "id": "44fac66c",
   "metadata": {},
   "outputs": [
    {
     "data": {
      "text/plain": [
       "(39, 21)"
      ]
     },
     "execution_count": 23,
     "metadata": {},
     "output_type": "execute_result"
    }
   ],
   "source": [
    "test.shape"
   ]
  },
  {
   "cell_type": "code",
   "execution_count": 24,
   "id": "e335a0ef",
   "metadata": {},
   "outputs": [
    {
     "data": {
      "text/plain": [
       "(39, 20)"
      ]
     },
     "execution_count": 24,
     "metadata": {},
     "output_type": "execute_result"
    }
   ],
   "source": [
    "data.shape"
   ]
  },
  {
   "cell_type": "code",
   "execution_count": 25,
   "id": "32ece0d1",
   "metadata": {},
   "outputs": [],
   "source": [
    "test = scaler.transform(data)"
   ]
  },
  {
   "cell_type": "code",
   "execution_count": 26,
   "id": "19f2e066",
   "metadata": {},
   "outputs": [],
   "source": [
    "test = np.expand_dims(test, axis=2)"
   ]
  },
  {
   "cell_type": "code",
   "execution_count": 27,
   "id": "0a793731",
   "metadata": {},
   "outputs": [],
   "source": [
    "prediction = model.predict(test)\n",
    "result = encoder.inverse_transform(prediction)"
   ]
  },
  {
   "cell_type": "code",
   "execution_count": 28,
   "id": "50a330e9",
   "metadata": {},
   "outputs": [
    {
     "data": {
      "text/html": [
       "<div>\n",
       "<style scoped>\n",
       "    .dataframe tbody tr th:only-of-type {\n",
       "        vertical-align: middle;\n",
       "    }\n",
       "\n",
       "    .dataframe tbody tr th {\n",
       "        vertical-align: top;\n",
       "    }\n",
       "\n",
       "    .dataframe thead th {\n",
       "        text-align: right;\n",
       "    }\n",
       "</style>\n",
       "<table border=\"1\" class=\"dataframe\">\n",
       "  <thead>\n",
       "    <tr style=\"text-align: right;\">\n",
       "      <th></th>\n",
       "      <th>Predicted Labels</th>\n",
       "      <th>Actual Labels</th>\n",
       "    </tr>\n",
       "  </thead>\n",
       "  <tbody>\n",
       "    <tr>\n",
       "      <th>0</th>\n",
       "      <td>calm</td>\n",
       "      <td>sad</td>\n",
       "    </tr>\n",
       "    <tr>\n",
       "      <th>1</th>\n",
       "      <td>disgust</td>\n",
       "      <td>sad</td>\n",
       "    </tr>\n",
       "    <tr>\n",
       "      <th>2</th>\n",
       "      <td>calm</td>\n",
       "      <td>sad</td>\n",
       "    </tr>\n",
       "    <tr>\n",
       "      <th>3</th>\n",
       "      <td>angry</td>\n",
       "      <td>angry</td>\n",
       "    </tr>\n",
       "    <tr>\n",
       "      <th>4</th>\n",
       "      <td>disgust</td>\n",
       "      <td>angry</td>\n",
       "    </tr>\n",
       "    <tr>\n",
       "      <th>5</th>\n",
       "      <td>angry</td>\n",
       "      <td>angry</td>\n",
       "    </tr>\n",
       "    <tr>\n",
       "      <th>6</th>\n",
       "      <td>surprised</td>\n",
       "      <td>surprised</td>\n",
       "    </tr>\n",
       "    <tr>\n",
       "      <th>7</th>\n",
       "      <td>surprised</td>\n",
       "      <td>surprised</td>\n",
       "    </tr>\n",
       "    <tr>\n",
       "      <th>8</th>\n",
       "      <td>sad</td>\n",
       "      <td>surprised</td>\n",
       "    </tr>\n",
       "    <tr>\n",
       "      <th>9</th>\n",
       "      <td>disgust</td>\n",
       "      <td>happy</td>\n",
       "    </tr>\n",
       "  </tbody>\n",
       "</table>\n",
       "</div>"
      ],
      "text/plain": [
       "  Predicted Labels Actual Labels\n",
       "0             calm           sad\n",
       "1          disgust           sad\n",
       "2             calm           sad\n",
       "3            angry         angry\n",
       "4          disgust         angry\n",
       "5            angry         angry\n",
       "6        surprised     surprised\n",
       "7        surprised     surprised\n",
       "8              sad     surprised\n",
       "9          disgust         happy"
      ]
     },
     "execution_count": 28,
     "metadata": {},
     "output_type": "execute_result"
    }
   ],
   "source": [
    "df = pd.DataFrame(columns=['Predicted Labels', 'Actual Labels'])\n",
    "df['Predicted Labels'] = result.flatten()\n",
    "df['Actual Labels'] = labels.flatten()\n",
    "\n",
    "df.head(10)"
   ]
  },
  {
   "cell_type": "code",
   "execution_count": 29,
   "id": "77bb5b7a",
   "metadata": {},
   "outputs": [
    {
     "data": {
      "text/html": [
       "<div>\n",
       "<style scoped>\n",
       "    .dataframe tbody tr th:only-of-type {\n",
       "        vertical-align: middle;\n",
       "    }\n",
       "\n",
       "    .dataframe tbody tr th {\n",
       "        vertical-align: top;\n",
       "    }\n",
       "\n",
       "    .dataframe thead th {\n",
       "        text-align: right;\n",
       "    }\n",
       "</style>\n",
       "<table border=\"1\" class=\"dataframe\">\n",
       "  <thead>\n",
       "    <tr style=\"text-align: right;\">\n",
       "      <th></th>\n",
       "      <th>Predicted Labels</th>\n",
       "      <th>Actual Labels</th>\n",
       "    </tr>\n",
       "  </thead>\n",
       "  <tbody>\n",
       "    <tr>\n",
       "      <th>0</th>\n",
       "      <td>calm</td>\n",
       "      <td>sad</td>\n",
       "    </tr>\n",
       "    <tr>\n",
       "      <th>1</th>\n",
       "      <td>disgust</td>\n",
       "      <td>sad</td>\n",
       "    </tr>\n",
       "    <tr>\n",
       "      <th>2</th>\n",
       "      <td>calm</td>\n",
       "      <td>sad</td>\n",
       "    </tr>\n",
       "    <tr>\n",
       "      <th>3</th>\n",
       "      <td>angry</td>\n",
       "      <td>angry</td>\n",
       "    </tr>\n",
       "    <tr>\n",
       "      <th>4</th>\n",
       "      <td>disgust</td>\n",
       "      <td>angry</td>\n",
       "    </tr>\n",
       "    <tr>\n",
       "      <th>5</th>\n",
       "      <td>angry</td>\n",
       "      <td>angry</td>\n",
       "    </tr>\n",
       "    <tr>\n",
       "      <th>6</th>\n",
       "      <td>surprised</td>\n",
       "      <td>surprised</td>\n",
       "    </tr>\n",
       "    <tr>\n",
       "      <th>7</th>\n",
       "      <td>surprised</td>\n",
       "      <td>surprised</td>\n",
       "    </tr>\n",
       "    <tr>\n",
       "      <th>8</th>\n",
       "      <td>sad</td>\n",
       "      <td>surprised</td>\n",
       "    </tr>\n",
       "    <tr>\n",
       "      <th>9</th>\n",
       "      <td>disgust</td>\n",
       "      <td>happy</td>\n",
       "    </tr>\n",
       "    <tr>\n",
       "      <th>10</th>\n",
       "      <td>disgust</td>\n",
       "      <td>happy</td>\n",
       "    </tr>\n",
       "    <tr>\n",
       "      <th>11</th>\n",
       "      <td>disgust</td>\n",
       "      <td>happy</td>\n",
       "    </tr>\n",
       "    <tr>\n",
       "      <th>12</th>\n",
       "      <td>angry</td>\n",
       "      <td>fearful</td>\n",
       "    </tr>\n",
       "    <tr>\n",
       "      <th>13</th>\n",
       "      <td>disgust</td>\n",
       "      <td>fearful</td>\n",
       "    </tr>\n",
       "    <tr>\n",
       "      <th>14</th>\n",
       "      <td>disgust</td>\n",
       "      <td>fearful</td>\n",
       "    </tr>\n",
       "    <tr>\n",
       "      <th>15</th>\n",
       "      <td>disgust</td>\n",
       "      <td>sad</td>\n",
       "    </tr>\n",
       "    <tr>\n",
       "      <th>16</th>\n",
       "      <td>disgust</td>\n",
       "      <td>sad</td>\n",
       "    </tr>\n",
       "    <tr>\n",
       "      <th>17</th>\n",
       "      <td>disgust</td>\n",
       "      <td>sad</td>\n",
       "    </tr>\n",
       "    <tr>\n",
       "      <th>18</th>\n",
       "      <td>disgust</td>\n",
       "      <td>angry</td>\n",
       "    </tr>\n",
       "    <tr>\n",
       "      <th>19</th>\n",
       "      <td>angry</td>\n",
       "      <td>angry</td>\n",
       "    </tr>\n",
       "    <tr>\n",
       "      <th>20</th>\n",
       "      <td>disgust</td>\n",
       "      <td>angry</td>\n",
       "    </tr>\n",
       "    <tr>\n",
       "      <th>21</th>\n",
       "      <td>disgust</td>\n",
       "      <td>surprised</td>\n",
       "    </tr>\n",
       "    <tr>\n",
       "      <th>22</th>\n",
       "      <td>surprised</td>\n",
       "      <td>surprised</td>\n",
       "    </tr>\n",
       "    <tr>\n",
       "      <th>23</th>\n",
       "      <td>disgust</td>\n",
       "      <td>surprised</td>\n",
       "    </tr>\n",
       "    <tr>\n",
       "      <th>24</th>\n",
       "      <td>disgust</td>\n",
       "      <td>happy</td>\n",
       "    </tr>\n",
       "    <tr>\n",
       "      <th>25</th>\n",
       "      <td>disgust</td>\n",
       "      <td>happy</td>\n",
       "    </tr>\n",
       "    <tr>\n",
       "      <th>26</th>\n",
       "      <td>disgust</td>\n",
       "      <td>happy</td>\n",
       "    </tr>\n",
       "    <tr>\n",
       "      <th>27</th>\n",
       "      <td>disgust</td>\n",
       "      <td>fearful</td>\n",
       "    </tr>\n",
       "    <tr>\n",
       "      <th>28</th>\n",
       "      <td>disgust</td>\n",
       "      <td>fearful</td>\n",
       "    </tr>\n",
       "    <tr>\n",
       "      <th>29</th>\n",
       "      <td>happy</td>\n",
       "      <td>fearful</td>\n",
       "    </tr>\n",
       "    <tr>\n",
       "      <th>30</th>\n",
       "      <td>disgust</td>\n",
       "      <td>neutral</td>\n",
       "    </tr>\n",
       "    <tr>\n",
       "      <th>31</th>\n",
       "      <td>disgust</td>\n",
       "      <td>neutral</td>\n",
       "    </tr>\n",
       "    <tr>\n",
       "      <th>32</th>\n",
       "      <td>disgust</td>\n",
       "      <td>neutral</td>\n",
       "    </tr>\n",
       "    <tr>\n",
       "      <th>33</th>\n",
       "      <td>disgust</td>\n",
       "      <td>calm</td>\n",
       "    </tr>\n",
       "    <tr>\n",
       "      <th>34</th>\n",
       "      <td>disgust</td>\n",
       "      <td>calm</td>\n",
       "    </tr>\n",
       "    <tr>\n",
       "      <th>35</th>\n",
       "      <td>disgust</td>\n",
       "      <td>calm</td>\n",
       "    </tr>\n",
       "    <tr>\n",
       "      <th>36</th>\n",
       "      <td>disgust</td>\n",
       "      <td>disgust</td>\n",
       "    </tr>\n",
       "    <tr>\n",
       "      <th>37</th>\n",
       "      <td>disgust</td>\n",
       "      <td>disgust</td>\n",
       "    </tr>\n",
       "    <tr>\n",
       "      <th>38</th>\n",
       "      <td>disgust</td>\n",
       "      <td>disgust</td>\n",
       "    </tr>\n",
       "  </tbody>\n",
       "</table>\n",
       "</div>"
      ],
      "text/plain": [
       "   Predicted Labels Actual Labels\n",
       "0              calm           sad\n",
       "1           disgust           sad\n",
       "2              calm           sad\n",
       "3             angry         angry\n",
       "4           disgust         angry\n",
       "5             angry         angry\n",
       "6         surprised     surprised\n",
       "7         surprised     surprised\n",
       "8               sad     surprised\n",
       "9           disgust         happy\n",
       "10          disgust         happy\n",
       "11          disgust         happy\n",
       "12            angry       fearful\n",
       "13          disgust       fearful\n",
       "14          disgust       fearful\n",
       "15          disgust           sad\n",
       "16          disgust           sad\n",
       "17          disgust           sad\n",
       "18          disgust         angry\n",
       "19            angry         angry\n",
       "20          disgust         angry\n",
       "21          disgust     surprised\n",
       "22        surprised     surprised\n",
       "23          disgust     surprised\n",
       "24          disgust         happy\n",
       "25          disgust         happy\n",
       "26          disgust         happy\n",
       "27          disgust       fearful\n",
       "28          disgust       fearful\n",
       "29            happy       fearful\n",
       "30          disgust       neutral\n",
       "31          disgust       neutral\n",
       "32          disgust       neutral\n",
       "33          disgust          calm\n",
       "34          disgust          calm\n",
       "35          disgust          calm\n",
       "36          disgust       disgust\n",
       "37          disgust       disgust\n",
       "38          disgust       disgust"
      ]
     },
     "execution_count": 29,
     "metadata": {},
     "output_type": "execute_result"
    }
   ],
   "source": [
    "df"
   ]
  }
 ],
 "metadata": {
  "kernelspec": {
   "display_name": "Python 3 (ipykernel)",
   "language": "python",
   "name": "python3"
  },
  "language_info": {
   "codemirror_mode": {
    "name": "ipython",
    "version": 3
   },
   "file_extension": ".py",
   "mimetype": "text/x-python",
   "name": "python",
   "nbconvert_exporter": "python",
   "pygments_lexer": "ipython3",
   "version": "3.9.7"
  }
 },
 "nbformat": 4,
 "nbformat_minor": 5
}
