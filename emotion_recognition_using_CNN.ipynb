{
 "cells": [
  {
   "cell_type": "markdown",
   "id": "6bb02412",
   "metadata": {},
   "source": [
    "# Emotion Recognition using CNN"
   ]
  },
  {
   "cell_type": "markdown",
   "id": "6f31d869",
   "metadata": {},
   "source": [
    "Importing libraries"
   ]
  },
  {
   "cell_type": "code",
   "execution_count": 1,
   "id": "31a57580",
   "metadata": {},
   "outputs": [
    {
     "name": "stdout",
     "output_type": "stream",
     "text": [
      "Requirement already satisfied: tensorflow in c:\\users\\hp\\anaconda3\\lib\\site-packages (2.7.0)\n",
      "Requirement already satisfied: google-pasta>=0.1.1 in c:\\users\\hp\\anaconda3\\lib\\site-packages (from tensorflow) (0.2.0)\n",
      "Requirement already satisfied: tensorflow-io-gcs-filesystem>=0.21.0 in c:\\users\\hp\\anaconda3\\lib\\site-packages (from tensorflow) (0.22.0)\n",
      "Requirement already satisfied: six>=1.12.0 in c:\\users\\hp\\anaconda3\\lib\\site-packages (from tensorflow) (1.15.0)\n",
      "Requirement already satisfied: absl-py>=0.4.0 in c:\\users\\hp\\anaconda3\\lib\\site-packages (from tensorflow) (1.0.0)\n",
      "Requirement already satisfied: libclang>=9.0.1 in c:\\users\\hp\\anaconda3\\lib\\site-packages (from tensorflow) (12.0.0)\n",
      "Requirement already satisfied: tensorflow-estimator<2.8,~=2.7.0rc0 in c:\\users\\hp\\anaconda3\\lib\\site-packages (from tensorflow) (2.7.0)\n",
      "Requirement already satisfied: opt-einsum>=2.3.2 in c:\\users\\hp\\anaconda3\\lib\\site-packages (from tensorflow) (3.3.0)\n",
      "Requirement already satisfied: flatbuffers<3.0,>=1.12 in c:\\users\\hp\\anaconda3\\lib\\site-packages (from tensorflow) (2.0)\n",
      "Requirement already satisfied: typing-extensions>=3.6.6 in c:\\users\\hp\\anaconda3\\lib\\site-packages (from tensorflow) (3.7.4.3)\n",
      "Requirement already satisfied: astunparse>=1.6.0 in c:\\users\\hp\\anaconda3\\lib\\site-packages (from tensorflow) (1.6.3)\n",
      "Requirement already satisfied: tensorboard~=2.6 in c:\\users\\hp\\anaconda3\\lib\\site-packages (from tensorflow) (2.7.0)\n",
      "Requirement already satisfied: grpcio<2.0,>=1.24.3 in c:\\users\\hp\\anaconda3\\lib\\site-packages (from tensorflow) (1.41.1)\n",
      "Requirement already satisfied: keras<2.8,>=2.7.0rc0 in c:\\users\\hp\\anaconda3\\lib\\site-packages (from tensorflow) (2.7.0)\n",
      "Requirement already satisfied: wheel<1.0,>=0.32.0 in c:\\users\\hp\\anaconda3\\lib\\site-packages (from tensorflow) (0.36.2)\n",
      "Requirement already satisfied: wrapt>=1.11.0 in c:\\users\\hp\\anaconda3\\lib\\site-packages (from tensorflow) (1.12.1)\n",
      "Requirement already satisfied: protobuf>=3.9.2 in c:\\users\\hp\\anaconda3\\lib\\site-packages (from tensorflow) (3.19.1)\n",
      "Requirement already satisfied: numpy>=1.14.5 in c:\\users\\hp\\anaconda3\\lib\\site-packages (from tensorflow) (1.19.5)\n",
      "Requirement already satisfied: keras-preprocessing>=1.1.1 in c:\\users\\hp\\anaconda3\\lib\\site-packages (from tensorflow) (1.1.2)\n",
      "Requirement already satisfied: h5py>=2.9.0 in c:\\users\\hp\\anaconda3\\lib\\site-packages (from tensorflow) (2.10.0)\n",
      "Requirement already satisfied: gast<0.5.0,>=0.2.1 in c:\\users\\hp\\anaconda3\\lib\\site-packages (from tensorflow) (0.4.0)\n",
      "Requirement already satisfied: termcolor>=1.1.0 in c:\\users\\hp\\anaconda3\\lib\\site-packages (from tensorflow) (1.1.0)\n",
      "Requirement already satisfied: tensorboard-data-server<0.7.0,>=0.6.0 in c:\\users\\hp\\anaconda3\\lib\\site-packages (from tensorboard~=2.6->tensorflow) (0.6.1)\n",
      "Requirement already satisfied: google-auth-oauthlib<0.5,>=0.4.1 in c:\\users\\hp\\anaconda3\\lib\\site-packages (from tensorboard~=2.6->tensorflow) (0.4.6)\n",
      "Requirement already satisfied: werkzeug>=0.11.15 in c:\\users\\hp\\anaconda3\\lib\\site-packages (from tensorboard~=2.6->tensorflow) (1.0.1)\n",
      "Requirement already satisfied: requests<3,>=2.21.0 in c:\\users\\hp\\anaconda3\\lib\\site-packages (from tensorboard~=2.6->tensorflow) (2.25.1)\n",
      "Requirement already satisfied: setuptools>=41.0.0 in c:\\users\\hp\\anaconda3\\lib\\site-packages (from tensorboard~=2.6->tensorflow) (52.0.0.post20210125)\n",
      "Requirement already satisfied: tensorboard-plugin-wit>=1.6.0 in c:\\users\\hp\\anaconda3\\lib\\site-packages (from tensorboard~=2.6->tensorflow) (1.8.0)\n",
      "Requirement already satisfied: markdown>=2.6.8 in c:\\users\\hp\\anaconda3\\lib\\site-packages (from tensorboard~=2.6->tensorflow) (3.3.4)\n",
      "Requirement already satisfied: google-auth<3,>=1.6.3 in c:\\users\\hp\\anaconda3\\lib\\site-packages (from tensorboard~=2.6->tensorflow) (2.3.3)\n",
      "Requirement already satisfied: rsa<5,>=3.1.4 in c:\\users\\hp\\anaconda3\\lib\\site-packages (from google-auth<3,>=1.6.3->tensorboard~=2.6->tensorflow) (4.7.2)\n",
      "Requirement already satisfied: pyasn1-modules>=0.2.1 in c:\\users\\hp\\anaconda3\\lib\\site-packages (from google-auth<3,>=1.6.3->tensorboard~=2.6->tensorflow) (0.2.8)\n",
      "Requirement already satisfied: cachetools<5.0,>=2.0.0 in c:\\users\\hp\\anaconda3\\lib\\site-packages (from google-auth<3,>=1.6.3->tensorboard~=2.6->tensorflow) (4.2.4)\n",
      "Requirement already satisfied: requests-oauthlib>=0.7.0 in c:\\users\\hp\\anaconda3\\lib\\site-packages (from google-auth-oauthlib<0.5,>=0.4.1->tensorboard~=2.6->tensorflow) (1.3.0)\n",
      "Requirement already satisfied: pyasn1<0.5.0,>=0.4.6 in c:\\users\\hp\\anaconda3\\lib\\site-packages (from pyasn1-modules>=0.2.1->google-auth<3,>=1.6.3->tensorboard~=2.6->tensorflow) (0.4.8)\n",
      "Requirement already satisfied: idna<3,>=2.5 in c:\\users\\hp\\anaconda3\\lib\\site-packages (from requests<3,>=2.21.0->tensorboard~=2.6->tensorflow) (2.10)\n",
      "Requirement already satisfied: certifi>=2017.4.17 in c:\\users\\hp\\anaconda3\\lib\\site-packages (from requests<3,>=2.21.0->tensorboard~=2.6->tensorflow) (2020.12.5)\n",
      "Requirement already satisfied: chardet<5,>=3.0.2 in c:\\users\\hp\\anaconda3\\lib\\site-packages (from requests<3,>=2.21.0->tensorboard~=2.6->tensorflow) (4.0.0)\n",
      "Requirement already satisfied: urllib3<1.27,>=1.21.1 in c:\\users\\hp\\anaconda3\\lib\\site-packages (from requests<3,>=2.21.0->tensorboard~=2.6->tensorflow) (1.26.4)\n",
      "Requirement already satisfied: oauthlib>=3.0.0 in c:\\users\\hp\\anaconda3\\lib\\site-packages (from requests-oauthlib>=0.7.0->google-auth-oauthlib<0.5,>=0.4.1->tensorboard~=2.6->tensorflow) (3.1.1)\n",
      "Requirement already satisfied: keras in c:\\users\\hp\\anaconda3\\lib\\site-packages (2.7.0)\n"
     ]
    }
   ],
   "source": [
    "!pip install tensorflow\n",
    "!pip install keras\n",
    "import pandas as pd\n",
    "import numpy as np\n",
    "\n",
    "import os\n",
    "import sys\n",
    "\n",
    "# librosa is a Python library for analyzing audio and music. It can be used to extract the data from the audio files we will see it later.\n",
    "import librosa\n",
    "import librosa.display\n",
    "\n",
    "import seaborn as sns\n",
    "import matplotlib.pyplot as plt\n",
    "\n",
    "from sklearn.preprocessing import StandardScaler, OneHotEncoder\n",
    "from sklearn.metrics import confusion_matrix, classification_report\n",
    "from sklearn.model_selection import train_test_split\n",
    "\n",
    "# to play the audio files\n",
    "from IPython.display import Audio\n",
    "\n",
    "import keras\n",
    "from keras.callbacks import ReduceLROnPlateau\n",
    "from keras.models import Sequential\n",
    "from keras.layers import Dense, Conv1D, MaxPooling1D, Flatten, Dropout, BatchNormalization\n",
    "from keras.callbacks import ModelCheckpoint\n",
    "\n",
    "import warnings\n",
    "if not sys.warnoptions:\n",
    "    warnings.simplefilter(\"ignore\")\n",
    "warnings.filterwarnings(\"ignore\", category=DeprecationWarning) "
   ]
  },
  {
   "cell_type": "markdown",
   "id": "d494f0aa",
   "metadata": {},
   "source": [
    "loading dataset"
   ]
  },
  {
   "cell_type": "code",
   "execution_count": 2,
   "id": "e6f24196",
   "metadata": {},
   "outputs": [],
   "source": [
    "data = pd.read_csv(\"features.csv\")"
   ]
  },
  {
   "cell_type": "code",
   "execution_count": 3,
   "id": "f74e2bc5",
   "metadata": {},
   "outputs": [
    {
     "data": {
      "text/html": [
       "<div>\n",
       "<style scoped>\n",
       "    .dataframe tbody tr th:only-of-type {\n",
       "        vertical-align: middle;\n",
       "    }\n",
       "\n",
       "    .dataframe tbody tr th {\n",
       "        vertical-align: top;\n",
       "    }\n",
       "\n",
       "    .dataframe thead th {\n",
       "        text-align: right;\n",
       "    }\n",
       "</style>\n",
       "<table border=\"1\" class=\"dataframe\">\n",
       "  <thead>\n",
       "    <tr style=\"text-align: right;\">\n",
       "      <th></th>\n",
       "      <th>0</th>\n",
       "      <th>1</th>\n",
       "      <th>2</th>\n",
       "      <th>3</th>\n",
       "      <th>4</th>\n",
       "      <th>5</th>\n",
       "      <th>6</th>\n",
       "      <th>7</th>\n",
       "      <th>8</th>\n",
       "      <th>9</th>\n",
       "      <th>...</th>\n",
       "      <th>11</th>\n",
       "      <th>12</th>\n",
       "      <th>13</th>\n",
       "      <th>14</th>\n",
       "      <th>15</th>\n",
       "      <th>16</th>\n",
       "      <th>17</th>\n",
       "      <th>18</th>\n",
       "      <th>19</th>\n",
       "      <th>labels</th>\n",
       "    </tr>\n",
       "  </thead>\n",
       "  <tbody>\n",
       "    <tr>\n",
       "      <th>0</th>\n",
       "      <td>-655.344543</td>\n",
       "      <td>86.649872</td>\n",
       "      <td>-12.361262</td>\n",
       "      <td>28.343275</td>\n",
       "      <td>-0.276913</td>\n",
       "      <td>9.111377</td>\n",
       "      <td>-10.830961</td>\n",
       "      <td>-0.023427</td>\n",
       "      <td>-17.030333</td>\n",
       "      <td>-3.272646</td>\n",
       "      <td>...</td>\n",
       "      <td>-5.887830</td>\n",
       "      <td>4.827703</td>\n",
       "      <td>-7.893806</td>\n",
       "      <td>3.420066</td>\n",
       "      <td>-1.663579</td>\n",
       "      <td>-3.320956</td>\n",
       "      <td>-4.437192</td>\n",
       "      <td>-0.790467</td>\n",
       "      <td>-2.032093</td>\n",
       "      <td>neutral</td>\n",
       "    </tr>\n",
       "    <tr>\n",
       "      <th>1</th>\n",
       "      <td>-475.233185</td>\n",
       "      <td>37.735450</td>\n",
       "      <td>6.484209</td>\n",
       "      <td>10.577263</td>\n",
       "      <td>5.573967</td>\n",
       "      <td>0.096649</td>\n",
       "      <td>-3.958552</td>\n",
       "      <td>-6.736961</td>\n",
       "      <td>-10.509263</td>\n",
       "      <td>-6.617795</td>\n",
       "      <td>...</td>\n",
       "      <td>-2.255615</td>\n",
       "      <td>-1.268973</td>\n",
       "      <td>-2.126151</td>\n",
       "      <td>-0.241190</td>\n",
       "      <td>-0.146999</td>\n",
       "      <td>-3.897475</td>\n",
       "      <td>-3.241440</td>\n",
       "      <td>0.042122</td>\n",
       "      <td>-2.748200</td>\n",
       "      <td>neutral</td>\n",
       "    </tr>\n",
       "    <tr>\n",
       "      <th>2</th>\n",
       "      <td>-724.307190</td>\n",
       "      <td>84.484085</td>\n",
       "      <td>-14.169809</td>\n",
       "      <td>31.049458</td>\n",
       "      <td>-3.062177</td>\n",
       "      <td>9.604400</td>\n",
       "      <td>-14.447046</td>\n",
       "      <td>-0.219916</td>\n",
       "      <td>-20.591162</td>\n",
       "      <td>2.434902</td>\n",
       "      <td>...</td>\n",
       "      <td>-4.020089</td>\n",
       "      <td>3.011853</td>\n",
       "      <td>-8.109156</td>\n",
       "      <td>3.908098</td>\n",
       "      <td>-5.972445</td>\n",
       "      <td>-3.686383</td>\n",
       "      <td>-5.658265</td>\n",
       "      <td>2.423278</td>\n",
       "      <td>-4.886252</td>\n",
       "      <td>neutral</td>\n",
       "    </tr>\n",
       "    <tr>\n",
       "      <th>3</th>\n",
       "      <td>-645.409851</td>\n",
       "      <td>87.810638</td>\n",
       "      <td>-17.773392</td>\n",
       "      <td>33.468960</td>\n",
       "      <td>-0.936478</td>\n",
       "      <td>8.191231</td>\n",
       "      <td>-9.919904</td>\n",
       "      <td>-3.311972</td>\n",
       "      <td>-18.590483</td>\n",
       "      <td>-2.199426</td>\n",
       "      <td>...</td>\n",
       "      <td>-6.660093</td>\n",
       "      <td>3.893641</td>\n",
       "      <td>-8.572474</td>\n",
       "      <td>2.928271</td>\n",
       "      <td>-3.344517</td>\n",
       "      <td>-3.604978</td>\n",
       "      <td>-4.101902</td>\n",
       "      <td>-1.308776</td>\n",
       "      <td>-0.581940</td>\n",
       "      <td>neutral</td>\n",
       "    </tr>\n",
       "    <tr>\n",
       "      <th>4</th>\n",
       "      <td>-571.465829</td>\n",
       "      <td>61.978770</td>\n",
       "      <td>-5.384902</td>\n",
       "      <td>21.352240</td>\n",
       "      <td>3.866039</td>\n",
       "      <td>1.307182</td>\n",
       "      <td>-5.972719</td>\n",
       "      <td>-7.355506</td>\n",
       "      <td>-14.538130</td>\n",
       "      <td>-3.855138</td>\n",
       "      <td>...</td>\n",
       "      <td>-4.927345</td>\n",
       "      <td>0.544567</td>\n",
       "      <td>-5.345915</td>\n",
       "      <td>0.225759</td>\n",
       "      <td>-0.831654</td>\n",
       "      <td>-4.492261</td>\n",
       "      <td>-4.453480</td>\n",
       "      <td>-0.986423</td>\n",
       "      <td>-1.763284</td>\n",
       "      <td>neutral</td>\n",
       "    </tr>\n",
       "  </tbody>\n",
       "</table>\n",
       "<p>5 rows × 21 columns</p>\n",
       "</div>"
      ],
      "text/plain": [
       "            0          1          2          3         4         5          6  \\\n",
       "0 -655.344543  86.649872 -12.361262  28.343275 -0.276913  9.111377 -10.830961   \n",
       "1 -475.233185  37.735450   6.484209  10.577263  5.573967  0.096649  -3.958552   \n",
       "2 -724.307190  84.484085 -14.169809  31.049458 -3.062177  9.604400 -14.447046   \n",
       "3 -645.409851  87.810638 -17.773392  33.468960 -0.936478  8.191231  -9.919904   \n",
       "4 -571.465829  61.978770  -5.384902  21.352240  3.866039  1.307182  -5.972719   \n",
       "\n",
       "          7          8         9  ...        11        12        13        14  \\\n",
       "0 -0.023427 -17.030333 -3.272646  ... -5.887830  4.827703 -7.893806  3.420066   \n",
       "1 -6.736961 -10.509263 -6.617795  ... -2.255615 -1.268973 -2.126151 -0.241190   \n",
       "2 -0.219916 -20.591162  2.434902  ... -4.020089  3.011853 -8.109156  3.908098   \n",
       "3 -3.311972 -18.590483 -2.199426  ... -6.660093  3.893641 -8.572474  2.928271   \n",
       "4 -7.355506 -14.538130 -3.855138  ... -4.927345  0.544567 -5.345915  0.225759   \n",
       "\n",
       "         15        16        17        18        19   labels  \n",
       "0 -1.663579 -3.320956 -4.437192 -0.790467 -2.032093  neutral  \n",
       "1 -0.146999 -3.897475 -3.241440  0.042122 -2.748200  neutral  \n",
       "2 -5.972445 -3.686383 -5.658265  2.423278 -4.886252  neutral  \n",
       "3 -3.344517 -3.604978 -4.101902 -1.308776 -0.581940  neutral  \n",
       "4 -0.831654 -4.492261 -4.453480 -0.986423 -1.763284  neutral  \n",
       "\n",
       "[5 rows x 21 columns]"
      ]
     },
     "execution_count": 3,
     "metadata": {},
     "output_type": "execute_result"
    }
   ],
   "source": [
    "data.head()"
   ]
  },
  {
   "cell_type": "code",
   "execution_count": 4,
   "id": "064df167",
   "metadata": {},
   "outputs": [
    {
     "data": {
      "text/plain": [
       "disgust      576\n",
       "sad          576\n",
       "happy        576\n",
       "calm         576\n",
       "surprised    576\n",
       "angry        576\n",
       "fearful      576\n",
       "neutral      288\n",
       "Name: labels, dtype: int64"
      ]
     },
     "execution_count": 4,
     "metadata": {},
     "output_type": "execute_result"
    }
   ],
   "source": [
    "data['labels'].value_counts()"
   ]
  },
  {
   "cell_type": "markdown",
   "id": "6f853dcf",
   "metadata": {},
   "source": [
    "splitting the data"
   ]
  },
  {
   "cell_type": "code",
   "execution_count": 5,
   "id": "e36155ce",
   "metadata": {},
   "outputs": [],
   "source": [
    "X = data.iloc[: ,:-1].values\n",
    "Y = data['labels'].values"
   ]
  },
  {
   "cell_type": "code",
   "execution_count": 6,
   "id": "ca39fe94",
   "metadata": {},
   "outputs": [],
   "source": [
    "encoder = OneHotEncoder()\n",
    "Y = encoder.fit_transform(np.array(Y).reshape(-1,1)).toarray()"
   ]
  },
  {
   "cell_type": "code",
   "execution_count": 7,
   "id": "d1965c27",
   "metadata": {},
   "outputs": [],
   "source": [
    "X_train, X_test, y_train, y_test = train_test_split(X, Y, random_state=0, shuffle=True)"
   ]
  },
  {
   "cell_type": "code",
   "execution_count": 8,
   "id": "4561c299",
   "metadata": {},
   "outputs": [
    {
     "name": "stdout",
     "output_type": "stream",
     "text": [
      "(3240, 20)\n",
      "(1080, 20)\n"
     ]
    }
   ],
   "source": [
    "print(X_train.shape)\n",
    "print(X_test.shape)"
   ]
  },
  {
   "cell_type": "code",
   "execution_count": 9,
   "id": "58a26492",
   "metadata": {},
   "outputs": [
    {
     "name": "stdout",
     "output_type": "stream",
     "text": [
      "(3240, 8)\n",
      "(1080, 8)\n"
     ]
    }
   ],
   "source": [
    "print(y_train.shape)\n",
    "print(y_test.shape)"
   ]
  },
  {
   "cell_type": "code",
   "execution_count": 10,
   "id": "2acd68e5",
   "metadata": {},
   "outputs": [
    {
     "data": {
      "text/plain": [
       "((3240, 20), (3240, 8), (1080, 20), (1080, 8))"
      ]
     },
     "execution_count": 10,
     "metadata": {},
     "output_type": "execute_result"
    }
   ],
   "source": [
    "scaler = StandardScaler()\n",
    "X_train = scaler.fit_transform(X_train)\n",
    "X_test = scaler.transform(X_test)\n",
    "X_train.shape, y_train.shape, X_test.shape, y_test.shape"
   ]
  },
  {
   "cell_type": "code",
   "execution_count": 11,
   "id": "9895677f",
   "metadata": {},
   "outputs": [
    {
     "data": {
      "text/plain": [
       "((3240, 20, 1), (3240, 8), (1080, 20, 1), (1080, 8))"
      ]
     },
     "execution_count": 11,
     "metadata": {},
     "output_type": "execute_result"
    }
   ],
   "source": [
    "# making our data compatible to model.\n",
    "X_train = np.expand_dims(X_train, axis=2)\n",
    "X_test = np.expand_dims(X_test, axis=2)\n",
    "X_train.shape, y_train.shape, X_test.shape, y_test.shape"
   ]
  },
  {
   "cell_type": "code",
   "execution_count": 12,
   "id": "db989b91",
   "metadata": {},
   "outputs": [
    {
     "data": {
      "text/plain": [
       "3240"
      ]
     },
     "execution_count": 12,
     "metadata": {},
     "output_type": "execute_result"
    }
   ],
   "source": [
    "X_train.shape[0]"
   ]
  },
  {
   "cell_type": "code",
   "execution_count": 13,
   "id": "e71842ed",
   "metadata": {},
   "outputs": [
    {
     "name": "stdout",
     "output_type": "stream",
     "text": [
      "Model: \"sequential\"\n",
      "_________________________________________________________________\n",
      " Layer (type)                Output Shape              Param #   \n",
      "=================================================================\n",
      " conv1d (Conv1D)             (None, 20, 256)           1536      \n",
      "                                                                 \n",
      " max_pooling1d (MaxPooling1D  (None, 6, 256)           0         \n",
      " )                                                               \n",
      "                                                                 \n",
      " conv1d_1 (Conv1D)           (None, 6, 128)            163968    \n",
      "                                                                 \n",
      " max_pooling1d_1 (MaxPooling  (None, 2, 128)           0         \n",
      " 1D)                                                             \n",
      "                                                                 \n",
      " dropout (Dropout)           (None, 2, 128)            0         \n",
      "                                                                 \n",
      " flatten (Flatten)           (None, 256)               0         \n",
      "                                                                 \n",
      " dense (Dense)               (None, 32)                8224      \n",
      "                                                                 \n",
      " dropout_1 (Dropout)         (None, 32)                0         \n",
      "                                                                 \n",
      " dense_1 (Dense)             (None, 8)                 264       \n",
      "                                                                 \n",
      "=================================================================\n",
      "Total params: 173,992\n",
      "Trainable params: 173,992\n",
      "Non-trainable params: 0\n",
      "_________________________________________________________________\n"
     ]
    }
   ],
   "source": [
    "import tensorflow\n",
    "from tensorflow import keras\n",
    "from tensorflow.keras import layers\n",
    "from tensorflow.keras.models import Sequential\n",
    "from tensorflow.keras.layers import Conv1D, MaxPooling1D, AveragePooling1D\n",
    "from tensorflow.keras.layers import Input, Flatten, Dropout, Activation, BatchNormalization, Dense\n",
    "from sklearn.model_selection import GridSearchCV\n",
    "from tensorflow.keras.wrappers.scikit_learn import KerasClassifier\n",
    "from tensorflow.keras.optimizers import SGD\n",
    "from tensorflow.keras.regularizers import l2\n",
    "from keras.callbacks import ReduceLROnPlateau\n",
    "import seaborn as sns\n",
    "from tensorflow.keras.callbacks import EarlyStopping, ModelCheckpoint\n",
    "\n",
    "# Conv1D for audio\n",
    "model=Sequential()\n",
    "# number of output filters in the convolution (filters=small features)\n",
    "# kernel size = specifying length of the 1D convolution window\n",
    "# strides = number of columns shifted at a time\n",
    "model.add(Conv1D(256, kernel_size=5, padding='same', activation='relu', input_shape=(X_train.shape[1], 1)))\n",
    "model.add(MaxPooling1D(pool_size=3))\n",
    "\n",
    "model.add(Conv1D(128, kernel_size=5, padding='same', activation='relu', kernel_regularizer=l2(0.007)))\n",
    "model.add(MaxPooling1D(pool_size=3, padding = 'same'))\n",
    "model.add(Dropout(0.5))\n",
    "\n",
    "# model.add(Conv1D(64, kernel_size=5, padding='same', activation='relu'))\n",
    "# model.add(MaxPooling1D(pool_size=3, padding = 'same'))\n",
    "# model.add(Dropout(0.3))\n",
    "\n",
    "model.add(Flatten())\n",
    "model.add(Dense(units=32, activation='relu'))\n",
    "model.add(Dropout(0.3))\n",
    "\n",
    "model.add(Dense(units=8, activation='softmax'))\n",
    "model.compile(optimizer = 'adam' , loss = 'categorical_crossentropy' , metrics = ['accuracy'])\n",
    "\n",
    "model.summary()"
   ]
  },
  {
   "cell_type": "code",
   "execution_count": 14,
   "id": "cd03128b",
   "metadata": {},
   "outputs": [
    {
     "name": "stdout",
     "output_type": "stream",
     "text": [
      "Epoch 1/50\n",
      "51/51 [==============================] - 3s 32ms/step - loss: 2.7114 - accuracy: 0.1556 - val_loss: 2.2909 - val_accuracy: 0.2259 - lr: 0.0010\n",
      "Epoch 2/50\n",
      "51/51 [==============================] - 1s 24ms/step - loss: 2.1750 - accuracy: 0.1966 - val_loss: 2.0427 - val_accuracy: 0.2769 - lr: 0.0010\n",
      "Epoch 3/50\n",
      "51/51 [==============================] - 1s 25ms/step - loss: 2.0382 - accuracy: 0.2287 - val_loss: 1.9415 - val_accuracy: 0.2713 - lr: 0.0010\n",
      "Epoch 4/50\n",
      "51/51 [==============================] - 1s 24ms/step - loss: 1.9660 - accuracy: 0.2580 - val_loss: 1.8618 - val_accuracy: 0.3102 - lr: 0.0010\n",
      "Epoch 5/50\n",
      "51/51 [==============================] - 1s 24ms/step - loss: 1.9290 - accuracy: 0.2599 - val_loss: 1.8171 - val_accuracy: 0.3148 - lr: 0.0010\n",
      "Epoch 6/50\n",
      "51/51 [==============================] - 1s 25ms/step - loss: 1.8862 - accuracy: 0.2929 - val_loss: 1.7707 - val_accuracy: 0.3713 - lr: 0.0010\n",
      "Epoch 7/50\n",
      "51/51 [==============================] - 1s 24ms/step - loss: 1.8677 - accuracy: 0.2972 - val_loss: 1.7528 - val_accuracy: 0.3954 - lr: 0.0010\n",
      "Epoch 8/50\n",
      "51/51 [==============================] - 1s 25ms/step - loss: 1.8410 - accuracy: 0.3210 - val_loss: 1.7467 - val_accuracy: 0.3528 - lr: 0.0010\n",
      "Epoch 9/50\n",
      "51/51 [==============================] - 1s 25ms/step - loss: 1.8190 - accuracy: 0.3395 - val_loss: 1.7271 - val_accuracy: 0.4074 - lr: 0.0010\n",
      "Epoch 10/50\n",
      "51/51 [==============================] - 1s 25ms/step - loss: 1.8060 - accuracy: 0.3395 - val_loss: 1.6909 - val_accuracy: 0.3944 - lr: 0.0010\n",
      "Epoch 11/50\n",
      "51/51 [==============================] - 1s 24ms/step - loss: 1.7739 - accuracy: 0.3512 - val_loss: 1.6725 - val_accuracy: 0.4231 - lr: 0.0010\n",
      "Epoch 12/50\n",
      "51/51 [==============================] - 1s 24ms/step - loss: 1.7733 - accuracy: 0.3556 - val_loss: 1.6630 - val_accuracy: 0.4278 - lr: 0.0010\n",
      "Epoch 13/50\n",
      "51/51 [==============================] - 1s 25ms/step - loss: 1.7477 - accuracy: 0.3670 - val_loss: 1.6317 - val_accuracy: 0.4324 - lr: 0.0010\n",
      "Epoch 14/50\n",
      "51/51 [==============================] - 1s 25ms/step - loss: 1.7396 - accuracy: 0.3830 - val_loss: 1.6306 - val_accuracy: 0.4296 - lr: 0.0010\n",
      "Epoch 15/50\n",
      "51/51 [==============================] - 1s 24ms/step - loss: 1.7148 - accuracy: 0.3815 - val_loss: 1.6339 - val_accuracy: 0.4370 - lr: 0.0010\n",
      "Epoch 16/50\n",
      "51/51 [==============================] - 1s 24ms/step - loss: 1.7078 - accuracy: 0.3960 - val_loss: 1.6146 - val_accuracy: 0.4343 - lr: 0.0010\n",
      "Epoch 17/50\n",
      "51/51 [==============================] - 1s 24ms/step - loss: 1.7027 - accuracy: 0.3957 - val_loss: 1.5960 - val_accuracy: 0.4333 - lr: 0.0010\n",
      "Epoch 18/50\n",
      "51/51 [==============================] - 1s 25ms/step - loss: 1.6964 - accuracy: 0.4052 - val_loss: 1.5830 - val_accuracy: 0.4602 - lr: 0.0010\n",
      "Epoch 19/50\n",
      "51/51 [==============================] - 1s 24ms/step - loss: 1.6827 - accuracy: 0.3972 - val_loss: 1.5683 - val_accuracy: 0.4574 - lr: 0.0010\n",
      "Epoch 20/50\n",
      "51/51 [==============================] - 1s 25ms/step - loss: 1.6599 - accuracy: 0.4074 - val_loss: 1.5461 - val_accuracy: 0.4778 - lr: 0.0010\n",
      "Epoch 21/50\n",
      "51/51 [==============================] - 1s 25ms/step - loss: 1.6728 - accuracy: 0.4009 - val_loss: 1.5866 - val_accuracy: 0.4509 - lr: 0.0010\n",
      "Epoch 22/50\n",
      "51/51 [==============================] - 1s 25ms/step - loss: 1.6593 - accuracy: 0.4145 - val_loss: 1.5677 - val_accuracy: 0.4722 - lr: 0.0010\n",
      "Epoch 23/50\n",
      "51/51 [==============================] - 1s 25ms/step - loss: 1.6544 - accuracy: 0.4105 - val_loss: 1.5334 - val_accuracy: 0.4824 - lr: 0.0010\n",
      "Epoch 24/50\n",
      "51/51 [==============================] - 1s 25ms/step - loss: 1.6521 - accuracy: 0.4142 - val_loss: 1.5268 - val_accuracy: 0.4759 - lr: 0.0010\n",
      "Epoch 25/50\n",
      "51/51 [==============================] - 1s 25ms/step - loss: 1.6311 - accuracy: 0.4398 - val_loss: 1.5349 - val_accuracy: 0.4870 - lr: 0.0010\n",
      "Epoch 26/50\n",
      "51/51 [==============================] - 1s 24ms/step - loss: 1.6130 - accuracy: 0.4333 - val_loss: 1.5538 - val_accuracy: 0.4657 - lr: 0.0010\n",
      "Epoch 27/50\n",
      "51/51 [==============================] - 1s 25ms/step - loss: 1.6318 - accuracy: 0.4281 - val_loss: 1.5457 - val_accuracy: 0.4685 - lr: 0.0010\n",
      "Epoch 28/50\n",
      "51/51 [==============================] - ETA: 0s - loss: 1.6334 - accuracy: 0.4253\n",
      "Epoch 00028: ReduceLROnPlateau reducing learning rate to 0.0004000000189989805.\n",
      "51/51 [==============================] - 1s 25ms/step - loss: 1.6334 - accuracy: 0.4253 - val_loss: 1.5267 - val_accuracy: 0.4889 - lr: 0.0010\n",
      "Epoch 29/50\n",
      "51/51 [==============================] - 1s 25ms/step - loss: 1.5762 - accuracy: 0.4515 - val_loss: 1.4818 - val_accuracy: 0.4935 - lr: 4.0000e-04\n",
      "Epoch 30/50\n",
      "51/51 [==============================] - 1s 25ms/step - loss: 1.5293 - accuracy: 0.4679 - val_loss: 1.4745 - val_accuracy: 0.4963 - lr: 4.0000e-04\n",
      "Epoch 31/50\n",
      "51/51 [==============================] - 1s 26ms/step - loss: 1.5261 - accuracy: 0.4722 - val_loss: 1.4510 - val_accuracy: 0.5093 - lr: 4.0000e-04\n",
      "Epoch 32/50\n",
      "51/51 [==============================] - 1s 25ms/step - loss: 1.5121 - accuracy: 0.4802 - val_loss: 1.4349 - val_accuracy: 0.5102 - lr: 4.0000e-04\n",
      "Epoch 33/50\n",
      "51/51 [==============================] - 1s 25ms/step - loss: 1.5134 - accuracy: 0.4735 - val_loss: 1.4517 - val_accuracy: 0.5083 - lr: 4.0000e-04\n",
      "Epoch 34/50\n",
      "51/51 [==============================] - 1s 24ms/step - loss: 1.4863 - accuracy: 0.4975 - val_loss: 1.4297 - val_accuracy: 0.5148 - lr: 4.0000e-04\n",
      "Epoch 35/50\n",
      "51/51 [==============================] - 1s 25ms/step - loss: 1.4858 - accuracy: 0.4759 - val_loss: 1.4202 - val_accuracy: 0.5176 - lr: 4.0000e-04\n",
      "Epoch 36/50\n",
      "51/51 [==============================] - 2s 31ms/step - loss: 1.4842 - accuracy: 0.4969 - val_loss: 1.4225 - val_accuracy: 0.5306 - lr: 4.0000e-04\n",
      "Epoch 37/50\n",
      "51/51 [==============================] - 1s 25ms/step - loss: 1.4770 - accuracy: 0.4889 - val_loss: 1.4157 - val_accuracy: 0.5157 - lr: 4.0000e-04\n",
      "Epoch 38/50\n",
      "51/51 [==============================] - 1s 25ms/step - loss: 1.4679 - accuracy: 0.4960 - val_loss: 1.4156 - val_accuracy: 0.5204 - lr: 4.0000e-04\n",
      "Epoch 39/50\n",
      "51/51 [==============================] - 1s 25ms/step - loss: 1.4720 - accuracy: 0.4938 - val_loss: 1.4337 - val_accuracy: 0.5037 - lr: 4.0000e-04\n",
      "Epoch 40/50\n",
      "51/51 [==============================] - ETA: 0s - loss: 1.4693 - accuracy: 0.4926\n",
      "Epoch 00040: ReduceLROnPlateau reducing learning rate to 0.00016000000759959222.\n",
      "51/51 [==============================] - 1s 25ms/step - loss: 1.4693 - accuracy: 0.4926 - val_loss: 1.3999 - val_accuracy: 0.5278 - lr: 4.0000e-04\n",
      "Epoch 41/50\n",
      "51/51 [==============================] - 1s 25ms/step - loss: 1.4417 - accuracy: 0.5090 - val_loss: 1.3935 - val_accuracy: 0.5287 - lr: 1.6000e-04\n",
      "Epoch 42/50\n",
      "51/51 [==============================] - 1s 26ms/step - loss: 1.4178 - accuracy: 0.5210 - val_loss: 1.3793 - val_accuracy: 0.5315 - lr: 1.6000e-04\n",
      "Epoch 43/50\n",
      "51/51 [==============================] - 1s 24ms/step - loss: 1.3996 - accuracy: 0.5241 - val_loss: 1.3685 - val_accuracy: 0.5370 - lr: 1.6000e-04\n",
      "Epoch 44/50\n",
      "51/51 [==============================] - 1s 25ms/step - loss: 1.3933 - accuracy: 0.5262 - val_loss: 1.3759 - val_accuracy: 0.5259 - lr: 1.6000e-04\n",
      "Epoch 45/50\n",
      "51/51 [==============================] - 1s 25ms/step - loss: 1.3999 - accuracy: 0.5222 - val_loss: 1.3737 - val_accuracy: 0.5398 - lr: 1.6000e-04\n",
      "Epoch 46/50\n",
      "50/51 [============================>.] - ETA: 0s - loss: 1.3949 - accuracy: 0.5228\n",
      "Epoch 00046: ReduceLROnPlateau reducing learning rate to 6.40000042039901e-05.\n",
      "51/51 [==============================] - 1s 25ms/step - loss: 1.3935 - accuracy: 0.5235 - val_loss: 1.3688 - val_accuracy: 0.5444 - lr: 1.6000e-04\n",
      "Epoch 47/50\n",
      "51/51 [==============================] - 1s 25ms/step - loss: 1.3843 - accuracy: 0.5250 - val_loss: 1.3642 - val_accuracy: 0.5333 - lr: 6.4000e-05\n",
      "Epoch 48/50\n",
      "51/51 [==============================] - 1s 24ms/step - loss: 1.3739 - accuracy: 0.5293 - val_loss: 1.3588 - val_accuracy: 0.5380 - lr: 6.4000e-05\n",
      "Epoch 49/50\n",
      "51/51 [==============================] - 1s 25ms/step - loss: 1.3726 - accuracy: 0.5327 - val_loss: 1.3603 - val_accuracy: 0.5352 - lr: 6.4000e-05\n",
      "Epoch 50/50\n"
     ]
    },
    {
     "name": "stdout",
     "output_type": "stream",
     "text": [
      "51/51 [==============================] - 1s 25ms/step - loss: 1.3754 - accuracy: 0.5444 - val_loss: 1.3567 - val_accuracy: 0.5444 - lr: 6.4000e-05\n"
     ]
    }
   ],
   "source": [
    "rlrp = ReduceLROnPlateau(monitor='loss', factor=0.4, verbose=1, patience=2, min_lr=0.0000001)\n",
    "history=model.fit(X_train, y_train, batch_size=64, epochs=50, validation_data=(X_test, y_test), callbacks=[rlrp])"
   ]
  },
  {
   "cell_type": "code",
   "execution_count": 15,
   "id": "d7bc3716",
   "metadata": {},
   "outputs": [
    {
     "data": {
      "text/plain": [
       "[<matplotlib.lines.Line2D at 0x28df81ca8b0>]"
      ]
     },
     "execution_count": 15,
     "metadata": {},
     "output_type": "execute_result"
    },
    {
     "data": {
      "image/png": "[encoded data removed]",
      "text/plain": [
       "<Figure size 432x288 with 1 Axes>"
      ]
     },
     "metadata": {
      "needs_background": "light"
     },
     "output_type": "display_data"
    }
   ],
   "source": [
    "plt.plot(history.history['loss'])\n",
    "plt.plot(history.history['val_loss'])"
   ]
  },
  {
   "cell_type": "code",
   "execution_count": 16,
   "id": "58371646",
   "metadata": {},
   "outputs": [
    {
     "data": {
      "text/plain": [
       "[<matplotlib.lines.Line2D at 0x28df9485280>]"
      ]
     },
     "execution_count": 16,
     "metadata": {},
     "output_type": "execute_result"
    },
    {
     "data": {
      "image/png": "[encoded data removed]",
      "text/plain": [
       "<Figure size 432x288 with 1 Axes>"
      ]
     },
     "metadata": {
      "needs_background": "light"
     },
     "output_type": "display_data"
    }
   ],
   "source": [
    "plt.plot(history.history['accuracy'])\n",
    "plt.plot(history.history['val_accuracy'])"
   ]
  },
  {
   "cell_type": "code",
   "execution_count": 17,
   "id": "2c726380",
   "metadata": {},
   "outputs": [],
   "source": [
    "# predicting on test data.\n",
    "pred_test = model.predict(X_test)\n",
    "y_pred = encoder.inverse_transform(pred_test)\n",
    "y_test = encoder.inverse_transform(y_test)"
   ]
  },
  {
   "cell_type": "code",
   "execution_count": 18,
   "id": "e38f5c72",
   "metadata": {},
   "outputs": [
    {
     "data": {
      "text/plain": [
       "((1080, 1), (1080, 1))"
      ]
     },
     "execution_count": 18,
     "metadata": {},
     "output_type": "execute_result"
    }
   ],
   "source": [
    "y_pred.shape, y_test.shape"
   ]
  },
  {
   "cell_type": "code",
   "execution_count": 19,
   "id": "89ba7ebd",
   "metadata": {},
   "outputs": [
    {
     "data": {
      "text/html": [
       "<div>\n",
       "<style scoped>\n",
       "    .dataframe tbody tr th:only-of-type {\n",
       "        vertical-align: middle;\n",
       "    }\n",
       "\n",
       "    .dataframe tbody tr th {\n",
       "        vertical-align: top;\n",
       "    }\n",
       "\n",
       "    .dataframe thead th {\n",
       "        text-align: right;\n",
       "    }\n",
       "</style>\n",
       "<table border=\"1\" class=\"dataframe\">\n",
       "  <thead>\n",
       "    <tr style=\"text-align: right;\">\n",
       "      <th></th>\n",
       "      <th>Predicted Labels</th>\n",
       "      <th>Actual Labels</th>\n",
       "    </tr>\n",
       "  </thead>\n",
       "  <tbody>\n",
       "    <tr>\n",
       "      <th>0</th>\n",
       "      <td>fearful</td>\n",
       "      <td>fearful</td>\n",
       "    </tr>\n",
       "    <tr>\n",
       "      <th>1</th>\n",
       "      <td>happy</td>\n",
       "      <td>angry</td>\n",
       "    </tr>\n",
       "    <tr>\n",
       "      <th>2</th>\n",
       "      <td>fearful</td>\n",
       "      <td>fearful</td>\n",
       "    </tr>\n",
       "    <tr>\n",
       "      <th>3</th>\n",
       "      <td>calm</td>\n",
       "      <td>calm</td>\n",
       "    </tr>\n",
       "    <tr>\n",
       "      <th>4</th>\n",
       "      <td>angry</td>\n",
       "      <td>angry</td>\n",
       "    </tr>\n",
       "    <tr>\n",
       "      <th>5</th>\n",
       "      <td>surprised</td>\n",
       "      <td>surprised</td>\n",
       "    </tr>\n",
       "    <tr>\n",
       "      <th>6</th>\n",
       "      <td>fearful</td>\n",
       "      <td>fearful</td>\n",
       "    </tr>\n",
       "    <tr>\n",
       "      <th>7</th>\n",
       "      <td>fearful</td>\n",
       "      <td>happy</td>\n",
       "    </tr>\n",
       "    <tr>\n",
       "      <th>8</th>\n",
       "      <td>fearful</td>\n",
       "      <td>fearful</td>\n",
       "    </tr>\n",
       "    <tr>\n",
       "      <th>9</th>\n",
       "      <td>surprised</td>\n",
       "      <td>sad</td>\n",
       "    </tr>\n",
       "  </tbody>\n",
       "</table>\n",
       "</div>"
      ],
      "text/plain": [
       "  Predicted Labels Actual Labels\n",
       "0          fearful       fearful\n",
       "1            happy         angry\n",
       "2          fearful       fearful\n",
       "3             calm          calm\n",
       "4            angry         angry\n",
       "5        surprised     surprised\n",
       "6          fearful       fearful\n",
       "7          fearful         happy\n",
       "8          fearful       fearful\n",
       "9        surprised           sad"
      ]
     },
     "execution_count": 19,
     "metadata": {},
     "output_type": "execute_result"
    }
   ],
   "source": [
    "df = pd.DataFrame(columns=['Predicted Labels', 'Actual Labels'])\n",
    "df['Predicted Labels'] = y_pred.flatten()\n",
    "df['Actual Labels'] = y_test\n",
    "\n",
    "df.head(10)"
   ]
  },
  {
   "cell_type": "code",
   "execution_count": 20,
   "id": "3ca049d3",
   "metadata": {},
   "outputs": [
    {
     "data": {
      "image/png": "[encoded data removed]",
      "text/plain": [
       "<Figure size 864x720 with 2 Axes>"
      ]
     },
     "metadata": {
      "needs_background": "light"
     },
     "output_type": "display_data"
    }
   ],
   "source": [
    "cm = confusion_matrix(y_test, y_pred)\n",
    "plt.figure(figsize = (12, 10))\n",
    "cm = pd.DataFrame(cm , index = [i for i in encoder.categories_] , columns = [i for i in encoder.categories_])\n",
    "sns.heatmap(cm, linecolor='white', cmap='Blues', linewidth=1, annot=True, fmt='')\n",
    "plt.title('Confusion Matrix', size=20)\n",
    "plt.xlabel('Predicted Labels', size=14)\n",
    "plt.ylabel('Actual Labels', size=14)\n",
    "plt.show()\n"
   ]
  },
  {
   "cell_type": "code",
   "execution_count": 21,
   "id": "2e4ea467",
   "metadata": {},
   "outputs": [
    {
     "name": "stdout",
     "output_type": "stream",
     "text": [
      "              precision    recall  f1-score   support\n",
      "\n",
      "       angry       0.63      0.76      0.69       132\n",
      "        calm       0.58      0.84      0.69       159\n",
      "     disgust       0.42      0.45      0.44       135\n",
      "     fearful       0.58      0.48      0.52       151\n",
      "       happy       0.43      0.38      0.40       141\n",
      "     neutral       1.00      0.01      0.03        72\n",
      "         sad       0.51      0.50      0.50       151\n",
      "   surprised       0.60      0.67      0.63       139\n",
      "\n",
      "    accuracy                           0.54      1080\n",
      "   macro avg       0.60      0.51      0.49      1080\n",
      "weighted avg       0.57      0.54      0.52      1080\n",
      "\n"
     ]
    }
   ],
   "source": [
    "print(classification_report(y_test, y_pred))"
   ]
  },
  {
   "cell_type": "code",
   "execution_count": 22,
   "id": "23ee9fd3",
   "metadata": {},
   "outputs": [],
   "source": [
    "test = pd.read_csv(\"test.csv\")\n",
    "data = test.iloc[: ,:-1].values\n",
    "labels = test['labels'].values"
   ]
  },
  {
   "cell_type": "code",
   "execution_count": 23,
   "id": "44fac66c",
   "metadata": {},
   "outputs": [
    {
     "data": {
      "text/plain": [
       "(39, 21)"
      ]
     },
     "execution_count": 23,
     "metadata": {},
     "output_type": "execute_result"
    }
   ],
   "source": [
    "test.shape"
   ]
  },
  {
   "cell_type": "code",
   "execution_count": 24,
   "id": "e335a0ef",
   "metadata": {},
   "outputs": [
    {
     "data": {
      "text/plain": [
       "(39, 20)"
      ]
     },
     "execution_count": 24,
     "metadata": {},
     "output_type": "execute_result"
    }
   ],
   "source": [
    "data.shape"
   ]
  },
  {
   "cell_type": "code",
   "execution_count": 25,
   "id": "32ece0d1",
   "metadata": {},
   "outputs": [],
   "source": [
    "test = scaler.transform(data)"
   ]
  },
  {
   "cell_type": "code",
   "execution_count": 26,
   "id": "19f2e066",
   "metadata": {},
   "outputs": [],
   "source": [
    "test = np.expand_dims(test, axis=2)"
   ]
  },
  {
   "cell_type": "code",
   "execution_count": 27,
   "id": "0a793731",
   "metadata": {},
   "outputs": [],
   "source": [
    "prediction = model.predict(test)\n",
    "result = encoder.inverse_transform(prediction)"
   ]
  },
  {
   "cell_type": "code",
   "execution_count": 28,
   "id": "50a330e9",
   "metadata": {},
   "outputs": [
    {
     "data": {
      "text/html": [
       "<div>\n",
       "<style scoped>\n",
       "    .dataframe tbody tr th:only-of-type {\n",
       "        vertical-align: middle;\n",
       "    }\n",
       "\n",
       "    .dataframe tbody tr th {\n",
       "        vertical-align: top;\n",
       "    }\n",
       "\n",
       "    .dataframe thead th {\n",
       "        text-align: right;\n",
       "    }\n",
       "</style>\n",
       "<table border=\"1\" class=\"dataframe\">\n",
       "  <thead>\n",
       "    <tr style=\"text-align: right;\">\n",
       "      <th></th>\n",
       "      <th>Predicted Labels</th>\n",
       "      <th>Actual Labels</th>\n",
       "    </tr>\n",
       "  </thead>\n",
       "  <tbody>\n",
       "    <tr>\n",
       "      <th>0</th>\n",
       "      <td>calm</td>\n",
       "      <td>sad</td>\n",
       "    </tr>\n",
       "    <tr>\n",
       "      <th>1</th>\n",
       "      <td>disgust</td>\n",
       "      <td>sad</td>\n",
       "    </tr>\n",
       "    <tr>\n",
       "      <th>2</th>\n",
       "      <td>calm</td>\n",
       "      <td>sad</td>\n",
       "    </tr>\n",
       "    <tr>\n",
       "      <th>3</th>\n",
       "      <td>angry</td>\n",
       "      <td>angry</td>\n",
       "    </tr>\n",
       "    <tr>\n",
       "      <th>4</th>\n",
       "      <td>disgust</td>\n",
       "      <td>angry</td>\n",
       "    </tr>\n",
       "    <tr>\n",
       "      <th>5</th>\n",
       "      <td>angry</td>\n",
       "      <td>angry</td>\n",
       "    </tr>\n",
       "    <tr>\n",
       "      <th>6</th>\n",
       "      <td>surprised</td>\n",
       "      <td>surprised</td>\n",
       "    </tr>\n",
       "    <tr>\n",
       "      <th>7</th>\n",
       "      <td>surprised</td>\n",
       "      <td>surprised</td>\n",
       "    </tr>\n",
       "    <tr>\n",
       "      <th>8</th>\n",
       "      <td>sad</td>\n",
       "      <td>surprised</td>\n",
       "    </tr>\n",
       "    <tr>\n",
       "      <th>9</th>\n",
       "      <td>disgust</td>\n",
       "      <td>happy</td>\n",
       "    </tr>\n",
       "  </tbody>\n",
       "</table>\n",
       "</div>"
      ],
      "text/plain": [
       "  Predicted Labels Actual Labels\n",
       "0             calm           sad\n",
       "1          disgust           sad\n",
       "2             calm           sad\n",
       "3            angry         angry\n",
       "4          disgust         angry\n",
       "5            angry         angry\n",
       "6        surprised     surprised\n",
       "7        surprised     surprised\n",
       "8              sad     surprised\n",
       "9          disgust         happy"
      ]
     },
     "execution_count": 28,
     "metadata": {},
     "output_type": "execute_result"
    }
   ],
   "source": [
    "df = pd.DataFrame(columns=['Predicted Labels', 'Actual Labels'])\n",
    "df['Predicted Labels'] = result.flatten()\n",
    "df['Actual Labels'] = labels.flatten()\n",
    "\n",
    "df.head(10)"
   ]
  },
  {
   "cell_type": "code",
   "execution_count": 29,
   "id": "77bb5b7a",
   "metadata": {},
   "outputs": [
    {
     "data": {
      "text/html": [
       "<div>\n",
       "<style scoped>\n",
       "    .dataframe tbody tr th:only-of-type {\n",
       "        vertical-align: middle;\n",
       "    }\n",
       "\n",
       "    .dataframe tbody tr th {\n",
       "        vertical-align: top;\n",
       "    }\n",
       "\n",
       "    .dataframe thead th {\n",
       "        text-align: right;\n",
       "    }\n",
       "</style>\n",
       "<table border=\"1\" class=\"dataframe\">\n",
       "  <thead>\n",
       "    <tr style=\"text-align: right;\">\n",
       "      <th></th>\n",
       "      <th>Predicted Labels</th>\n",
       "      <th>Actual Labels</th>\n",
       "    </tr>\n",
       "  </thead>\n",
       "  <tbody>\n",
       "    <tr>\n",
       "      <th>0</th>\n",
       "      <td>calm</td>\n",
       "      <td>sad</td>\n",
       "    </tr>\n",
       "    <tr>\n",
       "      <th>1</th>\n",
       "      <td>disgust</td>\n",
       "      <td>sad</td>\n",
       "    </tr>\n",
       "    <tr>\n",
       "      <th>2</th>\n",
       "      <td>calm</td>\n",
       "      <td>sad</td>\n",
       "    </tr>\n",
       "    <tr>\n",
       "      <th>3</th>\n",
       "      <td>angry</td>\n",
       "      <td>angry</td>\n",
       "    </tr>\n",
       "    <tr>\n",
       "      <th>4</th>\n",
       "      <td>disgust</td>\n",
       "      <td>angry</td>\n",
       "    </tr>\n",
       "    <tr>\n",
       "      <th>5</th>\n",
       "      <td>angry</td>\n",
       "      <td>angry</td>\n",
       "    </tr>\n",
       "    <tr>\n",
       "      <th>6</th>\n",
       "      <td>surprised</td>\n",
       "      <td>surprised</td>\n",
       "    </tr>\n",
       "    <tr>\n",
       "      <th>7</th>\n",
       "      <td>surprised</td>\n",
       "      <td>surprised</td>\n",
       "    </tr>\n",
       "    <tr>\n",
       "      <th>8</th>\n",
       "      <td>sad</td>\n",
       "      <td>surprised</td>\n",
       "    </tr>\n",
       "    <tr>\n",
       "      <th>9</th>\n",
       "      <td>disgust</td>\n",
       "      <td>happy</td>\n",
       "    </tr>\n",
       "    <tr>\n",
       "      <th>10</th>\n",
       "      <td>disgust</td>\n",
       "      <td>happy</td>\n",
       "    </tr>\n",
       "    <tr>\n",
       "      <th>11</th>\n",
       "      <td>disgust</td>\n",
       "      <td>happy</td>\n",
       "    </tr>\n",
       "    <tr>\n",
       "      <th>12</th>\n",
       "      <td>angry</td>\n",
       "      <td>fearful</td>\n",
       "    </tr>\n",
       "    <tr>\n",
       "      <th>13</th>\n",
       "      <td>disgust</td>\n",
       "      <td>fearful</td>\n",
       "    </tr>\n",
       "    <tr>\n",
       "      <th>14</th>\n",
       "      <td>disgust</td>\n",
       "      <td>fearful</td>\n",
       "    </tr>\n",
       "    <tr>\n",
       "      <th>15</th>\n",
       "      <td>disgust</td>\n",
       "      <td>sad</td>\n",
       "    </tr>\n",
       "    <tr>\n",
       "      <th>16</th>\n",
       "      <td>disgust</td>\n",
       "      <td>sad</td>\n",
       "    </tr>\n",
       "    <tr>\n",
       "      <th>17</th>\n",
       "      <td>disgust</td>\n",
       "      <td>sad</td>\n",
       "    </tr>\n",
       "    <tr>\n",
       "      <th>18</th>\n",
       "      <td>disgust</td>\n",
       "      <td>angry</td>\n",
       "    </tr>\n",
       "    <tr>\n",
       "      <th>19</th>\n",
       "      <td>angry</td>\n",
       "      <td>angry</td>\n",
       "    </tr>\n",
       "    <tr>\n",
       "      <th>20</th>\n",
       "      <td>disgust</td>\n",
       "      <td>angry</td>\n",
       "    </tr>\n",
       "    <tr>\n",
       "      <th>21</th>\n",
       "      <td>disgust</td>\n",
       "      <td>surprised</td>\n",
       "    </tr>\n",
       "    <tr>\n",
       "      <th>22</th>\n",
       "      <td>surprised</td>\n",
       "      <td>surprised</td>\n",
       "    </tr>\n",
       "    <tr>\n",
       "      <th>23</th>\n",
       "      <td>disgust</td>\n",
       "      <td>surprised</td>\n",
       "    </tr>\n",
       "    <tr>\n",
       "      <th>24</th>\n",
       "      <td>disgust</td>\n",
       "      <td>happy</td>\n",
       "    </tr>\n",
       "    <tr>\n",
       "      <th>25</th>\n",
       "      <td>disgust</td>\n",
       "      <td>happy</td>\n",
       "    </tr>\n",
       "    <tr>\n",
       "      <th>26</th>\n",
       "      <td>disgust</td>\n",
       "      <td>happy</td>\n",
       "    </tr>\n",
       "    <tr>\n",
       "      <th>27</th>\n",
       "      <td>disgust</td>\n",
       "      <td>fearful</td>\n",
       "    </tr>\n",
       "    <tr>\n",
       "      <th>28</th>\n",
       "      <td>disgust</td>\n",
       "      <td>fearful</td>\n",
       "    </tr>\n",
       "    <tr>\n",
       "      <th>29</th>\n",
       "      <td>happy</td>\n",
       "      <td>fearful</td>\n",
       "    </tr>\n",
       "    <tr>\n",
       "      <th>30</th>\n",
       "      <td>disgust</td>\n",
       "      <td>neutral</td>\n",
       "    </tr>\n",
       "    <tr>\n",
       "      <th>31</th>\n",
       "      <td>disgust</td>\n",
       "      <td>neutral</td>\n",
       "    </tr>\n",
       "    <tr>\n",
       "      <th>32</th>\n",
       "      <td>disgust</td>\n",
       "      <td>neutral</td>\n",
       "    </tr>\n",
       "    <tr>\n",
       "      <th>33</th>\n",
       "      <td>disgust</td>\n",
       "      <td>calm</td>\n",
       "    </tr>\n",
       "    <tr>\n",
       "      <th>34</th>\n",
       "      <td>disgust</td>\n",
       "      <td>calm</td>\n",
       "    </tr>\n",
       "    <tr>\n",
       "      <th>35</th>\n",
       "      <td>disgust</td>\n",
       "      <td>calm</td>\n",
       "    </tr>\n",
       "    <tr>\n",
       "      <th>36</th>\n",
       "      <td>disgust</td>\n",
       "      <td>disgust</td>\n",
       "    </tr>\n",
       "    <tr>\n",
       "      <th>37</th>\n",
       "      <td>disgust</td>\n",
       "      <td>disgust</td>\n",
       "    </tr>\n",
       "    <tr>\n",
       "      <th>38</th>\n",
       "      <td>disgust</td>\n",
       "      <td>disgust</td>\n",
       "    </tr>\n",
       "  </tbody>\n",
       "</table>\n",
       "</div>"
      ],
      "text/plain": [
       "   Predicted Labels Actual Labels\n",
       "0              calm           sad\n",
       "1           disgust           sad\n",
       "2              calm           sad\n",
       "3             angry         angry\n",
       "4           disgust         angry\n",
       "5             angry         angry\n",
       "6         surprised     surprised\n",
       "7         surprised     surprised\n",
       "8               sad     surprised\n",
       "9           disgust         happy\n",
       "10          disgust         happy\n",
       "11          disgust         happy\n",
       "12            angry       fearful\n",
       "13          disgust       fearful\n",
       "14          disgust       fearful\n",
       "15          disgust           sad\n",
       "16          disgust           sad\n",
       "17          disgust           sad\n",
       "18          disgust         angry\n",
       "19            angry         angry\n",
       "20          disgust         angry\n",
       "21          disgust     surprised\n",
       "22        surprised     surprised\n",
       "23          disgust     surprised\n",
       "24          disgust         happy\n",
       "25          disgust         happy\n",
       "26          disgust         happy\n",
       "27          disgust       fearful\n",
       "28          disgust       fearful\n",
       "29            happy       fearful\n",
       "30          disgust       neutral\n",
       "31          disgust       neutral\n",
       "32          disgust       neutral\n",
       "33          disgust          calm\n",
       "34          disgust          calm\n",
       "35          disgust          calm\n",
       "36          disgust       disgust\n",
       "37          disgust       disgust\n",
       "38          disgust       disgust"
      ]
     },
     "execution_count": 29,
     "metadata": {},
     "output_type": "execute_result"
    }
   ],
   "source": [
    "df"
   ]
  }
 ],
 "metadata": {
  "kernelspec": {
   "display_name": "Python 3",
   "language": "python",
   "name": "python3"
  },
  "language_info": {
   "codemirror_mode": {
    "name": "ipython",
    "version": 3
   },
   "file_extension": ".py",
   "mimetype": "text/x-python",
   "name": "python",
   "nbconvert_exporter": "python",
   "pygments_lexer": "ipython3",
   "version": "3.8.8"
  }
 },
 "nbformat": 4,
 "nbformat_minor": 5
}
