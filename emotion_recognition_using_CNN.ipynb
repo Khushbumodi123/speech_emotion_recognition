{
  "cells": [
    {
      "cell_type": "markdown",
      "metadata": {
        "id": "view-in-github",
        "colab_type": "text"
      },
      "source": [
        "<a href=\"https://colab.research.google.com/github/shivanijoshi05/speech_emotion_recognition/blob/main/emotion_recognition_using_CNN.ipynb\" target=\"_parent\"><img src=\"https://colab.research.google.com/assets/colab-badge.svg\" alt=\"Open In Colab\"/></a>"
      ]
    },
    {
      "cell_type": "markdown",
      "id": "6bb02412",
      "metadata": {
        "id": "6bb02412"
      },
      "source": [
        "# Emotion Recognition using CNN"
      ]
    },
    {
      "cell_type": "markdown",
      "id": "6f31d869",
      "metadata": {
        "id": "6f31d869"
      },
      "source": [
        "Importing libraries"
      ]
    },
    {
      "cell_type": "code",
      "execution_count": 1,
      "id": "31a57580",
      "metadata": {
        "id": "31a57580"
      },
      "outputs": [],
      "source": [
        "import pandas as pd\n",
        "import numpy as np\n",
        "\n",
        "import os\n",
        "import sys\n",
        "\n",
        "# librosa is a Python library for analyzing audio and music. It can be used to extract the data from the audio files we will see it later.\n",
        "import librosa\n",
        "import librosa.display\n",
        "\n",
        "import seaborn as sns\n",
        "import matplotlib.pyplot as plt\n",
        "\n",
        "from sklearn.preprocessing import StandardScaler, OneHotEncoder\n",
        "from sklearn.metrics import confusion_matrix, classification_report\n",
        "from sklearn.model_selection import train_test_split\n",
        "\n",
        "# to play the audio files\n",
        "from IPython.display import Audio\n",
        "\n",
        "import keras\n",
        "from keras.callbacks import ReduceLROnPlateau\n",
        "from keras.models import Sequential\n",
        "from keras.layers import Dense, Conv1D, MaxPooling1D, Flatten, Dropout, BatchNormalization\n",
        "from keras.callbacks import ModelCheckpoint\n",
        "\n",
        "import warnings\n",
        "if not sys.warnoptions:\n",
        "    warnings.simplefilter(\"ignore\")\n",
        "warnings.filterwarnings(\"ignore\", category=DeprecationWarning) "
      ]
    },
    {
      "cell_type": "code",
      "source": [
        "from google.colab import drive\n",
        "import glob\n",
        "drive.mount('/content/drive')"
      ],
      "metadata": {
        "colab": {
          "base_uri": "https://localhost:8080/"
        },
        "id": "LvN_YFhhG5d0",
        "outputId": "070aed91-79b2-43e6-8e4f-abe7ade48716"
      },
      "id": "LvN_YFhhG5d0",
      "execution_count": 2,
      "outputs": [
        {
          "output_type": "stream",
          "name": "stdout",
          "text": [
            "Mounted at /content/drive\n"
          ]
        }
      ]
    },
    {
      "cell_type": "markdown",
      "id": "d494f0aa",
      "metadata": {
        "id": "d494f0aa"
      },
      "source": [
        "loading dataset"
      ]
    },
    {
      "cell_type": "code",
      "execution_count": 7,
      "id": "e6f24196",
      "metadata": {
        "id": "e6f24196"
      },
      "outputs": [],
      "source": [
        "path = glob.glob('/content/drive/MyDrive/speech_emotion_recognition/*.*')\n",
        "data = pd.read_csv(path[-1])"
      ]
    },
    {
      "cell_type": "code",
      "execution_count": 8,
      "id": "f74e2bc5",
      "metadata": {
        "id": "f74e2bc5",
        "outputId": "ad85ebf0-9e4f-46da-fc42-31a18cabebbe",
        "colab": {
          "base_uri": "https://localhost:8080/",
          "height": 299
        }
      },
      "outputs": [
        {
          "output_type": "execute_result",
          "data": {
            "text/plain": [
              "            0          1          2          3         4         5          6  \\\n",
              "0 -655.344543  86.649872 -12.361262  28.343275 -0.276913  9.111377 -10.830961   \n",
              "1 -597.755470  68.313810  -5.464898  20.184578  3.788270  3.487281  -7.885428   \n",
              "2 -724.306396  84.484604 -14.169168  31.050007 -3.062018  9.604833 -14.446255   \n",
              "3 -645.409851  87.810638 -17.773392  33.468960 -0.936478  8.191231  -9.919904   \n",
              "4 -404.925306  23.164804   9.385671   8.897342  4.922053 -0.220186  -2.471936   \n",
              "\n",
              "          7          8         9  ...        11        12        13        14  \\\n",
              "0 -0.023427 -17.030333 -3.272646  ... -5.887830  4.827703 -7.893806  3.420066   \n",
              "1 -4.084610 -14.670673 -5.026546  ... -4.231448  2.109232 -5.899222  0.484595   \n",
              "2 -0.219572 -20.590328  2.435988  ... -4.019654  3.011943 -8.108849  3.908970   \n",
              "3 -3.311972 -18.590483 -2.199426  ... -6.660094  3.893641 -8.572474  2.928271   \n",
              "4 -5.645275  -7.439860 -4.069184  ... -1.902841 -1.711366 -1.941230 -0.232068   \n",
              "\n",
              "         15        16        17        18        19   labels  \n",
              "0 -1.663579 -3.320956 -4.437192 -0.790467 -2.032093  neutral  \n",
              "1 -1.115013 -4.200195 -4.516998 -1.035014 -2.638597  neutral  \n",
              "2 -5.971782 -3.685823 -5.657763  2.423672 -4.886151  neutral  \n",
              "3 -3.344517 -3.604978 -4.101902 -1.308776 -0.581940  neutral  \n",
              "4 -0.532318 -3.133515 -2.275211 -0.308963 -1.582655  neutral  \n",
              "\n",
              "[5 rows x 21 columns]"
            ],
            "text/html": [
              "\n",
              "  <div id=\"df-bd4c2031-f9d8-49e0-a84d-388a4e9e1f7f\">\n",
              "    <div class=\"colab-df-container\">\n",
              "      <div>\n",
              "<style scoped>\n",
              "    .dataframe tbody tr th:only-of-type {\n",
              "        vertical-align: middle;\n",
              "    }\n",
              "\n",
              "    .dataframe tbody tr th {\n",
              "        vertical-align: top;\n",
              "    }\n",
              "\n",
              "    .dataframe thead th {\n",
              "        text-align: right;\n",
              "    }\n",
              "</style>\n",
              "<table border=\"1\" class=\"dataframe\">\n",
              "  <thead>\n",
              "    <tr style=\"text-align: right;\">\n",
              "      <th></th>\n",
              "      <th>0</th>\n",
              "      <th>1</th>\n",
              "      <th>2</th>\n",
              "      <th>3</th>\n",
              "      <th>4</th>\n",
              "      <th>5</th>\n",
              "      <th>6</th>\n",
              "      <th>7</th>\n",
              "      <th>8</th>\n",
              "      <th>9</th>\n",
              "      <th>...</th>\n",
              "      <th>11</th>\n",
              "      <th>12</th>\n",
              "      <th>13</th>\n",
              "      <th>14</th>\n",
              "      <th>15</th>\n",
              "      <th>16</th>\n",
              "      <th>17</th>\n",
              "      <th>18</th>\n",
              "      <th>19</th>\n",
              "      <th>labels</th>\n",
              "    </tr>\n",
              "  </thead>\n",
              "  <tbody>\n",
              "    <tr>\n",
              "      <th>0</th>\n",
              "      <td>-655.344543</td>\n",
              "      <td>86.649872</td>\n",
              "      <td>-12.361262</td>\n",
              "      <td>28.343275</td>\n",
              "      <td>-0.276913</td>\n",
              "      <td>9.111377</td>\n",
              "      <td>-10.830961</td>\n",
              "      <td>-0.023427</td>\n",
              "      <td>-17.030333</td>\n",
              "      <td>-3.272646</td>\n",
              "      <td>...</td>\n",
              "      <td>-5.887830</td>\n",
              "      <td>4.827703</td>\n",
              "      <td>-7.893806</td>\n",
              "      <td>3.420066</td>\n",
              "      <td>-1.663579</td>\n",
              "      <td>-3.320956</td>\n",
              "      <td>-4.437192</td>\n",
              "      <td>-0.790467</td>\n",
              "      <td>-2.032093</td>\n",
              "      <td>neutral</td>\n",
              "    </tr>\n",
              "    <tr>\n",
              "      <th>1</th>\n",
              "      <td>-597.755470</td>\n",
              "      <td>68.313810</td>\n",
              "      <td>-5.464898</td>\n",
              "      <td>20.184578</td>\n",
              "      <td>3.788270</td>\n",
              "      <td>3.487281</td>\n",
              "      <td>-7.885428</td>\n",
              "      <td>-4.084610</td>\n",
              "      <td>-14.670673</td>\n",
              "      <td>-5.026546</td>\n",
              "      <td>...</td>\n",
              "      <td>-4.231448</td>\n",
              "      <td>2.109232</td>\n",
              "      <td>-5.899222</td>\n",
              "      <td>0.484595</td>\n",
              "      <td>-1.115013</td>\n",
              "      <td>-4.200195</td>\n",
              "      <td>-4.516998</td>\n",
              "      <td>-1.035014</td>\n",
              "      <td>-2.638597</td>\n",
              "      <td>neutral</td>\n",
              "    </tr>\n",
              "    <tr>\n",
              "      <th>2</th>\n",
              "      <td>-724.306396</td>\n",
              "      <td>84.484604</td>\n",
              "      <td>-14.169168</td>\n",
              "      <td>31.050007</td>\n",
              "      <td>-3.062018</td>\n",
              "      <td>9.604833</td>\n",
              "      <td>-14.446255</td>\n",
              "      <td>-0.219572</td>\n",
              "      <td>-20.590328</td>\n",
              "      <td>2.435988</td>\n",
              "      <td>...</td>\n",
              "      <td>-4.019654</td>\n",
              "      <td>3.011943</td>\n",
              "      <td>-8.108849</td>\n",
              "      <td>3.908970</td>\n",
              "      <td>-5.971782</td>\n",
              "      <td>-3.685823</td>\n",
              "      <td>-5.657763</td>\n",
              "      <td>2.423672</td>\n",
              "      <td>-4.886151</td>\n",
              "      <td>neutral</td>\n",
              "    </tr>\n",
              "    <tr>\n",
              "      <th>3</th>\n",
              "      <td>-645.409851</td>\n",
              "      <td>87.810638</td>\n",
              "      <td>-17.773392</td>\n",
              "      <td>33.468960</td>\n",
              "      <td>-0.936478</td>\n",
              "      <td>8.191231</td>\n",
              "      <td>-9.919904</td>\n",
              "      <td>-3.311972</td>\n",
              "      <td>-18.590483</td>\n",
              "      <td>-2.199426</td>\n",
              "      <td>...</td>\n",
              "      <td>-6.660094</td>\n",
              "      <td>3.893641</td>\n",
              "      <td>-8.572474</td>\n",
              "      <td>2.928271</td>\n",
              "      <td>-3.344517</td>\n",
              "      <td>-3.604978</td>\n",
              "      <td>-4.101902</td>\n",
              "      <td>-1.308776</td>\n",
              "      <td>-0.581940</td>\n",
              "      <td>neutral</td>\n",
              "    </tr>\n",
              "    <tr>\n",
              "      <th>4</th>\n",
              "      <td>-404.925306</td>\n",
              "      <td>23.164804</td>\n",
              "      <td>9.385671</td>\n",
              "      <td>8.897342</td>\n",
              "      <td>4.922053</td>\n",
              "      <td>-0.220186</td>\n",
              "      <td>-2.471936</td>\n",
              "      <td>-5.645275</td>\n",
              "      <td>-7.439860</td>\n",
              "      <td>-4.069184</td>\n",
              "      <td>...</td>\n",
              "      <td>-1.902841</td>\n",
              "      <td>-1.711366</td>\n",
              "      <td>-1.941230</td>\n",
              "      <td>-0.232068</td>\n",
              "      <td>-0.532318</td>\n",
              "      <td>-3.133515</td>\n",
              "      <td>-2.275211</td>\n",
              "      <td>-0.308963</td>\n",
              "      <td>-1.582655</td>\n",
              "      <td>neutral</td>\n",
              "    </tr>\n",
              "  </tbody>\n",
              "</table>\n",
              "<p>5 rows × 21 columns</p>\n",
              "</div>\n",
              "      <button class=\"colab-df-convert\" onclick=\"convertToInteractive('df-bd4c2031-f9d8-49e0-a84d-388a4e9e1f7f')\"\n",
              "              title=\"Convert this dataframe to an interactive table.\"\n",
              "              style=\"display:none;\">\n",
              "        \n",
              "  <svg xmlns=\"http://www.w3.org/2000/svg\" height=\"24px\"viewBox=\"0 0 24 24\"\n",
              "       width=\"24px\">\n",
              "    <path d=\"M0 0h24v24H0V0z\" fill=\"none\"/>\n",
              "    <path d=\"M18.56 5.44l.94 2.06.94-2.06 2.06-.94-2.06-.94-.94-2.06-.94 2.06-2.06.94zm-11 1L8.5 8.5l.94-2.06 2.06-.94-2.06-.94L8.5 2.5l-.94 2.06-2.06.94zm10 10l.94 2.06.94-2.06 2.06-.94-2.06-.94-.94-2.06-.94 2.06-2.06.94z\"/><path d=\"M17.41 7.96l-1.37-1.37c-.4-.4-.92-.59-1.43-.59-.52 0-1.04.2-1.43.59L10.3 9.45l-7.72 7.72c-.78.78-.78 2.05 0 2.83L4 21.41c.39.39.9.59 1.41.59.51 0 1.02-.2 1.41-.59l7.78-7.78 2.81-2.81c.8-.78.8-2.07 0-2.86zM5.41 20L4 18.59l7.72-7.72 1.47 1.35L5.41 20z\"/>\n",
              "  </svg>\n",
              "      </button>\n",
              "      \n",
              "  <style>\n",
              "    .colab-df-container {\n",
              "      display:flex;\n",
              "      flex-wrap:wrap;\n",
              "      gap: 12px;\n",
              "    }\n",
              "\n",
              "    .colab-df-convert {\n",
              "      background-color: #E8F0FE;\n",
              "      border: none;\n",
              "      border-radius: 50%;\n",
              "      cursor: pointer;\n",
              "      display: none;\n",
              "      fill: #1967D2;\n",
              "      height: 32px;\n",
              "      padding: 0 0 0 0;\n",
              "      width: 32px;\n",
              "    }\n",
              "\n",
              "    .colab-df-convert:hover {\n",
              "      background-color: #E2EBFA;\n",
              "      box-shadow: 0px 1px 2px rgba(60, 64, 67, 0.3), 0px 1px 3px 1px rgba(60, 64, 67, 0.15);\n",
              "      fill: #174EA6;\n",
              "    }\n",
              "\n",
              "    [theme=dark] .colab-df-convert {\n",
              "      background-color: #3B4455;\n",
              "      fill: #D2E3FC;\n",
              "    }\n",
              "\n",
              "    [theme=dark] .colab-df-convert:hover {\n",
              "      background-color: #434B5C;\n",
              "      box-shadow: 0px 1px 3px 1px rgba(0, 0, 0, 0.15);\n",
              "      filter: drop-shadow(0px 1px 2px rgba(0, 0, 0, 0.3));\n",
              "      fill: #FFFFFF;\n",
              "    }\n",
              "  </style>\n",
              "\n",
              "      <script>\n",
              "        const buttonEl =\n",
              "          document.querySelector('#df-bd4c2031-f9d8-49e0-a84d-388a4e9e1f7f button.colab-df-convert');\n",
              "        buttonEl.style.display =\n",
              "          google.colab.kernel.accessAllowed ? 'block' : 'none';\n",
              "\n",
              "        async function convertToInteractive(key) {\n",
              "          const element = document.querySelector('#df-bd4c2031-f9d8-49e0-a84d-388a4e9e1f7f');\n",
              "          const dataTable =\n",
              "            await google.colab.kernel.invokeFunction('convertToInteractive',\n",
              "                                                     [key], {});\n",
              "          if (!dataTable) return;\n",
              "\n",
              "          const docLinkHtml = 'Like what you see? Visit the ' +\n",
              "            '<a target=\"_blank\" href=https://colab.research.google.com/notebooks/data_table.ipynb>data table notebook</a>'\n",
              "            + ' to learn more about interactive tables.';\n",
              "          element.innerHTML = '';\n",
              "          dataTable['output_type'] = 'display_data';\n",
              "          await google.colab.output.renderOutput(dataTable, element);\n",
              "          const docLink = document.createElement('div');\n",
              "          docLink.innerHTML = docLinkHtml;\n",
              "          element.appendChild(docLink);\n",
              "        }\n",
              "      </script>\n",
              "    </div>\n",
              "  </div>\n",
              "  "
            ]
          },
          "metadata": {},
          "execution_count": 8
        }
      ],
      "source": [
        "data.head()"
      ]
    },
    {
      "cell_type": "code",
      "execution_count": 9,
      "id": "064df167",
      "metadata": {
        "id": "064df167",
        "outputId": "01ea1a2c-ceea-49ee-9fcd-fadda9b3c458",
        "colab": {
          "base_uri": "https://localhost:8080/"
        }
      },
      "outputs": [
        {
          "output_type": "execute_result",
          "data": {
            "text/plain": [
              "calm         960\n",
              "happy        960\n",
              "sad          960\n",
              "angry        960\n",
              "fearful      960\n",
              "disgust      960\n",
              "surprised    960\n",
              "neutral      480\n",
              "Name: labels, dtype: int64"
            ]
          },
          "metadata": {},
          "execution_count": 9
        }
      ],
      "source": [
        "data['labels'].value_counts()"
      ]
    },
    {
      "cell_type": "markdown",
      "id": "6f853dcf",
      "metadata": {
        "id": "6f853dcf"
      },
      "source": [
        "splitting the data"
      ]
    },
    {
      "cell_type": "code",
      "execution_count": 10,
      "id": "e36155ce",
      "metadata": {
        "id": "e36155ce"
      },
      "outputs": [],
      "source": [
        "X = data.iloc[: ,:-1].values\n",
        "Y = data['labels'].values"
      ]
    },
    {
      "cell_type": "code",
      "execution_count": 11,
      "id": "ca39fe94",
      "metadata": {
        "id": "ca39fe94"
      },
      "outputs": [],
      "source": [
        "encoder = OneHotEncoder()\n",
        "Y = encoder.fit_transform(np.array(Y).reshape(-1,1)).toarray()"
      ]
    },
    {
      "cell_type": "code",
      "execution_count": 12,
      "id": "d1965c27",
      "metadata": {
        "id": "d1965c27"
      },
      "outputs": [],
      "source": [
        "X_train, X_test, y_train, y_test = train_test_split(X, Y, random_state=0, shuffle=True)"
      ]
    },
    {
      "cell_type": "code",
      "execution_count": 13,
      "id": "4561c299",
      "metadata": {
        "id": "4561c299",
        "outputId": "eab5bc44-d002-4484-96fb-67046495f69c",
        "colab": {
          "base_uri": "https://localhost:8080/"
        }
      },
      "outputs": [
        {
          "output_type": "stream",
          "name": "stdout",
          "text": [
            "(5400, 20)\n",
            "(1800, 20)\n"
          ]
        }
      ],
      "source": [
        "print(X_train.shape)\n",
        "print(X_test.shape)"
      ]
    },
    {
      "cell_type": "code",
      "execution_count": 14,
      "id": "58a26492",
      "metadata": {
        "id": "58a26492",
        "outputId": "d1043409-6722-4e79-9099-a2958ad9b39a",
        "colab": {
          "base_uri": "https://localhost:8080/"
        }
      },
      "outputs": [
        {
          "output_type": "stream",
          "name": "stdout",
          "text": [
            "(5400, 8)\n",
            "(1800, 8)\n"
          ]
        }
      ],
      "source": [
        "print(y_train.shape)\n",
        "print(y_test.shape)"
      ]
    },
    {
      "cell_type": "code",
      "execution_count": 15,
      "id": "2acd68e5",
      "metadata": {
        "id": "2acd68e5",
        "outputId": "d626f52d-91b0-40e8-9082-2aab53366e64",
        "colab": {
          "base_uri": "https://localhost:8080/"
        }
      },
      "outputs": [
        {
          "output_type": "execute_result",
          "data": {
            "text/plain": [
              "((5400, 20), (5400, 8), (1800, 20), (1800, 8))"
            ]
          },
          "metadata": {},
          "execution_count": 15
        }
      ],
      "source": [
        "scaler = StandardScaler()\n",
        "X_train = scaler.fit_transform(X_train)\n",
        "X_test = scaler.transform(X_test)\n",
        "X_train.shape, y_train.shape, X_test.shape, y_test.shape"
      ]
    },
    {
      "cell_type": "code",
      "execution_count": 16,
      "id": "9895677f",
      "metadata": {
        "id": "9895677f",
        "outputId": "4e92b5e2-d6dd-4d39-90d1-87842ed1c84a",
        "colab": {
          "base_uri": "https://localhost:8080/"
        }
      },
      "outputs": [
        {
          "output_type": "execute_result",
          "data": {
            "text/plain": [
              "((5400, 20, 1), (5400, 8), (1800, 20, 1), (1800, 8))"
            ]
          },
          "metadata": {},
          "execution_count": 16
        }
      ],
      "source": [
        "# making our data compatible to model.\n",
        "X_train = np.expand_dims(X_train, axis=2)\n",
        "X_test = np.expand_dims(X_test, axis=2)\n",
        "X_train.shape, y_train.shape, X_test.shape, y_test.shape"
      ]
    },
    {
      "cell_type": "markdown",
      "source": [
        "CNN Model Training"
      ],
      "metadata": {
        "id": "2ryrUviRMYJ1"
      },
      "id": "2ryrUviRMYJ1"
    },
    {
      "cell_type": "code",
      "execution_count": 20,
      "id": "e71842ed",
      "metadata": {
        "id": "e71842ed",
        "outputId": "1e1d5747-16c6-441c-827c-c8d8625fc799",
        "colab": {
          "base_uri": "https://localhost:8080/"
        }
      },
      "outputs": [
        {
          "output_type": "stream",
          "name": "stdout",
          "text": [
            "Model: \"sequential_1\"\n",
            "_________________________________________________________________\n",
            " Layer (type)                Output Shape              Param #   \n",
            "=================================================================\n",
            " conv1d_3 (Conv1D)           (None, 20, 256)           1536      \n",
            "                                                                 \n",
            " max_pooling1d_3 (MaxPooling  (None, 10, 256)          0         \n",
            " 1D)                                                             \n",
            "                                                                 \n",
            " conv1d_4 (Conv1D)           (None, 10, 128)           163968    \n",
            "                                                                 \n",
            " max_pooling1d_4 (MaxPooling  (None, 5, 128)           0         \n",
            " 1D)                                                             \n",
            "                                                                 \n",
            " dropout_2 (Dropout)         (None, 5, 128)            0         \n",
            "                                                                 \n",
            " conv1d_5 (Conv1D)           (None, 5, 64)             41024     \n",
            "                                                                 \n",
            " max_pooling1d_5 (MaxPooling  (None, 3, 64)            0         \n",
            " 1D)                                                             \n",
            "                                                                 \n",
            " flatten_1 (Flatten)         (None, 192)               0         \n",
            "                                                                 \n",
            " dense_2 (Dense)             (None, 32)                6176      \n",
            "                                                                 \n",
            " dropout_3 (Dropout)         (None, 32)                0         \n",
            "                                                                 \n",
            " dense_3 (Dense)             (None, 8)                 264       \n",
            "                                                                 \n",
            "=================================================================\n",
            "Total params: 212,968\n",
            "Trainable params: 212,968\n",
            "Non-trainable params: 0\n",
            "_________________________________________________________________\n"
          ]
        }
      ],
      "source": [
        "import tensorflow\n",
        "from tensorflow import keras\n",
        "from keras import layers\n",
        "from keras.models import Sequential\n",
        "from keras.layers import Conv1D, MaxPooling1D, AveragePooling1D\n",
        "from keras.layers import Input, Flatten, Dropout, Activation, BatchNormalization, Dense\n",
        "from sklearn.model_selection import GridSearchCV\n",
        "from keras.wrappers.scikit_learn import KerasClassifier\n",
        "from tensorflow.keras.optimizers import SGD\n",
        "from keras.regularizers import l2\n",
        "from keras.callbacks import ReduceLROnPlateau\n",
        "from keras.callbacks import EarlyStopping, ModelCheckpoint\n",
        "\n",
        "\n",
        "model=Sequential()\n",
        "model.add(Conv1D(256, kernel_size=5, padding='same', activation='relu', input_shape=(X_train.shape[1], 1)))\n",
        "model.add(MaxPooling1D(pool_size=2, padding = 'same'))\n",
        "\n",
        "model.add(Conv1D(128, kernel_size=5, padding='same', activation='relu',kernel_regularizer=l2(0.001), bias_regularizer=l2(0.001)))\n",
        "model.add(MaxPooling1D(pool_size=2, padding = 'same'))\n",
        "model.add(Dropout(0.2))\n",
        "\n",
        "model.add(Conv1D(64, kernel_size=5, padding='same', activation='relu'))\n",
        "model.add(MaxPooling1D(pool_size=2, padding = 'same'))\n",
        "\n",
        "\n",
        "model.add(Flatten())\n",
        "model.add(Dense(units=32, activation='relu'))\n",
        "model.add(Dropout(0.3))\n",
        "\n",
        "model.add(Dense(units=8, activation='softmax'))\n",
        "model.compile(optimizer = 'adam' , loss = 'categorical_crossentropy' , metrics = ['accuracy'])\n",
        "\n",
        "model.summary()"
      ]
    },
    {
      "cell_type": "code",
      "execution_count": 22,
      "id": "cd03128b",
      "metadata": {
        "id": "cd03128b",
        "outputId": "788798d7-cd98-4133-e9b7-e40296cba9e3",
        "colab": {
          "base_uri": "https://localhost:8080/"
        }
      },
      "outputs": [
        {
          "output_type": "stream",
          "name": "stdout",
          "text": [
            "Epoch 1/50\n",
            "85/85 [==============================] - 5s 59ms/step - loss: 0.5699 - accuracy: 0.8419 - val_loss: 0.8113 - val_accuracy: 0.7628 - lr: 4.0000e-04\n",
            "Epoch 2/50\n",
            "85/85 [==============================] - 5s 58ms/step - loss: 0.5577 - accuracy: 0.8520 - val_loss: 0.8174 - val_accuracy: 0.7544 - lr: 4.0000e-04\n",
            "Epoch 3/50\n",
            "85/85 [==============================] - 7s 84ms/step - loss: 0.5506 - accuracy: 0.8511 - val_loss: 0.7981 - val_accuracy: 0.7600 - lr: 4.0000e-04\n",
            "Epoch 4/50\n",
            "85/85 [==============================] - 8s 100ms/step - loss: 0.5292 - accuracy: 0.8569 - val_loss: 0.8149 - val_accuracy: 0.7639 - lr: 4.0000e-04\n",
            "Epoch 5/50\n",
            "85/85 [==============================] - 9s 105ms/step - loss: 0.5309 - accuracy: 0.8578 - val_loss: 0.7986 - val_accuracy: 0.7633 - lr: 4.0000e-04\n",
            "Epoch 6/50\n",
            "84/85 [============================>.] - ETA: 0s - loss: 0.5335 - accuracy: 0.8564\n",
            "Epoch 6: ReduceLROnPlateau reducing learning rate to 0.00016000000759959222.\n",
            "85/85 [==============================] - 9s 107ms/step - loss: 0.5330 - accuracy: 0.8563 - val_loss: 0.8070 - val_accuracy: 0.7622 - lr: 4.0000e-04\n",
            "Epoch 7/50\n",
            "85/85 [==============================] - 9s 103ms/step - loss: 0.5010 - accuracy: 0.8669 - val_loss: 0.7834 - val_accuracy: 0.7728 - lr: 1.6000e-04\n",
            "Epoch 8/50\n",
            "85/85 [==============================] - 6s 69ms/step - loss: 0.4832 - accuracy: 0.8748 - val_loss: 0.7759 - val_accuracy: 0.7711 - lr: 1.6000e-04\n",
            "Epoch 9/50\n",
            "85/85 [==============================] - 5s 58ms/step - loss: 0.4842 - accuracy: 0.8722 - val_loss: 0.7754 - val_accuracy: 0.7772 - lr: 1.6000e-04\n",
            "Epoch 10/50\n",
            "84/85 [============================>.] - ETA: 0s - loss: 0.4868 - accuracy: 0.8698\n",
            "Epoch 10: ReduceLROnPlateau reducing learning rate to 6.40000042039901e-05.\n",
            "85/85 [==============================] - 5s 57ms/step - loss: 0.4868 - accuracy: 0.8698 - val_loss: 0.7707 - val_accuracy: 0.7794 - lr: 1.6000e-04\n",
            "Epoch 11/50\n",
            "85/85 [==============================] - 5s 57ms/step - loss: 0.4636 - accuracy: 0.8822 - val_loss: 0.7758 - val_accuracy: 0.7783 - lr: 6.4000e-05\n",
            "Epoch 12/50\n",
            "85/85 [==============================] - 5s 57ms/step - loss: 0.4610 - accuracy: 0.8831 - val_loss: 0.7788 - val_accuracy: 0.7739 - lr: 6.4000e-05\n",
            "Epoch 13/50\n",
            "85/85 [==============================] - 5s 58ms/step - loss: 0.4702 - accuracy: 0.8769 - val_loss: 0.7724 - val_accuracy: 0.7772 - lr: 6.4000e-05\n",
            "Epoch 14/50\n",
            "84/85 [============================>.] - ETA: 0s - loss: 0.4623 - accuracy: 0.8824\n",
            "Epoch 14: ReduceLROnPlateau reducing learning rate to 2.560000284574926e-05.\n",
            "85/85 [==============================] - 5s 58ms/step - loss: 0.4630 - accuracy: 0.8824 - val_loss: 0.7690 - val_accuracy: 0.7772 - lr: 6.4000e-05\n",
            "Epoch 15/50\n",
            "85/85 [==============================] - 5s 59ms/step - loss: 0.4606 - accuracy: 0.8806 - val_loss: 0.7680 - val_accuracy: 0.7811 - lr: 2.5600e-05\n",
            "Epoch 16/50\n",
            "85/85 [==============================] - 5s 57ms/step - loss: 0.4460 - accuracy: 0.8907 - val_loss: 0.7683 - val_accuracy: 0.7772 - lr: 2.5600e-05\n",
            "Epoch 17/50\n",
            "85/85 [==============================] - 5s 57ms/step - loss: 0.4453 - accuracy: 0.8872 - val_loss: 0.7672 - val_accuracy: 0.7750 - lr: 2.5600e-05\n",
            "Epoch 18/50\n",
            "85/85 [==============================] - 5s 57ms/step - loss: 0.4603 - accuracy: 0.8759 - val_loss: 0.7675 - val_accuracy: 0.7817 - lr: 2.5600e-05\n",
            "Epoch 19/50\n",
            "84/85 [============================>.] - ETA: 0s - loss: 0.4534 - accuracy: 0.8852\n",
            "Epoch 19: ReduceLROnPlateau reducing learning rate to 1.0240000847261399e-05.\n",
            "85/85 [==============================] - 5s 59ms/step - loss: 0.4532 - accuracy: 0.8854 - val_loss: 0.7683 - val_accuracy: 0.7744 - lr: 2.5600e-05\n",
            "Epoch 20/50\n",
            "85/85 [==============================] - 5s 57ms/step - loss: 0.4631 - accuracy: 0.8789 - val_loss: 0.7664 - val_accuracy: 0.7744 - lr: 1.0240e-05\n",
            "Epoch 21/50\n",
            "84/85 [============================>.] - ETA: 0s - loss: 0.4632 - accuracy: 0.8778\n",
            "Epoch 21: ReduceLROnPlateau reducing learning rate to 4.09600033890456e-06.\n",
            "85/85 [==============================] - 5s 58ms/step - loss: 0.4633 - accuracy: 0.8776 - val_loss: 0.7675 - val_accuracy: 0.7739 - lr: 1.0240e-05\n",
            "Epoch 22/50\n",
            "85/85 [==============================] - 5s 58ms/step - loss: 0.4413 - accuracy: 0.8913 - val_loss: 0.7679 - val_accuracy: 0.7744 - lr: 4.0960e-06\n",
            "Epoch 23/50\n",
            "85/85 [==============================] - 5s 57ms/step - loss: 0.4487 - accuracy: 0.8843 - val_loss: 0.7677 - val_accuracy: 0.7756 - lr: 4.0960e-06\n",
            "Epoch 24/50\n",
            "85/85 [==============================] - 5s 56ms/step - loss: 0.4391 - accuracy: 0.8874 - val_loss: 0.7679 - val_accuracy: 0.7772 - lr: 4.0960e-06\n",
            "Epoch 25/50\n",
            "85/85 [==============================] - 5s 58ms/step - loss: 0.4390 - accuracy: 0.8909 - val_loss: 0.7675 - val_accuracy: 0.7767 - lr: 4.0960e-06\n",
            "Epoch 26/50\n",
            "84/85 [============================>.] - ETA: 0s - loss: 0.4534 - accuracy: 0.8862\n",
            "Epoch 26: ReduceLROnPlateau reducing learning rate to 1.6384001355618238e-06.\n",
            "85/85 [==============================] - 6s 66ms/step - loss: 0.4536 - accuracy: 0.8859 - val_loss: 0.7675 - val_accuracy: 0.7778 - lr: 4.0960e-06\n",
            "Epoch 27/50\n",
            "85/85 [==============================] - 5s 57ms/step - loss: 0.4367 - accuracy: 0.8904 - val_loss: 0.7675 - val_accuracy: 0.7783 - lr: 1.6384e-06\n",
            "Epoch 28/50\n",
            "85/85 [==============================] - 5s 57ms/step - loss: 0.4517 - accuracy: 0.8852 - val_loss: 0.7676 - val_accuracy: 0.7789 - lr: 1.6384e-06\n",
            "Epoch 29/50\n",
            "84/85 [============================>.] - ETA: 0s - loss: 0.4513 - accuracy: 0.8832\n",
            "Epoch 29: ReduceLROnPlateau reducing learning rate to 6.553600542247295e-07.\n",
            "85/85 [==============================] - 5s 57ms/step - loss: 0.4518 - accuracy: 0.8831 - val_loss: 0.7678 - val_accuracy: 0.7778 - lr: 1.6384e-06\n",
            "Epoch 30/50\n",
            "85/85 [==============================] - 5s 56ms/step - loss: 0.4502 - accuracy: 0.8865 - val_loss: 0.7678 - val_accuracy: 0.7772 - lr: 6.5536e-07\n",
            "Epoch 31/50\n",
            "84/85 [============================>.] - ETA: 0s - loss: 0.4513 - accuracy: 0.8888\n",
            "Epoch 31: ReduceLROnPlateau reducing learning rate to 2.6214402168989184e-07.\n",
            "85/85 [==============================] - 5s 57ms/step - loss: 0.4511 - accuracy: 0.8885 - val_loss: 0.7679 - val_accuracy: 0.7778 - lr: 6.5536e-07\n",
            "Epoch 32/50\n",
            "85/85 [==============================] - 5s 57ms/step - loss: 0.4584 - accuracy: 0.8837 - val_loss: 0.7679 - val_accuracy: 0.7778 - lr: 2.6214e-07\n",
            "Epoch 33/50\n",
            "84/85 [============================>.] - ETA: 0s - loss: 0.4531 - accuracy: 0.8832\n",
            "Epoch 33: ReduceLROnPlateau reducing learning rate to 1.0485761094969349e-07.\n",
            "85/85 [==============================] - 5s 58ms/step - loss: 0.4542 - accuracy: 0.8828 - val_loss: 0.7679 - val_accuracy: 0.7778 - lr: 2.6214e-07\n",
            "Epoch 34/50\n",
            "85/85 [==============================] - 5s 57ms/step - loss: 0.4463 - accuracy: 0.8859 - val_loss: 0.7679 - val_accuracy: 0.7778 - lr: 1.0486e-07\n",
            "Epoch 35/50\n",
            "84/85 [============================>.] - ETA: 0s - loss: 0.4563 - accuracy: 0.8856\n",
            "Epoch 35: ReduceLROnPlateau reducing learning rate to 1e-07.\n",
            "85/85 [==============================] - 5s 56ms/step - loss: 0.4555 - accuracy: 0.8861 - val_loss: 0.7679 - val_accuracy: 0.7772 - lr: 1.0486e-07\n",
            "Epoch 36/50\n",
            "85/85 [==============================] - 5s 58ms/step - loss: 0.4532 - accuracy: 0.8841 - val_loss: 0.7678 - val_accuracy: 0.7772 - lr: 1.0000e-07\n",
            "Epoch 37/50\n",
            "85/85 [==============================] - 5s 58ms/step - loss: 0.4454 - accuracy: 0.8909 - val_loss: 0.7678 - val_accuracy: 0.7772 - lr: 1.0000e-07\n",
            "Epoch 38/50\n",
            "85/85 [==============================] - 5s 58ms/step - loss: 0.4511 - accuracy: 0.8787 - val_loss: 0.7678 - val_accuracy: 0.7772 - lr: 1.0000e-07\n",
            "Epoch 39/50\n",
            "85/85 [==============================] - 5s 57ms/step - loss: 0.4636 - accuracy: 0.8735 - val_loss: 0.7678 - val_accuracy: 0.7772 - lr: 1.0000e-07\n",
            "Epoch 40/50\n",
            "85/85 [==============================] - 5s 57ms/step - loss: 0.4444 - accuracy: 0.8844 - val_loss: 0.7678 - val_accuracy: 0.7772 - lr: 1.0000e-07\n",
            "Epoch 41/50\n",
            "85/85 [==============================] - 5s 57ms/step - loss: 0.4410 - accuracy: 0.8891 - val_loss: 0.7678 - val_accuracy: 0.7772 - lr: 1.0000e-07\n",
            "Epoch 42/50\n",
            "85/85 [==============================] - 5s 57ms/step - loss: 0.4435 - accuracy: 0.8863 - val_loss: 0.7678 - val_accuracy: 0.7772 - lr: 1.0000e-07\n",
            "Epoch 43/50\n",
            "85/85 [==============================] - 5s 58ms/step - loss: 0.4532 - accuracy: 0.8804 - val_loss: 0.7679 - val_accuracy: 0.7772 - lr: 1.0000e-07\n",
            "Epoch 44/50\n",
            "85/85 [==============================] - 5s 57ms/step - loss: 0.4570 - accuracy: 0.8820 - val_loss: 0.7678 - val_accuracy: 0.7772 - lr: 1.0000e-07\n",
            "Epoch 45/50\n",
            "85/85 [==============================] - 5s 57ms/step - loss: 0.4500 - accuracy: 0.8822 - val_loss: 0.7678 - val_accuracy: 0.7772 - lr: 1.0000e-07\n",
            "Epoch 46/50\n",
            "85/85 [==============================] - 5s 57ms/step - loss: 0.4433 - accuracy: 0.8926 - val_loss: 0.7679 - val_accuracy: 0.7772 - lr: 1.0000e-07\n",
            "Epoch 47/50\n",
            "85/85 [==============================] - 5s 57ms/step - loss: 0.4430 - accuracy: 0.8881 - val_loss: 0.7679 - val_accuracy: 0.7772 - lr: 1.0000e-07\n",
            "Epoch 48/50\n",
            "85/85 [==============================] - 6s 66ms/step - loss: 0.4406 - accuracy: 0.8887 - val_loss: 0.7679 - val_accuracy: 0.7772 - lr: 1.0000e-07\n",
            "Epoch 49/50\n",
            "85/85 [==============================] - 5s 58ms/step - loss: 0.4472 - accuracy: 0.8907 - val_loss: 0.7679 - val_accuracy: 0.7772 - lr: 1.0000e-07\n",
            "Epoch 50/50\n",
            "85/85 [==============================] - 5s 57ms/step - loss: 0.4590 - accuracy: 0.8776 - val_loss: 0.7679 - val_accuracy: 0.7772 - lr: 1.0000e-07\n"
          ]
        }
      ],
      "source": [
        "rlrp = ReduceLROnPlateau(monitor='loss', factor=0.4, verbose=1, patience=2, min_lr=0.0000001)\n",
        "history=model.fit(X_train, y_train, batch_size=64, epochs=50, validation_data=(X_test, y_test), callbacks=[rlrp])"
      ]
    },
    {
      "cell_type": "code",
      "execution_count": 23,
      "id": "d7bc3716",
      "metadata": {
        "id": "d7bc3716",
        "outputId": "72769cd7-7204-46ea-fa99-caaa86eea874",
        "colab": {
          "base_uri": "https://localhost:8080/",
          "height": 282
        }
      },
      "outputs": [
        {
          "output_type": "execute_result",
          "data": {
            "text/plain": [
              "[<matplotlib.lines.Line2D at 0x7f791a51c650>]"
            ]
          },
          "metadata": {},
          "execution_count": 23
        },
        {
          "output_type": "display_data",
          "data": {
            "text/plain": [
              "<Figure size 432x288 with 1 Axes>"
            ],
            "image/png": "[encoded data removed]"
          },
          "metadata": {
            "needs_background": "light"
          }
        }
      ],
      "source": [
        "plt.plot(history.history['loss'])\n",
        "plt.plot(history.history['val_loss'])"
      ]
    },
    {
      "cell_type": "code",
      "execution_count": 24,
      "id": "58371646",
      "metadata": {
        "id": "58371646",
        "outputId": "172a49e2-3a3b-4142-f37e-452d496741be",
        "colab": {
          "base_uri": "https://localhost:8080/",
          "height": 282
        }
      },
      "outputs": [
        {
          "output_type": "execute_result",
          "data": {
            "text/plain": [
              "[<matplotlib.lines.Line2D at 0x7f791a03b150>]"
            ]
          },
          "metadata": {},
          "execution_count": 24
        },
        {
          "output_type": "display_data",
          "data": {
            "text/plain": [
              "<Figure size 432x288 with 1 Axes>"
            ],
            "image/png": "[encoded data removed]"
          },
          "metadata": {
            "needs_background": "light"
          }
        }
      ],
      "source": [
        "plt.plot(history.history['accuracy'])\n",
        "plt.plot(history.history['val_accuracy'])"
      ]
    },
    {
      "cell_type": "code",
      "execution_count": 25,
      "id": "2c726380",
      "metadata": {
        "id": "2c726380"
      },
      "outputs": [],
      "source": [
        "# predicting on test data.\n",
        "pred_test = model.predict(X_test)\n",
        "y_pred = encoder.inverse_transform(pred_test)\n",
        "y_test = encoder.inverse_transform(y_test)"
      ]
    },
    {
      "cell_type": "code",
      "execution_count": 26,
      "id": "89ba7ebd",
      "metadata": {
        "id": "89ba7ebd",
        "outputId": "a558ba6e-7ddd-41f0-985d-48dd9fdabf18",
        "colab": {
          "base_uri": "https://localhost:8080/",
          "height": 363
        }
      },
      "outputs": [
        {
          "output_type": "execute_result",
          "data": {
            "text/plain": [
              "  Predicted Labels Actual Labels\n",
              "0          fearful           sad\n",
              "1          neutral       neutral\n",
              "2            happy         happy\n",
              "3             calm          calm\n",
              "4             calm          calm\n",
              "5        surprised     surprised\n",
              "6            angry         angry\n",
              "7          fearful       fearful\n",
              "8             calm       fearful\n",
              "9            angry         angry"
            ],
            "text/html": [
              "\n",
              "  <div id=\"df-458cfcf1-aac7-4dad-abdd-2fceef03459b\">\n",
              "    <div class=\"colab-df-container\">\n",
              "      <div>\n",
              "<style scoped>\n",
              "    .dataframe tbody tr th:only-of-type {\n",
              "        vertical-align: middle;\n",
              "    }\n",
              "\n",
              "    .dataframe tbody tr th {\n",
              "        vertical-align: top;\n",
              "    }\n",
              "\n",
              "    .dataframe thead th {\n",
              "        text-align: right;\n",
              "    }\n",
              "</style>\n",
              "<table border=\"1\" class=\"dataframe\">\n",
              "  <thead>\n",
              "    <tr style=\"text-align: right;\">\n",
              "      <th></th>\n",
              "      <th>Predicted Labels</th>\n",
              "      <th>Actual Labels</th>\n",
              "    </tr>\n",
              "  </thead>\n",
              "  <tbody>\n",
              "    <tr>\n",
              "      <th>0</th>\n",
              "      <td>fearful</td>\n",
              "      <td>sad</td>\n",
              "    </tr>\n",
              "    <tr>\n",
              "      <th>1</th>\n",
              "      <td>neutral</td>\n",
              "      <td>neutral</td>\n",
              "    </tr>\n",
              "    <tr>\n",
              "      <th>2</th>\n",
              "      <td>happy</td>\n",
              "      <td>happy</td>\n",
              "    </tr>\n",
              "    <tr>\n",
              "      <th>3</th>\n",
              "      <td>calm</td>\n",
              "      <td>calm</td>\n",
              "    </tr>\n",
              "    <tr>\n",
              "      <th>4</th>\n",
              "      <td>calm</td>\n",
              "      <td>calm</td>\n",
              "    </tr>\n",
              "    <tr>\n",
              "      <th>5</th>\n",
              "      <td>surprised</td>\n",
              "      <td>surprised</td>\n",
              "    </tr>\n",
              "    <tr>\n",
              "      <th>6</th>\n",
              "      <td>angry</td>\n",
              "      <td>angry</td>\n",
              "    </tr>\n",
              "    <tr>\n",
              "      <th>7</th>\n",
              "      <td>fearful</td>\n",
              "      <td>fearful</td>\n",
              "    </tr>\n",
              "    <tr>\n",
              "      <th>8</th>\n",
              "      <td>calm</td>\n",
              "      <td>fearful</td>\n",
              "    </tr>\n",
              "    <tr>\n",
              "      <th>9</th>\n",
              "      <td>angry</td>\n",
              "      <td>angry</td>\n",
              "    </tr>\n",
              "  </tbody>\n",
              "</table>\n",
              "</div>\n",
              "      <button class=\"colab-df-convert\" onclick=\"convertToInteractive('df-458cfcf1-aac7-4dad-abdd-2fceef03459b')\"\n",
              "              title=\"Convert this dataframe to an interactive table.\"\n",
              "              style=\"display:none;\">\n",
              "        \n",
              "  <svg xmlns=\"http://www.w3.org/2000/svg\" height=\"24px\"viewBox=\"0 0 24 24\"\n",
              "       width=\"24px\">\n",
              "    <path d=\"M0 0h24v24H0V0z\" fill=\"none\"/>\n",
              "    <path d=\"M18.56 5.44l.94 2.06.94-2.06 2.06-.94-2.06-.94-.94-2.06-.94 2.06-2.06.94zm-11 1L8.5 8.5l.94-2.06 2.06-.94-2.06-.94L8.5 2.5l-.94 2.06-2.06.94zm10 10l.94 2.06.94-2.06 2.06-.94-2.06-.94-.94-2.06-.94 2.06-2.06.94z\"/><path d=\"M17.41 7.96l-1.37-1.37c-.4-.4-.92-.59-1.43-.59-.52 0-1.04.2-1.43.59L10.3 9.45l-7.72 7.72c-.78.78-.78 2.05 0 2.83L4 21.41c.39.39.9.59 1.41.59.51 0 1.02-.2 1.41-.59l7.78-7.78 2.81-2.81c.8-.78.8-2.07 0-2.86zM5.41 20L4 18.59l7.72-7.72 1.47 1.35L5.41 20z\"/>\n",
              "  </svg>\n",
              "      </button>\n",
              "      \n",
              "  <style>\n",
              "    .colab-df-container {\n",
              "      display:flex;\n",
              "      flex-wrap:wrap;\n",
              "      gap: 12px;\n",
              "    }\n",
              "\n",
              "    .colab-df-convert {\n",
              "      background-color: #E8F0FE;\n",
              "      border: none;\n",
              "      border-radius: 50%;\n",
              "      cursor: pointer;\n",
              "      display: none;\n",
              "      fill: #1967D2;\n",
              "      height: 32px;\n",
              "      padding: 0 0 0 0;\n",
              "      width: 32px;\n",
              "    }\n",
              "\n",
              "    .colab-df-convert:hover {\n",
              "      background-color: #E2EBFA;\n",
              "      box-shadow: 0px 1px 2px rgba(60, 64, 67, 0.3), 0px 1px 3px 1px rgba(60, 64, 67, 0.15);\n",
              "      fill: #174EA6;\n",
              "    }\n",
              "\n",
              "    [theme=dark] .colab-df-convert {\n",
              "      background-color: #3B4455;\n",
              "      fill: #D2E3FC;\n",
              "    }\n",
              "\n",
              "    [theme=dark] .colab-df-convert:hover {\n",
              "      background-color: #434B5C;\n",
              "      box-shadow: 0px 1px 3px 1px rgba(0, 0, 0, 0.15);\n",
              "      filter: drop-shadow(0px 1px 2px rgba(0, 0, 0, 0.3));\n",
              "      fill: #FFFFFF;\n",
              "    }\n",
              "  </style>\n",
              "\n",
              "      <script>\n",
              "        const buttonEl =\n",
              "          document.querySelector('#df-458cfcf1-aac7-4dad-abdd-2fceef03459b button.colab-df-convert');\n",
              "        buttonEl.style.display =\n",
              "          google.colab.kernel.accessAllowed ? 'block' : 'none';\n",
              "\n",
              "        async function convertToInteractive(key) {\n",
              "          const element = document.querySelector('#df-458cfcf1-aac7-4dad-abdd-2fceef03459b');\n",
              "          const dataTable =\n",
              "            await google.colab.kernel.invokeFunction('convertToInteractive',\n",
              "                                                     [key], {});\n",
              "          if (!dataTable) return;\n",
              "\n",
              "          const docLinkHtml = 'Like what you see? Visit the ' +\n",
              "            '<a target=\"_blank\" href=https://colab.research.google.com/notebooks/data_table.ipynb>data table notebook</a>'\n",
              "            + ' to learn more about interactive tables.';\n",
              "          element.innerHTML = '';\n",
              "          dataTable['output_type'] = 'display_data';\n",
              "          await google.colab.output.renderOutput(dataTable, element);\n",
              "          const docLink = document.createElement('div');\n",
              "          docLink.innerHTML = docLinkHtml;\n",
              "          element.appendChild(docLink);\n",
              "        }\n",
              "      </script>\n",
              "    </div>\n",
              "  </div>\n",
              "  "
            ]
          },
          "metadata": {},
          "execution_count": 26
        }
      ],
      "source": [
        "df = pd.DataFrame(columns=['Predicted Labels', 'Actual Labels'])\n",
        "df['Predicted Labels'] = y_pred.flatten()\n",
        "df['Actual Labels'] = y_test\n",
        "\n",
        "df.head(10)"
      ]
    },
    {
      "cell_type": "code",
      "execution_count": 27,
      "id": "3ca049d3",
      "metadata": {
        "id": "3ca049d3",
        "outputId": "8063ee5f-86ce-4de3-8c36-8480aaefb2cd",
        "colab": {
          "base_uri": "https://localhost:8080/",
          "height": 630
        }
      },
      "outputs": [
        {
          "output_type": "display_data",
          "data": {
            "text/plain": [
              "<Figure size 864x720 with 2 Axes>"
            ],
            "image/png": "[encoded data removed]"
          },
          "metadata": {
            "needs_background": "light"
          }
        }
      ],
      "source": [
        "cm = confusion_matrix(y_test, y_pred)\n",
        "plt.figure(figsize = (12, 10))\n",
        "cm = pd.DataFrame(cm , index = [i for i in encoder.categories_] , columns = [i for i in encoder.categories_])\n",
        "sns.heatmap(cm, linecolor='white', cmap='Blues', linewidth=1, annot=True, fmt='')\n",
        "plt.title('Confusion Matrix', size=20)\n",
        "plt.xlabel('Predicted Labels', size=14)\n",
        "plt.ylabel('Actual Labels', size=14)\n",
        "plt.show()\n"
      ]
    },
    {
      "cell_type": "code",
      "execution_count": 28,
      "id": "2e4ea467",
      "metadata": {
        "id": "2e4ea467",
        "outputId": "8b1cb405-b19d-4ac6-b710-2cbbff7ba5b3",
        "colab": {
          "base_uri": "https://localhost:8080/"
        }
      },
      "outputs": [
        {
          "output_type": "stream",
          "name": "stdout",
          "text": [
            "              precision    recall  f1-score   support\n",
            "\n",
            "       angry       0.88      0.82      0.84       240\n",
            "        calm       0.80      0.76      0.78       253\n",
            "     disgust       0.72      0.82      0.77       224\n",
            "     fearful       0.81      0.76      0.78       238\n",
            "       happy       0.77      0.77      0.77       250\n",
            "     neutral       0.60      0.61      0.60       109\n",
            "         sad       0.77      0.76      0.76       250\n",
            "   surprised       0.80      0.84      0.82       236\n",
            "\n",
            "    accuracy                           0.78      1800\n",
            "   macro avg       0.77      0.77      0.77      1800\n",
            "weighted avg       0.78      0.78      0.78      1800\n",
            "\n"
          ]
        }
      ],
      "source": [
        "print(classification_report(y_test, y_pred))"
      ]
    }
  ],
  "metadata": {
    "kernelspec": {
      "display_name": "Python 3 (ipykernel)",
      "language": "python",
      "name": "python3"
    },
    "language_info": {
      "codemirror_mode": {
        "name": "ipython",
        "version": 3
      },
      "file_extension": ".py",
      "mimetype": "text/x-python",
      "name": "python",
      "nbconvert_exporter": "python",
      "pygments_lexer": "ipython3",
      "version": "3.9.7"
    },
    "colab": {
      "name": "emotion_recognition_using_CNN.ipynb",
      "provenance": [],
      "collapsed_sections": [],
      "include_colab_link": true
    }
  },
  "nbformat": 4,
  "nbformat_minor": 5
}