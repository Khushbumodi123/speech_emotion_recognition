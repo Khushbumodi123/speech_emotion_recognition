{
 "cells": [
  {
   "cell_type": "markdown",
   "id": "6bb02412",
   "metadata": {},
   "source": [
    "# Emotion Recognition using CNN"
   ]
  },
  {
   "cell_type": "markdown",
   "id": "6f31d869",
   "metadata": {},
   "source": [
    "Importing libraries"
   ]
  },
  {
   "cell_type": "code",
   "execution_count": 1,
   "id": "31a57580",
   "metadata": {},
   "outputs": [],
   "source": [
    "import pandas as pd\n",
    "import numpy as np\n",
    "\n",
    "import os\n",
    "import sys\n",
    "\n",
    "# librosa is a Python library for analyzing audio and music. It can be used to extract the data from the audio files we will see it later.\n",
    "import librosa\n",
    "import librosa.display\n",
    "\n",
    "import seaborn as sns\n",
    "import matplotlib.pyplot as plt\n",
    "\n",
    "from sklearn.preprocessing import StandardScaler, OneHotEncoder\n",
    "from sklearn.metrics import confusion_matrix, classification_report\n",
    "from sklearn.model_selection import train_test_split\n",
    "\n",
    "# to play the audio files\n",
    "from IPython.display import Audio\n",
    "\n",
    "import keras\n",
    "from keras.callbacks import ReduceLROnPlateau\n",
    "from keras.models import Sequential\n",
    "from keras.layers import Dense, Conv1D, MaxPooling1D, Flatten, Dropout, BatchNormalization\n",
    "from keras.callbacks import ModelCheckpoint\n",
    "\n",
    "import warnings\n",
    "if not sys.warnoptions:\n",
    "    warnings.simplefilter(\"ignore\")\n",
    "warnings.filterwarnings(\"ignore\", category=DeprecationWarning) "
   ]
  },
  {
   "cell_type": "markdown",
   "id": "d494f0aa",
   "metadata": {},
   "source": [
    "loading dataset"
   ]
  },
  {
   "cell_type": "code",
   "execution_count": 2,
   "id": "e6f24196",
   "metadata": {},
   "outputs": [],
   "source": [
    "data = pd.read_csv(\"features.csv\")"
   ]
  },
  {
   "cell_type": "code",
   "execution_count": 3,
   "id": "f74e2bc5",
   "metadata": {},
   "outputs": [
    {
     "data": {
      "text/html": [
       "<div>\n",
       "<style scoped>\n",
       "    .dataframe tbody tr th:only-of-type {\n",
       "        vertical-align: middle;\n",
       "    }\n",
       "\n",
       "    .dataframe tbody tr th {\n",
       "        vertical-align: top;\n",
       "    }\n",
       "\n",
       "    .dataframe thead th {\n",
       "        text-align: right;\n",
       "    }\n",
       "</style>\n",
       "<table border=\"1\" class=\"dataframe\">\n",
       "  <thead>\n",
       "    <tr style=\"text-align: right;\">\n",
       "      <th></th>\n",
       "      <th>0</th>\n",
       "      <th>1</th>\n",
       "      <th>2</th>\n",
       "      <th>3</th>\n",
       "      <th>4</th>\n",
       "      <th>5</th>\n",
       "      <th>6</th>\n",
       "      <th>7</th>\n",
       "      <th>8</th>\n",
       "      <th>9</th>\n",
       "      <th>...</th>\n",
       "      <th>11</th>\n",
       "      <th>12</th>\n",
       "      <th>13</th>\n",
       "      <th>14</th>\n",
       "      <th>15</th>\n",
       "      <th>16</th>\n",
       "      <th>17</th>\n",
       "      <th>18</th>\n",
       "      <th>19</th>\n",
       "      <th>labels</th>\n",
       "    </tr>\n",
       "  </thead>\n",
       "  <tbody>\n",
       "    <tr>\n",
       "      <th>0</th>\n",
       "      <td>-655.344543</td>\n",
       "      <td>86.649864</td>\n",
       "      <td>-12.361261</td>\n",
       "      <td>28.343275</td>\n",
       "      <td>-0.276913</td>\n",
       "      <td>9.111378</td>\n",
       "      <td>-10.830962</td>\n",
       "      <td>-0.023427</td>\n",
       "      <td>-17.030333</td>\n",
       "      <td>-3.272646</td>\n",
       "      <td>...</td>\n",
       "      <td>-5.887830</td>\n",
       "      <td>4.827703</td>\n",
       "      <td>-7.893807</td>\n",
       "      <td>3.420066</td>\n",
       "      <td>-1.663579</td>\n",
       "      <td>-3.320956</td>\n",
       "      <td>-4.437192</td>\n",
       "      <td>-0.790467</td>\n",
       "      <td>-2.032093</td>\n",
       "      <td>neutral</td>\n",
       "    </tr>\n",
       "    <tr>\n",
       "      <th>1</th>\n",
       "      <td>-430.432303</td>\n",
       "      <td>28.635499</td>\n",
       "      <td>8.845793</td>\n",
       "      <td>9.058214</td>\n",
       "      <td>4.566189</td>\n",
       "      <td>-0.468125</td>\n",
       "      <td>-3.704194</td>\n",
       "      <td>-6.266642</td>\n",
       "      <td>-8.031441</td>\n",
       "      <td>-5.080421</td>\n",
       "      <td>...</td>\n",
       "      <td>-1.613933</td>\n",
       "      <td>-1.307943</td>\n",
       "      <td>-1.488720</td>\n",
       "      <td>-0.048177</td>\n",
       "      <td>-0.290555</td>\n",
       "      <td>-2.636441</td>\n",
       "      <td>-2.293905</td>\n",
       "      <td>0.075632</td>\n",
       "      <td>-3.025504</td>\n",
       "      <td>neutral</td>\n",
       "    </tr>\n",
       "    <tr>\n",
       "      <th>2</th>\n",
       "      <td>-724.307190</td>\n",
       "      <td>84.484085</td>\n",
       "      <td>-14.169809</td>\n",
       "      <td>31.049458</td>\n",
       "      <td>-3.062177</td>\n",
       "      <td>9.604401</td>\n",
       "      <td>-14.447046</td>\n",
       "      <td>-0.219916</td>\n",
       "      <td>-20.591162</td>\n",
       "      <td>2.434902</td>\n",
       "      <td>...</td>\n",
       "      <td>-4.020089</td>\n",
       "      <td>3.011852</td>\n",
       "      <td>-8.109157</td>\n",
       "      <td>3.908099</td>\n",
       "      <td>-5.972445</td>\n",
       "      <td>-3.686382</td>\n",
       "      <td>-5.658265</td>\n",
       "      <td>2.423278</td>\n",
       "      <td>-4.886252</td>\n",
       "      <td>neutral</td>\n",
       "    </tr>\n",
       "    <tr>\n",
       "      <th>3</th>\n",
       "      <td>-645.409851</td>\n",
       "      <td>87.810638</td>\n",
       "      <td>-17.773392</td>\n",
       "      <td>33.468960</td>\n",
       "      <td>-0.936478</td>\n",
       "      <td>8.191232</td>\n",
       "      <td>-9.919904</td>\n",
       "      <td>-3.311972</td>\n",
       "      <td>-18.590483</td>\n",
       "      <td>-2.199426</td>\n",
       "      <td>...</td>\n",
       "      <td>-6.660093</td>\n",
       "      <td>3.893641</td>\n",
       "      <td>-8.572474</td>\n",
       "      <td>2.928271</td>\n",
       "      <td>-3.344517</td>\n",
       "      <td>-3.604978</td>\n",
       "      <td>-4.101902</td>\n",
       "      <td>-1.308776</td>\n",
       "      <td>-0.581940</td>\n",
       "      <td>neutral</td>\n",
       "    </tr>\n",
       "    <tr>\n",
       "      <th>4</th>\n",
       "      <td>-460.762079</td>\n",
       "      <td>32.982906</td>\n",
       "      <td>7.177980</td>\n",
       "      <td>12.280771</td>\n",
       "      <td>5.587795</td>\n",
       "      <td>-0.103153</td>\n",
       "      <td>-2.837121</td>\n",
       "      <td>-7.346782</td>\n",
       "      <td>-10.402943</td>\n",
       "      <td>-4.478989</td>\n",
       "      <td>...</td>\n",
       "      <td>-2.830772</td>\n",
       "      <td>-1.898307</td>\n",
       "      <td>-3.128632</td>\n",
       "      <td>-1.669740</td>\n",
       "      <td>-0.923988</td>\n",
       "      <td>-3.618321</td>\n",
       "      <td>-3.247376</td>\n",
       "      <td>-0.513290</td>\n",
       "      <td>-2.427789</td>\n",
       "      <td>neutral</td>\n",
       "    </tr>\n",
       "  </tbody>\n",
       "</table>\n",
       "<p>5 rows × 21 columns</p>\n",
       "</div>"
      ],
      "text/plain": [
       "            0          1          2          3         4         5          6  \\\n",
       "0 -655.344543  86.649864 -12.361261  28.343275 -0.276913  9.111378 -10.830962   \n",
       "1 -430.432303  28.635499   8.845793   9.058214  4.566189 -0.468125  -3.704194   \n",
       "2 -724.307190  84.484085 -14.169809  31.049458 -3.062177  9.604401 -14.447046   \n",
       "3 -645.409851  87.810638 -17.773392  33.468960 -0.936478  8.191232  -9.919904   \n",
       "4 -460.762079  32.982906   7.177980  12.280771  5.587795 -0.103153  -2.837121   \n",
       "\n",
       "          7          8         9  ...        11        12        13        14  \\\n",
       "0 -0.023427 -17.030333 -3.272646  ... -5.887830  4.827703 -7.893807  3.420066   \n",
       "1 -6.266642  -8.031441 -5.080421  ... -1.613933 -1.307943 -1.488720 -0.048177   \n",
       "2 -0.219916 -20.591162  2.434902  ... -4.020089  3.011852 -8.109157  3.908099   \n",
       "3 -3.311972 -18.590483 -2.199426  ... -6.660093  3.893641 -8.572474  2.928271   \n",
       "4 -7.346782 -10.402943 -4.478989  ... -2.830772 -1.898307 -3.128632 -1.669740   \n",
       "\n",
       "         15        16        17        18        19   labels  \n",
       "0 -1.663579 -3.320956 -4.437192 -0.790467 -2.032093  neutral  \n",
       "1 -0.290555 -2.636441 -2.293905  0.075632 -3.025504  neutral  \n",
       "2 -5.972445 -3.686382 -5.658265  2.423278 -4.886252  neutral  \n",
       "3 -3.344517 -3.604978 -4.101902 -1.308776 -0.581940  neutral  \n",
       "4 -0.923988 -3.618321 -3.247376 -0.513290 -2.427789  neutral  \n",
       "\n",
       "[5 rows x 21 columns]"
      ]
     },
     "execution_count": 3,
     "metadata": {},
     "output_type": "execute_result"
    }
   ],
   "source": [
    "data.head()"
   ]
  },
  {
   "cell_type": "code",
   "execution_count": 4,
   "id": "064df167",
   "metadata": {},
   "outputs": [
    {
     "data": {
      "text/plain": [
       "calm         576\n",
       "happy        576\n",
       "sad          576\n",
       "angry        576\n",
       "fearful      576\n",
       "disgust      576\n",
       "surprised    576\n",
       "neutral      288\n",
       "Name: labels, dtype: int64"
      ]
     },
     "execution_count": 4,
     "metadata": {},
     "output_type": "execute_result"
    }
   ],
   "source": [
    "data['labels'].value_counts()"
   ]
  },
  {
   "cell_type": "markdown",
   "id": "6f853dcf",
   "metadata": {},
   "source": [
    "splitting the data"
   ]
  },
  {
   "cell_type": "code",
   "execution_count": 5,
   "id": "e36155ce",
   "metadata": {},
   "outputs": [],
   "source": [
    "X = data.iloc[: ,:-1].values\n",
    "Y = data['labels'].values"
   ]
  },
  {
   "cell_type": "code",
   "execution_count": 6,
   "id": "ca39fe94",
   "metadata": {},
   "outputs": [],
   "source": [
    "encoder = OneHotEncoder()\n",
    "Y = encoder.fit_transform(np.array(Y).reshape(-1,1)).toarray()"
   ]
  },
  {
   "cell_type": "code",
   "execution_count": 7,
   "id": "d1965c27",
   "metadata": {},
   "outputs": [],
   "source": [
    "X_train, X_test, y_train, y_test = train_test_split(X, Y, random_state=0, shuffle=True)"
   ]
  },
  {
   "cell_type": "code",
   "execution_count": 8,
   "id": "4561c299",
   "metadata": {},
   "outputs": [
    {
     "name": "stdout",
     "output_type": "stream",
     "text": [
      "(3240, 20)\n",
      "(1080, 20)\n"
     ]
    }
   ],
   "source": [
    "print(X_train.shape)\n",
    "print(X_test.shape)"
   ]
  },
  {
   "cell_type": "code",
   "execution_count": 9,
   "id": "58a26492",
   "metadata": {},
   "outputs": [
    {
     "name": "stdout",
     "output_type": "stream",
     "text": [
      "(3240, 8)\n",
      "(1080, 8)\n"
     ]
    }
   ],
   "source": [
    "print(y_train.shape)\n",
    "print(y_test.shape)"
   ]
  },
  {
   "cell_type": "code",
   "execution_count": 10,
   "id": "2acd68e5",
   "metadata": {},
   "outputs": [
    {
     "data": {
      "text/plain": [
       "((3240, 20), (3240, 8), (1080, 20), (1080, 8))"
      ]
     },
     "execution_count": 10,
     "metadata": {},
     "output_type": "execute_result"
    }
   ],
   "source": [
    "scaler = StandardScaler()\n",
    "X_train = scaler.fit_transform(X_train)\n",
    "X_test = scaler.transform(X_test)\n",
    "X_train.shape, y_train.shape, X_test.shape, y_test.shape"
   ]
  },
  {
   "cell_type": "code",
   "execution_count": 11,
   "id": "9895677f",
   "metadata": {},
   "outputs": [
    {
     "data": {
      "text/plain": [
       "((3240, 20, 1), (3240, 8), (1080, 20, 1), (1080, 8))"
      ]
     },
     "execution_count": 11,
     "metadata": {},
     "output_type": "execute_result"
    }
   ],
   "source": [
    "# making our data compatible to model.\n",
    "X_train = np.expand_dims(X_train, axis=2)\n",
    "X_test = np.expand_dims(X_test, axis=2)\n",
    "X_train.shape, y_train.shape, X_test.shape, y_test.shape"
   ]
  },
  {
   "cell_type": "code",
   "execution_count": 12,
   "id": "e71842ed",
   "metadata": {},
   "outputs": [
    {
     "name": "stdout",
     "output_type": "stream",
     "text": [
      "Model: \"sequential\"\n",
      "_________________________________________________________________\n",
      " Layer (type)                Output Shape              Param #   \n",
      "=================================================================\n",
      " conv1d (Conv1D)             (None, 20, 256)           1536      \n",
      "                                                                 \n",
      " max_pooling1d (MaxPooling1D  (None, 10, 256)          0         \n",
      " )                                                               \n",
      "                                                                 \n",
      " conv1d_1 (Conv1D)           (None, 10, 128)           163968    \n",
      "                                                                 \n",
      " max_pooling1d_1 (MaxPooling  (None, 5, 128)           0         \n",
      " 1D)                                                             \n",
      "                                                                 \n",
      " dropout (Dropout)           (None, 5, 128)            0         \n",
      "                                                                 \n",
      " conv1d_2 (Conv1D)           (None, 5, 64)             41024     \n",
      "                                                                 \n",
      " max_pooling1d_2 (MaxPooling  (None, 3, 64)            0         \n",
      " 1D)                                                             \n",
      "                                                                 \n",
      " flatten (Flatten)           (None, 192)               0         \n",
      "                                                                 \n",
      " dense (Dense)               (None, 32)                6176      \n",
      "                                                                 \n",
      " dropout_1 (Dropout)         (None, 32)                0         \n",
      "                                                                 \n",
      " dense_1 (Dense)             (None, 8)                 264       \n",
      "                                                                 \n",
      "=================================================================\n",
      "Total params: 212,968\n",
      "Trainable params: 212,968\n",
      "Non-trainable params: 0\n",
      "_________________________________________________________________\n"
     ]
    }
   ],
   "source": [
    "import tensorflow\n",
    "from tensorflow import keras\n",
    "from tensorflow.keras import layers\n",
    "from tensorflow.keras.models import Sequential\n",
    "from tensorflow.keras.layers import Conv1D, MaxPooling1D, AveragePooling1D\n",
    "from tensorflow.keras.layers import Input, Flatten, Dropout, Activation, BatchNormalization, Dense\n",
    "from sklearn.model_selection import GridSearchCV\n",
    "from tensorflow.keras.wrappers.scikit_learn import KerasClassifier\n",
    "from tensorflow.keras.optimizers import SGD\n",
    "from tensorflow.keras.regularizers import l2\n",
    "from keras.callbacks import ReduceLROnPlateau\n",
    "from tensorflow.keras.callbacks import EarlyStopping, ModelCheckpoint\n",
    "\n",
    "\n",
    "model=Sequential()\n",
    "model.add(Conv1D(256, kernel_size=5, padding='same', activation='relu', input_shape=(X_train.shape[1], 1)))\n",
    "model.add(MaxPooling1D(pool_size=2, padding = 'same'))\n",
    "\n",
    "model.add(Conv1D(128, kernel_size=5, padding='same', activation='relu',kernel_regularizer=l2(0.001), bias_regularizer=l2(0.001)))\n",
    "model.add(MaxPooling1D(pool_size=2, padding = 'same'))\n",
    "model.add(Dropout(0.2))\n",
    "\n",
    "model.add(Conv1D(64, kernel_size=5, padding='same', activation='relu'))\n",
    "model.add(MaxPooling1D(pool_size=2, padding = 'same'))\n",
    "\n",
    "\n",
    "model.add(Flatten())\n",
    "model.add(Dense(units=32, activation='relu'))\n",
    "model.add(Dropout(0.3))\n",
    "\n",
    "model.add(Dense(units=8, activation='softmax'))\n",
    "model.compile(optimizer = 'adam' , loss = 'categorical_crossentropy' , metrics = ['accuracy'])\n",
    "\n",
    "model.summary()"
   ]
  },
  {
   "cell_type": "code",
   "execution_count": 13,
   "id": "cd03128b",
   "metadata": {},
   "outputs": [
    {
     "name": "stdout",
     "output_type": "stream",
     "text": [
      "Epoch 1/50\n",
      "51/51 [==============================] - 1s 16ms/step - loss: 2.1660 - accuracy: 0.1815 - val_loss: 2.0324 - val_accuracy: 0.2444 - lr: 0.0010\n",
      "Epoch 2/50\n",
      "51/51 [==============================] - 1s 13ms/step - loss: 1.9820 - accuracy: 0.2667 - val_loss: 1.7871 - val_accuracy: 0.3843 - lr: 0.0010\n",
      "Epoch 3/50\n",
      "51/51 [==============================] - 1s 12ms/step - loss: 1.8157 - accuracy: 0.3352 - val_loss: 1.6549 - val_accuracy: 0.3889 - lr: 0.0010\n",
      "Epoch 4/50\n",
      "51/51 [==============================] - 1s 13ms/step - loss: 1.7210 - accuracy: 0.3753 - val_loss: 1.5457 - val_accuracy: 0.4444 - lr: 0.0010\n",
      "Epoch 5/50\n",
      "51/51 [==============================] - 1s 13ms/step - loss: 1.6340 - accuracy: 0.4062 - val_loss: 1.5137 - val_accuracy: 0.4667 - lr: 0.0010\n",
      "Epoch 6/50\n",
      "51/51 [==============================] - 1s 13ms/step - loss: 1.5646 - accuracy: 0.4355 - val_loss: 1.4359 - val_accuracy: 0.4889 - lr: 0.0010\n",
      "Epoch 7/50\n",
      "51/51 [==============================] - 1s 13ms/step - loss: 1.4871 - accuracy: 0.4642 - val_loss: 1.3975 - val_accuracy: 0.5046 - lr: 0.0010\n",
      "Epoch 8/50\n",
      "51/51 [==============================] - 1s 12ms/step - loss: 1.4503 - accuracy: 0.4781 - val_loss: 1.3702 - val_accuracy: 0.5167 - lr: 0.0010\n",
      "Epoch 9/50\n",
      "51/51 [==============================] - 1s 13ms/step - loss: 1.4015 - accuracy: 0.4926 - val_loss: 1.3407 - val_accuracy: 0.5278 - lr: 0.0010\n",
      "Epoch 10/50\n",
      "51/51 [==============================] - 1s 13ms/step - loss: 1.3492 - accuracy: 0.5228 - val_loss: 1.3131 - val_accuracy: 0.5463 - lr: 0.0010\n",
      "Epoch 11/50\n",
      "51/51 [==============================] - 1s 12ms/step - loss: 1.3204 - accuracy: 0.5414 - val_loss: 1.2712 - val_accuracy: 0.5694 - lr: 0.0010\n",
      "Epoch 12/50\n",
      "51/51 [==============================] - 1s 13ms/step - loss: 1.2830 - accuracy: 0.5494 - val_loss: 1.2525 - val_accuracy: 0.5769 - lr: 0.0010\n",
      "Epoch 13/50\n",
      "51/51 [==============================] - 1s 13ms/step - loss: 1.2270 - accuracy: 0.5833 - val_loss: 1.2143 - val_accuracy: 0.5889 - lr: 0.0010\n",
      "Epoch 14/50\n",
      "51/51 [==============================] - 1s 13ms/step - loss: 1.1960 - accuracy: 0.5923 - val_loss: 1.1938 - val_accuracy: 0.6019 - lr: 0.0010\n",
      "Epoch 15/50\n",
      "51/51 [==============================] - 1s 13ms/step - loss: 1.1565 - accuracy: 0.6111 - val_loss: 1.1847 - val_accuracy: 0.6093 - lr: 0.0010\n",
      "Epoch 16/50\n",
      "51/51 [==============================] - 1s 12ms/step - loss: 1.1238 - accuracy: 0.6154 - val_loss: 1.1515 - val_accuracy: 0.6250 - lr: 0.0010\n",
      "Epoch 17/50\n",
      "51/51 [==============================] - 1s 12ms/step - loss: 1.0728 - accuracy: 0.6448 - val_loss: 1.1287 - val_accuracy: 0.6315 - lr: 0.0010\n",
      "Epoch 18/50\n",
      "51/51 [==============================] - 1s 12ms/step - loss: 1.0782 - accuracy: 0.6380 - val_loss: 1.1008 - val_accuracy: 0.6370 - lr: 0.0010\n",
      "Epoch 19/50\n",
      "51/51 [==============================] - 1s 12ms/step - loss: 1.0469 - accuracy: 0.6549 - val_loss: 1.1092 - val_accuracy: 0.6407 - lr: 0.0010\n",
      "Epoch 20/50\n",
      "51/51 [==============================] - 1s 13ms/step - loss: 1.0184 - accuracy: 0.6593 - val_loss: 1.0708 - val_accuracy: 0.6620 - lr: 0.0010\n",
      "Epoch 21/50\n",
      "51/51 [==============================] - 1s 13ms/step - loss: 1.0034 - accuracy: 0.6775 - val_loss: 1.1693 - val_accuracy: 0.6185 - lr: 0.0010\n",
      "Epoch 22/50\n",
      "51/51 [==============================] - 1s 12ms/step - loss: 0.9623 - accuracy: 0.6991 - val_loss: 1.0582 - val_accuracy: 0.6583 - lr: 0.0010\n",
      "Epoch 23/50\n",
      "51/51 [==============================] - 1s 12ms/step - loss: 0.9419 - accuracy: 0.6920 - val_loss: 1.0603 - val_accuracy: 0.6630 - lr: 0.0010\n",
      "Epoch 24/50\n",
      "51/51 [==============================] - 1s 12ms/step - loss: 0.9204 - accuracy: 0.7052 - val_loss: 1.0452 - val_accuracy: 0.6704 - lr: 0.0010\n",
      "Epoch 25/50\n",
      "51/51 [==============================] - 1s 12ms/step - loss: 0.8848 - accuracy: 0.7272 - val_loss: 1.0081 - val_accuracy: 0.6861 - lr: 0.0010\n",
      "Epoch 26/50\n",
      "51/51 [==============================] - 1s 13ms/step - loss: 0.9061 - accuracy: 0.7160 - val_loss: 1.1114 - val_accuracy: 0.6454 - lr: 0.0010\n",
      "Epoch 27/50\n",
      "46/51 [==========================>...] - ETA: 0s - loss: 0.8960 - accuracy: 0.7232\n",
      "Epoch 00027: ReduceLROnPlateau reducing learning rate to 0.0004000000189989805.\n",
      "51/51 [==============================] - 1s 13ms/step - loss: 0.8986 - accuracy: 0.7216 - val_loss: 1.0648 - val_accuracy: 0.6667 - lr: 0.0010\n",
      "Epoch 28/50\n",
      "51/51 [==============================] - 1s 14ms/step - loss: 0.8120 - accuracy: 0.7522 - val_loss: 0.9693 - val_accuracy: 0.7111 - lr: 4.0000e-04\n",
      "Epoch 29/50\n",
      "51/51 [==============================] - 1s 13ms/step - loss: 0.7624 - accuracy: 0.7728 - val_loss: 0.9640 - val_accuracy: 0.7167 - lr: 4.0000e-04\n",
      "Epoch 30/50\n",
      "51/51 [==============================] - 1s 13ms/step - loss: 0.7554 - accuracy: 0.7713 - val_loss: 0.9619 - val_accuracy: 0.7056 - lr: 4.0000e-04\n",
      "Epoch 31/50\n",
      "51/51 [==============================] - 1s 13ms/step - loss: 0.7310 - accuracy: 0.7830 - val_loss: 0.9586 - val_accuracy: 0.7046 - lr: 4.0000e-04\n",
      "Epoch 32/50\n",
      "51/51 [==============================] - 1s 13ms/step - loss: 0.7230 - accuracy: 0.7812 - val_loss: 0.9562 - val_accuracy: 0.7167 - lr: 4.0000e-04\n",
      "Epoch 33/50\n",
      "51/51 [==============================] - 1s 13ms/step - loss: 0.6954 - accuracy: 0.7898 - val_loss: 0.9659 - val_accuracy: 0.7000 - lr: 4.0000e-04\n",
      "Epoch 34/50\n",
      "51/51 [==============================] - 1s 13ms/step - loss: 0.6966 - accuracy: 0.7904 - val_loss: 0.9411 - val_accuracy: 0.7130 - lr: 4.0000e-04\n",
      "Epoch 35/50\n",
      "51/51 [==============================] - 1s 13ms/step - loss: 0.6850 - accuracy: 0.7880 - val_loss: 0.9342 - val_accuracy: 0.7204 - lr: 4.0000e-04\n",
      "Epoch 36/50\n",
      "51/51 [==============================] - 1s 12ms/step - loss: 0.6971 - accuracy: 0.7843 - val_loss: 0.9357 - val_accuracy: 0.7120 - lr: 4.0000e-04\n",
      "Epoch 37/50\n",
      "51/51 [==============================] - 1s 13ms/step - loss: 0.6588 - accuracy: 0.8093 - val_loss: 0.9190 - val_accuracy: 0.7139 - lr: 4.0000e-04\n",
      "Epoch 38/50\n",
      "51/51 [==============================] - 1s 12ms/step - loss: 0.6534 - accuracy: 0.8052 - val_loss: 0.9265 - val_accuracy: 0.7111 - lr: 4.0000e-04\n",
      "Epoch 39/50\n",
      "51/51 [==============================] - 1s 12ms/step - loss: 0.6466 - accuracy: 0.8108 - val_loss: 0.9408 - val_accuracy: 0.7120 - lr: 4.0000e-04\n",
      "Epoch 40/50\n",
      "51/51 [==============================] - 1s 13ms/step - loss: 0.6500 - accuracy: 0.8056 - val_loss: 0.9267 - val_accuracy: 0.7194 - lr: 4.0000e-04\n",
      "Epoch 41/50\n",
      "47/51 [==========================>...] - ETA: 0s - loss: 0.6460 - accuracy: 0.8128\n",
      "Epoch 00041: ReduceLROnPlateau reducing learning rate to 0.00016000000759959222.\n",
      "51/51 [==============================] - 1s 15ms/step - loss: 0.6476 - accuracy: 0.8130 - val_loss: 0.9191 - val_accuracy: 0.7130 - lr: 4.0000e-04\n",
      "Epoch 42/50\n",
      "51/51 [==============================] - 1s 14ms/step - loss: 0.6068 - accuracy: 0.8284 - val_loss: 0.8970 - val_accuracy: 0.7241 - lr: 1.6000e-04\n",
      "Epoch 43/50\n",
      "51/51 [==============================] - 1s 14ms/step - loss: 0.5846 - accuracy: 0.8321 - val_loss: 0.9060 - val_accuracy: 0.7167 - lr: 1.6000e-04\n",
      "Epoch 44/50\n",
      "51/51 [==============================] - 1s 14ms/step - loss: 0.6072 - accuracy: 0.8253 - val_loss: 0.9028 - val_accuracy: 0.7241 - lr: 1.6000e-04\n",
      "Epoch 45/50\n",
      "48/51 [===========================>..] - ETA: 0s - loss: 0.5838 - accuracy: 0.8314\n",
      "Epoch 00045: ReduceLROnPlateau reducing learning rate to 6.40000042039901e-05.\n",
      "51/51 [==============================] - 1s 14ms/step - loss: 0.5890 - accuracy: 0.8293 - val_loss: 0.9026 - val_accuracy: 0.7231 - lr: 1.6000e-04\n",
      "Epoch 46/50\n",
      "51/51 [==============================] - 1s 14ms/step - loss: 0.5748 - accuracy: 0.8423 - val_loss: 0.8996 - val_accuracy: 0.7231 - lr: 6.4000e-05\n",
      "Epoch 47/50\n",
      "51/51 [==============================] - 1s 14ms/step - loss: 0.5787 - accuracy: 0.8349 - val_loss: 0.9010 - val_accuracy: 0.7315 - lr: 6.4000e-05\n",
      "Epoch 48/50\n",
      "51/51 [==============================] - 1s 14ms/step - loss: 0.5728 - accuracy: 0.8426 - val_loss: 0.8999 - val_accuracy: 0.7296 - lr: 6.4000e-05\n",
      "Epoch 49/50\n",
      "51/51 [==============================] - 1s 15ms/step - loss: 0.5799 - accuracy: 0.8265 - val_loss: 0.8999 - val_accuracy: 0.7241 - lr: 6.4000e-05\n",
      "Epoch 50/50\n"
     ]
    },
    {
     "name": "stdout",
     "output_type": "stream",
     "text": [
      "51/51 [==============================] - ETA: 0s - loss: 0.5735 - accuracy: 0.8361\n",
      "Epoch 00050: ReduceLROnPlateau reducing learning rate to 2.560000284574926e-05.\n",
      "51/51 [==============================] - 1s 13ms/step - loss: 0.5735 - accuracy: 0.8361 - val_loss: 0.8978 - val_accuracy: 0.7241 - lr: 6.4000e-05\n"
     ]
    }
   ],
   "source": [
    "rlrp = ReduceLROnPlateau(monitor='loss', factor=0.4, verbose=1, patience=2, min_lr=0.0000001)\n",
    "history=model.fit(X_train, y_train, batch_size=64, epochs=50, validation_data=(X_test, y_test), callbacks=[rlrp])"
   ]
  },
  {
   "cell_type": "code",
   "execution_count": 14,
   "id": "d7bc3716",
   "metadata": {},
   "outputs": [
    {
     "data": {
      "text/plain": [
       "[<matplotlib.lines.Line2D at 0x204ff4cd730>]"
      ]
     },
     "execution_count": 14,
     "metadata": {},
     "output_type": "execute_result"
    },
    {
     "data": {
      "image/png": "[encoded data removed]",
      "text/plain": [
       "<Figure size 432x288 with 1 Axes>"
      ]
     },
     "metadata": {
      "needs_background": "light"
     },
     "output_type": "display_data"
    }
   ],
   "source": [
    "plt.plot(history.history['loss'])\n",
    "plt.plot(history.history['val_loss'])"
   ]
  },
  {
   "cell_type": "code",
   "execution_count": 15,
   "id": "58371646",
   "metadata": {},
   "outputs": [
    {
     "data": {
      "text/plain": [
       "[<matplotlib.lines.Line2D at 0x204830298e0>]"
      ]
     },
     "execution_count": 15,
     "metadata": {},
     "output_type": "execute_result"
    },
    {
     "data": {
      "image/png": "[encoded data removed]",
      "text/plain": [
       "<Figure size 432x288 with 1 Axes>"
      ]
     },
     "metadata": {
      "needs_background": "light"
     },
     "output_type": "display_data"
    }
   ],
   "source": [
    "plt.plot(history.history['accuracy'])\n",
    "plt.plot(history.history['val_accuracy'])"
   ]
  },
  {
   "cell_type": "code",
   "execution_count": 16,
   "id": "2c726380",
   "metadata": {},
   "outputs": [],
   "source": [
    "# predicting on test data.\n",
    "pred_test = model.predict(X_test)\n",
    "y_pred = encoder.inverse_transform(pred_test)\n",
    "y_test = encoder.inverse_transform(y_test)"
   ]
  },
  {
   "cell_type": "code",
   "execution_count": 17,
   "id": "89ba7ebd",
   "metadata": {},
   "outputs": [
    {
     "data": {
      "text/html": [
       "<div>\n",
       "<style scoped>\n",
       "    .dataframe tbody tr th:only-of-type {\n",
       "        vertical-align: middle;\n",
       "    }\n",
       "\n",
       "    .dataframe tbody tr th {\n",
       "        vertical-align: top;\n",
       "    }\n",
       "\n",
       "    .dataframe thead th {\n",
       "        text-align: right;\n",
       "    }\n",
       "</style>\n",
       "<table border=\"1\" class=\"dataframe\">\n",
       "  <thead>\n",
       "    <tr style=\"text-align: right;\">\n",
       "      <th></th>\n",
       "      <th>Predicted Labels</th>\n",
       "      <th>Actual Labels</th>\n",
       "    </tr>\n",
       "  </thead>\n",
       "  <tbody>\n",
       "    <tr>\n",
       "      <th>0</th>\n",
       "      <td>fearful</td>\n",
       "      <td>fearful</td>\n",
       "    </tr>\n",
       "    <tr>\n",
       "      <th>1</th>\n",
       "      <td>angry</td>\n",
       "      <td>angry</td>\n",
       "    </tr>\n",
       "    <tr>\n",
       "      <th>2</th>\n",
       "      <td>fearful</td>\n",
       "      <td>fearful</td>\n",
       "    </tr>\n",
       "    <tr>\n",
       "      <th>3</th>\n",
       "      <td>neutral</td>\n",
       "      <td>calm</td>\n",
       "    </tr>\n",
       "    <tr>\n",
       "      <th>4</th>\n",
       "      <td>disgust</td>\n",
       "      <td>angry</td>\n",
       "    </tr>\n",
       "    <tr>\n",
       "      <th>5</th>\n",
       "      <td>surprised</td>\n",
       "      <td>surprised</td>\n",
       "    </tr>\n",
       "    <tr>\n",
       "      <th>6</th>\n",
       "      <td>calm</td>\n",
       "      <td>fearful</td>\n",
       "    </tr>\n",
       "    <tr>\n",
       "      <th>7</th>\n",
       "      <td>happy</td>\n",
       "      <td>happy</td>\n",
       "    </tr>\n",
       "    <tr>\n",
       "      <th>8</th>\n",
       "      <td>fearful</td>\n",
       "      <td>fearful</td>\n",
       "    </tr>\n",
       "    <tr>\n",
       "      <th>9</th>\n",
       "      <td>sad</td>\n",
       "      <td>sad</td>\n",
       "    </tr>\n",
       "  </tbody>\n",
       "</table>\n",
       "</div>"
      ],
      "text/plain": [
       "  Predicted Labels Actual Labels\n",
       "0          fearful       fearful\n",
       "1            angry         angry\n",
       "2          fearful       fearful\n",
       "3          neutral          calm\n",
       "4          disgust         angry\n",
       "5        surprised     surprised\n",
       "6             calm       fearful\n",
       "7            happy         happy\n",
       "8          fearful       fearful\n",
       "9              sad           sad"
      ]
     },
     "execution_count": 17,
     "metadata": {},
     "output_type": "execute_result"
    }
   ],
   "source": [
    "df = pd.DataFrame(columns=['Predicted Labels', 'Actual Labels'])\n",
    "df['Predicted Labels'] = y_pred.flatten()\n",
    "df['Actual Labels'] = y_test\n",
    "\n",
    "df.head(10)"
   ]
  },
  {
   "cell_type": "code",
   "execution_count": 18,
   "id": "3ca049d3",
   "metadata": {},
   "outputs": [
    {
     "data": {
      "image/png": "[encoded data removed]",
      "text/plain": [
       "<Figure size 864x720 with 2 Axes>"
      ]
     },
     "metadata": {
      "needs_background": "light"
     },
     "output_type": "display_data"
    }
   ],
   "source": [
    "cm = confusion_matrix(y_test, y_pred)\n",
    "plt.figure(figsize = (12, 10))\n",
    "cm = pd.DataFrame(cm , index = [i for i in encoder.categories_] , columns = [i for i in encoder.categories_])\n",
    "sns.heatmap(cm, linecolor='white', cmap='Blues', linewidth=1, annot=True, fmt='')\n",
    "plt.title('Confusion Matrix', size=20)\n",
    "plt.xlabel('Predicted Labels', size=14)\n",
    "plt.ylabel('Actual Labels', size=14)\n",
    "plt.show()\n"
   ]
  },
  {
   "cell_type": "code",
   "execution_count": 19,
   "id": "2e4ea467",
   "metadata": {},
   "outputs": [
    {
     "name": "stdout",
     "output_type": "stream",
     "text": [
      "              precision    recall  f1-score   support\n",
      "\n",
      "       angry       0.84      0.80      0.82       132\n",
      "        calm       0.76      0.82      0.79       159\n",
      "     disgust       0.65      0.65      0.65       135\n",
      "     fearful       0.75      0.75      0.75       151\n",
      "       happy       0.67      0.67      0.67       141\n",
      "     neutral       0.56      0.62      0.59        72\n",
      "         sad       0.72      0.72      0.72       151\n",
      "   surprised       0.77      0.69      0.73       139\n",
      "\n",
      "    accuracy                           0.72      1080\n",
      "   macro avg       0.72      0.72      0.72      1080\n",
      "weighted avg       0.73      0.72      0.72      1080\n",
      "\n"
     ]
    }
   ],
   "source": [
    "print(classification_report(y_test, y_pred))"
   ]
  }
 ],
 "metadata": {
  "kernelspec": {
   "display_name": "Python 3 (ipykernel)",
   "language": "python",
   "name": "python3"
  },
  "language_info": {
   "codemirror_mode": {
    "name": "ipython",
    "version": 3
   },
   "file_extension": ".py",
   "mimetype": "text/x-python",
   "name": "python",
   "nbconvert_exporter": "python",
   "pygments_lexer": "ipython3",
   "version": "3.9.7"
  }
 },
 "nbformat": 4,
 "nbformat_minor": 5
}
