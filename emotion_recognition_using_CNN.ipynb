{
 "cells": [
  {
   "cell_type": "markdown",
   "id": "6bb02412",
   "metadata": {},
   "source": [
    "# Emotion Recognition using CNN"
   ]
  },
  {
   "cell_type": "markdown",
   "id": "6f31d869",
   "metadata": {},
   "source": [
    "Importing libraries"
   ]
  },
  {
   "cell_type": "code",
   "execution_count": 1,
   "id": "31a57580",
   "metadata": {},
   "outputs": [
    {
<<<<<<< HEAD
     "ename": "ModuleNotFoundError",
     "evalue": "No module named 'tensorflow'",
     "output_type": "error",
     "traceback": [
      "\u001b[1;31m---------------------------------------------------------------------------\u001b[0m",
      "\u001b[1;31mModuleNotFoundError\u001b[0m                       Traceback (most recent call last)",
      "\u001b[1;32m~\\AppData\\Local\\Temp/ipykernel_4768/2826477108.py\u001b[0m in \u001b[0;36m<module>\u001b[1;34m\u001b[0m\n\u001b[0;32m     19\u001b[0m \u001b[1;32mfrom\u001b[0m \u001b[0mIPython\u001b[0m\u001b[1;33m.\u001b[0m\u001b[0mdisplay\u001b[0m \u001b[1;32mimport\u001b[0m \u001b[0mAudio\u001b[0m\u001b[1;33m\u001b[0m\u001b[1;33m\u001b[0m\u001b[0m\n\u001b[0;32m     20\u001b[0m \u001b[1;33m\u001b[0m\u001b[0m\n\u001b[1;32m---> 21\u001b[1;33m \u001b[1;32mimport\u001b[0m \u001b[0mkeras\u001b[0m\u001b[1;33m\u001b[0m\u001b[1;33m\u001b[0m\u001b[0m\n\u001b[0m\u001b[0;32m     22\u001b[0m \u001b[1;32mfrom\u001b[0m \u001b[0mkeras\u001b[0m\u001b[1;33m.\u001b[0m\u001b[0mcallbacks\u001b[0m \u001b[1;32mimport\u001b[0m \u001b[0mReduceLROnPlateau\u001b[0m\u001b[1;33m\u001b[0m\u001b[1;33m\u001b[0m\u001b[0m\n\u001b[0;32m     23\u001b[0m \u001b[1;32mfrom\u001b[0m \u001b[0mkeras\u001b[0m\u001b[1;33m.\u001b[0m\u001b[0mmodels\u001b[0m \u001b[1;32mimport\u001b[0m \u001b[0mSequential\u001b[0m\u001b[1;33m\u001b[0m\u001b[1;33m\u001b[0m\u001b[0m\n",
      "\u001b[1;32m~\\anaconda3\\lib\\site-packages\\keras\\__init__.py\u001b[0m in \u001b[0;36m<module>\u001b[1;34m\u001b[0m\n\u001b[0;32m     19\u001b[0m \"\"\"\n\u001b[0;32m     20\u001b[0m \u001b[1;31m# pylint: disable=unused-import\u001b[0m\u001b[1;33m\u001b[0m\u001b[1;33m\u001b[0m\u001b[0m\n\u001b[1;32m---> 21\u001b[1;33m \u001b[1;32mfrom\u001b[0m \u001b[0mtensorflow\u001b[0m\u001b[1;33m.\u001b[0m\u001b[0mpython\u001b[0m \u001b[1;32mimport\u001b[0m \u001b[0mtf2\u001b[0m\u001b[1;33m\u001b[0m\u001b[1;33m\u001b[0m\u001b[0m\n\u001b[0m\u001b[0;32m     22\u001b[0m \u001b[1;32mfrom\u001b[0m \u001b[0mkeras\u001b[0m \u001b[1;32mimport\u001b[0m \u001b[0mdistribute\u001b[0m\u001b[1;33m\u001b[0m\u001b[1;33m\u001b[0m\u001b[0m\n\u001b[0;32m     23\u001b[0m \u001b[1;33m\u001b[0m\u001b[0m\n",
      "\u001b[1;31mModuleNotFoundError\u001b[0m: No module named 'tensorflow'"
=======
     "name": "stdout",
     "output_type": "stream",
     "text": [
      "Requirement already satisfied: tensorflow in c:\\users\\hp\\anaconda3\\lib\\site-packages (2.7.0)\n",
      "Requirement already satisfied: google-pasta>=0.1.1 in c:\\users\\hp\\anaconda3\\lib\\site-packages (from tensorflow) (0.2.0)\n",
      "Requirement already satisfied: tensorflow-io-gcs-filesystem>=0.21.0 in c:\\users\\hp\\anaconda3\\lib\\site-packages (from tensorflow) (0.22.0)\n",
      "Requirement already satisfied: six>=1.12.0 in c:\\users\\hp\\anaconda3\\lib\\site-packages (from tensorflow) (1.15.0)\n",
      "Requirement already satisfied: absl-py>=0.4.0 in c:\\users\\hp\\anaconda3\\lib\\site-packages (from tensorflow) (1.0.0)\n",
      "Requirement already satisfied: libclang>=9.0.1 in c:\\users\\hp\\anaconda3\\lib\\site-packages (from tensorflow) (12.0.0)\n",
      "Requirement already satisfied: tensorflow-estimator<2.8,~=2.7.0rc0 in c:\\users\\hp\\anaconda3\\lib\\site-packages (from tensorflow) (2.7.0)\n",
      "Requirement already satisfied: opt-einsum>=2.3.2 in c:\\users\\hp\\anaconda3\\lib\\site-packages (from tensorflow) (3.3.0)\n",
      "Requirement already satisfied: flatbuffers<3.0,>=1.12 in c:\\users\\hp\\anaconda3\\lib\\site-packages (from tensorflow) (2.0)\n",
      "Requirement already satisfied: typing-extensions>=3.6.6 in c:\\users\\hp\\anaconda3\\lib\\site-packages (from tensorflow) (3.7.4.3)\n",
      "Requirement already satisfied: astunparse>=1.6.0 in c:\\users\\hp\\anaconda3\\lib\\site-packages (from tensorflow) (1.6.3)\n",
      "Requirement already satisfied: tensorboard~=2.6 in c:\\users\\hp\\anaconda3\\lib\\site-packages (from tensorflow) (2.7.0)\n",
      "Requirement already satisfied: grpcio<2.0,>=1.24.3 in c:\\users\\hp\\anaconda3\\lib\\site-packages (from tensorflow) (1.41.1)\n",
      "Requirement already satisfied: keras<2.8,>=2.7.0rc0 in c:\\users\\hp\\anaconda3\\lib\\site-packages (from tensorflow) (2.7.0)\n",
      "Requirement already satisfied: wheel<1.0,>=0.32.0 in c:\\users\\hp\\anaconda3\\lib\\site-packages (from tensorflow) (0.36.2)\n",
      "Requirement already satisfied: wrapt>=1.11.0 in c:\\users\\hp\\anaconda3\\lib\\site-packages (from tensorflow) (1.12.1)\n",
      "Requirement already satisfied: protobuf>=3.9.2 in c:\\users\\hp\\anaconda3\\lib\\site-packages (from tensorflow) (3.19.1)\n",
      "Requirement already satisfied: numpy>=1.14.5 in c:\\users\\hp\\anaconda3\\lib\\site-packages (from tensorflow) (1.19.5)\n",
      "Requirement already satisfied: keras-preprocessing>=1.1.1 in c:\\users\\hp\\anaconda3\\lib\\site-packages (from tensorflow) (1.1.2)\n",
      "Requirement already satisfied: h5py>=2.9.0 in c:\\users\\hp\\anaconda3\\lib\\site-packages (from tensorflow) (2.10.0)\n",
      "Requirement already satisfied: gast<0.5.0,>=0.2.1 in c:\\users\\hp\\anaconda3\\lib\\site-packages (from tensorflow) (0.4.0)\n",
      "Requirement already satisfied: termcolor>=1.1.0 in c:\\users\\hp\\anaconda3\\lib\\site-packages (from tensorflow) (1.1.0)\n",
      "Requirement already satisfied: tensorboard-data-server<0.7.0,>=0.6.0 in c:\\users\\hp\\anaconda3\\lib\\site-packages (from tensorboard~=2.6->tensorflow) (0.6.1)\n",
      "Requirement already satisfied: google-auth-oauthlib<0.5,>=0.4.1 in c:\\users\\hp\\anaconda3\\lib\\site-packages (from tensorboard~=2.6->tensorflow) (0.4.6)\n",
      "Requirement already satisfied: werkzeug>=0.11.15 in c:\\users\\hp\\anaconda3\\lib\\site-packages (from tensorboard~=2.6->tensorflow) (1.0.1)\n",
      "Requirement already satisfied: requests<3,>=2.21.0 in c:\\users\\hp\\anaconda3\\lib\\site-packages (from tensorboard~=2.6->tensorflow) (2.25.1)\n",
      "Requirement already satisfied: setuptools>=41.0.0 in c:\\users\\hp\\anaconda3\\lib\\site-packages (from tensorboard~=2.6->tensorflow) (52.0.0.post20210125)\n",
      "Requirement already satisfied: tensorboard-plugin-wit>=1.6.0 in c:\\users\\hp\\anaconda3\\lib\\site-packages (from tensorboard~=2.6->tensorflow) (1.8.0)\n",
      "Requirement already satisfied: markdown>=2.6.8 in c:\\users\\hp\\anaconda3\\lib\\site-packages (from tensorboard~=2.6->tensorflow) (3.3.4)\n",
      "Requirement already satisfied: google-auth<3,>=1.6.3 in c:\\users\\hp\\anaconda3\\lib\\site-packages (from tensorboard~=2.6->tensorflow) (2.3.3)\n",
      "Requirement already satisfied: rsa<5,>=3.1.4 in c:\\users\\hp\\anaconda3\\lib\\site-packages (from google-auth<3,>=1.6.3->tensorboard~=2.6->tensorflow) (4.7.2)\n",
      "Requirement already satisfied: pyasn1-modules>=0.2.1 in c:\\users\\hp\\anaconda3\\lib\\site-packages (from google-auth<3,>=1.6.3->tensorboard~=2.6->tensorflow) (0.2.8)\n",
      "Requirement already satisfied: cachetools<5.0,>=2.0.0 in c:\\users\\hp\\anaconda3\\lib\\site-packages (from google-auth<3,>=1.6.3->tensorboard~=2.6->tensorflow) (4.2.4)\n",
      "Requirement already satisfied: requests-oauthlib>=0.7.0 in c:\\users\\hp\\anaconda3\\lib\\site-packages (from google-auth-oauthlib<0.5,>=0.4.1->tensorboard~=2.6->tensorflow) (1.3.0)\n",
      "Requirement already satisfied: pyasn1<0.5.0,>=0.4.6 in c:\\users\\hp\\anaconda3\\lib\\site-packages (from pyasn1-modules>=0.2.1->google-auth<3,>=1.6.3->tensorboard~=2.6->tensorflow) (0.4.8)\n",
      "Requirement already satisfied: idna<3,>=2.5 in c:\\users\\hp\\anaconda3\\lib\\site-packages (from requests<3,>=2.21.0->tensorboard~=2.6->tensorflow) (2.10)\n",
      "Requirement already satisfied: certifi>=2017.4.17 in c:\\users\\hp\\anaconda3\\lib\\site-packages (from requests<3,>=2.21.0->tensorboard~=2.6->tensorflow) (2020.12.5)\n",
      "Requirement already satisfied: chardet<5,>=3.0.2 in c:\\users\\hp\\anaconda3\\lib\\site-packages (from requests<3,>=2.21.0->tensorboard~=2.6->tensorflow) (4.0.0)\n",
      "Requirement already satisfied: urllib3<1.27,>=1.21.1 in c:\\users\\hp\\anaconda3\\lib\\site-packages (from requests<3,>=2.21.0->tensorboard~=2.6->tensorflow) (1.26.4)\n",
      "Requirement already satisfied: oauthlib>=3.0.0 in c:\\users\\hp\\anaconda3\\lib\\site-packages (from requests-oauthlib>=0.7.0->google-auth-oauthlib<0.5,>=0.4.1->tensorboard~=2.6->tensorflow) (3.1.1)\n",
      "Requirement already satisfied: keras in c:\\users\\hp\\anaconda3\\lib\\site-packages (2.7.0)\n"
>>>>>>> 26f263d60ee1d7b0b0a4453c61feee4d93ab1b2a
     ]
    }
   ],
   "source": [
    "!pip install tensorflow\n",
    "!pip install keras\n",
    "import pandas as pd\n",
    "import numpy as np\n",
    "\n",
    "import os\n",
    "import sys\n",
    "\n",
    "# librosa is a Python library for analyzing audio and music. It can be used to extract the data from the audio files we will see it later.\n",
    "import librosa\n",
    "import librosa.display\n",
    "\n",
    "import seaborn as sns\n",
    "import matplotlib.pyplot as plt\n",
    "\n",
    "from sklearn.preprocessing import StandardScaler, OneHotEncoder\n",
    "from sklearn.metrics import confusion_matrix, classification_report\n",
    "from sklearn.model_selection import train_test_split\n",
    "\n",
    "# to play the audio files\n",
    "from IPython.display import Audio\n",
    "\n",
    "import keras\n",
    "from keras.callbacks import ReduceLROnPlateau\n",
    "from keras.models import Sequential\n",
    "from keras.layers import Dense, Conv1D, MaxPooling1D, Flatten, Dropout, BatchNormalization\n",
    "from keras.callbacks import ModelCheckpoint\n",
    "\n",
    "import warnings\n",
    "if not sys.warnoptions:\n",
    "    warnings.simplefilter(\"ignore\")\n",
    "warnings.filterwarnings(\"ignore\", category=DeprecationWarning) "
   ]
  },
  {
   "cell_type": "markdown",
   "id": "d494f0aa",
   "metadata": {},
   "source": [
    "loading dataset"
   ]
  },
  {
   "cell_type": "code",
   "execution_count": null,
   "id": "e6f24196",
   "metadata": {},
   "outputs": [],
   "source": [
    "data = pd.read_csv(\"features.csv\")"
   ]
  },
  {
   "cell_type": "code",
   "execution_count": null,
   "id": "f74e2bc5",
   "metadata": {},
<<<<<<< HEAD
   "outputs": [],
=======
   "outputs": [
    {
     "data": {
      "text/html": [
       "<div>\n",
       "<style scoped>\n",
       "    .dataframe tbody tr th:only-of-type {\n",
       "        vertical-align: middle;\n",
       "    }\n",
       "\n",
       "    .dataframe tbody tr th {\n",
       "        vertical-align: top;\n",
       "    }\n",
       "\n",
       "    .dataframe thead th {\n",
       "        text-align: right;\n",
       "    }\n",
       "</style>\n",
       "<table border=\"1\" class=\"dataframe\">\n",
       "  <thead>\n",
       "    <tr style=\"text-align: right;\">\n",
       "      <th></th>\n",
       "      <th>0</th>\n",
       "      <th>1</th>\n",
       "      <th>2</th>\n",
       "      <th>3</th>\n",
       "      <th>4</th>\n",
       "      <th>5</th>\n",
       "      <th>6</th>\n",
       "      <th>7</th>\n",
       "      <th>8</th>\n",
       "      <th>9</th>\n",
       "      <th>...</th>\n",
       "      <th>11</th>\n",
       "      <th>12</th>\n",
       "      <th>13</th>\n",
       "      <th>14</th>\n",
       "      <th>15</th>\n",
       "      <th>16</th>\n",
       "      <th>17</th>\n",
       "      <th>18</th>\n",
       "      <th>19</th>\n",
       "      <th>labels</th>\n",
       "    </tr>\n",
       "  </thead>\n",
       "  <tbody>\n",
       "    <tr>\n",
       "      <th>0</th>\n",
       "      <td>-655.344543</td>\n",
<<<<<<< HEAD
       "      <td>86.649872</td>\n",
       "      <td>-12.361262</td>\n",
=======
       "      <td>86.649864</td>\n",
       "      <td>-12.361261</td>\n",
>>>>>>> c93e33cbb471499ad1223f64d1c70c0f1960d065
       "      <td>28.343275</td>\n",
       "      <td>-0.276913</td>\n",
       "      <td>9.111377</td>\n",
       "      <td>-10.830961</td>\n",
       "      <td>-0.023427</td>\n",
       "      <td>-17.030333</td>\n",
       "      <td>-3.272646</td>\n",
       "      <td>...</td>\n",
       "      <td>-5.887830</td>\n",
       "      <td>4.827703</td>\n",
       "      <td>-7.893807</td>\n",
       "      <td>3.420066</td>\n",
       "      <td>-1.663579</td>\n",
       "      <td>-3.320956</td>\n",
       "      <td>-4.437192</td>\n",
       "      <td>-0.790467</td>\n",
       "      <td>-2.032093</td>\n",
       "      <td>neutral</td>\n",
       "    </tr>\n",
       "    <tr>\n",
       "      <th>1</th>\n",
<<<<<<< HEAD
       "      <td>-475.233185</td>\n",
       "      <td>37.735450</td>\n",
       "      <td>6.484209</td>\n",
       "      <td>10.577263</td>\n",
       "      <td>5.573967</td>\n",
       "      <td>0.096649</td>\n",
       "      <td>-3.958552</td>\n",
       "      <td>-6.736961</td>\n",
       "      <td>-10.509263</td>\n",
       "      <td>-6.617795</td>\n",
       "      <td>...</td>\n",
       "      <td>-2.255615</td>\n",
       "      <td>-1.268973</td>\n",
       "      <td>-2.126151</td>\n",
       "      <td>-0.241190</td>\n",
       "      <td>-0.146999</td>\n",
       "      <td>-3.897475</td>\n",
       "      <td>-3.241440</td>\n",
       "      <td>0.042122</td>\n",
       "      <td>-2.748200</td>\n",
=======
       "      <td>-430.432303</td>\n",
       "      <td>28.635499</td>\n",
       "      <td>8.845793</td>\n",
       "      <td>9.058214</td>\n",
       "      <td>4.566189</td>\n",
       "      <td>-0.468125</td>\n",
       "      <td>-3.704194</td>\n",
       "      <td>-6.266642</td>\n",
       "      <td>-8.031441</td>\n",
       "      <td>-5.080421</td>\n",
       "      <td>...</td>\n",
       "      <td>-1.613933</td>\n",
       "      <td>-1.307943</td>\n",
       "      <td>-1.488720</td>\n",
       "      <td>-0.048177</td>\n",
       "      <td>-0.290555</td>\n",
       "      <td>-2.636441</td>\n",
       "      <td>-2.293905</td>\n",
       "      <td>0.075632</td>\n",
       "      <td>-3.025504</td>\n",
>>>>>>> c93e33cbb471499ad1223f64d1c70c0f1960d065
       "      <td>neutral</td>\n",
       "    </tr>\n",
       "    <tr>\n",
       "      <th>2</th>\n",
       "      <td>-724.307190</td>\n",
       "      <td>84.484085</td>\n",
       "      <td>-14.169809</td>\n",
       "      <td>31.049458</td>\n",
       "      <td>-3.062177</td>\n",
       "      <td>9.604400</td>\n",
       "      <td>-14.447046</td>\n",
       "      <td>-0.219916</td>\n",
       "      <td>-20.591162</td>\n",
       "      <td>2.434902</td>\n",
       "      <td>...</td>\n",
       "      <td>-4.020089</td>\n",
<<<<<<< HEAD
       "      <td>3.011853</td>\n",
       "      <td>-8.109156</td>\n",
       "      <td>3.908098</td>\n",
       "      <td>-5.972445</td>\n",
       "      <td>-3.686383</td>\n",
=======
       "      <td>3.011852</td>\n",
       "      <td>-8.109157</td>\n",
       "      <td>3.908099</td>\n",
       "      <td>-5.972445</td>\n",
       "      <td>-3.686382</td>\n",
>>>>>>> c93e33cbb471499ad1223f64d1c70c0f1960d065
       "      <td>-5.658265</td>\n",
       "      <td>2.423278</td>\n",
       "      <td>-4.886252</td>\n",
       "      <td>neutral</td>\n",
       "    </tr>\n",
       "    <tr>\n",
       "      <th>3</th>\n",
       "      <td>-645.409851</td>\n",
       "      <td>87.810638</td>\n",
       "      <td>-17.773392</td>\n",
       "      <td>33.468960</td>\n",
       "      <td>-0.936478</td>\n",
       "      <td>8.191232</td>\n",
       "      <td>-9.919904</td>\n",
       "      <td>-3.311972</td>\n",
       "      <td>-18.590483</td>\n",
       "      <td>-2.199426</td>\n",
       "      <td>...</td>\n",
       "      <td>-6.660093</td>\n",
       "      <td>3.893641</td>\n",
       "      <td>-8.572474</td>\n",
       "      <td>2.928271</td>\n",
       "      <td>-3.344517</td>\n",
       "      <td>-3.604978</td>\n",
       "      <td>-4.101902</td>\n",
       "      <td>-1.308776</td>\n",
       "      <td>-0.581940</td>\n",
       "      <td>neutral</td>\n",
       "    </tr>\n",
       "    <tr>\n",
       "      <th>4</th>\n",
<<<<<<< HEAD
       "      <td>-571.465829</td>\n",
       "      <td>61.978770</td>\n",
       "      <td>-5.384902</td>\n",
       "      <td>21.352240</td>\n",
       "      <td>3.866039</td>\n",
       "      <td>1.307182</td>\n",
       "      <td>-5.972719</td>\n",
       "      <td>-7.355506</td>\n",
       "      <td>-14.538130</td>\n",
       "      <td>-3.855138</td>\n",
       "      <td>...</td>\n",
       "      <td>-4.927345</td>\n",
       "      <td>0.544567</td>\n",
       "      <td>-5.345915</td>\n",
       "      <td>0.225759</td>\n",
       "      <td>-0.831654</td>\n",
       "      <td>-4.492261</td>\n",
       "      <td>-4.453480</td>\n",
       "      <td>-0.986423</td>\n",
       "      <td>-1.763284</td>\n",
=======
       "      <td>-460.762079</td>\n",
       "      <td>32.982906</td>\n",
       "      <td>7.177980</td>\n",
       "      <td>12.280771</td>\n",
       "      <td>5.587795</td>\n",
       "      <td>-0.103153</td>\n",
       "      <td>-2.837121</td>\n",
       "      <td>-7.346782</td>\n",
       "      <td>-10.402943</td>\n",
       "      <td>-4.478989</td>\n",
       "      <td>...</td>\n",
       "      <td>-2.830772</td>\n",
       "      <td>-1.898307</td>\n",
       "      <td>-3.128632</td>\n",
       "      <td>-1.669740</td>\n",
       "      <td>-0.923988</td>\n",
       "      <td>-3.618321</td>\n",
       "      <td>-3.247376</td>\n",
       "      <td>-0.513290</td>\n",
       "      <td>-2.427789</td>\n",
>>>>>>> c93e33cbb471499ad1223f64d1c70c0f1960d065
       "      <td>neutral</td>\n",
       "    </tr>\n",
       "  </tbody>\n",
       "</table>\n",
       "<p>5 rows × 21 columns</p>\n",
       "</div>"
      ],
      "text/plain": [
       "            0          1          2          3         4         5          6  \\\n",
<<<<<<< HEAD
       "0 -655.344543  86.649872 -12.361262  28.343275 -0.276913  9.111377 -10.830961   \n",
       "1 -475.233185  37.735450   6.484209  10.577263  5.573967  0.096649  -3.958552   \n",
       "2 -724.307190  84.484085 -14.169809  31.049458 -3.062177  9.604400 -14.447046   \n",
       "3 -645.409851  87.810638 -17.773392  33.468960 -0.936478  8.191231  -9.919904   \n",
       "4 -571.465829  61.978770  -5.384902  21.352240  3.866039  1.307182  -5.972719   \n",
       "\n",
       "          7          8         9  ...        11        12        13        14  \\\n",
       "0 -0.023427 -17.030333 -3.272646  ... -5.887830  4.827703 -7.893806  3.420066   \n",
       "1 -6.736961 -10.509263 -6.617795  ... -2.255615 -1.268973 -2.126151 -0.241190   \n",
       "2 -0.219916 -20.591162  2.434902  ... -4.020089  3.011853 -8.109156  3.908098   \n",
       "3 -3.311972 -18.590483 -2.199426  ... -6.660093  3.893641 -8.572474  2.928271   \n",
       "4 -7.355506 -14.538130 -3.855138  ... -4.927345  0.544567 -5.345915  0.225759   \n",
       "\n",
       "         15        16        17        18        19   labels  \n",
       "0 -1.663579 -3.320956 -4.437192 -0.790467 -2.032093  neutral  \n",
       "1 -0.146999 -3.897475 -3.241440  0.042122 -2.748200  neutral  \n",
       "2 -5.972445 -3.686383 -5.658265  2.423278 -4.886252  neutral  \n",
       "3 -3.344517 -3.604978 -4.101902 -1.308776 -0.581940  neutral  \n",
       "4 -0.831654 -4.492261 -4.453480 -0.986423 -1.763284  neutral  \n",
=======
       "0 -655.344543  86.649864 -12.361261  28.343275 -0.276913  9.111378 -10.830962   \n",
       "1 -430.432303  28.635499   8.845793   9.058214  4.566189 -0.468125  -3.704194   \n",
       "2 -724.307190  84.484085 -14.169809  31.049458 -3.062177  9.604401 -14.447046   \n",
       "3 -645.409851  87.810638 -17.773392  33.468960 -0.936478  8.191232  -9.919904   \n",
       "4 -460.762079  32.982906   7.177980  12.280771  5.587795 -0.103153  -2.837121   \n",
       "\n",
       "          7          8         9  ...        11        12        13        14  \\\n",
       "0 -0.023427 -17.030333 -3.272646  ... -5.887830  4.827703 -7.893807  3.420066   \n",
       "1 -6.266642  -8.031441 -5.080421  ... -1.613933 -1.307943 -1.488720 -0.048177   \n",
       "2 -0.219916 -20.591162  2.434902  ... -4.020089  3.011852 -8.109157  3.908099   \n",
       "3 -3.311972 -18.590483 -2.199426  ... -6.660093  3.893641 -8.572474  2.928271   \n",
       "4 -7.346782 -10.402943 -4.478989  ... -2.830772 -1.898307 -3.128632 -1.669740   \n",
       "\n",
       "         15        16        17        18        19   labels  \n",
       "0 -1.663579 -3.320956 -4.437192 -0.790467 -2.032093  neutral  \n",
       "1 -0.290555 -2.636441 -2.293905  0.075632 -3.025504  neutral  \n",
       "2 -5.972445 -3.686382 -5.658265  2.423278 -4.886252  neutral  \n",
       "3 -3.344517 -3.604978 -4.101902 -1.308776 -0.581940  neutral  \n",
       "4 -0.923988 -3.618321 -3.247376 -0.513290 -2.427789  neutral  \n",
>>>>>>> c93e33cbb471499ad1223f64d1c70c0f1960d065
       "\n",
       "[5 rows x 21 columns]"
      ]
     },
     "execution_count": 3,
     "metadata": {},
     "output_type": "execute_result"
    }
   ],
>>>>>>> 26f263d60ee1d7b0b0a4453c61feee4d93ab1b2a
   "source": [
    "data.head()"
   ]
  },
  {
   "cell_type": "code",
   "execution_count": null,
   "id": "064df167",
   "metadata": {},
<<<<<<< HEAD
   "outputs": [],
=======
   "outputs": [
    {
     "data": {
      "text/plain": [
<<<<<<< HEAD
       "disgust      576\n",
       "sad          576\n",
       "happy        576\n",
       "calm         576\n",
       "surprised    576\n",
       "angry        576\n",
       "fearful      576\n",
=======
       "calm         576\n",
       "happy        576\n",
       "sad          576\n",
       "angry        576\n",
       "fearful      576\n",
       "disgust      576\n",
       "surprised    576\n",
>>>>>>> c93e33cbb471499ad1223f64d1c70c0f1960d065
       "neutral      288\n",
       "Name: labels, dtype: int64"
      ]
     },
     "execution_count": 4,
     "metadata": {},
     "output_type": "execute_result"
    }
   ],
>>>>>>> 26f263d60ee1d7b0b0a4453c61feee4d93ab1b2a
   "source": [
    "data['labels'].value_counts()"
   ]
  },
  {
   "cell_type": "markdown",
   "id": "6f853dcf",
   "metadata": {},
   "source": [
    "splitting the data"
   ]
  },
  {
   "cell_type": "code",
   "execution_count": null,
   "id": "e36155ce",
   "metadata": {},
   "outputs": [],
   "source": [
    "X = data.iloc[: ,:-1].values\n",
    "Y = data['labels'].values"
   ]
  },
  {
   "cell_type": "code",
   "execution_count": null,
   "id": "ca39fe94",
   "metadata": {},
   "outputs": [],
   "source": [
    "encoder = OneHotEncoder()\n",
    "Y = encoder.fit_transform(np.array(Y).reshape(-1,1)).toarray()"
   ]
  },
  {
   "cell_type": "code",
   "execution_count": null,
   "id": "d1965c27",
   "metadata": {},
   "outputs": [],
   "source": [
    "X_train, X_test, y_train, y_test = train_test_split(X, Y, random_state=0, shuffle=True)"
   ]
  },
  {
   "cell_type": "code",
   "execution_count": null,
   "id": "4561c299",
   "metadata": {},
   "outputs": [],
   "source": [
    "print(X_train.shape)\n",
    "print(X_test.shape)"
   ]
  },
  {
   "cell_type": "code",
   "execution_count": null,
   "id": "58a26492",
   "metadata": {},
   "outputs": [],
   "source": [
    "print(y_train.shape)\n",
    "print(y_test.shape)"
   ]
  },
  {
   "cell_type": "code",
   "execution_count": null,
   "id": "2acd68e5",
   "metadata": {},
   "outputs": [],
   "source": [
    "scaler = StandardScaler()\n",
    "X_train = scaler.fit_transform(X_train)\n",
    "X_test = scaler.transform(X_test)\n",
    "X_train.shape, y_train.shape, X_test.shape, y_test.shape"
   ]
  },
  {
   "cell_type": "code",
   "execution_count": null,
   "id": "9895677f",
   "metadata": {},
   "outputs": [],
   "source": [
    "# making our data compatible to model.\n",
    "X_train = np.expand_dims(X_train, axis=2)\n",
    "X_test = np.expand_dims(X_test, axis=2)\n",
    "X_train.shape, y_train.shape, X_test.shape, y_test.shape"
   ]
  },
  {
   "cell_type": "code",
<<<<<<< HEAD
   "execution_count": null,
   "id": "e71842ed",
   "metadata": {},
   "outputs": [],
=======
   "execution_count": 12,
   "id": "db989b91",
   "metadata": {},
   "outputs": [
    {
     "data": {
      "text/plain": [
       "3240"
      ]
     },
     "execution_count": 12,
     "metadata": {},
     "output_type": "execute_result"
    }
   ],
   "source": [
    "X_train.shape[0]"
   ]
  },
  {
   "cell_type": "code",
   "execution_count": 13,
   "id": "e71842ed",
   "metadata": {},
   "outputs": [
    {
     "name": "stdout",
     "output_type": "stream",
     "text": [
      "Model: \"sequential\"\n",
      "_________________________________________________________________\n",
      " Layer (type)                Output Shape              Param #   \n",
      "=================================================================\n",
      " conv1d (Conv1D)             (None, 20, 256)           1536      \n",
      "                                                                 \n",
<<<<<<< HEAD
      " max_pooling1d (MaxPooling1D  (None, 6, 256)           0         \n",
      " )                                                               \n",
      "                                                                 \n",
      " conv1d_1 (Conv1D)           (None, 6, 128)            163968    \n",
      "                                                                 \n",
      " max_pooling1d_1 (MaxPooling  (None, 2, 128)           0         \n",
      " 1D)                                                             \n",
      "                                                                 \n",
      " dropout (Dropout)           (None, 2, 128)            0         \n",
      "                                                                 \n",
      " flatten (Flatten)           (None, 256)               0         \n",
      "                                                                 \n",
      " dense (Dense)               (None, 32)                8224      \n",
=======
      " max_pooling1d (MaxPooling1D  (None, 10, 256)          0         \n",
      " )                                                               \n",
      "                                                                 \n",
      " conv1d_1 (Conv1D)           (None, 10, 128)           163968    \n",
      "                                                                 \n",
      " max_pooling1d_1 (MaxPooling  (None, 5, 128)           0         \n",
      " 1D)                                                             \n",
      "                                                                 \n",
      " dropout (Dropout)           (None, 5, 128)            0         \n",
      "                                                                 \n",
      " conv1d_2 (Conv1D)           (None, 5, 64)             41024     \n",
      "                                                                 \n",
      " max_pooling1d_2 (MaxPooling  (None, 3, 64)            0         \n",
      " 1D)                                                             \n",
      "                                                                 \n",
      " flatten (Flatten)           (None, 192)               0         \n",
      "                                                                 \n",
      " dense (Dense)               (None, 32)                6176      \n",
>>>>>>> c93e33cbb471499ad1223f64d1c70c0f1960d065
      "                                                                 \n",
      " dropout_1 (Dropout)         (None, 32)                0         \n",
      "                                                                 \n",
      " dense_1 (Dense)             (None, 8)                 264       \n",
      "                                                                 \n",
      "=================================================================\n",
<<<<<<< HEAD
      "Total params: 173,992\n",
      "Trainable params: 173,992\n",
=======
      "Total params: 212,968\n",
      "Trainable params: 212,968\n",
>>>>>>> c93e33cbb471499ad1223f64d1c70c0f1960d065
      "Non-trainable params: 0\n",
      "_________________________________________________________________\n"
     ]
    }
   ],
>>>>>>> 26f263d60ee1d7b0b0a4453c61feee4d93ab1b2a
   "source": [
    "import tensorflow\n",
    "from tensorflow import keras\n",
    "from tensorflow.keras import layers\n",
    "from tensorflow.keras.models import Sequential\n",
    "from tensorflow.keras.layers import Conv1D, MaxPooling1D, AveragePooling1D\n",
    "from tensorflow.keras.layers import Input, Flatten, Dropout, Activation, BatchNormalization, Dense\n",
    "from sklearn.model_selection import GridSearchCV\n",
    "from tensorflow.keras.wrappers.scikit_learn import KerasClassifier\n",
    "from tensorflow.keras.optimizers import SGD\n",
    "from tensorflow.keras.regularizers import l2\n",
    "from keras.callbacks import ReduceLROnPlateau\n",
    "from tensorflow.keras.callbacks import EarlyStopping, ModelCheckpoint\n",
    "\n",
    "# Conv1D for audio\n",
    "model=Sequential()\n",
<<<<<<< HEAD
    "# number of output filters in the convolution (filters=small features)\n",
    "# kernel size = specifying length of the 1D convolution window\n",
    "# strides = number of columns shifted at a time\n",
    "model.add(Conv1D(256, kernel_size=5, padding='same', activation='relu', input_shape=(X_train.shape[1], 1)))\n",
    "model.add(MaxPooling1D(pool_size=3))\n",
    "\n",
    "model.add(Conv1D(128, kernel_size=5, padding='same', activation='relu', kernel_regularizer=l2(0.007)))\n",
    "model.add(MaxPooling1D(pool_size=3, padding = 'same'))\n",
    "model.add(Dropout(0.5))\n",
    "\n",
    "# model.add(Conv1D(64, kernel_size=5, padding='same', activation='relu'))\n",
    "# model.add(MaxPooling1D(pool_size=3, padding = 'same'))\n",
    "# model.add(Dropout(0.3))\n",
=======
    "model.add(Conv1D(256, kernel_size=5, padding='same', activation='relu', input_shape=(X_train.shape[1], 1)))\n",
    "model.add(MaxPooling1D(pool_size=2, padding = 'same'))\n",
    "\n",
    "model.add(Conv1D(128, kernel_size=5, padding='same', activation='relu',kernel_regularizer=l2(0.001), bias_regularizer=l2(0.001)))\n",
    "model.add(MaxPooling1D(pool_size=2, padding = 'same'))\n",
    "model.add(Dropout(0.2))\n",
    "\n",
    "model.add(Conv1D(64, kernel_size=5, padding='same', activation='relu'))\n",
    "model.add(MaxPooling1D(pool_size=2, padding = 'same'))\n",
    "\n",
>>>>>>> c93e33cbb471499ad1223f64d1c70c0f1960d065
    "\n",
    "model.add(Flatten())\n",
    "model.add(Dense(units=32, activation='relu'))\n",
    "model.add(Dropout(0.3))\n",
    "\n",
    "model.add(Dense(units=8, activation='softmax'))\n",
    "model.compile(optimizer = 'adam' , loss = 'categorical_crossentropy' , metrics = ['accuracy'])\n",
    "\n",
    "model.summary()"
   ]
  },
  {
   "cell_type": "code",
<<<<<<< HEAD
   "execution_count": null,
   "id": "cd03128b",
   "metadata": {},
   "outputs": [],
=======
   "execution_count": 14,
   "id": "cd03128b",
   "metadata": {},
   "outputs": [
    {
     "name": "stdout",
     "output_type": "stream",
     "text": [
      "Epoch 1/50\n",
<<<<<<< HEAD
      "51/51 [==============================] - 3s 32ms/step - loss: 2.7114 - accuracy: 0.1556 - val_loss: 2.2909 - val_accuracy: 0.2259 - lr: 0.0010\n",
      "Epoch 2/50\n",
      "51/51 [==============================] - 1s 24ms/step - loss: 2.1750 - accuracy: 0.1966 - val_loss: 2.0427 - val_accuracy: 0.2769 - lr: 0.0010\n",
      "Epoch 3/50\n",
      "51/51 [==============================] - 1s 25ms/step - loss: 2.0382 - accuracy: 0.2287 - val_loss: 1.9415 - val_accuracy: 0.2713 - lr: 0.0010\n",
      "Epoch 4/50\n",
      "51/51 [==============================] - 1s 24ms/step - loss: 1.9660 - accuracy: 0.2580 - val_loss: 1.8618 - val_accuracy: 0.3102 - lr: 0.0010\n",
      "Epoch 5/50\n",
      "51/51 [==============================] - 1s 24ms/step - loss: 1.9290 - accuracy: 0.2599 - val_loss: 1.8171 - val_accuracy: 0.3148 - lr: 0.0010\n",
      "Epoch 6/50\n",
      "51/51 [==============================] - 1s 25ms/step - loss: 1.8862 - accuracy: 0.2929 - val_loss: 1.7707 - val_accuracy: 0.3713 - lr: 0.0010\n",
      "Epoch 7/50\n",
      "51/51 [==============================] - 1s 24ms/step - loss: 1.8677 - accuracy: 0.2972 - val_loss: 1.7528 - val_accuracy: 0.3954 - lr: 0.0010\n",
      "Epoch 8/50\n",
      "51/51 [==============================] - 1s 25ms/step - loss: 1.8410 - accuracy: 0.3210 - val_loss: 1.7467 - val_accuracy: 0.3528 - lr: 0.0010\n",
      "Epoch 9/50\n",
      "51/51 [==============================] - 1s 25ms/step - loss: 1.8190 - accuracy: 0.3395 - val_loss: 1.7271 - val_accuracy: 0.4074 - lr: 0.0010\n",
      "Epoch 10/50\n",
      "51/51 [==============================] - 1s 25ms/step - loss: 1.8060 - accuracy: 0.3395 - val_loss: 1.6909 - val_accuracy: 0.3944 - lr: 0.0010\n",
      "Epoch 11/50\n",
      "51/51 [==============================] - 1s 24ms/step - loss: 1.7739 - accuracy: 0.3512 - val_loss: 1.6725 - val_accuracy: 0.4231 - lr: 0.0010\n",
      "Epoch 12/50\n",
      "51/51 [==============================] - 1s 24ms/step - loss: 1.7733 - accuracy: 0.3556 - val_loss: 1.6630 - val_accuracy: 0.4278 - lr: 0.0010\n",
      "Epoch 13/50\n",
      "51/51 [==============================] - 1s 25ms/step - loss: 1.7477 - accuracy: 0.3670 - val_loss: 1.6317 - val_accuracy: 0.4324 - lr: 0.0010\n",
      "Epoch 14/50\n",
      "51/51 [==============================] - 1s 25ms/step - loss: 1.7396 - accuracy: 0.3830 - val_loss: 1.6306 - val_accuracy: 0.4296 - lr: 0.0010\n",
      "Epoch 15/50\n",
      "51/51 [==============================] - 1s 24ms/step - loss: 1.7148 - accuracy: 0.3815 - val_loss: 1.6339 - val_accuracy: 0.4370 - lr: 0.0010\n",
      "Epoch 16/50\n",
      "51/51 [==============================] - 1s 24ms/step - loss: 1.7078 - accuracy: 0.3960 - val_loss: 1.6146 - val_accuracy: 0.4343 - lr: 0.0010\n",
      "Epoch 17/50\n",
      "51/51 [==============================] - 1s 24ms/step - loss: 1.7027 - accuracy: 0.3957 - val_loss: 1.5960 - val_accuracy: 0.4333 - lr: 0.0010\n",
      "Epoch 18/50\n",
      "51/51 [==============================] - 1s 25ms/step - loss: 1.6964 - accuracy: 0.4052 - val_loss: 1.5830 - val_accuracy: 0.4602 - lr: 0.0010\n",
      "Epoch 19/50\n",
      "51/51 [==============================] - 1s 24ms/step - loss: 1.6827 - accuracy: 0.3972 - val_loss: 1.5683 - val_accuracy: 0.4574 - lr: 0.0010\n",
      "Epoch 20/50\n",
      "51/51 [==============================] - 1s 25ms/step - loss: 1.6599 - accuracy: 0.4074 - val_loss: 1.5461 - val_accuracy: 0.4778 - lr: 0.0010\n",
      "Epoch 21/50\n",
      "51/51 [==============================] - 1s 25ms/step - loss: 1.6728 - accuracy: 0.4009 - val_loss: 1.5866 - val_accuracy: 0.4509 - lr: 0.0010\n",
      "Epoch 22/50\n",
      "51/51 [==============================] - 1s 25ms/step - loss: 1.6593 - accuracy: 0.4145 - val_loss: 1.5677 - val_accuracy: 0.4722 - lr: 0.0010\n",
      "Epoch 23/50\n",
      "51/51 [==============================] - 1s 25ms/step - loss: 1.6544 - accuracy: 0.4105 - val_loss: 1.5334 - val_accuracy: 0.4824 - lr: 0.0010\n",
      "Epoch 24/50\n",
      "51/51 [==============================] - 1s 25ms/step - loss: 1.6521 - accuracy: 0.4142 - val_loss: 1.5268 - val_accuracy: 0.4759 - lr: 0.0010\n",
      "Epoch 25/50\n",
      "51/51 [==============================] - 1s 25ms/step - loss: 1.6311 - accuracy: 0.4398 - val_loss: 1.5349 - val_accuracy: 0.4870 - lr: 0.0010\n",
      "Epoch 26/50\n",
      "51/51 [==============================] - 1s 24ms/step - loss: 1.6130 - accuracy: 0.4333 - val_loss: 1.5538 - val_accuracy: 0.4657 - lr: 0.0010\n",
      "Epoch 27/50\n",
      "51/51 [==============================] - 1s 25ms/step - loss: 1.6318 - accuracy: 0.4281 - val_loss: 1.5457 - val_accuracy: 0.4685 - lr: 0.0010\n",
      "Epoch 28/50\n",
      "51/51 [==============================] - ETA: 0s - loss: 1.6334 - accuracy: 0.4253\n",
      "Epoch 00028: ReduceLROnPlateau reducing learning rate to 0.0004000000189989805.\n",
      "51/51 [==============================] - 1s 25ms/step - loss: 1.6334 - accuracy: 0.4253 - val_loss: 1.5267 - val_accuracy: 0.4889 - lr: 0.0010\n",
      "Epoch 29/50\n",
      "51/51 [==============================] - 1s 25ms/step - loss: 1.5762 - accuracy: 0.4515 - val_loss: 1.4818 - val_accuracy: 0.4935 - lr: 4.0000e-04\n",
      "Epoch 30/50\n",
      "51/51 [==============================] - 1s 25ms/step - loss: 1.5293 - accuracy: 0.4679 - val_loss: 1.4745 - val_accuracy: 0.4963 - lr: 4.0000e-04\n",
      "Epoch 31/50\n",
      "51/51 [==============================] - 1s 26ms/step - loss: 1.5261 - accuracy: 0.4722 - val_loss: 1.4510 - val_accuracy: 0.5093 - lr: 4.0000e-04\n",
      "Epoch 32/50\n",
      "51/51 [==============================] - 1s 25ms/step - loss: 1.5121 - accuracy: 0.4802 - val_loss: 1.4349 - val_accuracy: 0.5102 - lr: 4.0000e-04\n",
      "Epoch 33/50\n",
      "51/51 [==============================] - 1s 25ms/step - loss: 1.5134 - accuracy: 0.4735 - val_loss: 1.4517 - val_accuracy: 0.5083 - lr: 4.0000e-04\n",
      "Epoch 34/50\n",
      "51/51 [==============================] - 1s 24ms/step - loss: 1.4863 - accuracy: 0.4975 - val_loss: 1.4297 - val_accuracy: 0.5148 - lr: 4.0000e-04\n",
      "Epoch 35/50\n",
      "51/51 [==============================] - 1s 25ms/step - loss: 1.4858 - accuracy: 0.4759 - val_loss: 1.4202 - val_accuracy: 0.5176 - lr: 4.0000e-04\n",
      "Epoch 36/50\n",
      "51/51 [==============================] - 2s 31ms/step - loss: 1.4842 - accuracy: 0.4969 - val_loss: 1.4225 - val_accuracy: 0.5306 - lr: 4.0000e-04\n",
      "Epoch 37/50\n",
      "51/51 [==============================] - 1s 25ms/step - loss: 1.4770 - accuracy: 0.4889 - val_loss: 1.4157 - val_accuracy: 0.5157 - lr: 4.0000e-04\n",
      "Epoch 38/50\n",
      "51/51 [==============================] - 1s 25ms/step - loss: 1.4679 - accuracy: 0.4960 - val_loss: 1.4156 - val_accuracy: 0.5204 - lr: 4.0000e-04\n",
      "Epoch 39/50\n",
      "51/51 [==============================] - 1s 25ms/step - loss: 1.4720 - accuracy: 0.4938 - val_loss: 1.4337 - val_accuracy: 0.5037 - lr: 4.0000e-04\n",
      "Epoch 40/50\n",
      "51/51 [==============================] - ETA: 0s - loss: 1.4693 - accuracy: 0.4926\n",
      "Epoch 00040: ReduceLROnPlateau reducing learning rate to 0.00016000000759959222.\n",
      "51/51 [==============================] - 1s 25ms/step - loss: 1.4693 - accuracy: 0.4926 - val_loss: 1.3999 - val_accuracy: 0.5278 - lr: 4.0000e-04\n",
      "Epoch 41/50\n",
      "51/51 [==============================] - 1s 25ms/step - loss: 1.4417 - accuracy: 0.5090 - val_loss: 1.3935 - val_accuracy: 0.5287 - lr: 1.6000e-04\n",
      "Epoch 42/50\n",
      "51/51 [==============================] - 1s 26ms/step - loss: 1.4178 - accuracy: 0.5210 - val_loss: 1.3793 - val_accuracy: 0.5315 - lr: 1.6000e-04\n",
      "Epoch 43/50\n",
      "51/51 [==============================] - 1s 24ms/step - loss: 1.3996 - accuracy: 0.5241 - val_loss: 1.3685 - val_accuracy: 0.5370 - lr: 1.6000e-04\n",
      "Epoch 44/50\n",
      "51/51 [==============================] - 1s 25ms/step - loss: 1.3933 - accuracy: 0.5262 - val_loss: 1.3759 - val_accuracy: 0.5259 - lr: 1.6000e-04\n",
      "Epoch 45/50\n",
      "51/51 [==============================] - 1s 25ms/step - loss: 1.3999 - accuracy: 0.5222 - val_loss: 1.3737 - val_accuracy: 0.5398 - lr: 1.6000e-04\n",
      "Epoch 46/50\n",
      "50/51 [============================>.] - ETA: 0s - loss: 1.3949 - accuracy: 0.5228\n",
      "Epoch 00046: ReduceLROnPlateau reducing learning rate to 6.40000042039901e-05.\n",
      "51/51 [==============================] - 1s 25ms/step - loss: 1.3935 - accuracy: 0.5235 - val_loss: 1.3688 - val_accuracy: 0.5444 - lr: 1.6000e-04\n",
      "Epoch 47/50\n",
      "51/51 [==============================] - 1s 25ms/step - loss: 1.3843 - accuracy: 0.5250 - val_loss: 1.3642 - val_accuracy: 0.5333 - lr: 6.4000e-05\n",
      "Epoch 48/50\n",
      "51/51 [==============================] - 1s 24ms/step - loss: 1.3739 - accuracy: 0.5293 - val_loss: 1.3588 - val_accuracy: 0.5380 - lr: 6.4000e-05\n",
      "Epoch 49/50\n",
      "51/51 [==============================] - 1s 25ms/step - loss: 1.3726 - accuracy: 0.5327 - val_loss: 1.3603 - val_accuracy: 0.5352 - lr: 6.4000e-05\n",
=======
      "51/51 [==============================] - 1s 16ms/step - loss: 2.1660 - accuracy: 0.1815 - val_loss: 2.0324 - val_accuracy: 0.2444 - lr: 0.0010\n",
      "Epoch 2/50\n",
      "51/51 [==============================] - 1s 13ms/step - loss: 1.9820 - accuracy: 0.2667 - val_loss: 1.7871 - val_accuracy: 0.3843 - lr: 0.0010\n",
      "Epoch 3/50\n",
      "51/51 [==============================] - 1s 12ms/step - loss: 1.8157 - accuracy: 0.3352 - val_loss: 1.6549 - val_accuracy: 0.3889 - lr: 0.0010\n",
      "Epoch 4/50\n",
      "51/51 [==============================] - 1s 13ms/step - loss: 1.7210 - accuracy: 0.3753 - val_loss: 1.5457 - val_accuracy: 0.4444 - lr: 0.0010\n",
      "Epoch 5/50\n",
      "51/51 [==============================] - 1s 13ms/step - loss: 1.6340 - accuracy: 0.4062 - val_loss: 1.5137 - val_accuracy: 0.4667 - lr: 0.0010\n",
      "Epoch 6/50\n",
      "51/51 [==============================] - 1s 13ms/step - loss: 1.5646 - accuracy: 0.4355 - val_loss: 1.4359 - val_accuracy: 0.4889 - lr: 0.0010\n",
      "Epoch 7/50\n",
      "51/51 [==============================] - 1s 13ms/step - loss: 1.4871 - accuracy: 0.4642 - val_loss: 1.3975 - val_accuracy: 0.5046 - lr: 0.0010\n",
      "Epoch 8/50\n",
      "51/51 [==============================] - 1s 12ms/step - loss: 1.4503 - accuracy: 0.4781 - val_loss: 1.3702 - val_accuracy: 0.5167 - lr: 0.0010\n",
      "Epoch 9/50\n",
      "51/51 [==============================] - 1s 13ms/step - loss: 1.4015 - accuracy: 0.4926 - val_loss: 1.3407 - val_accuracy: 0.5278 - lr: 0.0010\n",
      "Epoch 10/50\n",
      "51/51 [==============================] - 1s 13ms/step - loss: 1.3492 - accuracy: 0.5228 - val_loss: 1.3131 - val_accuracy: 0.5463 - lr: 0.0010\n",
      "Epoch 11/50\n",
      "51/51 [==============================] - 1s 12ms/step - loss: 1.3204 - accuracy: 0.5414 - val_loss: 1.2712 - val_accuracy: 0.5694 - lr: 0.0010\n",
      "Epoch 12/50\n",
      "51/51 [==============================] - 1s 13ms/step - loss: 1.2830 - accuracy: 0.5494 - val_loss: 1.2525 - val_accuracy: 0.5769 - lr: 0.0010\n",
      "Epoch 13/50\n",
      "51/51 [==============================] - 1s 13ms/step - loss: 1.2270 - accuracy: 0.5833 - val_loss: 1.2143 - val_accuracy: 0.5889 - lr: 0.0010\n",
      "Epoch 14/50\n",
      "51/51 [==============================] - 1s 13ms/step - loss: 1.1960 - accuracy: 0.5923 - val_loss: 1.1938 - val_accuracy: 0.6019 - lr: 0.0010\n",
      "Epoch 15/50\n",
      "51/51 [==============================] - 1s 13ms/step - loss: 1.1565 - accuracy: 0.6111 - val_loss: 1.1847 - val_accuracy: 0.6093 - lr: 0.0010\n",
      "Epoch 16/50\n",
      "51/51 [==============================] - 1s 12ms/step - loss: 1.1238 - accuracy: 0.6154 - val_loss: 1.1515 - val_accuracy: 0.6250 - lr: 0.0010\n",
      "Epoch 17/50\n",
      "51/51 [==============================] - 1s 12ms/step - loss: 1.0728 - accuracy: 0.6448 - val_loss: 1.1287 - val_accuracy: 0.6315 - lr: 0.0010\n",
      "Epoch 18/50\n",
      "51/51 [==============================] - 1s 12ms/step - loss: 1.0782 - accuracy: 0.6380 - val_loss: 1.1008 - val_accuracy: 0.6370 - lr: 0.0010\n",
      "Epoch 19/50\n",
      "51/51 [==============================] - 1s 12ms/step - loss: 1.0469 - accuracy: 0.6549 - val_loss: 1.1092 - val_accuracy: 0.6407 - lr: 0.0010\n",
      "Epoch 20/50\n",
      "51/51 [==============================] - 1s 13ms/step - loss: 1.0184 - accuracy: 0.6593 - val_loss: 1.0708 - val_accuracy: 0.6620 - lr: 0.0010\n",
      "Epoch 21/50\n",
      "51/51 [==============================] - 1s 13ms/step - loss: 1.0034 - accuracy: 0.6775 - val_loss: 1.1693 - val_accuracy: 0.6185 - lr: 0.0010\n",
      "Epoch 22/50\n",
      "51/51 [==============================] - 1s 12ms/step - loss: 0.9623 - accuracy: 0.6991 - val_loss: 1.0582 - val_accuracy: 0.6583 - lr: 0.0010\n",
      "Epoch 23/50\n",
      "51/51 [==============================] - 1s 12ms/step - loss: 0.9419 - accuracy: 0.6920 - val_loss: 1.0603 - val_accuracy: 0.6630 - lr: 0.0010\n",
      "Epoch 24/50\n",
      "51/51 [==============================] - 1s 12ms/step - loss: 0.9204 - accuracy: 0.7052 - val_loss: 1.0452 - val_accuracy: 0.6704 - lr: 0.0010\n",
      "Epoch 25/50\n",
      "51/51 [==============================] - 1s 12ms/step - loss: 0.8848 - accuracy: 0.7272 - val_loss: 1.0081 - val_accuracy: 0.6861 - lr: 0.0010\n",
      "Epoch 26/50\n",
      "51/51 [==============================] - 1s 13ms/step - loss: 0.9061 - accuracy: 0.7160 - val_loss: 1.1114 - val_accuracy: 0.6454 - lr: 0.0010\n",
      "Epoch 27/50\n",
      "46/51 [==========================>...] - ETA: 0s - loss: 0.8960 - accuracy: 0.7232\n",
      "Epoch 00027: ReduceLROnPlateau reducing learning rate to 0.0004000000189989805.\n",
      "51/51 [==============================] - 1s 13ms/step - loss: 0.8986 - accuracy: 0.7216 - val_loss: 1.0648 - val_accuracy: 0.6667 - lr: 0.0010\n",
      "Epoch 28/50\n",
      "51/51 [==============================] - 1s 14ms/step - loss: 0.8120 - accuracy: 0.7522 - val_loss: 0.9693 - val_accuracy: 0.7111 - lr: 4.0000e-04\n",
      "Epoch 29/50\n",
      "51/51 [==============================] - 1s 13ms/step - loss: 0.7624 - accuracy: 0.7728 - val_loss: 0.9640 - val_accuracy: 0.7167 - lr: 4.0000e-04\n",
      "Epoch 30/50\n",
      "51/51 [==============================] - 1s 13ms/step - loss: 0.7554 - accuracy: 0.7713 - val_loss: 0.9619 - val_accuracy: 0.7056 - lr: 4.0000e-04\n",
      "Epoch 31/50\n",
      "51/51 [==============================] - 1s 13ms/step - loss: 0.7310 - accuracy: 0.7830 - val_loss: 0.9586 - val_accuracy: 0.7046 - lr: 4.0000e-04\n",
      "Epoch 32/50\n",
      "51/51 [==============================] - 1s 13ms/step - loss: 0.7230 - accuracy: 0.7812 - val_loss: 0.9562 - val_accuracy: 0.7167 - lr: 4.0000e-04\n",
      "Epoch 33/50\n",
      "51/51 [==============================] - 1s 13ms/step - loss: 0.6954 - accuracy: 0.7898 - val_loss: 0.9659 - val_accuracy: 0.7000 - lr: 4.0000e-04\n",
      "Epoch 34/50\n",
      "51/51 [==============================] - 1s 13ms/step - loss: 0.6966 - accuracy: 0.7904 - val_loss: 0.9411 - val_accuracy: 0.7130 - lr: 4.0000e-04\n",
      "Epoch 35/50\n",
      "51/51 [==============================] - 1s 13ms/step - loss: 0.6850 - accuracy: 0.7880 - val_loss: 0.9342 - val_accuracy: 0.7204 - lr: 4.0000e-04\n",
      "Epoch 36/50\n",
      "51/51 [==============================] - 1s 12ms/step - loss: 0.6971 - accuracy: 0.7843 - val_loss: 0.9357 - val_accuracy: 0.7120 - lr: 4.0000e-04\n",
      "Epoch 37/50\n",
      "51/51 [==============================] - 1s 13ms/step - loss: 0.6588 - accuracy: 0.8093 - val_loss: 0.9190 - val_accuracy: 0.7139 - lr: 4.0000e-04\n",
      "Epoch 38/50\n",
      "51/51 [==============================] - 1s 12ms/step - loss: 0.6534 - accuracy: 0.8052 - val_loss: 0.9265 - val_accuracy: 0.7111 - lr: 4.0000e-04\n",
      "Epoch 39/50\n",
      "51/51 [==============================] - 1s 12ms/step - loss: 0.6466 - accuracy: 0.8108 - val_loss: 0.9408 - val_accuracy: 0.7120 - lr: 4.0000e-04\n",
      "Epoch 40/50\n",
      "51/51 [==============================] - 1s 13ms/step - loss: 0.6500 - accuracy: 0.8056 - val_loss: 0.9267 - val_accuracy: 0.7194 - lr: 4.0000e-04\n",
      "Epoch 41/50\n",
      "47/51 [==========================>...] - ETA: 0s - loss: 0.6460 - accuracy: 0.8128\n",
      "Epoch 00041: ReduceLROnPlateau reducing learning rate to 0.00016000000759959222.\n",
      "51/51 [==============================] - 1s 15ms/step - loss: 0.6476 - accuracy: 0.8130 - val_loss: 0.9191 - val_accuracy: 0.7130 - lr: 4.0000e-04\n",
      "Epoch 42/50\n",
      "51/51 [==============================] - 1s 14ms/step - loss: 0.6068 - accuracy: 0.8284 - val_loss: 0.8970 - val_accuracy: 0.7241 - lr: 1.6000e-04\n",
      "Epoch 43/50\n",
      "51/51 [==============================] - 1s 14ms/step - loss: 0.5846 - accuracy: 0.8321 - val_loss: 0.9060 - val_accuracy: 0.7167 - lr: 1.6000e-04\n",
      "Epoch 44/50\n",
      "51/51 [==============================] - 1s 14ms/step - loss: 0.6072 - accuracy: 0.8253 - val_loss: 0.9028 - val_accuracy: 0.7241 - lr: 1.6000e-04\n",
      "Epoch 45/50\n",
      "48/51 [===========================>..] - ETA: 0s - loss: 0.5838 - accuracy: 0.8314\n",
      "Epoch 00045: ReduceLROnPlateau reducing learning rate to 6.40000042039901e-05.\n",
      "51/51 [==============================] - 1s 14ms/step - loss: 0.5890 - accuracy: 0.8293 - val_loss: 0.9026 - val_accuracy: 0.7231 - lr: 1.6000e-04\n",
      "Epoch 46/50\n",
      "51/51 [==============================] - 1s 14ms/step - loss: 0.5748 - accuracy: 0.8423 - val_loss: 0.8996 - val_accuracy: 0.7231 - lr: 6.4000e-05\n",
      "Epoch 47/50\n",
      "51/51 [==============================] - 1s 14ms/step - loss: 0.5787 - accuracy: 0.8349 - val_loss: 0.9010 - val_accuracy: 0.7315 - lr: 6.4000e-05\n",
      "Epoch 48/50\n",
      "51/51 [==============================] - 1s 14ms/step - loss: 0.5728 - accuracy: 0.8426 - val_loss: 0.8999 - val_accuracy: 0.7296 - lr: 6.4000e-05\n",
      "Epoch 49/50\n",
      "51/51 [==============================] - 1s 15ms/step - loss: 0.5799 - accuracy: 0.8265 - val_loss: 0.8999 - val_accuracy: 0.7241 - lr: 6.4000e-05\n",
>>>>>>> c93e33cbb471499ad1223f64d1c70c0f1960d065
      "Epoch 50/50\n"
     ]
    },
    {
     "name": "stdout",
     "output_type": "stream",
     "text": [
<<<<<<< HEAD
      "51/51 [==============================] - 1s 25ms/step - loss: 1.3754 - accuracy: 0.5444 - val_loss: 1.3567 - val_accuracy: 0.5444 - lr: 6.4000e-05\n"
=======
      "51/51 [==============================] - ETA: 0s - loss: 0.5735 - accuracy: 0.8361\n",
      "Epoch 00050: ReduceLROnPlateau reducing learning rate to 2.560000284574926e-05.\n",
      "51/51 [==============================] - 1s 13ms/step - loss: 0.5735 - accuracy: 0.8361 - val_loss: 0.8978 - val_accuracy: 0.7241 - lr: 6.4000e-05\n"
>>>>>>> c93e33cbb471499ad1223f64d1c70c0f1960d065
     ]
    }
   ],
>>>>>>> 26f263d60ee1d7b0b0a4453c61feee4d93ab1b2a
   "source": [
    "rlrp = ReduceLROnPlateau(monitor='loss', factor=0.4, verbose=1, patience=2, min_lr=0.0000001)\n",
    "history=model.fit(X_train, y_train, batch_size=64, epochs=50, validation_data=(X_test, y_test), callbacks=[rlrp])"
   ]
  },
  {
   "cell_type": "code",
<<<<<<< HEAD
   "execution_count": null,
   "id": "d7bc3716",
   "metadata": {},
   "outputs": [],
=======
   "execution_count": 15,
   "id": "d7bc3716",
   "metadata": {},
   "outputs": [
    {
     "data": {
      "text/plain": [
<<<<<<< HEAD
       "[<matplotlib.lines.Line2D at 0x28df81ca8b0>]"
=======
       "[<matplotlib.lines.Line2D at 0x204ff4cd730>]"
>>>>>>> c93e33cbb471499ad1223f64d1c70c0f1960d065
      ]
     },
     "execution_count": 15,
     "metadata": {},
     "output_type": "execute_result"
    },
    {
     "data": {
<<<<<<< HEAD
      "image/png": "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\n",
=======
      "image/png": "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\n",
>>>>>>> c93e33cbb471499ad1223f64d1c70c0f1960d065
      "text/plain": [
       "<Figure size 432x288 with 1 Axes>"
      ]
     },
     "metadata": {
      "needs_background": "light"
     },
     "output_type": "display_data"
    }
   ],
>>>>>>> 26f263d60ee1d7b0b0a4453c61feee4d93ab1b2a
   "source": [
    "plt.plot(history.history['loss'])\n",
    "plt.plot(history.history['val_loss'])"
   ]
  },
  {
   "cell_type": "code",
<<<<<<< HEAD
   "execution_count": null,
   "id": "58371646",
   "metadata": {},
   "outputs": [],
=======
   "execution_count": 16,
   "id": "58371646",
   "metadata": {},
   "outputs": [
    {
     "data": {
      "text/plain": [
<<<<<<< HEAD
       "[<matplotlib.lines.Line2D at 0x28df9485280>]"
=======
       "[<matplotlib.lines.Line2D at 0x204830298e0>]"
>>>>>>> c93e33cbb471499ad1223f64d1c70c0f1960d065
      ]
     },
     "execution_count": 16,
     "metadata": {},
     "output_type": "execute_result"
    },
    {
     "data": {
<<<<<<< HEAD
      "image/png": "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\n",
=======
      "image/png": "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\n",
>>>>>>> c93e33cbb471499ad1223f64d1c70c0f1960d065
      "text/plain": [
       "<Figure size 432x288 with 1 Axes>"
      ]
     },
     "metadata": {
      "needs_background": "light"
     },
     "output_type": "display_data"
    }
   ],
>>>>>>> 26f263d60ee1d7b0b0a4453c61feee4d93ab1b2a
   "source": [
    "plt.plot(history.history['accuracy'])\n",
    "plt.plot(history.history['val_accuracy'])"
   ]
  },
  {
   "cell_type": "code",
<<<<<<< HEAD
   "execution_count": null,
=======
   "execution_count": 17,
>>>>>>> 26f263d60ee1d7b0b0a4453c61feee4d93ab1b2a
   "id": "2c726380",
   "metadata": {},
   "outputs": [],
   "source": [
    "# predicting on test data.\n",
    "pred_test = model.predict(X_test)\n",
    "y_pred = encoder.inverse_transform(pred_test)\n",
    "y_test = encoder.inverse_transform(y_test)"
<<<<<<< HEAD
   ]
  },
  {
   "cell_type": "code",
   "execution_count": 18,
   "id": "e38f5c72",
   "metadata": {},
   "outputs": [
    {
     "data": {
      "text/plain": [
       "((1080, 1), (1080, 1))"
      ]
     },
     "execution_count": 18,
     "metadata": {},
     "output_type": "execute_result"
    }
   ],
   "source": [
    "y_pred.shape, y_test.shape"
=======
>>>>>>> c93e33cbb471499ad1223f64d1c70c0f1960d065
   ]
  },
  {
   "cell_type": "code",
<<<<<<< HEAD
   "execution_count": null,
   "id": "89ba7ebd",
   "metadata": {},
   "outputs": [],
=======
<<<<<<< HEAD
   "execution_count": 19,
=======
   "execution_count": 17,
>>>>>>> c93e33cbb471499ad1223f64d1c70c0f1960d065
   "id": "89ba7ebd",
   "metadata": {},
   "outputs": [
    {
     "data": {
      "text/html": [
       "<div>\n",
       "<style scoped>\n",
       "    .dataframe tbody tr th:only-of-type {\n",
       "        vertical-align: middle;\n",
       "    }\n",
       "\n",
       "    .dataframe tbody tr th {\n",
       "        vertical-align: top;\n",
       "    }\n",
       "\n",
       "    .dataframe thead th {\n",
       "        text-align: right;\n",
       "    }\n",
       "</style>\n",
       "<table border=\"1\" class=\"dataframe\">\n",
       "  <thead>\n",
       "    <tr style=\"text-align: right;\">\n",
       "      <th></th>\n",
       "      <th>Predicted Labels</th>\n",
       "      <th>Actual Labels</th>\n",
       "    </tr>\n",
       "  </thead>\n",
       "  <tbody>\n",
       "    <tr>\n",
       "      <th>0</th>\n",
       "      <td>fearful</td>\n",
       "      <td>fearful</td>\n",
       "    </tr>\n",
       "    <tr>\n",
       "      <th>1</th>\n",
       "      <td>happy</td>\n",
       "      <td>angry</td>\n",
       "    </tr>\n",
       "    <tr>\n",
       "      <th>2</th>\n",
       "      <td>fearful</td>\n",
       "      <td>fearful</td>\n",
       "    </tr>\n",
       "    <tr>\n",
       "      <th>3</th>\n",
       "      <td>calm</td>\n",
       "      <td>calm</td>\n",
       "    </tr>\n",
       "    <tr>\n",
       "      <th>4</th>\n",
       "      <td>angry</td>\n",
       "      <td>angry</td>\n",
       "    </tr>\n",
       "    <tr>\n",
       "      <th>5</th>\n",
       "      <td>surprised</td>\n",
       "      <td>surprised</td>\n",
       "    </tr>\n",
       "    <tr>\n",
       "      <th>6</th>\n",
       "      <td>calm</td>\n",
       "      <td>fearful</td>\n",
       "    </tr>\n",
       "    <tr>\n",
       "      <th>7</th>\n",
<<<<<<< HEAD
       "      <td>fearful</td>\n",
=======
       "      <td>happy</td>\n",
>>>>>>> c93e33cbb471499ad1223f64d1c70c0f1960d065
       "      <td>happy</td>\n",
       "    </tr>\n",
       "    <tr>\n",
       "      <th>8</th>\n",
       "      <td>fearful</td>\n",
       "      <td>fearful</td>\n",
       "    </tr>\n",
       "    <tr>\n",
       "      <th>9</th>\n",
       "      <td>surprised</td>\n",
       "      <td>sad</td>\n",
       "    </tr>\n",
       "  </tbody>\n",
       "</table>\n",
       "</div>"
      ],
      "text/plain": [
       "  Predicted Labels Actual Labels\n",
       "0          fearful       fearful\n",
       "1            happy         angry\n",
       "2          fearful       fearful\n",
       "3             calm          calm\n",
       "4            angry         angry\n",
       "5        surprised     surprised\n",
<<<<<<< HEAD
       "6          fearful       fearful\n",
       "7          fearful         happy\n",
=======
       "6             calm       fearful\n",
       "7            happy         happy\n",
>>>>>>> c93e33cbb471499ad1223f64d1c70c0f1960d065
       "8          fearful       fearful\n",
       "9        surprised           sad"
      ]
     },
<<<<<<< HEAD
     "execution_count": 19,
=======
     "execution_count": 17,
>>>>>>> c93e33cbb471499ad1223f64d1c70c0f1960d065
     "metadata": {},
     "output_type": "execute_result"
    }
   ],
>>>>>>> 26f263d60ee1d7b0b0a4453c61feee4d93ab1b2a
   "source": [
    "df = pd.DataFrame(columns=['Predicted Labels', 'Actual Labels'])\n",
    "df['Predicted Labels'] = y_pred.flatten()\n",
    "df['Actual Labels'] = y_test\n",
    "\n",
    "df.head(10)"
   ]
  },
  {
   "cell_type": "code",
<<<<<<< HEAD
   "execution_count": null,
   "id": "3ca049d3",
   "metadata": {},
   "outputs": [],
=======
   "execution_count": 20,
   "id": "3ca049d3",
   "metadata": {},
   "outputs": [
    {
     "data": {
<<<<<<< HEAD
      "image/png": "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\n",
=======
      "image/png": "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\n",
>>>>>>> c93e33cbb471499ad1223f64d1c70c0f1960d065
      "text/plain": [
       "<Figure size 864x720 with 2 Axes>"
      ]
     },
     "metadata": {
      "needs_background": "light"
     },
     "output_type": "display_data"
    }
   ],
>>>>>>> 26f263d60ee1d7b0b0a4453c61feee4d93ab1b2a
   "source": [
    "cm = confusion_matrix(y_test, y_pred)\n",
    "plt.figure(figsize = (12, 10))\n",
    "cm = pd.DataFrame(cm , index = [i for i in encoder.categories_] , columns = [i for i in encoder.categories_])\n",
    "sns.heatmap(cm, linecolor='white', cmap='Blues', linewidth=1, annot=True, fmt='')\n",
    "plt.title('Confusion Matrix', size=20)\n",
    "plt.xlabel('Predicted Labels', size=14)\n",
    "plt.ylabel('Actual Labels', size=14)\n",
    "plt.show()\n"
   ]
  },
  {
   "cell_type": "code",
<<<<<<< HEAD
   "execution_count": null,
   "id": "2e4ea467",
   "metadata": {},
   "outputs": [],
=======
   "execution_count": 21,
   "id": "2e4ea467",
   "metadata": {},
   "outputs": [
    {
     "name": "stdout",
     "output_type": "stream",
     "text": [
      "              precision    recall  f1-score   support\n",
      "\n",
<<<<<<< HEAD
      "       angry       0.63      0.76      0.69       132\n",
      "        calm       0.58      0.84      0.69       159\n",
      "     disgust       0.42      0.45      0.44       135\n",
      "     fearful       0.58      0.48      0.52       151\n",
      "       happy       0.43      0.38      0.40       141\n",
      "     neutral       1.00      0.01      0.03        72\n",
      "         sad       0.51      0.50      0.50       151\n",
      "   surprised       0.60      0.67      0.63       139\n",
      "\n",
      "    accuracy                           0.54      1080\n",
      "   macro avg       0.60      0.51      0.49      1080\n",
      "weighted avg       0.57      0.54      0.52      1080\n",
=======
      "       angry       0.84      0.80      0.82       132\n",
      "        calm       0.76      0.82      0.79       159\n",
      "     disgust       0.65      0.65      0.65       135\n",
      "     fearful       0.75      0.75      0.75       151\n",
      "       happy       0.67      0.67      0.67       141\n",
      "     neutral       0.56      0.62      0.59        72\n",
      "         sad       0.72      0.72      0.72       151\n",
      "   surprised       0.77      0.69      0.73       139\n",
      "\n",
      "    accuracy                           0.72      1080\n",
      "   macro avg       0.72      0.72      0.72      1080\n",
      "weighted avg       0.73      0.72      0.72      1080\n",
>>>>>>> c93e33cbb471499ad1223f64d1c70c0f1960d065
      "\n"
     ]
    }
   ],
>>>>>>> 26f263d60ee1d7b0b0a4453c61feee4d93ab1b2a
   "source": [
    "print(classification_report(y_test, y_pred))"
   ]
<<<<<<< HEAD
  },
  {
   "cell_type": "code",
   "execution_count": 22,
   "id": "23ee9fd3",
   "metadata": {},
   "outputs": [],
   "source": [
    "test = pd.read_csv(\"test.csv\")\n",
    "data = test.iloc[: ,:-1].values\n",
    "labels = test['labels'].values"
   ]
  },
  {
   "cell_type": "code",
   "execution_count": 23,
   "id": "44fac66c",
   "metadata": {},
   "outputs": [
    {
     "data": {
      "text/plain": [
       "(39, 21)"
      ]
     },
     "execution_count": 23,
     "metadata": {},
     "output_type": "execute_result"
    }
   ],
   "source": [
    "test.shape"
   ]
  },
  {
   "cell_type": "code",
   "execution_count": 24,
   "id": "e335a0ef",
   "metadata": {},
   "outputs": [
    {
     "data": {
      "text/plain": [
       "(39, 20)"
      ]
     },
     "execution_count": 24,
     "metadata": {},
     "output_type": "execute_result"
    }
   ],
   "source": [
    "data.shape"
   ]
  },
  {
   "cell_type": "code",
   "execution_count": 25,
   "id": "32ece0d1",
   "metadata": {},
   "outputs": [],
   "source": [
    "test = scaler.transform(data)"
   ]
  },
  {
   "cell_type": "code",
   "execution_count": 26,
   "id": "19f2e066",
   "metadata": {},
   "outputs": [],
   "source": [
    "test = np.expand_dims(test, axis=2)"
   ]
  },
  {
   "cell_type": "code",
   "execution_count": 27,
   "id": "0a793731",
   "metadata": {},
   "outputs": [],
   "source": [
    "prediction = model.predict(test)\n",
    "result = encoder.inverse_transform(prediction)"
   ]
  },
  {
   "cell_type": "code",
   "execution_count": 28,
   "id": "50a330e9",
   "metadata": {},
   "outputs": [
    {
     "data": {
      "text/html": [
       "<div>\n",
       "<style scoped>\n",
       "    .dataframe tbody tr th:only-of-type {\n",
       "        vertical-align: middle;\n",
       "    }\n",
       "\n",
       "    .dataframe tbody tr th {\n",
       "        vertical-align: top;\n",
       "    }\n",
       "\n",
       "    .dataframe thead th {\n",
       "        text-align: right;\n",
       "    }\n",
       "</style>\n",
       "<table border=\"1\" class=\"dataframe\">\n",
       "  <thead>\n",
       "    <tr style=\"text-align: right;\">\n",
       "      <th></th>\n",
       "      <th>Predicted Labels</th>\n",
       "      <th>Actual Labels</th>\n",
       "    </tr>\n",
       "  </thead>\n",
       "  <tbody>\n",
       "    <tr>\n",
       "      <th>0</th>\n",
       "      <td>calm</td>\n",
       "      <td>sad</td>\n",
       "    </tr>\n",
       "    <tr>\n",
       "      <th>1</th>\n",
       "      <td>disgust</td>\n",
       "      <td>sad</td>\n",
       "    </tr>\n",
       "    <tr>\n",
       "      <th>2</th>\n",
       "      <td>calm</td>\n",
       "      <td>sad</td>\n",
       "    </tr>\n",
       "    <tr>\n",
       "      <th>3</th>\n",
       "      <td>angry</td>\n",
       "      <td>angry</td>\n",
       "    </tr>\n",
       "    <tr>\n",
       "      <th>4</th>\n",
       "      <td>disgust</td>\n",
       "      <td>angry</td>\n",
       "    </tr>\n",
       "    <tr>\n",
       "      <th>5</th>\n",
       "      <td>angry</td>\n",
       "      <td>angry</td>\n",
       "    </tr>\n",
       "    <tr>\n",
       "      <th>6</th>\n",
       "      <td>surprised</td>\n",
       "      <td>surprised</td>\n",
       "    </tr>\n",
       "    <tr>\n",
       "      <th>7</th>\n",
       "      <td>surprised</td>\n",
       "      <td>surprised</td>\n",
       "    </tr>\n",
       "    <tr>\n",
       "      <th>8</th>\n",
       "      <td>sad</td>\n",
       "      <td>surprised</td>\n",
       "    </tr>\n",
       "    <tr>\n",
       "      <th>9</th>\n",
       "      <td>disgust</td>\n",
       "      <td>happy</td>\n",
       "    </tr>\n",
       "  </tbody>\n",
       "</table>\n",
       "</div>"
      ],
      "text/plain": [
       "  Predicted Labels Actual Labels\n",
       "0             calm           sad\n",
       "1          disgust           sad\n",
       "2             calm           sad\n",
       "3            angry         angry\n",
       "4          disgust         angry\n",
       "5            angry         angry\n",
       "6        surprised     surprised\n",
       "7        surprised     surprised\n",
       "8              sad     surprised\n",
       "9          disgust         happy"
      ]
     },
     "execution_count": 28,
     "metadata": {},
     "output_type": "execute_result"
    }
   ],
   "source": [
    "df = pd.DataFrame(columns=['Predicted Labels', 'Actual Labels'])\n",
    "df['Predicted Labels'] = result.flatten()\n",
    "df['Actual Labels'] = labels.flatten()\n",
    "\n",
    "df.head(10)"
   ]
  },
  {
   "cell_type": "code",
   "execution_count": 29,
   "id": "77bb5b7a",
   "metadata": {},
   "outputs": [
    {
     "data": {
      "text/html": [
       "<div>\n",
       "<style scoped>\n",
       "    .dataframe tbody tr th:only-of-type {\n",
       "        vertical-align: middle;\n",
       "    }\n",
       "\n",
       "    .dataframe tbody tr th {\n",
       "        vertical-align: top;\n",
       "    }\n",
       "\n",
       "    .dataframe thead th {\n",
       "        text-align: right;\n",
       "    }\n",
       "</style>\n",
       "<table border=\"1\" class=\"dataframe\">\n",
       "  <thead>\n",
       "    <tr style=\"text-align: right;\">\n",
       "      <th></th>\n",
       "      <th>Predicted Labels</th>\n",
       "      <th>Actual Labels</th>\n",
       "    </tr>\n",
       "  </thead>\n",
       "  <tbody>\n",
       "    <tr>\n",
       "      <th>0</th>\n",
       "      <td>calm</td>\n",
       "      <td>sad</td>\n",
       "    </tr>\n",
       "    <tr>\n",
       "      <th>1</th>\n",
       "      <td>disgust</td>\n",
       "      <td>sad</td>\n",
       "    </tr>\n",
       "    <tr>\n",
       "      <th>2</th>\n",
       "      <td>calm</td>\n",
       "      <td>sad</td>\n",
       "    </tr>\n",
       "    <tr>\n",
       "      <th>3</th>\n",
       "      <td>angry</td>\n",
       "      <td>angry</td>\n",
       "    </tr>\n",
       "    <tr>\n",
       "      <th>4</th>\n",
       "      <td>disgust</td>\n",
       "      <td>angry</td>\n",
       "    </tr>\n",
       "    <tr>\n",
       "      <th>5</th>\n",
       "      <td>angry</td>\n",
       "      <td>angry</td>\n",
       "    </tr>\n",
       "    <tr>\n",
       "      <th>6</th>\n",
       "      <td>surprised</td>\n",
       "      <td>surprised</td>\n",
       "    </tr>\n",
       "    <tr>\n",
       "      <th>7</th>\n",
       "      <td>surprised</td>\n",
       "      <td>surprised</td>\n",
       "    </tr>\n",
       "    <tr>\n",
       "      <th>8</th>\n",
       "      <td>sad</td>\n",
       "      <td>surprised</td>\n",
       "    </tr>\n",
       "    <tr>\n",
       "      <th>9</th>\n",
       "      <td>disgust</td>\n",
       "      <td>happy</td>\n",
       "    </tr>\n",
       "    <tr>\n",
       "      <th>10</th>\n",
       "      <td>disgust</td>\n",
       "      <td>happy</td>\n",
       "    </tr>\n",
       "    <tr>\n",
       "      <th>11</th>\n",
       "      <td>disgust</td>\n",
       "      <td>happy</td>\n",
       "    </tr>\n",
       "    <tr>\n",
       "      <th>12</th>\n",
       "      <td>angry</td>\n",
       "      <td>fearful</td>\n",
       "    </tr>\n",
       "    <tr>\n",
       "      <th>13</th>\n",
       "      <td>disgust</td>\n",
       "      <td>fearful</td>\n",
       "    </tr>\n",
       "    <tr>\n",
       "      <th>14</th>\n",
       "      <td>disgust</td>\n",
       "      <td>fearful</td>\n",
       "    </tr>\n",
       "    <tr>\n",
       "      <th>15</th>\n",
       "      <td>disgust</td>\n",
       "      <td>sad</td>\n",
       "    </tr>\n",
       "    <tr>\n",
       "      <th>16</th>\n",
       "      <td>disgust</td>\n",
       "      <td>sad</td>\n",
       "    </tr>\n",
       "    <tr>\n",
       "      <th>17</th>\n",
       "      <td>disgust</td>\n",
       "      <td>sad</td>\n",
       "    </tr>\n",
       "    <tr>\n",
       "      <th>18</th>\n",
       "      <td>disgust</td>\n",
       "      <td>angry</td>\n",
       "    </tr>\n",
       "    <tr>\n",
       "      <th>19</th>\n",
       "      <td>angry</td>\n",
       "      <td>angry</td>\n",
       "    </tr>\n",
       "    <tr>\n",
       "      <th>20</th>\n",
       "      <td>disgust</td>\n",
       "      <td>angry</td>\n",
       "    </tr>\n",
       "    <tr>\n",
       "      <th>21</th>\n",
       "      <td>disgust</td>\n",
       "      <td>surprised</td>\n",
       "    </tr>\n",
       "    <tr>\n",
       "      <th>22</th>\n",
       "      <td>surprised</td>\n",
       "      <td>surprised</td>\n",
       "    </tr>\n",
       "    <tr>\n",
       "      <th>23</th>\n",
       "      <td>disgust</td>\n",
       "      <td>surprised</td>\n",
       "    </tr>\n",
       "    <tr>\n",
       "      <th>24</th>\n",
       "      <td>disgust</td>\n",
       "      <td>happy</td>\n",
       "    </tr>\n",
       "    <tr>\n",
       "      <th>25</th>\n",
       "      <td>disgust</td>\n",
       "      <td>happy</td>\n",
       "    </tr>\n",
       "    <tr>\n",
       "      <th>26</th>\n",
       "      <td>disgust</td>\n",
       "      <td>happy</td>\n",
       "    </tr>\n",
       "    <tr>\n",
       "      <th>27</th>\n",
       "      <td>disgust</td>\n",
       "      <td>fearful</td>\n",
       "    </tr>\n",
       "    <tr>\n",
       "      <th>28</th>\n",
       "      <td>disgust</td>\n",
       "      <td>fearful</td>\n",
       "    </tr>\n",
       "    <tr>\n",
       "      <th>29</th>\n",
       "      <td>happy</td>\n",
       "      <td>fearful</td>\n",
       "    </tr>\n",
       "    <tr>\n",
       "      <th>30</th>\n",
       "      <td>disgust</td>\n",
       "      <td>neutral</td>\n",
       "    </tr>\n",
       "    <tr>\n",
       "      <th>31</th>\n",
       "      <td>disgust</td>\n",
       "      <td>neutral</td>\n",
       "    </tr>\n",
       "    <tr>\n",
       "      <th>32</th>\n",
       "      <td>disgust</td>\n",
       "      <td>neutral</td>\n",
       "    </tr>\n",
       "    <tr>\n",
       "      <th>33</th>\n",
       "      <td>disgust</td>\n",
       "      <td>calm</td>\n",
       "    </tr>\n",
       "    <tr>\n",
       "      <th>34</th>\n",
       "      <td>disgust</td>\n",
       "      <td>calm</td>\n",
       "    </tr>\n",
       "    <tr>\n",
       "      <th>35</th>\n",
       "      <td>disgust</td>\n",
       "      <td>calm</td>\n",
       "    </tr>\n",
       "    <tr>\n",
       "      <th>36</th>\n",
       "      <td>disgust</td>\n",
       "      <td>disgust</td>\n",
       "    </tr>\n",
       "    <tr>\n",
       "      <th>37</th>\n",
       "      <td>disgust</td>\n",
       "      <td>disgust</td>\n",
       "    </tr>\n",
       "    <tr>\n",
       "      <th>38</th>\n",
       "      <td>disgust</td>\n",
       "      <td>disgust</td>\n",
       "    </tr>\n",
       "  </tbody>\n",
       "</table>\n",
       "</div>"
      ],
      "text/plain": [
       "   Predicted Labels Actual Labels\n",
       "0              calm           sad\n",
       "1           disgust           sad\n",
       "2              calm           sad\n",
       "3             angry         angry\n",
       "4           disgust         angry\n",
       "5             angry         angry\n",
       "6         surprised     surprised\n",
       "7         surprised     surprised\n",
       "8               sad     surprised\n",
       "9           disgust         happy\n",
       "10          disgust         happy\n",
       "11          disgust         happy\n",
       "12            angry       fearful\n",
       "13          disgust       fearful\n",
       "14          disgust       fearful\n",
       "15          disgust           sad\n",
       "16          disgust           sad\n",
       "17          disgust           sad\n",
       "18          disgust         angry\n",
       "19            angry         angry\n",
       "20          disgust         angry\n",
       "21          disgust     surprised\n",
       "22        surprised     surprised\n",
       "23          disgust     surprised\n",
       "24          disgust         happy\n",
       "25          disgust         happy\n",
       "26          disgust         happy\n",
       "27          disgust       fearful\n",
       "28          disgust       fearful\n",
       "29            happy       fearful\n",
       "30          disgust       neutral\n",
       "31          disgust       neutral\n",
       "32          disgust       neutral\n",
       "33          disgust          calm\n",
       "34          disgust          calm\n",
       "35          disgust          calm\n",
       "36          disgust       disgust\n",
       "37          disgust       disgust\n",
       "38          disgust       disgust"
      ]
     },
     "execution_count": 29,
     "metadata": {},
     "output_type": "execute_result"
    }
   ],
   "source": [
    "df"
   ]
=======
>>>>>>> c93e33cbb471499ad1223f64d1c70c0f1960d065
  }
 ],
 "metadata": {
  "kernelspec": {
   "display_name": "Python 3 (ipykernel)",
   "language": "python",
   "name": "python3"
  },
  "language_info": {
   "codemirror_mode": {
    "name": "ipython",
    "version": 3
   },
   "file_extension": ".py",
   "mimetype": "text/x-python",
   "name": "python",
   "nbconvert_exporter": "python",
   "pygments_lexer": "ipython3",
   "version": "3.9.7"
  }
 },
 "nbformat": 4,
 "nbformat_minor": 5
}
