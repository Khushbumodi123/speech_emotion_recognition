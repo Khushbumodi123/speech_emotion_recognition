{
 "cells": [
  {
   "cell_type": "markdown",
   "id": "6bb02412",
   "metadata": {},
   "source": [
    "# Emotion Recognition using CNN"
   ]
  },
  {
   "cell_type": "markdown",
   "id": "6f31d869",
   "metadata": {},
   "source": [
    "Importing libraries"
   ]
  },
  {
   "cell_type": "code",
   "execution_count": 1,
   "id": "31a57580",
   "metadata": {},
   "outputs": [],
   "source": [
    "import pandas as pd\n",
    "import numpy as np\n",
    "\n",
    "import os\n",
    "import sys\n",
    "\n",
    "# librosa is a Python library for analyzing audio and music. It can be used to extract the data from the audio files we will see it later.\n",
    "import librosa\n",
    "import librosa.display\n",
    "\n",
    "import seaborn as sns\n",
    "import matplotlib.pyplot as plt\n",
    "\n",
    "from sklearn.preprocessing import StandardScaler, OneHotEncoder\n",
    "from sklearn.metrics import confusion_matrix, classification_report\n",
    "from sklearn.model_selection import train_test_split\n",
    "\n",
    "# to play the audio files\n",
    "from IPython.display import Audio\n",
    "\n",
    "import keras\n",
    "from keras.callbacks import ReduceLROnPlateau\n",
    "from keras.models import Sequential\n",
    "from keras.layers import Dense, Conv1D, MaxPooling1D, Flatten, Dropout, BatchNormalization\n",
    "from keras.callbacks import ModelCheckpoint\n",
    "\n",
    "import warnings\n",
    "if not sys.warnoptions:\n",
    "    warnings.simplefilter(\"ignore\")\n",
    "warnings.filterwarnings(\"ignore\", category=DeprecationWarning) "
   ]
  },
  {
   "cell_type": "markdown",
   "id": "d494f0aa",
   "metadata": {},
   "source": [
    "loading dataset"
   ]
  },
  {
   "cell_type": "code",
   "execution_count": 2,
   "id": "e6f24196",
   "metadata": {},
   "outputs": [],
   "source": [
    "data = pd.read_csv(\"features.csv\")"
   ]
  },
  {
   "cell_type": "code",
   "execution_count": 3,
   "id": "f74e2bc5",
   "metadata": {},
   "outputs": [
    {
     "data": {
      "text/html": [
       "<div>\n",
       "<style scoped>\n",
       "    .dataframe tbody tr th:only-of-type {\n",
       "        vertical-align: middle;\n",
       "    }\n",
       "\n",
       "    .dataframe tbody tr th {\n",
       "        vertical-align: top;\n",
       "    }\n",
       "\n",
       "    .dataframe thead th {\n",
       "        text-align: right;\n",
       "    }\n",
       "</style>\n",
       "<table border=\"1\" class=\"dataframe\">\n",
       "  <thead>\n",
       "    <tr style=\"text-align: right;\">\n",
       "      <th></th>\n",
       "      <th>0</th>\n",
       "      <th>1</th>\n",
       "      <th>2</th>\n",
       "      <th>3</th>\n",
       "      <th>4</th>\n",
       "      <th>5</th>\n",
       "      <th>6</th>\n",
       "      <th>7</th>\n",
       "      <th>8</th>\n",
       "      <th>9</th>\n",
       "      <th>...</th>\n",
       "      <th>11</th>\n",
       "      <th>12</th>\n",
       "      <th>13</th>\n",
       "      <th>14</th>\n",
       "      <th>15</th>\n",
       "      <th>16</th>\n",
       "      <th>17</th>\n",
       "      <th>18</th>\n",
       "      <th>19</th>\n",
       "      <th>labels</th>\n",
       "    </tr>\n",
       "  </thead>\n",
       "  <tbody>\n",
       "    <tr>\n",
       "      <th>0</th>\n",
       "      <td>-655.344543</td>\n",
       "      <td>86.649872</td>\n",
       "      <td>-12.361261</td>\n",
       "      <td>28.343273</td>\n",
       "      <td>-0.276913</td>\n",
       "      <td>9.111378</td>\n",
       "      <td>-10.830962</td>\n",
       "      <td>-0.023427</td>\n",
       "      <td>-17.030333</td>\n",
       "      <td>-3.272646</td>\n",
       "      <td>...</td>\n",
       "      <td>-5.887830</td>\n",
       "      <td>4.827703</td>\n",
       "      <td>-7.893806</td>\n",
       "      <td>3.420066</td>\n",
       "      <td>-1.663579</td>\n",
       "      <td>-3.320957</td>\n",
       "      <td>-4.437192</td>\n",
       "      <td>-0.790467</td>\n",
       "      <td>-2.032093</td>\n",
       "      <td>neutral</td>\n",
       "    </tr>\n",
       "    <tr>\n",
       "      <th>1</th>\n",
       "      <td>-468.846883</td>\n",
       "      <td>36.201069</td>\n",
       "      <td>7.022181</td>\n",
       "      <td>11.240697</td>\n",
       "      <td>5.891850</td>\n",
       "      <td>-0.584644</td>\n",
       "      <td>-3.701114</td>\n",
       "      <td>-7.027015</td>\n",
       "      <td>-10.899846</td>\n",
       "      <td>-6.105315</td>\n",
       "      <td>...</td>\n",
       "      <td>-2.494775</td>\n",
       "      <td>-1.683088</td>\n",
       "      <td>-2.495134</td>\n",
       "      <td>-1.049956</td>\n",
       "      <td>-0.803621</td>\n",
       "      <td>-4.164983</td>\n",
       "      <td>-4.072344</td>\n",
       "      <td>-0.451641</td>\n",
       "      <td>-2.481066</td>\n",
       "      <td>neutral</td>\n",
       "    </tr>\n",
       "    <tr>\n",
       "      <th>2</th>\n",
       "      <td>-724.307190</td>\n",
       "      <td>84.484085</td>\n",
       "      <td>-14.169809</td>\n",
       "      <td>31.049458</td>\n",
       "      <td>-3.062177</td>\n",
       "      <td>9.604401</td>\n",
       "      <td>-14.447046</td>\n",
       "      <td>-0.219916</td>\n",
       "      <td>-20.591164</td>\n",
       "      <td>2.434902</td>\n",
       "      <td>...</td>\n",
       "      <td>-4.020089</td>\n",
       "      <td>3.011852</td>\n",
       "      <td>-8.109156</td>\n",
       "      <td>3.908098</td>\n",
       "      <td>-5.972446</td>\n",
       "      <td>-3.686382</td>\n",
       "      <td>-5.658264</td>\n",
       "      <td>2.423278</td>\n",
       "      <td>-4.886253</td>\n",
       "      <td>neutral</td>\n",
       "    </tr>\n",
       "    <tr>\n",
       "      <th>3</th>\n",
       "      <td>-645.409851</td>\n",
       "      <td>87.810638</td>\n",
       "      <td>-17.773392</td>\n",
       "      <td>33.468960</td>\n",
       "      <td>-0.936478</td>\n",
       "      <td>8.191231</td>\n",
       "      <td>-9.919904</td>\n",
       "      <td>-3.311972</td>\n",
       "      <td>-18.590483</td>\n",
       "      <td>-2.199426</td>\n",
       "      <td>...</td>\n",
       "      <td>-6.660094</td>\n",
       "      <td>3.893642</td>\n",
       "      <td>-8.572474</td>\n",
       "      <td>2.928271</td>\n",
       "      <td>-3.344517</td>\n",
       "      <td>-3.604979</td>\n",
       "      <td>-4.101902</td>\n",
       "      <td>-1.308776</td>\n",
       "      <td>-0.581940</td>\n",
       "      <td>neutral</td>\n",
       "    </tr>\n",
       "    <tr>\n",
       "      <th>4</th>\n",
       "      <td>-397.263188</td>\n",
       "      <td>22.259394</td>\n",
       "      <td>8.897292</td>\n",
       "      <td>9.042624</td>\n",
       "      <td>4.974095</td>\n",
       "      <td>0.232102</td>\n",
       "      <td>-2.286910</td>\n",
       "      <td>-5.657900</td>\n",
       "      <td>-7.467015</td>\n",
       "      <td>-4.807117</td>\n",
       "      <td>...</td>\n",
       "      <td>-2.129509</td>\n",
       "      <td>-2.022516</td>\n",
       "      <td>-1.731327</td>\n",
       "      <td>-0.481397</td>\n",
       "      <td>-0.309041</td>\n",
       "      <td>-2.377657</td>\n",
       "      <td>-2.059109</td>\n",
       "      <td>-0.113771</td>\n",
       "      <td>-2.260822</td>\n",
       "      <td>neutral</td>\n",
       "    </tr>\n",
       "  </tbody>\n",
       "</table>\n",
       "<p>5 rows × 21 columns</p>\n",
       "</div>"
      ],
      "text/plain": [
       "            0          1          2          3         4         5          6  \\\n",
       "0 -655.344543  86.649872 -12.361261  28.343273 -0.276913  9.111378 -10.830962   \n",
       "1 -468.846883  36.201069   7.022181  11.240697  5.891850 -0.584644  -3.701114   \n",
       "2 -724.307190  84.484085 -14.169809  31.049458 -3.062177  9.604401 -14.447046   \n",
       "3 -645.409851  87.810638 -17.773392  33.468960 -0.936478  8.191231  -9.919904   \n",
       "4 -397.263188  22.259394   8.897292   9.042624  4.974095  0.232102  -2.286910   \n",
       "\n",
       "          7          8         9  ...        11        12        13        14  \\\n",
       "0 -0.023427 -17.030333 -3.272646  ... -5.887830  4.827703 -7.893806  3.420066   \n",
       "1 -7.027015 -10.899846 -6.105315  ... -2.494775 -1.683088 -2.495134 -1.049956   \n",
       "2 -0.219916 -20.591164  2.434902  ... -4.020089  3.011852 -8.109156  3.908098   \n",
       "3 -3.311972 -18.590483 -2.199426  ... -6.660094  3.893642 -8.572474  2.928271   \n",
       "4 -5.657900  -7.467015 -4.807117  ... -2.129509 -2.022516 -1.731327 -0.481397   \n",
       "\n",
       "         15        16        17        18        19   labels  \n",
       "0 -1.663579 -3.320957 -4.437192 -0.790467 -2.032093  neutral  \n",
       "1 -0.803621 -4.164983 -4.072344 -0.451641 -2.481066  neutral  \n",
       "2 -5.972446 -3.686382 -5.658264  2.423278 -4.886253  neutral  \n",
       "3 -3.344517 -3.604979 -4.101902 -1.308776 -0.581940  neutral  \n",
       "4 -0.309041 -2.377657 -2.059109 -0.113771 -2.260822  neutral  \n",
       "\n",
       "[5 rows x 21 columns]"
      ]
     },
     "execution_count": 3,
     "metadata": {},
     "output_type": "execute_result"
    }
   ],
   "source": [
    "data.head()"
   ]
  },
  {
   "cell_type": "code",
   "execution_count": 4,
   "id": "064df167",
   "metadata": {},
   "outputs": [
    {
     "data": {
      "text/plain": [
       "disgust      576\n",
       "calm         576\n",
       "surprised    576\n",
       "sad          576\n",
       "angry        576\n",
       "fearful      576\n",
       "happy        576\n",
       "neutral      288\n",
       "Name: labels, dtype: int64"
      ]
     },
     "execution_count": 4,
     "metadata": {},
     "output_type": "execute_result"
    }
   ],
   "source": [
    "data['labels'].value_counts()"
   ]
  },
  {
   "cell_type": "markdown",
   "id": "6f853dcf",
   "metadata": {},
   "source": [
    "splitting the data"
   ]
  },
  {
   "cell_type": "code",
   "execution_count": 5,
   "id": "e36155ce",
   "metadata": {},
   "outputs": [],
   "source": [
    "X = data.iloc[: ,:-1].values\n",
    "Y = data['labels'].values"
   ]
  },
  {
   "cell_type": "code",
   "execution_count": 6,
   "id": "ca39fe94",
   "metadata": {},
   "outputs": [],
   "source": [
    "encoder = OneHotEncoder()\n",
    "Y = encoder.fit_transform(np.array(Y).reshape(-1,1)).toarray()"
   ]
  },
  {
   "cell_type": "code",
   "execution_count": 7,
   "id": "d1965c27",
   "metadata": {},
   "outputs": [],
   "source": [
    "X_train, X_test, y_train, y_test = train_test_split(X, Y, random_state=0, shuffle=True)"
   ]
  },
  {
   "cell_type": "code",
   "execution_count": 8,
   "id": "4561c299",
   "metadata": {},
   "outputs": [
    {
     "name": "stdout",
     "output_type": "stream",
     "text": [
      "(3240, 20)\n",
      "(1080, 20)\n"
     ]
    }
   ],
   "source": [
    "print(X_train.shape)\n",
    "print(X_test.shape)"
   ]
  },
  {
   "cell_type": "code",
   "execution_count": 9,
   "id": "58a26492",
   "metadata": {},
   "outputs": [
    {
     "name": "stdout",
     "output_type": "stream",
     "text": [
      "(3240, 8)\n",
      "(1080, 8)\n"
     ]
    }
   ],
   "source": [
    "print(y_train.shape)\n",
    "print(y_test.shape)"
   ]
  },
  {
   "cell_type": "code",
   "execution_count": 10,
   "id": "2acd68e5",
   "metadata": {},
   "outputs": [
    {
     "data": {
      "text/plain": [
       "((3240, 20), (3240, 8), (1080, 20), (1080, 8))"
      ]
     },
     "execution_count": 10,
     "metadata": {},
     "output_type": "execute_result"
    }
   ],
   "source": [
    "scaler = StandardScaler()\n",
    "X_train = scaler.fit_transform(X_train)\n",
    "X_test = scaler.transform(X_test)\n",
    "X_train.shape, y_train.shape, X_test.shape, y_test.shape"
   ]
  },
  {
   "cell_type": "code",
   "execution_count": 11,
   "id": "9895677f",
   "metadata": {},
   "outputs": [
    {
     "data": {
      "text/plain": [
       "((3240, 20, 1), (3240, 8), (1080, 20, 1), (1080, 8))"
      ]
     },
     "execution_count": 11,
     "metadata": {},
     "output_type": "execute_result"
    }
   ],
   "source": [
    "# making our data compatible to model.\n",
    "X_train = np.expand_dims(X_train, axis=2)\n",
    "X_test = np.expand_dims(X_test, axis=2)\n",
    "X_train.shape, y_train.shape, X_test.shape, y_test.shape"
   ]
  },
  {
   "cell_type": "code",
   "execution_count": 12,
   "id": "e71842ed",
   "metadata": {},
   "outputs": [
    {
     "name": "stdout",
     "output_type": "stream",
     "text": [
      "Model: \"sequential\"\n",
      "_________________________________________________________________\n",
      "Layer (type)                 Output Shape              Param #   \n",
      "=================================================================\n",
      "conv1d (Conv1D)              (None, 20, 256)           1536      \n",
      "_________________________________________________________________\n",
      "max_pooling1d (MaxPooling1D) (None, 10, 256)           0         \n",
      "_________________________________________________________________\n",
      "conv1d_1 (Conv1D)            (None, 10, 256)           327936    \n",
      "_________________________________________________________________\n",
      "max_pooling1d_1 (MaxPooling1 (None, 5, 256)            0         \n",
      "_________________________________________________________________\n",
      "conv1d_2 (Conv1D)            (None, 5, 128)            163968    \n",
      "_________________________________________________________________\n",
      "max_pooling1d_2 (MaxPooling1 (None, 3, 128)            0         \n",
      "_________________________________________________________________\n",
      "dropout (Dropout)            (None, 3, 128)            0         \n",
      "_________________________________________________________________\n",
      "conv1d_3 (Conv1D)            (None, 3, 64)             41024     \n",
      "_________________________________________________________________\n",
      "max_pooling1d_3 (MaxPooling1 (None, 2, 64)             0         \n",
      "_________________________________________________________________\n",
      "flatten (Flatten)            (None, 128)               0         \n",
      "_________________________________________________________________\n",
      "dense (Dense)                (None, 32)                4128      \n",
      "_________________________________________________________________\n",
      "dropout_1 (Dropout)          (None, 32)                0         \n",
      "_________________________________________________________________\n",
      "dense_1 (Dense)              (None, 8)                 264       \n",
      "=================================================================\n",
      "Total params: 538,856\n",
      "Trainable params: 538,856\n",
      "Non-trainable params: 0\n",
      "_________________________________________________________________\n"
     ]
    }
   ],
   "source": [
    "import tensorflow\n",
    "from tensorflow import keras\n",
    "from tensorflow.keras import layers\n",
    "from tensorflow.keras.models import Sequential\n",
    "from tensorflow.keras.layers import Conv1D, MaxPooling1D, AveragePooling1D\n",
    "from tensorflow.keras.layers import Input, Flatten, Dropout, Activation, BatchNormalization, Dense\n",
    "from sklearn.model_selection import GridSearchCV\n",
    "from tensorflow.keras.wrappers.scikit_learn import KerasClassifier\n",
    "from tensorflow.keras.optimizers import SGD\n",
    "from tensorflow.keras.regularizers import l2\n",
    "from keras.callbacks import ReduceLROnPlateau\n",
    "import seaborn as sns\n",
    "from tensorflow.keras.callbacks import EarlyStopping, ModelCheckpoint\n",
    "\n",
    "\n",
    "model=Sequential()\n",
    "model.add(Conv1D(256, kernel_size=5, strides=1, padding='same', activation='relu', input_shape=(X_train.shape[1], 1)))\n",
    "model.add(MaxPooling1D(pool_size=5, strides = 2, padding = 'same'))\n",
    "\n",
    "model.add(Conv1D(256, kernel_size=5, strides=1, padding='same', activation='relu'))\n",
    "model.add(MaxPooling1D(pool_size=5, strides = 2, padding = 'same'))\n",
    "\n",
    "model.add(Conv1D(128, kernel_size=5, strides=1, padding='same', activation='relu'))\n",
    "model.add(MaxPooling1D(pool_size=5, strides = 2, padding = 'same'))\n",
    "model.add(Dropout(0.2))\n",
    "\n",
    "model.add(Conv1D(64, kernel_size=5, strides=1, padding='same', activation='relu'))\n",
    "model.add(MaxPooling1D(pool_size=5, strides = 2, padding = 'same'))\n",
    "\n",
    "model.add(Flatten())\n",
    "model.add(Dense(units=32, activation='relu'))\n",
    "model.add(Dropout(0.3))\n",
    "\n",
    "model.add(Dense(units=8, activation='softmax'))\n",
    "model.compile(optimizer = 'adam' , loss = 'categorical_crossentropy' , metrics = ['accuracy'])\n",
    "\n",
    "model.summary()"
   ]
  },
  {
   "cell_type": "code",
   "execution_count": 13,
   "id": "cd03128b",
   "metadata": {},
   "outputs": [
    {
     "name": "stdout",
     "output_type": "stream",
     "text": [
      "Epoch 1/50\n",
      "51/51 [==============================] - 50s 894ms/step - loss: 2.0561 - accuracy: 0.1590 - val_loss: 1.9970 - val_accuracy: 0.2213\n",
      "Epoch 2/50\n",
      "51/51 [==============================] - 41s 810ms/step - loss: 1.9987 - accuracy: 0.2040 - val_loss: 1.9017 - val_accuracy: 0.2815\n",
      "Epoch 3/50\n",
      "51/51 [==============================] - 43s 835ms/step - loss: 1.8746 - accuracy: 0.2583 - val_loss: 1.7439 - val_accuracy: 0.3500\n",
      "Epoch 4/50\n",
      "51/51 [==============================] - 48s 931ms/step - loss: 1.7667 - accuracy: 0.3090 - val_loss: 1.6479 - val_accuracy: 0.3731\n",
      "Epoch 5/50\n",
      "51/51 [==============================] - 42s 818ms/step - loss: 1.6896 - accuracy: 0.3512 - val_loss: 1.6158 - val_accuracy: 0.3991\n",
      "Epoch 6/50\n",
      "51/51 [==============================] - 41s 794ms/step - loss: 1.6588 - accuracy: 0.3722 - val_loss: 1.5445 - val_accuracy: 0.4250\n",
      "Epoch 7/50\n",
      "51/51 [==============================] - 42s 830ms/step - loss: 1.5586 - accuracy: 0.4120 - val_loss: 1.5094 - val_accuracy: 0.4306\n",
      "Epoch 8/50\n",
      "51/51 [==============================] - 42s 831ms/step - loss: 1.5221 - accuracy: 0.4262 - val_loss: 1.4354 - val_accuracy: 0.4676\n",
      "Epoch 9/50\n",
      "51/51 [==============================] - 40s 777ms/step - loss: 1.4717 - accuracy: 0.4454 - val_loss: 1.4044 - val_accuracy: 0.4759\n",
      "Epoch 10/50\n",
      "51/51 [==============================] - 41s 803ms/step - loss: 1.4053 - accuracy: 0.4750 - val_loss: 1.4450 - val_accuracy: 0.4694\n",
      "Epoch 11/50\n",
      "51/51 [==============================] - 41s 800ms/step - loss: 1.3665 - accuracy: 0.4929 - val_loss: 1.3689 - val_accuracy: 0.4944\n",
      "Epoch 12/50\n",
      "51/51 [==============================] - 41s 809ms/step - loss: 1.3073 - accuracy: 0.5160 - val_loss: 1.3642 - val_accuracy: 0.4954\n",
      "Epoch 13/50\n",
      "51/51 [==============================] - 40s 791ms/step - loss: 1.2633 - accuracy: 0.5386 - val_loss: 1.3691 - val_accuracy: 0.4861\n",
      "Epoch 14/50\n",
      "51/51 [==============================] - 44s 871ms/step - loss: 1.2267 - accuracy: 0.5531 - val_loss: 1.3025 - val_accuracy: 0.5167\n",
      "Epoch 15/50\n",
      "51/51 [==============================] - 44s 866ms/step - loss: 1.1758 - accuracy: 0.5698 - val_loss: 1.3097 - val_accuracy: 0.5176\n",
      "Epoch 16/50\n",
      "51/51 [==============================] - 41s 799ms/step - loss: 1.0946 - accuracy: 0.5932 - val_loss: 1.3140 - val_accuracy: 0.5194\n",
      "Epoch 17/50\n",
      "51/51 [==============================] - 42s 815ms/step - loss: 1.0793 - accuracy: 0.6096 - val_loss: 1.2182 - val_accuracy: 0.5574\n",
      "Epoch 18/50\n",
      "51/51 [==============================] - 42s 833ms/step - loss: 1.0397 - accuracy: 0.6216 - val_loss: 1.2587 - val_accuracy: 0.5509\n",
      "Epoch 19/50\n",
      "51/51 [==============================] - 39s 766ms/step - loss: 1.0252 - accuracy: 0.6377 - val_loss: 1.2410 - val_accuracy: 0.5694\n",
      "Epoch 20/50\n",
      "51/51 [==============================] - 40s 777ms/step - loss: 0.9359 - accuracy: 0.6722 - val_loss: 1.2183 - val_accuracy: 0.5815\n",
      "Epoch 21/50\n",
      "51/51 [==============================] - 41s 802ms/step - loss: 0.8785 - accuracy: 0.6815 - val_loss: 1.2363 - val_accuracy: 0.5704\n",
      "Epoch 22/50\n",
      "51/51 [==============================] - 41s 810ms/step - loss: 0.8248 - accuracy: 0.7031 - val_loss: 1.2188 - val_accuracy: 0.5917\n",
      "Epoch 23/50\n",
      "51/51 [==============================] - 43s 843ms/step - loss: 0.7946 - accuracy: 0.7176 - val_loss: 1.1639 - val_accuracy: 0.5880\n",
      "Epoch 24/50\n",
      "51/51 [==============================] - 43s 834ms/step - loss: 0.7684 - accuracy: 0.7287 - val_loss: 1.1412 - val_accuracy: 0.6102\n",
      "Epoch 25/50\n",
      "51/51 [==============================] - 42s 823ms/step - loss: 0.7259 - accuracy: 0.7395 - val_loss: 1.2861 - val_accuracy: 0.6028\n",
      "Epoch 26/50\n",
      "51/51 [==============================] - 39s 752ms/step - loss: 0.6991 - accuracy: 0.7506 - val_loss: 1.1376 - val_accuracy: 0.6130\n",
      "Epoch 27/50\n",
      "51/51 [==============================] - 42s 831ms/step - loss: 0.6177 - accuracy: 0.7910 - val_loss: 1.1681 - val_accuracy: 0.6213\n",
      "Epoch 28/50\n",
      "51/51 [==============================] - 41s 813ms/step - loss: 0.6471 - accuracy: 0.7688 - val_loss: 1.1508 - val_accuracy: 0.6370\n",
      "Epoch 29/50\n",
      "51/51 [==============================] - 40s 777ms/step - loss: 0.5599 - accuracy: 0.8015 - val_loss: 1.1548 - val_accuracy: 0.6139\n",
      "Epoch 30/50\n",
      "51/51 [==============================] - 45s 874ms/step - loss: 0.4955 - accuracy: 0.8272 - val_loss: 1.1185 - val_accuracy: 0.6574\n",
      "Epoch 31/50\n",
      "51/51 [==============================] - 44s 859ms/step - loss: 0.5206 - accuracy: 0.8185 - val_loss: 1.1770 - val_accuracy: 0.6259\n",
      "Epoch 32/50\n",
      "51/51 [==============================] - 41s 799ms/step - loss: 0.5233 - accuracy: 0.8287 - val_loss: 1.2583 - val_accuracy: 0.6352\n",
      "\n",
      "Epoch 00032: ReduceLROnPlateau reducing learning rate to 0.0004000000189989805.\n",
      "Epoch 33/50\n",
      "51/51 [==============================] - 40s 795ms/step - loss: 0.3928 - accuracy: 0.8701 - val_loss: 1.1320 - val_accuracy: 0.6630\n",
      "Epoch 34/50\n",
      "51/51 [==============================] - 41s 800ms/step - loss: 0.3086 - accuracy: 0.8932 - val_loss: 1.1719 - val_accuracy: 0.6694\n",
      "Epoch 35/50\n",
      "51/51 [==============================] - 42s 825ms/step - loss: 0.3027 - accuracy: 0.8994 - val_loss: 1.2314 - val_accuracy: 0.6630\n",
      "Epoch 36/50\n",
      "51/51 [==============================] - 44s 850ms/step - loss: 0.2715 - accuracy: 0.9077 - val_loss: 1.2189 - val_accuracy: 0.6750\n",
      "Epoch 37/50\n",
      "51/51 [==============================] - 43s 834ms/step - loss: 0.2441 - accuracy: 0.9194 - val_loss: 1.2089 - val_accuracy: 0.6722\n",
      "Epoch 38/50\n",
      "51/51 [==============================] - 41s 793ms/step - loss: 0.2423 - accuracy: 0.9228 - val_loss: 1.2428 - val_accuracy: 0.6759\n",
      "Epoch 39/50\n",
      "51/51 [==============================] - 41s 805ms/step - loss: 0.2422 - accuracy: 0.9204 - val_loss: 1.2980 - val_accuracy: 0.6611\n",
      "Epoch 40/50\n",
      "51/51 [==============================] - 44s 860ms/step - loss: 0.2259 - accuracy: 0.9293 - val_loss: 1.2086 - val_accuracy: 0.6704\n",
      "Epoch 41/50\n",
      "51/51 [==============================] - 41s 807ms/step - loss: 0.1955 - accuracy: 0.9401 - val_loss: 1.2669 - val_accuracy: 0.6796\n",
      "Epoch 42/50\n",
      "51/51 [==============================] - 38s 753ms/step - loss: 0.1890 - accuracy: 0.9407 - val_loss: 1.3652 - val_accuracy: 0.6722\n",
      "Epoch 43/50\n",
      "51/51 [==============================] - 41s 803ms/step - loss: 0.1886 - accuracy: 0.9364 - val_loss: 1.3782 - val_accuracy: 0.6704\n",
      "Epoch 44/50\n",
      "51/51 [==============================] - 45s 878ms/step - loss: 0.1962 - accuracy: 0.9340 - val_loss: 1.2530 - val_accuracy: 0.6889\n",
      "Epoch 45/50\n",
      "51/51 [==============================] - 39s 768ms/step - loss: 0.1678 - accuracy: 0.9475 - val_loss: 1.3399 - val_accuracy: 0.6704\n",
      "Epoch 46/50\n",
      "51/51 [==============================] - 41s 804ms/step - loss: 0.1746 - accuracy: 0.9432 - val_loss: 1.3663 - val_accuracy: 0.6815\n",
      "Epoch 47/50\n",
      "51/51 [==============================] - 41s 802ms/step - loss: 0.1611 - accuracy: 0.9491 - val_loss: 1.4134 - val_accuracy: 0.6713\n",
      "Epoch 48/50\n",
      "51/51 [==============================] - 39s 760ms/step - loss: 0.1636 - accuracy: 0.9478 - val_loss: 1.3888 - val_accuracy: 0.6722\n",
      "Epoch 49/50\n",
      "51/51 [==============================] - 40s 778ms/step - loss: 0.1426 - accuracy: 0.9571 - val_loss: 1.3731 - val_accuracy: 0.6824\n",
      "Epoch 50/50\n",
      "51/51 [==============================] - 40s 793ms/step - loss: 0.1546 - accuracy: 0.9528 - val_loss: 1.4950 - val_accuracy: 0.6722\n"
     ]
    }
   ],
   "source": [
    "rlrp = ReduceLROnPlateau(monitor='loss', factor=0.4, verbose=1, patience=2, min_lr=0.0000001)\n",
    "history=model.fit(X_train, y_train, batch_size=64, epochs=50, validation_data=(X_test, y_test), callbacks=[rlrp])"
   ]
  },
  {
   "cell_type": "code",
   "execution_count": 14,
   "id": "d7bc3716",
   "metadata": {},
   "outputs": [
    {
     "data": {
      "text/plain": [
       "[<matplotlib.lines.Line2D at 0x18cdebd6e50>]"
      ]
     },
     "execution_count": 14,
     "metadata": {},
     "output_type": "execute_result"
    },
    {
     "data": {
      "image/png": "[encoded data removed]",
      "text/plain": [
       "<Figure size 432x288 with 1 Axes>"
      ]
     },
     "metadata": {
      "needs_background": "light"
     },
     "output_type": "display_data"
    }
   ],
   "source": [
    "plt.plot(history.history['loss'])\n",
    "plt.plot(history.history['val_loss'])"
   ]
  },
  {
   "cell_type": "code",
   "execution_count": 15,
   "id": "58371646",
   "metadata": {},
   "outputs": [
    {
     "data": {
      "text/plain": [
       "[<matplotlib.lines.Line2D at 0x18cdeb841f0>]"
      ]
     },
     "execution_count": 15,
     "metadata": {},
     "output_type": "execute_result"
    },
    {
     "data": {
      "image/png": "[encoded data removed]",
      "text/plain": [
       "<Figure size 432x288 with 1 Axes>"
      ]
     },
     "metadata": {
      "needs_background": "light"
     },
     "output_type": "display_data"
    }
   ],
   "source": [
    "plt.plot(history.history['accuracy'])\n",
    "plt.plot(history.history['val_accuracy'])"
   ]
  },
  {
   "cell_type": "code",
   "execution_count": 16,
   "id": "2c726380",
   "metadata": {},
   "outputs": [],
   "source": [
    "# predicting on test data.\n",
    "pred_test = model.predict(X_test)\n",
    "y_pred = encoder.inverse_transform(pred_test)"
   ]
  },
  {
   "cell_type": "code",
   "execution_count": 68,
   "id": "89ba7ebd",
   "metadata": {},
   "outputs": [
    {
     "data": {
      "text/html": [
       "<div>\n",
       "<style scoped>\n",
       "    .dataframe tbody tr th:only-of-type {\n",
       "        vertical-align: middle;\n",
       "    }\n",
       "\n",
       "    .dataframe tbody tr th {\n",
       "        vertical-align: top;\n",
       "    }\n",
       "\n",
       "    .dataframe thead th {\n",
       "        text-align: right;\n",
       "    }\n",
       "</style>\n",
       "<table border=\"1\" class=\"dataframe\">\n",
       "  <thead>\n",
       "    <tr style=\"text-align: right;\">\n",
       "      <th></th>\n",
       "      <th>Predicted Labels</th>\n",
       "      <th>Actual Labels</th>\n",
       "    </tr>\n",
       "  </thead>\n",
       "  <tbody>\n",
       "    <tr>\n",
       "      <th>0</th>\n",
       "      <td>fearful</td>\n",
       "      <td>fearful</td>\n",
       "    </tr>\n",
       "    <tr>\n",
       "      <th>1</th>\n",
       "      <td>angry</td>\n",
       "      <td>angry</td>\n",
       "    </tr>\n",
       "    <tr>\n",
       "      <th>2</th>\n",
       "      <td>fearful</td>\n",
       "      <td>fearful</td>\n",
       "    </tr>\n",
       "    <tr>\n",
       "      <th>3</th>\n",
       "      <td>neutral</td>\n",
       "      <td>calm</td>\n",
       "    </tr>\n",
       "    <tr>\n",
       "      <th>4</th>\n",
       "      <td>disgust</td>\n",
       "      <td>angry</td>\n",
       "    </tr>\n",
       "    <tr>\n",
       "      <th>5</th>\n",
       "      <td>surprised</td>\n",
       "      <td>surprised</td>\n",
       "    </tr>\n",
       "    <tr>\n",
       "      <th>6</th>\n",
       "      <td>fearful</td>\n",
       "      <td>fearful</td>\n",
       "    </tr>\n",
       "    <tr>\n",
       "      <th>7</th>\n",
       "      <td>angry</td>\n",
       "      <td>happy</td>\n",
       "    </tr>\n",
       "    <tr>\n",
       "      <th>8</th>\n",
       "      <td>fearful</td>\n",
       "      <td>fearful</td>\n",
       "    </tr>\n",
       "    <tr>\n",
       "      <th>9</th>\n",
       "      <td>sad</td>\n",
       "      <td>sad</td>\n",
       "    </tr>\n",
       "  </tbody>\n",
       "</table>\n",
       "</div>"
      ],
      "text/plain": [
       "  Predicted Labels Actual Labels\n",
       "0          fearful       fearful\n",
       "1            angry         angry\n",
       "2          fearful       fearful\n",
       "3          neutral          calm\n",
       "4          disgust         angry\n",
       "5        surprised     surprised\n",
       "6          fearful       fearful\n",
       "7            angry         happy\n",
       "8          fearful       fearful\n",
       "9              sad           sad"
      ]
     },
     "execution_count": 68,
     "metadata": {},
     "output_type": "execute_result"
    }
   ],
   "source": [
    "df = pd.DataFrame(columns=['Predicted Labels', 'Actual Labels'])\n",
    "df['Predicted Labels'] = y_pred.flatten()\n",
    "df['Actual Labels'] = y_test.flatten()\n",
    "\n",
    "df.head(10)"
   ]
  },
  {
   "cell_type": "code",
   "execution_count": 18,
   "id": "3ca049d3",
   "metadata": {},
   "outputs": [
    {
     "data": {
      "image/png": "[encoded data removed]",
      "text/plain": [
       "<Figure size 864x720 with 2 Axes>"
      ]
     },
     "metadata": {
      "needs_background": "light"
     },
     "output_type": "display_data"
    }
   ],
   "source": [
    "cm = confusion_matrix(y_test, y_pred)\n",
    "plt.figure(figsize = (12, 10))\n",
    "cm = pd.DataFrame(cm , index = [i for i in encoder.categories_] , columns = [i for i in encoder.categories_])\n",
    "sns.heatmap(cm, linecolor='white', cmap='Blues', linewidth=1, annot=True, fmt='')\n",
    "plt.title('Confusion Matrix', size=20)\n",
    "plt.xlabel('Predicted Labels', size=14)\n",
    "plt.ylabel('Actual Labels', size=14)\n",
    "plt.show()\n"
   ]
  },
  {
   "cell_type": "code",
   "execution_count": 19,
   "id": "2e4ea467",
   "metadata": {},
   "outputs": [
    {
     "name": "stdout",
     "output_type": "stream",
     "text": [
      "              precision    recall  f1-score   support\n",
      "\n",
      "       angry       0.73      0.75      0.74       132\n",
      "        calm       0.86      0.79      0.82       159\n",
      "     disgust       0.56      0.65      0.60       135\n",
      "     fearful       0.62      0.74      0.68       151\n",
      "       happy       0.56      0.68      0.62       141\n",
      "     neutral       0.57      0.57      0.57        72\n",
      "         sad       0.72      0.56      0.63       151\n",
      "   surprised       0.79      0.58      0.67       139\n",
      "\n",
      "    accuracy                           0.67      1080\n",
      "   macro avg       0.68      0.66      0.67      1080\n",
      "weighted avg       0.69      0.67      0.67      1080\n",
      "\n"
     ]
    }
   ],
   "source": [
    "print(classification_report(y_test, y_pred))"
   ]
  },
  {
   "cell_type": "code",
   "execution_count": 69,
   "id": "23ee9fd3",
   "metadata": {},
   "outputs": [],
   "source": [
    "test = pd.read_csv(\"test.csv\")\n",
    "data = test.iloc[: ,:-1].values\n",
    "labels = test['labels'].values"
   ]
  },
  {
   "cell_type": "code",
   "execution_count": 63,
   "id": "44fac66c",
   "metadata": {},
   "outputs": [
    {
     "data": {
      "text/plain": [
       "(15, 21)"
      ]
     },
     "execution_count": 63,
     "metadata": {},
     "output_type": "execute_result"
    }
   ],
   "source": [
    "test.shape"
   ]
  },
  {
   "cell_type": "code",
   "execution_count": 64,
   "id": "e335a0ef",
   "metadata": {},
   "outputs": [
    {
     "data": {
      "text/plain": [
       "(15, 20)"
      ]
     },
     "execution_count": 64,
     "metadata": {},
     "output_type": "execute_result"
    }
   ],
   "source": [
    "data.shape"
   ]
  },
  {
   "cell_type": "code",
   "execution_count": 65,
   "id": "32ece0d1",
   "metadata": {},
   "outputs": [],
   "source": [
    "test = scaler.transform(data)"
   ]
  },
  {
   "cell_type": "code",
   "execution_count": 66,
   "id": "19f2e066",
   "metadata": {},
   "outputs": [],
   "source": [
    "test = np.expand_dims(test, axis=2)"
   ]
  },
  {
   "cell_type": "code",
   "execution_count": 67,
   "id": "0a793731",
   "metadata": {},
   "outputs": [],
   "source": [
    "prediction = model.predict(test)\n",
    "result = encoder.inverse_transform(prediction)"
   ]
  },
  {
   "cell_type": "code",
   "execution_count": 72,
   "id": "50a330e9",
   "metadata": {},
   "outputs": [
    {
     "data": {
      "text/html": [
       "<div>\n",
       "<style scoped>\n",
       "    .dataframe tbody tr th:only-of-type {\n",
       "        vertical-align: middle;\n",
       "    }\n",
       "\n",
       "    .dataframe tbody tr th {\n",
       "        vertical-align: top;\n",
       "    }\n",
       "\n",
       "    .dataframe thead th {\n",
       "        text-align: right;\n",
       "    }\n",
       "</style>\n",
       "<table border=\"1\" class=\"dataframe\">\n",
       "  <thead>\n",
       "    <tr style=\"text-align: right;\">\n",
       "      <th></th>\n",
       "      <th>Predicted Labels</th>\n",
       "      <th>Actual Labels</th>\n",
       "    </tr>\n",
       "  </thead>\n",
       "  <tbody>\n",
       "    <tr>\n",
       "      <th>0</th>\n",
       "      <td>disgust</td>\n",
       "      <td>sad</td>\n",
       "    </tr>\n",
       "    <tr>\n",
       "      <th>1</th>\n",
       "      <td>calm</td>\n",
       "      <td>sad</td>\n",
       "    </tr>\n",
       "    <tr>\n",
       "      <th>2</th>\n",
       "      <td>calm</td>\n",
       "      <td>sad</td>\n",
       "    </tr>\n",
       "    <tr>\n",
       "      <th>3</th>\n",
       "      <td>disgust</td>\n",
       "      <td>angry</td>\n",
       "    </tr>\n",
       "    <tr>\n",
       "      <th>4</th>\n",
       "      <td>disgust</td>\n",
       "      <td>angry</td>\n",
       "    </tr>\n",
       "    <tr>\n",
       "      <th>5</th>\n",
       "      <td>disgust</td>\n",
       "      <td>angry</td>\n",
       "    </tr>\n",
       "    <tr>\n",
       "      <th>6</th>\n",
       "      <td>angry</td>\n",
       "      <td>surprised</td>\n",
       "    </tr>\n",
       "    <tr>\n",
       "      <th>7</th>\n",
       "      <td>sad</td>\n",
       "      <td>surprised</td>\n",
       "    </tr>\n",
       "    <tr>\n",
       "      <th>8</th>\n",
       "      <td>sad</td>\n",
       "      <td>surprised</td>\n",
       "    </tr>\n",
       "    <tr>\n",
       "      <th>9</th>\n",
       "      <td>happy</td>\n",
       "      <td>happy</td>\n",
       "    </tr>\n",
       "  </tbody>\n",
       "</table>\n",
       "</div>"
      ],
      "text/plain": [
       "  Predicted Labels Actual Labels\n",
       "0          disgust           sad\n",
       "1             calm           sad\n",
       "2             calm           sad\n",
       "3          disgust         angry\n",
       "4          disgust         angry\n",
       "5          disgust         angry\n",
       "6            angry     surprised\n",
       "7              sad     surprised\n",
       "8              sad     surprised\n",
       "9            happy         happy"
      ]
     },
     "execution_count": 72,
     "metadata": {},
     "output_type": "execute_result"
    }
   ],
   "source": [
    "df = pd.DataFrame(columns=['Predicted Labels', 'Actual Labels'])\n",
    "df['Predicted Labels'] = result.flatten()\n",
    "df['Actual Labels'] = labels.flatten()\n",
    "\n",
    "df.head(10)"
   ]
  }
 ],
 "metadata": {
  "kernelspec": {
   "display_name": "Python 3",
   "language": "python",
   "name": "python3"
  },
  "language_info": {
   "codemirror_mode": {
    "name": "ipython",
    "version": 3
   },
   "file_extension": ".py",
   "mimetype": "text/x-python",
   "name": "python",
   "nbconvert_exporter": "python",
   "pygments_lexer": "ipython3",
   "version": "3.8.8"
  }
 },
 "nbformat": 4,
 "nbformat_minor": 5
}
