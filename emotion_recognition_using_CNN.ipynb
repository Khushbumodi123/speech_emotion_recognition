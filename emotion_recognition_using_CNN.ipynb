{
 "cells": [
  {
   "cell_type": "markdown",
   "id": "6bb02412",
   "metadata": {},
   "source": [
    "# Emotion Recognition using CNN"
   ]
  },
  {
   "cell_type": "markdown",
   "id": "6f31d869",
   "metadata": {},
   "source": [
    "Importing libraries"
   ]
  },
  {
   "cell_type": "code",
   "execution_count": 2,
   "id": "31a57580",
   "metadata": {},
   "outputs": [],
   "source": [
    "import pandas as pd\n",
    "import numpy as np\n",
    "\n",
    "import os\n",
    "import sys\n",
    "\n",
    "# librosa is a Python library for analyzing audio and music. It can be used to extract the data from the audio files we will see it later.\n",
    "import librosa\n",
    "import librosa.display\n",
    "\n",
    "import seaborn as sns\n",
    "import matplotlib.pyplot as plt\n",
    "\n",
    "from sklearn.preprocessing import StandardScaler, OneHotEncoder\n",
    "from sklearn.metrics import confusion_matrix, classification_report\n",
    "from sklearn.model_selection import train_test_split\n",
    "\n",
    "# to play the audio files\n",
    "from IPython.display import Audio\n",
    "\n",
    "import keras\n",
    "from keras.callbacks import ReduceLROnPlateau\n",
    "from keras.models import Sequential\n",
    "from keras.layers import Dense, Conv1D, MaxPooling1D, Flatten, Dropout, BatchNormalization\n",
    "from keras.callbacks import ModelCheckpoint\n",
    "\n",
    "import warnings\n",
    "if not sys.warnoptions:\n",
    "    warnings.simplefilter(\"ignore\")\n",
    "warnings.filterwarnings(\"ignore\", category=DeprecationWarning) "
   ]
  },
  {
   "cell_type": "markdown",
   "id": "d494f0aa",
   "metadata": {},
   "source": [
    "loading dataset"
   ]
  },
  {
   "cell_type": "code",
   "execution_count": 3,
   "id": "e6f24196",
   "metadata": {},
   "outputs": [],
   "source": [
    "data = pd.read_csv(\"features.csv\")"
   ]
  },
  {
   "cell_type": "code",
   "execution_count": 4,
   "id": "f74e2bc5",
   "metadata": {},
   "outputs": [
    {
     "data": {
      "text/html": [
       "<div>\n",
       "<style scoped>\n",
       "    .dataframe tbody tr th:only-of-type {\n",
       "        vertical-align: middle;\n",
       "    }\n",
       "\n",
       "    .dataframe tbody tr th {\n",
       "        vertical-align: top;\n",
       "    }\n",
       "\n",
       "    .dataframe thead th {\n",
       "        text-align: right;\n",
       "    }\n",
       "</style>\n",
       "<table border=\"1\" class=\"dataframe\">\n",
       "  <thead>\n",
       "    <tr style=\"text-align: right;\">\n",
       "      <th></th>\n",
       "      <th>0</th>\n",
       "      <th>1</th>\n",
       "      <th>2</th>\n",
       "      <th>3</th>\n",
       "      <th>4</th>\n",
       "      <th>5</th>\n",
       "      <th>6</th>\n",
       "      <th>7</th>\n",
       "      <th>8</th>\n",
       "      <th>9</th>\n",
       "      <th>...</th>\n",
       "      <th>11</th>\n",
       "      <th>12</th>\n",
       "      <th>13</th>\n",
       "      <th>14</th>\n",
       "      <th>15</th>\n",
       "      <th>16</th>\n",
       "      <th>17</th>\n",
       "      <th>18</th>\n",
       "      <th>19</th>\n",
       "      <th>labels</th>\n",
       "    </tr>\n",
       "  </thead>\n",
       "  <tbody>\n",
       "    <tr>\n",
       "      <th>0</th>\n",
       "      <td>-655.344543</td>\n",
       "      <td>86.649872</td>\n",
       "      <td>-12.361261</td>\n",
       "      <td>28.343273</td>\n",
       "      <td>-0.276913</td>\n",
       "      <td>9.111378</td>\n",
       "      <td>-10.830962</td>\n",
       "      <td>-0.023427</td>\n",
       "      <td>-17.030333</td>\n",
       "      <td>-3.272646</td>\n",
       "      <td>...</td>\n",
       "      <td>-5.887830</td>\n",
       "      <td>4.827703</td>\n",
       "      <td>-7.893806</td>\n",
       "      <td>3.420066</td>\n",
       "      <td>-1.663579</td>\n",
       "      <td>-3.320957</td>\n",
       "      <td>-4.437192</td>\n",
       "      <td>-0.790467</td>\n",
       "      <td>-2.032093</td>\n",
       "      <td>neutral</td>\n",
       "    </tr>\n",
       "    <tr>\n",
       "      <th>1</th>\n",
       "      <td>-468.846883</td>\n",
       "      <td>36.201069</td>\n",
       "      <td>7.022181</td>\n",
       "      <td>11.240697</td>\n",
       "      <td>5.891850</td>\n",
       "      <td>-0.584644</td>\n",
       "      <td>-3.701114</td>\n",
       "      <td>-7.027015</td>\n",
       "      <td>-10.899846</td>\n",
       "      <td>-6.105315</td>\n",
       "      <td>...</td>\n",
       "      <td>-2.494775</td>\n",
       "      <td>-1.683088</td>\n",
       "      <td>-2.495134</td>\n",
       "      <td>-1.049956</td>\n",
       "      <td>-0.803621</td>\n",
       "      <td>-4.164983</td>\n",
       "      <td>-4.072344</td>\n",
       "      <td>-0.451641</td>\n",
       "      <td>-2.481066</td>\n",
       "      <td>neutral</td>\n",
       "    </tr>\n",
       "    <tr>\n",
       "      <th>2</th>\n",
       "      <td>-724.307190</td>\n",
       "      <td>84.484085</td>\n",
       "      <td>-14.169809</td>\n",
       "      <td>31.049458</td>\n",
       "      <td>-3.062177</td>\n",
       "      <td>9.604401</td>\n",
       "      <td>-14.447046</td>\n",
       "      <td>-0.219916</td>\n",
       "      <td>-20.591164</td>\n",
       "      <td>2.434902</td>\n",
       "      <td>...</td>\n",
       "      <td>-4.020089</td>\n",
       "      <td>3.011852</td>\n",
       "      <td>-8.109156</td>\n",
       "      <td>3.908098</td>\n",
       "      <td>-5.972446</td>\n",
       "      <td>-3.686382</td>\n",
       "      <td>-5.658264</td>\n",
       "      <td>2.423278</td>\n",
       "      <td>-4.886253</td>\n",
       "      <td>neutral</td>\n",
       "    </tr>\n",
       "    <tr>\n",
       "      <th>3</th>\n",
       "      <td>-645.409851</td>\n",
       "      <td>87.810638</td>\n",
       "      <td>-17.773392</td>\n",
       "      <td>33.468960</td>\n",
       "      <td>-0.936478</td>\n",
       "      <td>8.191231</td>\n",
       "      <td>-9.919904</td>\n",
       "      <td>-3.311972</td>\n",
       "      <td>-18.590483</td>\n",
       "      <td>-2.199426</td>\n",
       "      <td>...</td>\n",
       "      <td>-6.660094</td>\n",
       "      <td>3.893642</td>\n",
       "      <td>-8.572474</td>\n",
       "      <td>2.928271</td>\n",
       "      <td>-3.344517</td>\n",
       "      <td>-3.604979</td>\n",
       "      <td>-4.101902</td>\n",
       "      <td>-1.308776</td>\n",
       "      <td>-0.581940</td>\n",
       "      <td>neutral</td>\n",
       "    </tr>\n",
       "    <tr>\n",
       "      <th>4</th>\n",
       "      <td>-397.263188</td>\n",
       "      <td>22.259394</td>\n",
       "      <td>8.897292</td>\n",
       "      <td>9.042624</td>\n",
       "      <td>4.974095</td>\n",
       "      <td>0.232102</td>\n",
       "      <td>-2.286910</td>\n",
       "      <td>-5.657900</td>\n",
       "      <td>-7.467015</td>\n",
       "      <td>-4.807117</td>\n",
       "      <td>...</td>\n",
       "      <td>-2.129509</td>\n",
       "      <td>-2.022516</td>\n",
       "      <td>-1.731327</td>\n",
       "      <td>-0.481397</td>\n",
       "      <td>-0.309041</td>\n",
       "      <td>-2.377657</td>\n",
       "      <td>-2.059109</td>\n",
       "      <td>-0.113771</td>\n",
       "      <td>-2.260822</td>\n",
       "      <td>neutral</td>\n",
       "    </tr>\n",
       "  </tbody>\n",
       "</table>\n",
       "<p>5 rows × 21 columns</p>\n",
       "</div>"
      ],
      "text/plain": [
       "            0          1          2          3         4         5          6  \\\n",
       "0 -655.344543  86.649872 -12.361261  28.343273 -0.276913  9.111378 -10.830962   \n",
       "1 -468.846883  36.201069   7.022181  11.240697  5.891850 -0.584644  -3.701114   \n",
       "2 -724.307190  84.484085 -14.169809  31.049458 -3.062177  9.604401 -14.447046   \n",
       "3 -645.409851  87.810638 -17.773392  33.468960 -0.936478  8.191231  -9.919904   \n",
       "4 -397.263188  22.259394   8.897292   9.042624  4.974095  0.232102  -2.286910   \n",
       "\n",
       "          7          8         9  ...        11        12        13        14  \\\n",
       "0 -0.023427 -17.030333 -3.272646  ... -5.887830  4.827703 -7.893806  3.420066   \n",
       "1 -7.027015 -10.899846 -6.105315  ... -2.494775 -1.683088 -2.495134 -1.049956   \n",
       "2 -0.219916 -20.591164  2.434902  ... -4.020089  3.011852 -8.109156  3.908098   \n",
       "3 -3.311972 -18.590483 -2.199426  ... -6.660094  3.893642 -8.572474  2.928271   \n",
       "4 -5.657900  -7.467015 -4.807117  ... -2.129509 -2.022516 -1.731327 -0.481397   \n",
       "\n",
       "         15        16        17        18        19   labels  \n",
       "0 -1.663579 -3.320957 -4.437192 -0.790467 -2.032093  neutral  \n",
       "1 -0.803621 -4.164983 -4.072344 -0.451641 -2.481066  neutral  \n",
       "2 -5.972446 -3.686382 -5.658264  2.423278 -4.886253  neutral  \n",
       "3 -3.344517 -3.604979 -4.101902 -1.308776 -0.581940  neutral  \n",
       "4 -0.309041 -2.377657 -2.059109 -0.113771 -2.260822  neutral  \n",
       "\n",
       "[5 rows x 21 columns]"
      ]
     },
     "execution_count": 4,
     "metadata": {},
     "output_type": "execute_result"
    }
   ],
   "source": [
    "data.head()"
   ]
  },
  {
   "cell_type": "code",
   "execution_count": 5,
   "id": "064df167",
   "metadata": {},
   "outputs": [
    {
     "data": {
      "text/plain": [
       "angry        576\n",
       "surprised    576\n",
       "disgust      576\n",
       "happy        576\n",
       "sad          576\n",
       "calm         576\n",
       "fearful      576\n",
       "neutral      288\n",
       "Name: labels, dtype: int64"
      ]
     },
     "execution_count": 5,
     "metadata": {},
     "output_type": "execute_result"
    }
   ],
   "source": [
    "data['labels'].value_counts()"
   ]
  },
  {
   "cell_type": "markdown",
   "id": "6f853dcf",
   "metadata": {},
   "source": [
    "splitting the data"
   ]
  },
  {
   "cell_type": "code",
   "execution_count": 6,
   "id": "e36155ce",
   "metadata": {},
   "outputs": [],
   "source": [
    "X = data.iloc[: ,:-1].values\n",
    "Y = data['labels'].values"
   ]
  },
  {
   "cell_type": "code",
   "execution_count": 7,
   "id": "ca39fe94",
   "metadata": {},
   "outputs": [],
   "source": [
    "encoder = OneHotEncoder()\n",
    "Y = encoder.fit_transform(np.array(Y).reshape(-1,1)).toarray()"
   ]
  },
  {
   "cell_type": "code",
   "execution_count": 8,
   "id": "d1965c27",
   "metadata": {},
   "outputs": [],
   "source": [
    "X_train, X_test, y_train, y_test = train_test_split(X, Y, random_state=0, shuffle=True)"
   ]
  },
  {
   "cell_type": "code",
   "execution_count": 9,
   "id": "4561c299",
   "metadata": {},
   "outputs": [
    {
     "name": "stdout",
     "output_type": "stream",
     "text": [
      "(3240, 20)\n",
      "(1080, 20)\n"
     ]
    }
   ],
   "source": [
    "print(X_train.shape)\n",
    "print(X_test.shape)"
   ]
  },
  {
   "cell_type": "code",
   "execution_count": 10,
   "id": "58a26492",
   "metadata": {},
   "outputs": [
    {
     "name": "stdout",
     "output_type": "stream",
     "text": [
      "(3240, 8)\n",
      "(1080, 8)\n"
     ]
    }
   ],
   "source": [
    "print(y_train.shape)\n",
    "print(y_test.shape)"
   ]
  },
  {
   "cell_type": "code",
   "execution_count": 11,
   "id": "2acd68e5",
   "metadata": {},
   "outputs": [
    {
     "data": {
      "text/plain": [
       "((3240, 20), (3240, 8), (1080, 20), (1080, 8))"
      ]
     },
     "execution_count": 11,
     "metadata": {},
     "output_type": "execute_result"
    }
   ],
   "source": [
    "scaler = StandardScaler()\n",
    "X_train = scaler.fit_transform(X_train)\n",
    "X_test = scaler.transform(X_test)\n",
    "X_train.shape, y_train.shape, X_test.shape, y_test.shape"
   ]
  },
  {
   "cell_type": "code",
   "execution_count": 12,
   "id": "9895677f",
   "metadata": {},
   "outputs": [
    {
     "data": {
      "text/plain": [
       "((3240, 20, 1), (3240, 8), (1080, 20, 1), (1080, 8))"
      ]
     },
     "execution_count": 12,
     "metadata": {},
     "output_type": "execute_result"
    }
   ],
   "source": [
    "# making our data compatible to model.\n",
    "X_train = np.expand_dims(X_train, axis=2)\n",
    "X_test = np.expand_dims(X_test, axis=2)\n",
    "X_train.shape, y_train.shape, X_test.shape, y_test.shape"
   ]
  },
  {
   "cell_type": "code",
   "execution_count": 13,
   "id": "e71842ed",
   "metadata": {},
   "outputs": [
    {
     "name": "stdout",
     "output_type": "stream",
     "text": [
      "Model: \"sequential\"\n",
      "_________________________________________________________________\n",
      "Layer (type)                 Output Shape              Param #   \n",
      "=================================================================\n",
      "conv1d (Conv1D)              (None, 20, 256)           1536      \n",
      "_________________________________________________________________\n",
      "max_pooling1d (MaxPooling1D) (None, 10, 256)           0         \n",
      "_________________________________________________________________\n",
      "conv1d_1 (Conv1D)            (None, 10, 256)           327936    \n",
      "_________________________________________________________________\n",
      "max_pooling1d_1 (MaxPooling1 (None, 5, 256)            0         \n",
      "_________________________________________________________________\n",
      "conv1d_2 (Conv1D)            (None, 5, 128)            163968    \n",
      "_________________________________________________________________\n",
      "max_pooling1d_2 (MaxPooling1 (None, 3, 128)            0         \n",
      "_________________________________________________________________\n",
      "dropout (Dropout)            (None, 3, 128)            0         \n",
      "_________________________________________________________________\n",
      "conv1d_3 (Conv1D)            (None, 3, 64)             41024     \n",
      "_________________________________________________________________\n",
      "max_pooling1d_3 (MaxPooling1 (None, 2, 64)             0         \n",
      "_________________________________________________________________\n",
      "flatten (Flatten)            (None, 128)               0         \n",
      "_________________________________________________________________\n",
      "dense (Dense)                (None, 32)                4128      \n",
      "_________________________________________________________________\n",
      "dropout_1 (Dropout)          (None, 32)                0         \n",
      "_________________________________________________________________\n",
      "dense_1 (Dense)              (None, 8)                 264       \n",
      "=================================================================\n",
      "Total params: 538,856\n",
      "Trainable params: 538,856\n",
      "Non-trainable params: 0\n",
      "_________________________________________________________________\n"
     ]
    }
   ],
   "source": [
    "import tensorflow\n",
    "from tensorflow import keras\n",
    "from tensorflow.keras import layers\n",
    "from tensorflow.keras.models import Sequential\n",
    "from tensorflow.keras.layers import Conv1D, MaxPooling1D, AveragePooling1D\n",
    "from tensorflow.keras.layers import Input, Flatten, Dropout, Activation, BatchNormalization, Dense\n",
    "from sklearn.model_selection import GridSearchCV\n",
    "from tensorflow.keras.wrappers.scikit_learn import KerasClassifier\n",
    "from tensorflow.keras.optimizers import SGD\n",
    "from tensorflow.keras.regularizers import l2\n",
    "from keras.callbacks import ReduceLROnPlateau\n",
    "import seaborn as sns\n",
    "from tensorflow.keras.callbacks import EarlyStopping, ModelCheckpoint\n",
    "\n",
    "\n",
    "model=Sequential()\n",
    "model.add(Conv1D(256, kernel_size=5, strides=1, padding='same', activation='relu', input_shape=(X_train.shape[1], 1)))\n",
    "model.add(MaxPooling1D(pool_size=5, strides = 2, padding = 'same'))\n",
    "\n",
    "model.add(Conv1D(256, kernel_size=5, strides=1, padding='same', activation='relu'))\n",
    "model.add(MaxPooling1D(pool_size=5, strides = 2, padding = 'same'))\n",
    "\n",
    "model.add(Conv1D(128, kernel_size=5, strides=1, padding='same', activation='relu'))\n",
    "model.add(MaxPooling1D(pool_size=5, strides = 2, padding = 'same'))\n",
    "model.add(Dropout(0.2))\n",
    "\n",
    "model.add(Conv1D(64, kernel_size=5, strides=1, padding='same', activation='relu'))\n",
    "model.add(MaxPooling1D(pool_size=5, strides = 2, padding = 'same'))\n",
    "\n",
    "model.add(Flatten())\n",
    "model.add(Dense(units=32, activation='relu'))\n",
    "model.add(Dropout(0.3))\n",
    "\n",
    "model.add(Dense(units=8, activation='softmax'))\n",
    "model.compile(optimizer = 'adam' , loss = 'categorical_crossentropy' , metrics = ['accuracy'])\n",
    "\n",
    "model.summary()"
   ]
  },
  {
   "cell_type": "code",
   "execution_count": 14,
   "id": "cd03128b",
   "metadata": {},
   "outputs": [
    {
     "name": "stdout",
     "output_type": "stream",
     "text": [
      "Epoch 1/50\n",
      "51/51 [==============================] - 31s 563ms/step - loss: 2.0443 - accuracy: 0.1528 - val_loss: 1.9925 - val_accuracy: 0.2306\n",
      "Epoch 2/50\n",
      "51/51 [==============================] - 35s 687ms/step - loss: 1.9949 - accuracy: 0.1883 - val_loss: 1.9425 - val_accuracy: 0.2370\n",
      "Epoch 3/50\n",
      "51/51 [==============================] - 43s 838ms/step - loss: 1.9581 - accuracy: 0.2108 - val_loss: 1.8472 - val_accuracy: 0.2889\n",
      "Epoch 4/50\n",
      "51/51 [==============================] - 39s 755ms/step - loss: 1.8604 - accuracy: 0.2636 - val_loss: 1.7013 - val_accuracy: 0.3593\n",
      "Epoch 5/50\n",
      "51/51 [==============================] - 35s 684ms/step - loss: 1.7642 - accuracy: 0.3133 - val_loss: 1.6980 - val_accuracy: 0.3620\n",
      "Epoch 6/50\n",
      "51/51 [==============================] - 37s 724ms/step - loss: 1.7278 - accuracy: 0.3463 - val_loss: 1.6122 - val_accuracy: 0.3815\n",
      "Epoch 7/50\n",
      "51/51 [==============================] - 38s 737ms/step - loss: 1.6703 - accuracy: 0.3642 - val_loss: 1.6091 - val_accuracy: 0.3954\n",
      "Epoch 8/50\n",
      "51/51 [==============================] - 36s 705ms/step - loss: 1.6063 - accuracy: 0.3898 - val_loss: 1.6120 - val_accuracy: 0.4074\n",
      "Epoch 9/50\n",
      "51/51 [==============================] - 37s 723ms/step - loss: 1.5580 - accuracy: 0.4099 - val_loss: 1.4784 - val_accuracy: 0.4417\n",
      "Epoch 10/50\n",
      "51/51 [==============================] - 37s 728ms/step - loss: 1.5048 - accuracy: 0.4318 - val_loss: 1.4636 - val_accuracy: 0.4602\n",
      "Epoch 11/50\n",
      "51/51 [==============================] - 35s 692ms/step - loss: 1.4618 - accuracy: 0.4494 - val_loss: 1.4183 - val_accuracy: 0.4778\n",
      "Epoch 12/50\n",
      "51/51 [==============================] - 37s 724ms/step - loss: 1.4124 - accuracy: 0.4651 - val_loss: 1.4258 - val_accuracy: 0.4769\n",
      "Epoch 13/50\n",
      "51/51 [==============================] - 36s 696ms/step - loss: 1.3633 - accuracy: 0.4889 - val_loss: 1.3512 - val_accuracy: 0.4907\n",
      "Epoch 14/50\n",
      "51/51 [==============================] - 36s 715ms/step - loss: 1.2929 - accuracy: 0.5090 - val_loss: 1.3333 - val_accuracy: 0.5019\n",
      "Epoch 15/50\n",
      "51/51 [==============================] - 37s 724ms/step - loss: 1.2674 - accuracy: 0.5247 - val_loss: 1.3522 - val_accuracy: 0.4926\n",
      "Epoch 16/50\n",
      "51/51 [==============================] - 36s 698ms/step - loss: 1.2050 - accuracy: 0.5435 - val_loss: 1.3379 - val_accuracy: 0.5139\n",
      "Epoch 17/50\n",
      "51/51 [==============================] - 37s 721ms/step - loss: 1.1997 - accuracy: 0.5528 - val_loss: 1.3631 - val_accuracy: 0.5241\n",
      "Epoch 18/50\n",
      "51/51 [==============================] - 36s 700ms/step - loss: 1.1447 - accuracy: 0.5651 - val_loss: 1.3056 - val_accuracy: 0.5352\n",
      "Epoch 19/50\n",
      "51/51 [==============================] - 38s 741ms/step - loss: 1.0966 - accuracy: 0.5923 - val_loss: 1.2379 - val_accuracy: 0.5435\n",
      "Epoch 20/50\n",
      "51/51 [==============================] - 40s 793ms/step - loss: 1.0804 - accuracy: 0.6111 - val_loss: 1.2711 - val_accuracy: 0.5481\n",
      "Epoch 21/50\n",
      "51/51 [==============================] - 36s 707ms/step - loss: 1.0095 - accuracy: 0.6284 - val_loss: 1.2274 - val_accuracy: 0.5583\n",
      "Epoch 22/50\n",
      "51/51 [==============================] - 37s 718ms/step - loss: 0.9634 - accuracy: 0.6478 - val_loss: 1.2006 - val_accuracy: 0.5898\n",
      "Epoch 23/50\n",
      "51/51 [==============================] - 36s 700ms/step - loss: 0.9197 - accuracy: 0.6620 - val_loss: 1.3118 - val_accuracy: 0.5472\n",
      "Epoch 24/50\n",
      "51/51 [==============================] - 37s 712ms/step - loss: 0.8805 - accuracy: 0.6843 - val_loss: 1.2217 - val_accuracy: 0.5611\n",
      "Epoch 25/50\n",
      "51/51 [==============================] - 37s 716ms/step - loss: 0.8455 - accuracy: 0.6948 - val_loss: 1.1841 - val_accuracy: 0.5713\n",
      "Epoch 26/50\n",
      "51/51 [==============================] - 35s 693ms/step - loss: 0.8065 - accuracy: 0.7093 - val_loss: 1.2745 - val_accuracy: 0.5537\n",
      "Epoch 27/50\n",
      "51/51 [==============================] - 37s 716ms/step - loss: 0.8252 - accuracy: 0.7037 - val_loss: 1.2690 - val_accuracy: 0.5787\n",
      "Epoch 28/50\n",
      "51/51 [==============================] - 38s 745ms/step - loss: 0.7949 - accuracy: 0.7238 - val_loss: 1.1947 - val_accuracy: 0.6009\n",
      "Epoch 29/50\n",
      "51/51 [==============================] - 36s 709ms/step - loss: 0.6934 - accuracy: 0.7481 - val_loss: 1.1395 - val_accuracy: 0.6056\n",
      "Epoch 30/50\n",
      "51/51 [==============================] - 36s 710ms/step - loss: 0.6948 - accuracy: 0.7503 - val_loss: 1.2634 - val_accuracy: 0.5870\n",
      "Epoch 31/50\n",
      "51/51 [==============================] - 35s 694ms/step - loss: 0.6332 - accuracy: 0.7843 - val_loss: 1.2453 - val_accuracy: 0.5991\n",
      "Epoch 32/50\n",
      "51/51 [==============================] - 36s 702ms/step - loss: 0.6316 - accuracy: 0.7775 - val_loss: 1.2109 - val_accuracy: 0.5870\n",
      "Epoch 33/50\n",
      "51/51 [==============================] - 36s 698ms/step - loss: 0.5904 - accuracy: 0.7972 - val_loss: 1.2479 - val_accuracy: 0.5787\n",
      "Epoch 34/50\n",
      "51/51 [==============================] - 36s 704ms/step - loss: 0.5697 - accuracy: 0.7948 - val_loss: 1.3349 - val_accuracy: 0.6056\n",
      "Epoch 35/50\n",
      "51/51 [==============================] - 38s 750ms/step - loss: 0.5481 - accuracy: 0.8056 - val_loss: 1.2196 - val_accuracy: 0.6093\n",
      "Epoch 36/50\n",
      "51/51 [==============================] - 37s 723ms/step - loss: 0.4885 - accuracy: 0.8284 - val_loss: 1.2771 - val_accuracy: 0.6250\n",
      "Epoch 37/50\n",
      "51/51 [==============================] - 37s 728ms/step - loss: 0.4417 - accuracy: 0.8552 - val_loss: 1.4175 - val_accuracy: 0.6167\n",
      "Epoch 38/50\n",
      "51/51 [==============================] - 37s 722ms/step - loss: 0.4304 - accuracy: 0.8515 - val_loss: 1.3152 - val_accuracy: 0.6222\n",
      "Epoch 39/50\n",
      "51/51 [==============================] - 35s 694ms/step - loss: 0.3897 - accuracy: 0.8608 - val_loss: 1.2839 - val_accuracy: 0.6269\n",
      "Epoch 40/50\n",
      "51/51 [==============================] - 37s 728ms/step - loss: 0.4067 - accuracy: 0.8651 - val_loss: 1.4026 - val_accuracy: 0.6111\n",
      "Epoch 41/50\n",
      "51/51 [==============================] - 36s 703ms/step - loss: 0.3991 - accuracy: 0.8657 - val_loss: 1.4268 - val_accuracy: 0.6102\n",
      "\n",
      "Epoch 00041: ReduceLROnPlateau reducing learning rate to 0.0004000000189989805.\n",
      "Epoch 42/50\n",
      "51/51 [==============================] - 39s 773ms/step - loss: 0.2955 - accuracy: 0.8978 - val_loss: 1.3575 - val_accuracy: 0.6444\n",
      "Epoch 43/50\n",
      "51/51 [==============================] - 38s 734ms/step - loss: 0.2319 - accuracy: 0.9272 - val_loss: 1.3953 - val_accuracy: 0.6435\n",
      "Epoch 44/50\n",
      "51/51 [==============================] - 37s 721ms/step - loss: 0.2059 - accuracy: 0.9346 - val_loss: 1.4744 - val_accuracy: 0.6343\n",
      "Epoch 45/50\n",
      "51/51 [==============================] - 36s 708ms/step - loss: 0.1899 - accuracy: 0.9410 - val_loss: 1.5042 - val_accuracy: 0.6500\n",
      "Epoch 46/50\n",
      "51/51 [==============================] - 37s 718ms/step - loss: 0.1848 - accuracy: 0.9386 - val_loss: 1.4713 - val_accuracy: 0.6519\n",
      "Epoch 47/50\n",
      "51/51 [==============================] - 36s 702ms/step - loss: 0.1695 - accuracy: 0.9448 - val_loss: 1.5495 - val_accuracy: 0.6509\n",
      "Epoch 48/50\n",
      "51/51 [==============================] - 37s 725ms/step - loss: 0.1569 - accuracy: 0.9519 - val_loss: 1.6088 - val_accuracy: 0.6407\n",
      "Epoch 49/50\n",
      "51/51 [==============================] - 36s 712ms/step - loss: 0.1483 - accuracy: 0.9556 - val_loss: 1.6132 - val_accuracy: 0.6491\n",
      "Epoch 50/50\n",
      "51/51 [==============================] - 37s 725ms/step - loss: 0.1460 - accuracy: 0.9543 - val_loss: 1.6759 - val_accuracy: 0.6463\n"
     ]
    }
   ],
   "source": [
    "rlrp = ReduceLROnPlateau(monitor='loss', factor=0.4, verbose=1, patience=2, min_lr=0.0000001)\n",
    "history=model.fit(X_train, y_train, batch_size=64, epochs=50, validation_data=(X_test, y_test), callbacks=[rlrp])"
   ]
  },
  {
   "cell_type": "code",
   "execution_count": 15,
   "id": "d7bc3716",
   "metadata": {},
   "outputs": [
    {
     "data": {
      "text/plain": [
       "[<matplotlib.lines.Line2D at 0x2a5154f74f0>]"
      ]
     },
     "execution_count": 15,
     "metadata": {},
     "output_type": "execute_result"
    },
    {
     "data": {
      "image/png": "[encoded data removed]",
      "text/plain": [
       "<Figure size 432x288 with 1 Axes>"
      ]
     },
     "metadata": {
      "needs_background": "light"
     },
     "output_type": "display_data"
    }
   ],
   "source": [
    "plt.plot(history.history['loss'])\n",
    "plt.plot(history.history['val_loss'])"
   ]
  },
  {
   "cell_type": "code",
   "execution_count": 16,
   "id": "58371646",
   "metadata": {},
   "outputs": [
    {
     "data": {
      "text/plain": [
       "[<matplotlib.lines.Line2D at 0x2a51549bb80>]"
      ]
     },
     "execution_count": 16,
     "metadata": {},
     "output_type": "execute_result"
    },
    {
     "data": {
      "image/png": "[encoded data removed]",
      "text/plain": [
       "<Figure size 432x288 with 1 Axes>"
      ]
     },
     "metadata": {
      "needs_background": "light"
     },
     "output_type": "display_data"
    }
   ],
   "source": [
    "plt.plot(history.history['accuracy'])\n",
    "plt.plot(history.history['val_accuracy'])"
   ]
  },
  {
   "cell_type": "code",
   "execution_count": 18,
   "id": "0412cccd",
   "metadata": {},
   "outputs": [],
   "source": [
    "# predicting on test data.\n",
    "pred_test = model.predict(X_test)\n",
    "y_pred = encoder.inverse_transform(pred_test)\n",
    "\n",
    "y_test = encoder.inverse_transform(y_test)"
   ]
  },
  {
   "cell_type": "code",
   "execution_count": 19,
   "id": "b8c1d3c3",
   "metadata": {},
   "outputs": [
    {
     "data": {
      "text/html": [
       "<div>\n",
       "<style scoped>\n",
       "    .dataframe tbody tr th:only-of-type {\n",
       "        vertical-align: middle;\n",
       "    }\n",
       "\n",
       "    .dataframe tbody tr th {\n",
       "        vertical-align: top;\n",
       "    }\n",
       "\n",
       "    .dataframe thead th {\n",
       "        text-align: right;\n",
       "    }\n",
       "</style>\n",
       "<table border=\"1\" class=\"dataframe\">\n",
       "  <thead>\n",
       "    <tr style=\"text-align: right;\">\n",
       "      <th></th>\n",
       "      <th>Predicted Labels</th>\n",
       "      <th>Actual Labels</th>\n",
       "    </tr>\n",
       "  </thead>\n",
       "  <tbody>\n",
       "    <tr>\n",
       "      <th>0</th>\n",
       "      <td>fearful</td>\n",
       "      <td>fearful</td>\n",
       "    </tr>\n",
       "    <tr>\n",
       "      <th>1</th>\n",
       "      <td>angry</td>\n",
       "      <td>angry</td>\n",
       "    </tr>\n",
       "    <tr>\n",
       "      <th>2</th>\n",
       "      <td>sad</td>\n",
       "      <td>fearful</td>\n",
       "    </tr>\n",
       "    <tr>\n",
       "      <th>3</th>\n",
       "      <td>neutral</td>\n",
       "      <td>calm</td>\n",
       "    </tr>\n",
       "    <tr>\n",
       "      <th>4</th>\n",
       "      <td>happy</td>\n",
       "      <td>angry</td>\n",
       "    </tr>\n",
       "    <tr>\n",
       "      <th>5</th>\n",
       "      <td>surprised</td>\n",
       "      <td>surprised</td>\n",
       "    </tr>\n",
       "    <tr>\n",
       "      <th>6</th>\n",
       "      <td>fearful</td>\n",
       "      <td>fearful</td>\n",
       "    </tr>\n",
       "    <tr>\n",
       "      <th>7</th>\n",
       "      <td>disgust</td>\n",
       "      <td>happy</td>\n",
       "    </tr>\n",
       "    <tr>\n",
       "      <th>8</th>\n",
       "      <td>fearful</td>\n",
       "      <td>fearful</td>\n",
       "    </tr>\n",
       "    <tr>\n",
       "      <th>9</th>\n",
       "      <td>surprised</td>\n",
       "      <td>sad</td>\n",
       "    </tr>\n",
       "  </tbody>\n",
       "</table>\n",
       "</div>"
      ],
      "text/plain": [
       "  Predicted Labels Actual Labels\n",
       "0          fearful       fearful\n",
       "1            angry         angry\n",
       "2              sad       fearful\n",
       "3          neutral          calm\n",
       "4            happy         angry\n",
       "5        surprised     surprised\n",
       "6          fearful       fearful\n",
       "7          disgust         happy\n",
       "8          fearful       fearful\n",
       "9        surprised           sad"
      ]
     },
     "execution_count": 19,
     "metadata": {},
     "output_type": "execute_result"
    }
   ],
   "source": [
    "df = pd.DataFrame(columns=['Predicted Labels', 'Actual Labels'])\n",
    "df['Predicted Labels'] = y_pred.flatten()\n",
    "df['Actual Labels'] = y_test.flatten()\n",
    "\n",
    "df.head(10)"
   ]
  },
  {
   "cell_type": "code",
   "execution_count": 20,
   "id": "9b0f032a",
   "metadata": {},
   "outputs": [
    {
     "data": {
      "image/png": "[encoded data removed]",
      "text/plain": [
       "<Figure size 864x720 with 2 Axes>"
      ]
     },
     "metadata": {
      "needs_background": "light"
     },
     "output_type": "display_data"
    }
   ],
   "source": [
    "cm = confusion_matrix(y_test, y_pred)\n",
    "plt.figure(figsize = (12, 10))\n",
    "cm = pd.DataFrame(cm , index = [i for i in encoder.categories_] , columns = [i for i in encoder.categories_])\n",
    "sns.heatmap(cm, linecolor='white', cmap='Blues', linewidth=1, annot=True, fmt='')\n",
    "plt.title('Confusion Matrix', size=20)\n",
    "plt.xlabel('Predicted Labels', size=14)\n",
    "plt.ylabel('Actual Labels', size=14)\n",
    "plt.show()\n"
   ]
  },
  {
   "cell_type": "code",
   "execution_count": 21,
   "id": "44f2c8af",
   "metadata": {},
   "outputs": [
    {
     "name": "stdout",
     "output_type": "stream",
     "text": [
      "              precision    recall  f1-score   support\n",
      "\n",
      "       angry       0.85      0.61      0.71       132\n",
      "        calm       0.75      0.83      0.79       159\n",
      "     disgust       0.56      0.62      0.59       135\n",
      "     fearful       0.68      0.66      0.67       151\n",
      "       happy       0.58      0.62      0.60       141\n",
      "     neutral       0.51      0.67      0.58        72\n",
      "         sad       0.55      0.60      0.57       151\n",
      "   surprised       0.74      0.55      0.63       139\n",
      "\n",
      "    accuracy                           0.65      1080\n",
      "   macro avg       0.65      0.64      0.64      1080\n",
      "weighted avg       0.66      0.65      0.65      1080\n",
      "\n"
     ]
    }
   ],
   "source": [
    "print(classification_report(y_test, y_pred))"
   ]
  }
 ],
 "metadata": {
  "kernelspec": {
   "display_name": "Python 3",
   "language": "python",
   "name": "python3"
  },
  "language_info": {
   "codemirror_mode": {
    "name": "ipython",
    "version": 3
   },
   "file_extension": ".py",
   "mimetype": "text/x-python",
   "name": "python",
   "nbconvert_exporter": "python",
   "pygments_lexer": "ipython3",
   "version": "3.8.8"
  }
 },
 "nbformat": 4,
 "nbformat_minor": 5
}
