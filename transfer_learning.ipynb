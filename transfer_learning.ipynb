{
 "cells": [
  {
   "cell_type": "code",
   "execution_count": 27,
   "metadata": {
    "colab": {
     "base_uri": "https://localhost:8080/"
    },
    "id": "4Ad5OAhM5zhn",
    "outputId": "44141966-9fbc-4600-aadc-608ffcccca1e"
   },
   "outputs": [],
   "source": [
    "#from google.colab import drive\n",
    "import glob\n",
    "#drive.mount('/content/drive')\n"
   ]
  },
  {
   "cell_type": "code",
   "execution_count": 28,
   "metadata": {
    "id": "MGZgXf536JAY"
   },
   "outputs": [],
   "source": [
    "# IMPORT NECESSARY LIBRARIES\n",
    "import numpy as np\n",
    "from tensorflow.keras import layers, models, Model, optimizers\n",
    "import tensorflow as tf\n",
    "from tensorflow.python.keras.preprocessing.image import ImageDataGenerator, load_img\n",
    "import pandas as pd\n",
    "from sklearn.metrics import confusion_matrix\n",
    "import sys\n",
    "from sklearn.model_selection import train_test_split\n",
    "import matplotlib.pyplot as plt\n",
    "import itertools\n",
    "from sklearn.preprocessing import StandardScaler, OneHotEncoder\n",
    "import warnings\n",
    "# ignore warnings \n",
    "if not sys.warnoptions:\n",
    "    warnings.simplefilter(\"ignore\")\n",
    "warnings.filterwarnings(\"ignore\", category=DeprecationWarning)\n",
    "import keras\n",
    "from keras.models import Sequential, Model, model_from_json\n",
    "from keras.layers import Conv2D, MaxPooling2D, AveragePooling2D\n",
    "from keras.layers import Input, Flatten, Dropout, Activation, BatchNormalization\n",
    "from keras.layers import Dense, Embedding, LSTM\n",
    "from keras.regularizers import l2\n",
    "from keras.constraints import max_norm\n",
    "from keras.callbacks import EarlyStopping, ModelCheckpoint\n",
    "import cv2\n",
    "from sklearn.utils import shuffle\n",
    "from tensorflow.python.keras import layers, models, Model, optimizers\n",
    "from tensorflow.keras import regularizers\n",
    "from tensorflow.keras import layers, models, Model, optimizers\n",
    "from random import randint\n",
    "from sklearn.preprocessing import LabelEncoder\n",
    "from keras.callbacks import ReduceLROnPlateau\n",
    "from sklearn.metrics import classification_report, confusion_matrix, accuracy_score\n",
    "from matplotlib import pyplot\n",
    "\n"
   ]
  },
  {
   "cell_type": "code",
   "execution_count": 29,
   "metadata": {
    "id": "S5t2hpoF6Z5d"
   },
   "outputs": [],
   "source": [
    "angry = glob.glob('data_images/angry/*.*')\n",
    "calm = glob.glob('data_images/calm/*.*')\n",
    "disgust = glob.glob('data_images/disgust/*.*')\n",
    "fearful = glob.glob('data_images/fearful/*.*')\n",
    "happy = glob.glob('data_images/happy/*.*')\n",
    "neutral = glob.glob('data_images/neutral/*.*')\n",
    "sad = glob.glob('data_images/sad/*.*')\n",
    "surprised = glob.glob('data_images/surprised/*.*')"
   ]
  },
  {
   "cell_type": "code",
   "execution_count": 30,
   "metadata": {
    "id": "WNINa5qW7GnV"
   },
   "outputs": [
    {
     "name": "stdout",
     "output_type": "stream",
     "text": [
      "['Angry' 'Angry' 'Angry' ... 'Surprised' 'Surprised' 'Surprised']\n"
     ]
    }
   ],
   "source": [
    "data = []\n",
    "labels = []\n",
    "\n",
    "for i in angry:   \n",
    "    image=tf.keras.preprocessing.image.load_img(i, color_mode='rgb', target_size= (224,224))\n",
    "    image=np.array(image)\n",
    "    data.append(image)\n",
    "    labels.append('Angry')\n",
    "for i in calm:   \n",
    "    image=tf.keras.preprocessing.image.load_img(i, color_mode='rgb', target_size= (224,224))\n",
    "    image=np.array(image)\n",
    "    data.append(image)\n",
    "    labels.append('Calm')\n",
    "for i in disgust:   \n",
    "    image=tf.keras.preprocessing.image.load_img(i, color_mode='rgb', target_size= (224,224))\n",
    "    image=np.array(image)\n",
    "    data.append(image)\n",
    "    labels.append('Disgust')\n",
    "for i in fearful:   \n",
    "    image=tf.keras.preprocessing.image.load_img(i, color_mode='rgb', \n",
    "    target_size= (224,224))\n",
    "    image=np.array(image)\n",
    "    data.append(image)\n",
    "    labels.append('Fearful')\n",
    "for i in happy:   \n",
    "    image=tf.keras.preprocessing.image.load_img(i, color_mode='rgb', \n",
    "    target_size= (224,224))\n",
    "    image=np.array(image)\n",
    "    data.append(image)\n",
    "    labels.append('Happy')\n",
    "for i in neutral:   \n",
    "    image=tf.keras.preprocessing.image.load_img(i, color_mode='rgb', \n",
    "    target_size= (224,224))\n",
    "    image=np.array(image)\n",
    "    data.append(image)\n",
    "    labels.append('Neutral')\n",
    "for i in sad:   \n",
    "    image=tf.keras.preprocessing.image.load_img(i, color_mode='rgb', \n",
    "    target_size= (224,224))\n",
    "    image=np.array(image)\n",
    "    data.append(image)\n",
    "    labels.append('Sad')\n",
    "for i in surprised:   \n",
    "    image=tf.keras.preprocessing.image.load_img(i, color_mode='rgb', \n",
    "    target_size= (224,224))\n",
    "    image=np.array(image)\n",
    "    data.append(image)\n",
    "    labels.append('Surprised')\n",
    "\n",
    "data = np.array(data)\n",
    "labels = np.array(labels)\n",
    "print(labels)"
   ]
  },
  {
   "cell_type": "code",
   "execution_count": 31,
   "metadata": {
    "id": "s5TVPRlfq4NE"
   },
   "outputs": [],
   "source": [
    "encoder = OneHotEncoder()\n",
    "labels = encoder.fit_transform(np.array(labels).reshape(-1,1)).toarray()"
   ]
  },
  {
   "cell_type": "code",
   "execution_count": 32,
   "metadata": {
    "id": "zdJoHkUU_hfs"
   },
   "outputs": [],
   "source": [
    "X_train, X_test, y_train, y_test = train_test_split(data, labels, random_state=0, test_size=0.3, shuffle=True)"
   ]
  },
  {
   "cell_type": "code",
   "execution_count": 33,
   "metadata": {
    "colab": {
     "base_uri": "https://localhost:8080/"
    },
    "id": "GZ0xSg6v_6Pr",
    "outputId": "6b73644d-3e60-4333-b9ab-c5f2b8f7bcfe"
   },
   "outputs": [
    {
     "name": "stdout",
     "output_type": "stream",
     "text": [
      "(1008, 224, 224, 3)\n",
      "(432, 224, 224, 3)\n"
     ]
    }
   ],
   "source": [
    "print(X_train.shape)\n",
    "print(X_test.shape)"
   ]
  },
  {
   "cell_type": "code",
   "execution_count": 34,
   "metadata": {
    "colab": {
     "base_uri": "https://localhost:8080/"
    },
    "id": "qUK8yjkpCm11",
    "outputId": "6a598b5c-1dba-430f-a26c-5332a37384c4"
   },
   "outputs": [
    {
     "name": "stdout",
     "output_type": "stream",
     "text": [
      "(1008, 8)\n",
      "(432, 8)\n"
     ]
    }
   ],
   "source": [
    "print(y_train.shape)\n",
    "print(y_test.shape)"
   ]
  },
  {
   "cell_type": "code",
   "execution_count": 35,
   "metadata": {
    "colab": {
     "base_uri": "https://localhost:8080/"
    },
    "id": "5GpdL9ZBCxL2",
    "outputId": "6fb5f2fb-7ffc-439e-ed11-d54f8b82b1b3"
   },
   "outputs": [
    {
     "data": {
      "text/plain": [
       "((1008, 224, 224, 3), (1008, 8), (432, 224, 224, 3), (432, 8))"
      ]
     },
     "execution_count": 35,
     "metadata": {},
     "output_type": "execute_result"
    }
   ],
   "source": [
    "X_train = X_train.astype('float32')\n",
    "X_test = X_test.astype('float32')\n",
    "X_train = X_train/ 255\n",
    "X_test = X_test/ 255\n",
    "X_train.shape, y_train.shape, X_test.shape, y_test.shape"
   ]
  },
  {
   "cell_type": "code",
   "execution_count": 37,
   "metadata": {
    "colab": {
     "base_uri": "https://localhost:8080/"
    },
    "id": "XtPC-UVsDBtm",
    "outputId": "e5c860a3-8cb8-4980-b632-c8bed5934536"
   },
   "outputs": [
    {
     "name": "stdout",
     "output_type": "stream",
     "text": [
      "Model: \"sequential_1\"\n",
      "_________________________________________________________________\n",
      " Layer (type)                Output Shape              Param #   \n",
      "=================================================================\n",
      " conv2d_3 (Conv2D)           (None, 220, 220, 128)     9728      \n",
      "                                                                 \n",
      " max_pooling2d_3 (MaxPooling  (None, 73, 73, 128)      0         \n",
      " 2D)                                                             \n",
      "                                                                 \n",
      " dropout_3 (Dropout)         (None, 73, 73, 128)       0         \n",
      "                                                                 \n",
      " conv2d_4 (Conv2D)           (None, 69, 69, 64)        204864    \n",
      "                                                                 \n",
      " max_pooling2d_4 (MaxPooling  (None, 23, 23, 64)       0         \n",
      " 2D)                                                             \n",
      "                                                                 \n",
      " dropout_4 (Dropout)         (None, 23, 23, 64)        0         \n",
      "                                                                 \n",
      " conv2d_5 (Conv2D)           (None, 19, 19, 32)        51232     \n",
      "                                                                 \n",
      " max_pooling2d_5 (MaxPooling  (None, 6, 6, 32)         0         \n",
      " 2D)                                                             \n",
      "                                                                 \n",
      " dropout_5 (Dropout)         (None, 6, 6, 32)          0         \n",
      "                                                                 \n",
      " flatten_1 (Flatten)         (None, 1152)              0         \n",
      "                                                                 \n",
      " dense_2 (Dense)             (None, 64)                73792     \n",
      "                                                                 \n",
      " dense_3 (Dense)             (None, 8)                 520       \n",
      "                                                                 \n",
      "=================================================================\n",
      "Total params: 340,136\n",
      "Trainable params: 340,136\n",
      "Non-trainable params: 0\n",
      "_________________________________________________________________\n"
     ]
    }
   ],
   "source": [
    "from tensorflow import keras\n",
    "from keras.layers import Dense\n",
    "from keras.layers import Flatten\n",
    "from keras.layers import Conv2D\n",
    "from keras.layers import MaxPooling2D\n",
    "from keras.layers import Dropout\n",
    "cnn = keras.Sequential()\n",
    "\n",
    "cnn.add(Conv2D(128,(5,5),activation='relu',input_shape=(224,224,3)))\n",
    "cnn.add(MaxPooling2D((3,3)))\n",
    "cnn.add(Dropout(0.2))\n",
    "\n",
    "cnn.add(Conv2D(64,(5,5),activation='relu',kernel_regularizer=l2(0.001), bias_regularizer=l2(0.001)))\n",
    "cnn.add(MaxPooling2D((3,3)))\n",
    "cnn.add(Dropout(0.3))\n",
    "\n",
    "cnn.add(Conv2D(32,(5,5),activation='relu'))\n",
    "cnn.add(MaxPooling2D((3,3)))\n",
    "cnn.add(Dropout(0.4))\n",
    "\n",
    "cnn.add(Flatten())\n",
    "cnn.add(Dense(64,activation='relu'))\n",
    "\n",
    "cnn.add(Dense(8,activation='softmax'))\n",
    "cnn.summary()"
   ]
  },
  {
   "cell_type": "code",
   "execution_count": null,
   "metadata": {
    "colab": {
     "base_uri": "https://localhost:8080/"
    },
    "id": "eHpV1Su0Ffd5",
    "outputId": "c49ca31b-e7fd-4aec-819a-4e26f3a4a3c7"
   },
   "outputs": [
    {
     "name": "stdout",
     "output_type": "stream",
     "text": [
      "Epoch 1/50\n",
      "16/16 [==============================] - 845s 51s/step - loss: 2.1194 - accuracy: 0.1617 - val_loss: 2.0798 - val_accuracy: 0.1690\n",
      "Epoch 2/50\n",
      "16/16 [==============================] - 922s 58s/step - loss: 2.0112 - accuracy: 0.1984 - val_loss: 2.0472 - val_accuracy: 0.1667\n",
      "Epoch 3/50\n",
      "16/16 [==============================] - 615s 38s/step - loss: 1.9822 - accuracy: 0.2153 - val_loss: 2.0343 - val_accuracy: 0.1667\n",
      "Epoch 4/50\n",
      "16/16 [==============================] - 474s 29s/step - loss: 1.9562 - accuracy: 0.2192 - val_loss: 2.0284 - val_accuracy: 0.1551\n",
      "Epoch 5/50\n",
      "16/16 [==============================] - 356s 23s/step - loss: 1.9364 - accuracy: 0.2401 - val_loss: 1.9740 - val_accuracy: 0.2199\n",
      "Epoch 6/50\n",
      "16/16 [==============================] - 385s 24s/step - loss: 1.8948 - accuracy: 0.2500 - val_loss: 1.9375 - val_accuracy: 0.2176\n",
      "Epoch 7/50\n",
      "16/16 [==============================] - 374s 24s/step - loss: 1.8846 - accuracy: 0.2609 - val_loss: 1.8998 - val_accuracy: 0.2662\n",
      "Epoch 8/50\n",
      "16/16 [==============================] - 321s 20s/step - loss: 1.8263 - accuracy: 0.3036 - val_loss: 1.8537 - val_accuracy: 0.3264\n",
      "Epoch 9/50\n",
      "16/16 [==============================] - 282s 18s/step - loss: 1.7684 - accuracy: 0.3333 - val_loss: 1.8090 - val_accuracy: 0.3032\n",
      "Epoch 10/50\n",
      "16/16 [==============================] - 272s 17s/step - loss: 1.7480 - accuracy: 0.3423 - val_loss: 1.7764 - val_accuracy: 0.3310\n",
      "Epoch 11/50\n",
      "16/16 [==============================] - 1569s 28s/step - loss: 1.7090 - accuracy: 0.3482 - val_loss: 1.6997 - val_accuracy: 0.3843\n",
      "Epoch 12/50\n",
      "16/16 [==============================] - 356s 22s/step - loss: 1.6544 - accuracy: 0.3760 - val_loss: 1.6746 - val_accuracy: 0.3796\n",
      "Epoch 13/50\n",
      "16/16 [==============================] - 382s 24s/step - loss: 1.6332 - accuracy: 0.3829 - val_loss: 1.6872 - val_accuracy: 0.3611\n",
      "Epoch 14/50\n",
      "16/16 [==============================] - 707s 46s/step - loss: 1.5977 - accuracy: 0.3899 - val_loss: 1.6300 - val_accuracy: 0.4120\n",
      "Epoch 15/50\n",
      "16/16 [==============================] - 766s 48s/step - loss: 1.5606 - accuracy: 0.4028 - val_loss: 1.5850 - val_accuracy: 0.4213\n",
      "Epoch 16/50\n",
      "16/16 [==============================] - 558s 35s/step - loss: 1.5084 - accuracy: 0.4325 - val_loss: 1.5583 - val_accuracy: 0.4375\n",
      "Epoch 17/50\n",
      " 6/16 [==========>...................] - ETA: 7:58 - loss: 1.4708 - accuracy: 0.4323"
     ]
    }
   ],
   "source": [
    "cnn.compile(loss='categorical_crossentropy',optimizer='adam',metrics=['accuracy'])\n",
    "history = cnn.fit(X_train,y_train,epochs=50,batch_size=64,validation_data=(X_test,y_test))"
   ]
  },
  {
   "cell_type": "code",
   "execution_count": null,
   "metadata": {},
   "outputs": [],
   "source": []
  },
  {
   "cell_type": "code",
   "execution_count": null,
   "metadata": {},
   "outputs": [],
   "source": []
  },
  {
   "cell_type": "code",
   "execution_count": null,
   "metadata": {},
   "outputs": [],
   "source": []
  }
 ],
 "metadata": {
  "accelerator": "GPU",
  "colab": {
   "collapsed_sections": [],
   "name": "transfer_learning.ipynb",
   "provenance": []
  },
  "kernelspec": {
   "display_name": "Python 3",
   "language": "python",
   "name": "python3"
  },
  "language_info": {
   "codemirror_mode": {
    "name": "ipython",
    "version": 3
   },
   "file_extension": ".py",
   "mimetype": "text/x-python",
   "name": "python",
   "nbconvert_exporter": "python",
   "pygments_lexer": "ipython3",
   "version": "3.8.8"
  }
 },
 "nbformat": 4,
 "nbformat_minor": 1
}
